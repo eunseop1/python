{
 "cells": [
  {
   "cell_type": "markdown",
   "metadata": {},
   "source": [
    "## 문자열 조작"
   ]
  },
  {
   "cell_type": "markdown",
   "metadata": {},
   "source": [
    "| 메서드            | 설명                                              | 사용 예                                      |\n",
    "|-------------------|--------------------------------------------------|---------------------------------------------|\n",
    "| `str.replace()`   | 특정 문자열을 다른 문자열로 대체합니다.           | `df['Name'].str.replace('김영욱', '김동현')` |\n",
    "| `str.split()`     | 문자열을 지정된 구분자에 따라 분리합니다.          | `df['Data'].str.split(',')`                 |\n",
    "| `str.startswith()`| 문자열이 특정 문자열로 시작하는지 검사합니다.      | `df['Name'].str.startswith('서')`            |\n",
    "| `str.endswith()`  | 문자열이 특정 문자열로 끝나는지 검사합니다.        | `df['File'].str.endswith('.com')`           |\n",
    "| `str.contains()`  | 문자열에 특정 문자열이 포함되어 있는지 검사합니다. | `df['Email'].str.contains('@')`             |\n",
    "| `str.upper()`     | 문자열을 대문자로 변환합니다.                      | `df['Name'].str.upper()`                    |\n",
    "| `str.lower()`     | 문자열을 소문자로 변환합니다.                      | `df['Name'].str.lower()`                    |\n"
   ]
  },
  {
   "cell_type": "code",
   "execution_count": null,
   "metadata": {},
   "outputs": [],
   "source": [
    "import pandas as pd\n",
    "import numpy as np\n",
    "\n",
    "# 데이터프레임 생성\n",
    "data = {\n",
    "    '이름': ['김지수', '박영희', '이민준', '최예원'],\n",
    "    '나이': [28, 22, 21, 30],\n",
    "    '도시': ['서울', '부산', '대구', '광주'],\n",
    "    '직업': ['의사', '변호사', '회계사', '엔지니어'],\n",
    "    '날짜': ['2020, Jan', '2021, Feb', '2020, Mar', '2021, Apr'],\n",
    "    '메일': ['kimjisoo@example.com', 'parkyounghee@example.com', 'leeminjun@example.com', 'kimdonghyun@example.com']\n",
    "}\n",
    "df = pd.DataFrame(data)"
   ]
  },
  {
   "cell_type": "markdown",
   "metadata": {},
   "source": [
    "## 데이터 타입"
   ]
  },
  {
   "cell_type": "code",
   "execution_count": null,
   "metadata": {},
   "outputs": [],
   "source": [
    "import pandas as pd\n",
    "import numpy as np\n",
    "\n",
    "# 데이터프레임 생성\n",
    "data = {\n",
    "    '이름': ['김지수', '박영희', '이민준', '김동현'],\n",
    "    '나이': [28, 22, 21, 30],\n",
    "    '도시': ['서울', '부산', '대구', '광주'],\n",
    "    '직업': ['의사', '변호사', '회계사', '개발자'],\n",
    "    '날짜': ['2020, Jan', '2021, Feb', '2020, Mar', '2021, Apr'],\n",
    "    '메일': ['kimjisoo@example.com', 'parkyounghee@example.com', 'leeminjun@example.com', 'kimdonghyun@example.com']\n",
    "}\n",
    "df = pd.DataFrame(data)"
   ]
  },
  {
   "cell_type": "markdown",
   "metadata": {},
   "source": [
    "### 2. 시계열 데이터"
   ]
  },
  {
   "cell_type": "markdown",
   "metadata": {},
   "source": [
    "#### 1. 날짜와 시간 데이터 변환"
   ]
  },
  {
   "cell_type": "code",
   "execution_count": null,
   "metadata": {},
   "outputs": [],
   "source": [
    "data = {\n",
    "  'date': [\n",
    "      \"2023-01-01\", \"2023-01-15\", \"2023-02-01\", \"2023-02-15\", \"2023-03-01\",\n",
    "      \"2023-03-15\", \"2023-04-01\", \"2023-04-15\", \"2023-05-01\", \"2023-05-15\",\n",
    "      \"2023-06-01\", \"2023-06-15\", \"2023-07-01\", \"2023-07-15\"\n",
    "  ],\n",
    "  'value': [\n",
    "      100, 110, 200, 210, 300, 310, 400, 410, 500, 510, 600, 610, 700, 710\n",
    "  ]\n",
    "}\n",
    "\n",
    "df = pd.DataFrame(data)\n",
    "df"
   ]
  },
  {
   "cell_type": "markdown",
   "metadata": {},
   "source": [
    "## 데이터 그룹화"
   ]
  },
  {
   "cell_type": "code",
   "execution_count": null,
   "metadata": {},
   "outputs": [],
   "source": [
    "import pandas as pd\n",
    "\n",
    "data = {\n",
    "    'Category': ['A', 'B', 'A', 'B', 'C', 'A', 'B', 'C', 'A', 'B', 'C', 'A', 'C', 'B', 'C', 'A', 'B'],\n",
    "    'Data': [10, 15, 9, 7, 8, 12, 14, 11, 13, 12, 10, 14, 15, 8, 9, 16, 11],\n",
    "    'SubCategory': ['X', 'Y', 'X', 'Y', 'Z', 'X', 'Y', 'Z', 'X', 'Y', 'Z', 'X', 'Z', 'Y', 'Z', 'X', 'Y']\n",
    "}\n",
    "df = pd.DataFrame(data)\n",
    "\n",
    "# 데이터프레임 출력\n",
    "df"
   ]
  },
  {
   "cell_type": "markdown",
   "metadata": {},
   "source": [
    "## 데이터 결합"
   ]
  },
  {
   "cell_type": "markdown",
   "metadata": {},
   "source": [
    "### 1. concat"
   ]
  },
  {
   "cell_type": "code",
   "execution_count": null,
   "metadata": {},
   "outputs": [],
   "source": [
    "import pandas as pd\n",
    "\n",
    "# 예제 데이터프레임 생성\n",
    "df1 = pd.DataFrame({'A': ['A0', 'A1', 'A2'],\n",
    "                    'B': ['B0', 'B1', 'B2']})\n",
    "\n",
    "df2 = pd.DataFrame({'A': ['A3', 'A4', 'A5'],\n",
    "                    'B': ['B3', 'B4', 'B5']})\n"
   ]
  },
  {
   "cell_type": "markdown",
   "metadata": {},
   "source": [
    "### 2. merge"
   ]
  },
  {
   "cell_type": "code",
   "execution_count": null,
   "metadata": {},
   "outputs": [],
   "source": [
    "df1 = pd.DataFrame({'key': ['K0', 'K1', 'K2'],\n",
    "                    'A': ['A0', 'A1', 'A2']})\n",
    "\n",
    "df2 = pd.DataFrame({'key': ['K0', 'K1', 'K2'],\n",
    "                    'B': ['B0', 'B1', 'B2']})\n"
   ]
  },
  {
   "cell_type": "code",
   "execution_count": null,
   "metadata": {},
   "outputs": [],
   "source": [
    "df1 = pd.DataFrame({\n",
    "    'key1': ['K0', 'K0', 'K1', 'K2'],\n",
    "    'key2': ['K0', 'K1', 'K0', 'K1'],\n",
    "    'A': ['A0', 'A1', 'A2', 'A3'],\n",
    "    'B': ['B0', 'B1', 'B2', 'B3']\n",
    "})\n",
    "\n",
    "df2 = pd.DataFrame({\n",
    "    'key1': ['K0', 'K1', 'K1', 'K2'],\n",
    "    'key2': ['K0', 'K0', 'K0', 'K0'],\n",
    "    'C': ['C0', 'C1', 'C2', 'C3'],\n",
    "    'D': ['D0', 'D1', 'D2', 'D3']\n",
    "})\n"
   ]
  },
  {
   "cell_type": "code",
   "execution_count": null,
   "metadata": {},
   "outputs": [],
   "source": [
    "df1 = pd.DataFrame({'key1': ['K0', 'K1', 'K2'],\n",
    "                    'A': ['A0', 'A1', 'A2']})\n",
    "\n",
    "df2 = pd.DataFrame({'key2': ['K0', 'K1', 'K2'],\n",
    "                    'B': ['B0', 'B1', 'B2']})"
   ]
  },
  {
   "cell_type": "markdown",
   "metadata": {},
   "source": [
    "| 매개변수 | 설명 |\n",
    "|----------|------|\n",
    "| `on` | 두 데이터프레임에서 같은 이름을 가진 컬럼을 기준으로 결합할 때 사용합니다. |\n",
    "| `left_on` | 왼쪽 데이터프레임에서 결합 기준으로 사용할 컬럼의 이름을 지정합니다. |\n",
    "| `right_on` | 오른쪽 데이터프레임에서 결합 기준으로 사용할 컬럼의 이름을 지정합니다. |\n",
    "| `how` | 결합 방식을 지정합니다. 'left', 'right', 'outer', 'inner' 중 하나를 선택할 수 있습니다. |\n",
    "| `left` | 왼쪽 데이터프레임을 기준으로 결합합니다. 왼쪽 데이터프레임의 키가 모두 포함되며, 오른쪽 데이터프레임의 키는 일치하는 것만 포함됩니다. |\n",
    "| `right` | 오른쪽 데이터프레임을 기준으로 결합합니다. 오른쪽 데이터프레임의 모든 키를 포함하며, 왼쪽 데이터프레임의 키는 일치하는 것만 포함됩니다. |\n",
    "| `inner` | 두 데이터프레임에 모두 존재하는 키의 항목만 포함하여 결합합니다. |\n",
    "| `outer` | 두 데이터프레임의 모든 키를 포함하여 결합하며, 일치하지 않는 부분은 NaN으로 처리됩니다. |"
   ]
  },
  {
   "cell_type": "markdown",
   "metadata": {},
   "source": [
    "#### merge 실습"
   ]
  },
  {
   "cell_type": "markdown",
   "metadata": {},
   "source": [
    "merge에 how 매개변수를 사용하여 'left', 'right', 'inner', 'outer' 를 사용해 보세요"
   ]
  },
  {
   "cell_type": "code",
   "execution_count": null,
   "metadata": {},
   "outputs": [],
   "source": [
    "import pandas as pd\n",
    "\n",
    "# 직원 데이터프레임 생성\n",
    "직원 = pd.DataFrame({\n",
    "    '직원ID': ['1', '2', '3', '4', '5', '6', '7'],\n",
    "    '직원이름': ['김영욱', '이조은', '이태훈', '이은호', '김동현', '박재연', '이태형'],\n",
    "    '부서ID': ['D1', 'D2', 'D1', 'D3', 'D4', 'D1', 'D2']\n",
    "})\n",
    "\n",
    "# 부서 데이터프레임 생성\n",
    "부서 = pd.DataFrame({\n",
    "    '부서ID': ['D1', 'D2', 'D3', 'D5'],\n",
    "    '부서이름': ['인사', '공학', '마케팅', '재무']\n",
    "})"
   ]
  },
  {
   "cell_type": "markdown",
   "metadata": {},
   "source": [
    "### 3. join"
   ]
  },
  {
   "cell_type": "code",
   "execution_count": null,
   "metadata": {},
   "outputs": [],
   "source": [
    "df1 = pd.DataFrame({'A': ['A0', 'A1', 'A2']},\n",
    "                  index=['K0', 'K1', 'K2'])\n",
    "\n",
    "df2 = pd.DataFrame({'B': ['B0', 'B1', 'B2']},\n",
    "                  index=['K0', 'K1', 'K2'])\n"
   ]
  },
  {
   "cell_type": "markdown",
   "metadata": {},
   "source": [
    "## 데이터 재구조화"
   ]
  },
  {
   "cell_type": "markdown",
   "metadata": {},
   "source": [
    "### pivot"
   ]
  },
  {
   "cell_type": "markdown",
   "metadata": {},
   "source": [
    "피벗 기본 구조\n",
    "\n",
    "```python\n",
    "pivot = pd.pivot_table(df, \n",
    "                       index='index', # 행 위치에 들어갈 열\n",
    "                       columns='column', # 컬럼 위치에 들어갈 열\n",
    "                       values='value', # 데이터로 사용할 열\n",
    "                       aggfunc = 'mean' # 데이터 집계함수\n",
    "                       )\n",
    "```"
   ]
  },
  {
   "cell_type": "code",
   "execution_count": null,
   "metadata": {},
   "outputs": [],
   "source": [
    "import seaborn as sns\n",
    "import pandas as pd\n",
    "\n",
    "# 타이타닉 데이터셋 로드\n",
    "df = sns.load_dataset('titanic')\n",
    "\n",
    "# 사용할 컬럼\n",
    "col = ['survived', 'pclass', 'sex', 'age', 'fare', 'embark_town']\n",
    "\n",
    "df = df[col]\n",
    "\n",
    "# 결측치 삭제\n",
    "df.dropna(subset='age', inplace=True)\n",
    "\n",
    "df.head()"
   ]
  },
  {
   "cell_type": "markdown",
   "metadata": {},
   "source": [
    "1. survived, 생존 여부 0이면 사망, 1이면 생존\n",
    "2. pclass, 객실 등급, 1이면 1등급, 2이면 2등급, 3이면 3등급\n",
    "3. sex, 성별, male이면 남자, female이면 여자\n",
    "4. age, 나이\n",
    "5. fare, 요금\n",
    "6. embark_town, 탑승지 이름"
   ]
  },
  {
   "cell_type": "markdown",
   "metadata": {},
   "source": [
    "## apply"
   ]
  },
  {
   "cell_type": "markdown",
   "metadata": {},
   "source": [
    "#### 실습"
   ]
  },
  {
   "cell_type": "code",
   "execution_count": null,
   "metadata": {},
   "outputs": [],
   "source": [
    "import pandas as pd\n",
    "import seaborn as sns\n",
    "\n",
    "# 타이타닉 데이터셋 로드\n",
    "df = sns.load_dataset('titanic')\n",
    "\n",
    "# 사용할 컬럼\n",
    "col = ['survived', 'pclass', 'sex', 'age', 'fare', 'embark_town']\n",
    "\n",
    "df = df[col]\n",
    "\n",
    "# 결측치 삭제\n",
    "df.dropna(subset='age', inplace=True)\n",
    "\n",
    "df.head()"
   ]
  },
  {
   "cell_type": "code",
   "execution_count": null,
   "metadata": {},
   "outputs": [],
   "source": []
  },
  {
   "cell_type": "code",
   "execution_count": null,
   "metadata": {},
   "outputs": [],
   "source": []
  }
 ],
 "metadata": {
  "kernelspec": {
   "display_name": "Python 3",
   "language": "python",
   "name": "python3"
  },
  "language_info": {
   "codemirror_mode": {
    "name": "ipython",
    "version": 3
   },
   "file_extension": ".py",
   "mimetype": "text/x-python",
   "name": "python",
   "nbconvert_exporter": "python",
   "pygments_lexer": "ipython3",
   "version": "3.9.13"
  }
 },
 "nbformat": 4,
 "nbformat_minor": 2
}
