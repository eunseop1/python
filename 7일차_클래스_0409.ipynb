{
 "cells": [
  {
   "cell_type": "code",
   "execution_count": null,
   "metadata": {},
   "outputs": [],
   "source": [
    "def stud_sum_average(open_csv_path, savefile):\n",
    "    with open(open_csv_path, 'r', encoding='utf-8-sig') as f:\n",
    "        lines = f.readlines()\n",
    "\n",
    "        # 해더\n",
    "        header = lines[0].strip().split(',')\n",
    "        header.extend(['총합', '평균'])\n",
    "        # print(header)\n",
    "\n",
    "        # 해더를 제외한 데이터\n",
    "        data = lines[1:]\n",
    "        new_data = [] # 새로운 데이터를 저장 할 리스트\n",
    "\n",
    "        for line in data: # 요소를 반복\n",
    "        row = line.strip().split(',')\n",
    "        scores = row[1:] # 점수만 선택 (학생1, 학생2 등의 내용을 뻄)\n",
    "        \n",
    "        total = 0\n",
    "        for score in scores:\n",
    "            total += int(score) # int 로 변환하면서 총합 계산\n",
    "        \n",
    "        average = total / (len(scores)) # len(scores)는 과목의 개수\n",
    "        format_average = f'{average:.2f}' # 소숫점 둘째자리까지 반올림\n",
    "        \n",
    "        row.extend([str(total), format_average]) # row에 추가(문자로 변경해야함)\n",
    "\n",
    "        new_data.append(row) # 새로운 리스트에 추가\n",
    "\n",
    "        # print(new_data)\n",
    "\n",
    "    with open(savefile, 'w', encoding='utf-8-sig') as f:\n",
    "        f.write(','.join(header) + '\\n') # csv는 쉼표로 구문한 데이터, 맨 마지막에 개행문자가 필요함\n",
    "        for row in new_data:\n",
    "            f.write(','.join(row) + '\\n')"
   ]
  },
  {
   "cell_type": "code",
   "execution_count": null,
   "metadata": {},
   "outputs": [],
   "source": [
    "# open_file = 'C:\\\\'\n",
    "\n",
    "# open_file = r'C:\\'\n",
    "\n",
    "# stud_sum_average(open_csv_path=\"c:\\\\\")\n"
   ]
  },
  {
   "cell_type": "markdown",
   "metadata": {},
   "source": [
    "클래스 기본구조\n",
    "```python\n",
    "class 클래스이름:\n",
    "    def __init__(self, 매개변수1, 매개변수2, ...):\n",
    "        # 인스턴스 변수 초기화\n",
    "        self.매개변수a = 매개변수1\n",
    "        self.매개변수b = 매개변수2\n",
    "        # ...\n",
    "\n",
    "    def 메서드이름1(self, 매개변수3, 매개변수4, ...):\n",
    "        # 메서드1의 구현\n",
    "        # ...\n",
    "\n",
    "    def 메서드이름2(self, 매개변수5, 매개변수6, ...):\n",
    "        # 메서드2의 구현\n",
    "        # ..."
   ]
  },
  {
   "cell_type": "markdown",
   "metadata": {},
   "source": [
    "클래스는 재사용을 위해 만드는 것\n",
    "\n",
    "특히 API를 연동하는 것은 클래스를 만드는 것을 자주 하게 된다"
   ]
  },
  {
   "cell_type": "code",
   "execution_count": 1,
   "metadata": {},
   "outputs": [],
   "source": [
    "class 붕어빵:\n",
    "    def __init__(self, 재료):\n",
    "        self.재료 = 재료  # 붕어빵의 속재료를 정의\n",
    "\n",
    "    def bake(self):\n",
    "        print(f\"{self.재료} 속재료가 들어간 붕어빵을 굽습니다.\")\n",
    "\n",
    "    def describe(self):\n",
    "        print(f\"이 붕어빵은 {self.재료}로 채워져 있습니다.\")"
   ]
  },
  {
   "cell_type": "code",
   "execution_count": 5,
   "metadata": {},
   "outputs": [],
   "source": [
    "슈크림붕어빵 = 붕어빵('슈크림')"
   ]
  },
  {
   "cell_type": "code",
   "execution_count": 7,
   "metadata": {},
   "outputs": [
    {
     "name": "stdout",
     "output_type": "stream",
     "text": [
      "슈크림 속재료가 들어간 붕어빵을 굽습니다.\n"
     ]
    }
   ],
   "source": [
    "슈크림붕어빵.bake()"
   ]
  },
  {
   "cell_type": "code",
   "execution_count": 8,
   "metadata": {},
   "outputs": [
    {
     "name": "stdout",
     "output_type": "stream",
     "text": [
      "이 붕어빵은 슈크림로 채워져 있습니다.\n"
     ]
    }
   ],
   "source": [
    "슈크림붕어빵.describe()"
   ]
  },
  {
   "cell_type": "code",
   "execution_count": 9,
   "metadata": {},
   "outputs": [],
   "source": [
    "class Student:\n",
    "    def __init__(self, name):\n",
    "        self.name = name\n",
    "        self.scores = {}\n",
    "\n",
    "    def add_scores(self, **kwargs):\n",
    "        # 항상 self는 매개변수로 입력되어야 한다\n",
    "        for subj, score in kwargs.items():\n",
    "            self.scores[subj] = score\n",
    "            \n",
    "    def print_score(self):\n",
    "        print(f'{self.name} 학생의 과목별 점수는: ')\n",
    "        for subj, score in self.scores.items():\n",
    "            print(f'{subj}: {score}')\n"
   ]
  },
  {
   "cell_type": "code",
   "execution_count": 10,
   "metadata": {},
   "outputs": [],
   "source": [
    "찰떡 = Student('찰떡')"
   ]
  },
  {
   "cell_type": "code",
   "execution_count": 11,
   "metadata": {},
   "outputs": [],
   "source": [
    "찰떡.add_scores(국어=50, 영어=50, 수학=80)"
   ]
  },
  {
   "cell_type": "code",
   "execution_count": 12,
   "metadata": {},
   "outputs": [
    {
     "name": "stdout",
     "output_type": "stream",
     "text": [
      "찰떡 학생의 과목별 점수는: \n",
      "국어: 50\n",
      "영어: 50\n",
      "수학: 80\n"
     ]
    }
   ],
   "source": [
    "찰떡.print_score()"
   ]
  },
  {
   "cell_type": "code",
   "execution_count": 85,
   "metadata": {},
   "outputs": [],
   "source": [
    "# 실습\n",
    "\n",
    "class Student:\n",
    "    def __init__(self, name):\n",
    "        self.name = name\n",
    "        self.scores = {}\n",
    "        self.subj_name = ['국어', '영어', '수학', '과학', '사회', '기술', '가정', '미술', '체육', '음악', '도덕']\n",
    "\n",
    "    def add_scores(self, **kwargs):\n",
    "        # 항상 self는 매개변수로 입력되어야 한다\n",
    "        for subj, score in kwargs.items():\n",
    "            if subj in self.subj_name:\n",
    "                if subj in self.scores:\n",
    "                    print(f\"{subj} 과목은 이미 입력된 과목이므로 무시되었습니다\")\n",
    "                else:\n",
    "                    self.scores[subj] = score\n",
    "            else:\n",
    "                print(f\"{subj} 과목은 없는 과목이므로 무시되었습니다\")\n",
    "            \n",
    "\n",
    "        \n",
    "    def print_score(self):\n",
    "        if self.scores:\n",
    "            \n",
    "            print(f'{self.name} 학생의 과목별 점수는: ')\n",
    "            for subj, score in self.scores.items():\n",
    "                print(f'{subj}: {score}')\n",
    "            self.print_score_avg()\n",
    "            \n",
    "            average_score = self.print_score_avg()\n",
    "            print(f'{self.name} 학생의 표준 점수는: {average_score}')\n",
    "        else:\n",
    "            print(\"성적 정보 없음\")\n",
    "        \n",
    "    def print_score_avg(self):\n",
    "        # print(f'{self.name} 학생의 표준 점수는: ')\n",
    "        \n",
    "        # mixed_score = 0\n",
    "        # b = len(self.scores)\n",
    "        # for i in range(0, b):\n",
    "        #     mixed_score += self.scores[i][1]\n",
    "        # print(f\"{mixed_score/b}\")\n",
    "\n",
    "        if self.scores:\n",
    "            return sum(self.scores.values()) / len(self.scores)\n",
    "        else:\n",
    "            return '성적 점수가 없습니다'\n",
    "            \n",
    "\n",
    "\n",
    "\n"
   ]
  },
  {
   "cell_type": "code",
   "execution_count": 86,
   "metadata": {},
   "outputs": [],
   "source": [
    "a = Student(\"Albert\")"
   ]
  },
  {
   "cell_type": "code",
   "execution_count": 1,
   "metadata": {},
   "outputs": [
    {
     "ename": "SyntaxError",
     "evalue": "keyword argument repeated: 국어 (525961080.py, line 1)",
     "output_type": "error",
     "traceback": [
      "\u001b[1;36m  Cell \u001b[1;32mIn[1], line 1\u001b[1;36m\u001b[0m\n\u001b[1;33m    a.add_scores(국어=50, 영어=50, 수학=80, 과학 = 90, 요가 = 30, 국어=60)\u001b[0m\n\u001b[1;37m                                                              \n^\u001b[0m\n\u001b[1;31mSyntaxError\u001b[0m\u001b[1;31m:\u001b[0m keyword argument repeated: 국어\n"
     ]
    }
   ],
   "source": [
    "a.add_scores(국어=50, 영어=50, 수학=80, 과학 = 90, 요가 = 30, 국어=60)"
   ]
  },
  {
   "cell_type": "code",
   "execution_count": 88,
   "metadata": {},
   "outputs": [
    {
     "data": {
      "text/plain": [
       "'성적 점수가 없습니다'"
      ]
     },
     "execution_count": 88,
     "metadata": {},
     "output_type": "execute_result"
    }
   ],
   "source": [
    "a.print_score_avg()"
   ]
  },
  {
   "cell_type": "code",
   "execution_count": 89,
   "metadata": {},
   "outputs": [
    {
     "name": "stdout",
     "output_type": "stream",
     "text": [
      "성적 정보 없음\n"
     ]
    }
   ],
   "source": [
    "a.print_score()"
   ]
  },
  {
   "cell_type": "code",
   "execution_count": null,
   "metadata": {},
   "outputs": [],
   "source": []
  },
  {
   "cell_type": "code",
   "execution_count": null,
   "metadata": {},
   "outputs": [],
   "source": []
  }
 ],
 "metadata": {
  "kernelspec": {
   "display_name": "Python 3",
   "language": "python",
   "name": "python3"
  },
  "language_info": {
   "codemirror_mode": {
    "name": "ipython",
    "version": 3
   },
   "file_extension": ".py",
   "mimetype": "text/x-python",
   "name": "python",
   "nbconvert_exporter": "python",
   "pygments_lexer": "ipython3",
   "version": "3.9.13"
  }
 },
 "nbformat": 4,
 "nbformat_minor": 2
}
