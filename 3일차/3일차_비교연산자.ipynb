{
 "cells": [
  {
   "cell_type": "code",
   "execution_count": 2,
   "metadata": {},
   "outputs": [],
   "source": [
    "a = [1, 2, 3, 4, [5, 6, 7, 8, 9]]"
   ]
  },
  {
   "cell_type": "code",
   "execution_count": 3,
   "metadata": {},
   "outputs": [
    {
     "data": {
      "text/plain": [
       "[5, 6, 7, 8, 9]"
      ]
     },
     "execution_count": 3,
     "metadata": {},
     "output_type": "execute_result"
    }
   ],
   "source": [
    "a[4][:]"
   ]
  },
  {
   "cell_type": "code",
   "execution_count": 4,
   "metadata": {},
   "outputs": [
    {
     "name": "stdout",
     "output_type": "stream",
     "text": [
      "문 열림\n"
     ]
    }
   ],
   "source": [
    "is_open = True\n",
    "\n",
    "if is_open:\n",
    "    print(\"문 열림\")\n",
    "else:\n",
    "    print(\"닫힘\")"
   ]
  },
  {
   "cell_type": "markdown",
   "metadata": {},
   "source": [
    "#### 1. 비교연산자\n",
    "| 비교연산자 | 설명                |\n",
    "|------------|---------------------|\n",
    "| x < y      | x가 y보다 작다.     |\n",
    "| x > y      | x가 y보다 크다.     |\n",
    "| x == y     | x와 y가 같다.       |\n",
    "| x != y     | x와 y가 같지 않다.  |\n",
    "| x >= y     | x가 y보다 크거나 같다. |\n",
    "| x <= y     | x가 y보다 작거나 같다. |\n"
   ]
  },
  {
   "cell_type": "markdown",
   "metadata": {},
   "source": [
    "#### 2. 불 연산자\n",
    "| 불 연산자 | 설명                                                    |\n",
    "|---------------|---------------------------------------------------------|\n",
    "| `and`         | 두 조건이 모두 참(True)일 때만 참을 반환합니다.             |\n",
    "| `or`          | 두 조건 중 하나라도 참(True)이면 참을 반환합니다.           |\n",
    "| `not`         | 참(True)을 거짓(False)으로, 거짓을 참으로 반전시킵니다.      |"
   ]
  },
  {
   "cell_type": "markdown",
   "metadata": {},
   "source": [
    "#### 3. in, not in\n",
    "| 연산자   | 사용 예                | 설명                                      |\n",
    "|----------|------------------------|------------------------------------------|\n",
    "| `in`     | `x in 리스트`          | `x`가 리스트 내에 있으면 `True` 반환      |\n",
    "| `not in` | `x not in 리스트`      | `x`가 리스트 내에 없으면 `True` 반환      |\n",
    "| `in`     | `x in 튜플`            | `x`가 튜플 내에 있으면 `True` 반환        |\n",
    "| `not in` | `x not in 튜플`        | `x`가 튜플 내에 없으면 `True` 반환        |\n",
    "| `in`     | `x in 문자열`          | `x`가 문자열 내에 있으면 `True` 반환      |\n",
    "| `not in` | `x not in 문자열`      | `x`가 문자열 내에 없으면 `True` 반환      |"
   ]
  },
  {
   "cell_type": "code",
   "execution_count": 5,
   "metadata": {},
   "outputs": [
    {
     "name": "stdout",
     "output_type": "stream",
     "text": [
      "성인입니다\n"
     ]
    }
   ],
   "source": [
    "age = 20\n",
    "\n",
    "if age >= 20:\n",
    "    print(\"성인입니다\")\n",
    "else:\n",
    "    print(\"미성년자입니다\")"
   ]
  },
  {
   "cell_type": "code",
   "execution_count": 8,
   "metadata": {},
   "outputs": [
    {
     "name": "stdout",
     "output_type": "stream",
     "text": [
      "C학점입니다\n"
     ]
    }
   ],
   "source": [
    "score = 60\n",
    "\n",
    "if score >= 90:\n",
    "    print('A학점입니다')\n",
    "elif score >= 80:\n",
    "    print('B학점입니다')\n",
    "else:\n",
    "    print('C학점입니다')"
   ]
  },
  {
   "cell_type": "code",
   "execution_count": 14,
   "metadata": {},
   "outputs": [
    {
     "name": "stdout",
     "output_type": "stream",
     "text": [
      "성인입니다\n"
     ]
    }
   ],
   "source": [
    "age = int(input(\"나이? \"))\n",
    "is_student = input(\"학생? \")\n",
    "\n",
    "list_a = [\"네\", \"학생\"]\n",
    "\n",
    "if age >= 20:\n",
    "    if is_student in list_a:\n",
    "        print('대학생입니다')\n",
    "    else:\n",
    "        print('성인입니다')\n",
    "else:\n",
    "    print(\"미성년입니다\")"
   ]
  },
  {
   "cell_type": "code",
   "execution_count": 22,
   "metadata": {},
   "outputs": [
    {
     "name": "stdout",
     "output_type": "stream",
     "text": [
      "운전할 수 없습니다\n"
     ]
    }
   ],
   "source": [
    "age = int(input(\"나이는? \"))\n",
    "has_license = bool(input(\"면허\"))\n",
    "\n",
    "if age >= 20 and has_license == True:\n",
    "    print(\"운전할 수 있습니다\")\n",
    "else:\n",
    "    print(\"운전할 수 없습니다\")"
   ]
  },
  {
   "cell_type": "code",
   "execution_count": 28,
   "metadata": {},
   "outputs": [
    {
     "name": "stdout",
     "output_type": "stream",
     "text": [
      "집에서 영화를 보자\n"
     ]
    }
   ],
   "source": [
    "weather_is_good = bool(input(\"날씨는 좋은가? \"))\n",
    "have_free_tickets = bool(input(\"무료티켓이 있는가? \"))\n",
    "\n",
    "if weather_is_good or have_free_tickets:\n",
    "    print('놀이공원에 가자')\n",
    "else:\n",
    "    print('집에서 영화를 보자')"
   ]
  },
  {
   "cell_type": "code",
   "execution_count": 31,
   "metadata": {},
   "outputs": [
    {
     "ename": "JVMNotFoundException",
     "evalue": "No JVM shared library file (jvm.dll) found. Try setting up the JAVA_HOME environment variable properly.",
     "output_type": "error",
     "traceback": [
      "\u001b[1;31m---------------------------------------------------------------------------\u001b[0m",
      "\u001b[1;31mJVMNotFoundException\u001b[0m                      Traceback (most recent call last)",
      "Cell \u001b[1;32mIn[31], line 3\u001b[0m\n\u001b[0;32m      1\u001b[0m \u001b[38;5;28;01mfrom\u001b[39;00m \u001b[38;5;21;01mkonlpy\u001b[39;00m\u001b[38;5;21;01m.\u001b[39;00m\u001b[38;5;21;01mtag\u001b[39;00m \u001b[38;5;28;01mimport\u001b[39;00m Kkma\n\u001b[1;32m----> 3\u001b[0m kkma \u001b[38;5;241m=\u001b[39m \u001b[43mKkma\u001b[49m\u001b[43m(\u001b[49m\u001b[43m)\u001b[49m\n\u001b[0;32m      5\u001b[0m weather_is_good \u001b[38;5;241m=\u001b[39m \u001b[38;5;28minput\u001b[39m(\u001b[38;5;124m\"\u001b[39m\u001b[38;5;124m날씨는 좋은가? \u001b[39m\u001b[38;5;124m\"\u001b[39m)\n\u001b[0;32m      7\u001b[0m list_a \u001b[38;5;241m=\u001b[39m [\u001b[38;5;124m\"\u001b[39m\u001b[38;5;124m좋\u001b[39m\u001b[38;5;124m\"\u001b[39m, \u001b[38;5;124m\"\u001b[39m\u001b[38;5;124m네\u001b[39m\u001b[38;5;124m\"\u001b[39m, \u001b[38;5;124m\"\u001b[39m\u001b[38;5;124m예\u001b[39m\u001b[38;5;124m\"\u001b[39m, \u001b[38;5;124m\"\u001b[39m\u001b[38;5;124mㅇㅇ\u001b[39m\u001b[38;5;124m\"\u001b[39m]\n",
      "File \u001b[1;32mc:\\Users\\USER\\AppData\\Local\\Programs\\Python\\Python39\\lib\\site-packages\\konlpy\\tag\\_kkma.py:44\u001b[0m, in \u001b[0;36mKkma.__init__\u001b[1;34m(self, jvmpath, max_heap_size)\u001b[0m\n\u001b[0;32m     42\u001b[0m \u001b[38;5;28;01mdef\u001b[39;00m \u001b[38;5;21m__init__\u001b[39m(\u001b[38;5;28mself\u001b[39m, jvmpath\u001b[38;5;241m=\u001b[39m\u001b[38;5;28;01mNone\u001b[39;00m, max_heap_size\u001b[38;5;241m=\u001b[39m\u001b[38;5;241m1024\u001b[39m):\n\u001b[0;32m     43\u001b[0m     \u001b[38;5;28;01mif\u001b[39;00m \u001b[38;5;129;01mnot\u001b[39;00m jpype\u001b[38;5;241m.\u001b[39misJVMStarted():\n\u001b[1;32m---> 44\u001b[0m         \u001b[43mjvm\u001b[49m\u001b[38;5;241;43m.\u001b[39;49m\u001b[43minit_jvm\u001b[49m\u001b[43m(\u001b[49m\u001b[43mjvmpath\u001b[49m\u001b[43m,\u001b[49m\u001b[43m \u001b[49m\u001b[43mmax_heap_size\u001b[49m\u001b[43m)\u001b[49m\n\u001b[0;32m     46\u001b[0m     kkmaJavaPackage \u001b[38;5;241m=\u001b[39m jpype\u001b[38;5;241m.\u001b[39mJPackage(\u001b[38;5;124m'\u001b[39m\u001b[38;5;124mkr.lucypark.kkma\u001b[39m\u001b[38;5;124m'\u001b[39m)\n\u001b[0;32m     47\u001b[0m     KkmaInterfaceJavaClass \u001b[38;5;241m=\u001b[39m kkmaJavaPackage\u001b[38;5;241m.\u001b[39mKkmaInterface\n",
      "File \u001b[1;32mc:\\Users\\USER\\AppData\\Local\\Programs\\Python\\Python39\\lib\\site-packages\\konlpy\\jvm.py:55\u001b[0m, in \u001b[0;36minit_jvm\u001b[1;34m(jvmpath, max_heap_size)\u001b[0m\n\u001b[0;32m     52\u001b[0m args \u001b[38;5;241m=\u001b[39m [javadir, os\u001b[38;5;241m.\u001b[39msep]\n\u001b[0;32m     53\u001b[0m classpath \u001b[38;5;241m=\u001b[39m [f\u001b[38;5;241m.\u001b[39mformat(\u001b[38;5;241m*\u001b[39margs) \u001b[38;5;28;01mfor\u001b[39;00m f \u001b[38;5;129;01min\u001b[39;00m folder_suffix]\n\u001b[1;32m---> 55\u001b[0m jvmpath \u001b[38;5;241m=\u001b[39m jvmpath \u001b[38;5;129;01mor\u001b[39;00m \u001b[43mjpype\u001b[49m\u001b[38;5;241;43m.\u001b[39;49m\u001b[43mgetDefaultJVMPath\u001b[49m\u001b[43m(\u001b[49m\u001b[43m)\u001b[49m\n\u001b[0;32m     57\u001b[0m \u001b[38;5;66;03m# NOTE: Temporary patch for Issue #76. Erase when possible.\u001b[39;00m\n\u001b[0;32m     58\u001b[0m \u001b[38;5;28;01mif\u001b[39;00m sys\u001b[38;5;241m.\u001b[39mplatform \u001b[38;5;241m==\u001b[39m \u001b[38;5;124m'\u001b[39m\u001b[38;5;124mdarwin\u001b[39m\u001b[38;5;124m'\u001b[39m\\\n\u001b[0;32m     59\u001b[0m         \u001b[38;5;129;01mand\u001b[39;00m jvmpath\u001b[38;5;241m.\u001b[39mfind(\u001b[38;5;124m'\u001b[39m\u001b[38;5;124m1.8.0\u001b[39m\u001b[38;5;124m'\u001b[39m) \u001b[38;5;241m>\u001b[39m \u001b[38;5;241m0\u001b[39m\\\n\u001b[0;32m     60\u001b[0m         \u001b[38;5;129;01mand\u001b[39;00m jvmpath\u001b[38;5;241m.\u001b[39mendswith(\u001b[38;5;124m'\u001b[39m\u001b[38;5;124mlibjvm.dylib\u001b[39m\u001b[38;5;124m'\u001b[39m):\n",
      "File \u001b[1;32mc:\\Users\\USER\\AppData\\Local\\Programs\\Python\\Python39\\lib\\site-packages\\jpype\\_jvmfinder.py:74\u001b[0m, in \u001b[0;36mgetDefaultJVMPath\u001b[1;34m()\u001b[0m\n\u001b[0;32m     72\u001b[0m \u001b[38;5;28;01melse\u001b[39;00m:\n\u001b[0;32m     73\u001b[0m     finder \u001b[38;5;241m=\u001b[39m LinuxJVMFinder()\n\u001b[1;32m---> 74\u001b[0m \u001b[38;5;28;01mreturn\u001b[39;00m \u001b[43mfinder\u001b[49m\u001b[38;5;241;43m.\u001b[39;49m\u001b[43mget_jvm_path\u001b[49m\u001b[43m(\u001b[49m\u001b[43m)\u001b[49m\n",
      "File \u001b[1;32mc:\\Users\\USER\\AppData\\Local\\Programs\\Python\\Python39\\lib\\site-packages\\jpype\\_jvmfinder.py:212\u001b[0m, in \u001b[0;36mJVMFinder.get_jvm_path\u001b[1;34m(self)\u001b[0m\n\u001b[0;32m    210\u001b[0m \u001b[38;5;28;01mif\u001b[39;00m jvm_notsupport_ext \u001b[38;5;129;01mis\u001b[39;00m \u001b[38;5;129;01mnot\u001b[39;00m \u001b[38;5;28;01mNone\u001b[39;00m:\n\u001b[0;32m    211\u001b[0m     \u001b[38;5;28;01mraise\u001b[39;00m jvm_notsupport_ext\n\u001b[1;32m--> 212\u001b[0m \u001b[38;5;28;01mraise\u001b[39;00m JVMNotFoundException(\u001b[38;5;124m\"\u001b[39m\u001b[38;5;124mNo JVM shared library file (\u001b[39m\u001b[38;5;132;01m{0}\u001b[39;00m\u001b[38;5;124m) \u001b[39m\u001b[38;5;124m\"\u001b[39m\n\u001b[0;32m    213\u001b[0m                            \u001b[38;5;124m\"\u001b[39m\u001b[38;5;124mfound. Try setting up the JAVA_HOME \u001b[39m\u001b[38;5;124m\"\u001b[39m\n\u001b[0;32m    214\u001b[0m                            \u001b[38;5;124m\"\u001b[39m\u001b[38;5;124menvironment variable properly.\u001b[39m\u001b[38;5;124m\"\u001b[39m\n\u001b[0;32m    215\u001b[0m                            \u001b[38;5;241m.\u001b[39mformat(\u001b[38;5;28mself\u001b[39m\u001b[38;5;241m.\u001b[39m_libfile))\n",
      "\u001b[1;31mJVMNotFoundException\u001b[0m: No JVM shared library file (jvm.dll) found. Try setting up the JAVA_HOME environment variable properly."
     ]
    }
   ],
   "source": [
    "from konlpy.tag import Kkma\n",
    "\n",
    "kkma = Kkma()\n",
    "\n",
    "weather_is_good = input(\"날씨는 좋은가? \")\n",
    "\n",
    "list_a = [\"좋\", \"네\", \"예\", \"ㅇㅇ\"]\n",
    "\n",
    "b = kkma.morth(weather_is_good)\n",
    "\n",
    "if b in list_a:\n",
    "    print(\"실험성공\")\n"
   ]
  },
  {
   "cell_type": "markdown",
   "metadata": {},
   "source": [
    "1. 숫자를 입력받아 양수인지, 음수인지, 아니면 0인지 판별하는 프로그램을 작성하세요\n",
    "2. 사전에 정의된 아이디와 비밀번호가 주어져 있을 때 (id: user01, pw: pw1234), 입력받은 아이디와 비밀번호가 일치하는지 확인하고 로그인 성공 여부를 알려주는 프로그램을 작성하세요\n",
    "3. 정수를 입력받아 그 수가 짝수인지 홀수인지 판별하는 프로그램을 작성하세요\n",
    "4. 월(정수)을 입력받아 해당 월이 봄(3~5월), 여름(6~8월), 가을(9~11월), 겨율(12, 1~2월)중 어느 계절에 속하는지 알려주는 프로그램을 작성하세요\n",
    "5. 물건의 무게(kg)을 입력받아 무게에 따른 운송비를 계산하여 출력하는 프로그램을 작성하세요(5kg 이하 5000원 5kg 초과 10kg 이하 7000원, 10kg 초과 10000원)\n",
    "6. 방문객의 나이를 입력받아 어린이(14세 미만)는 4000원, 청소년(14이상 19세 이하)은 8000원, 성인(20세 이상)은 12000원의 입장료를 계산하는 프로그램을 작성하세요\n",
    "7. 사용한 데이터량(MB)를 입력받아 0~1GB(1024MB) 사용 시 10000원, 1GB 초과 2GB 이하 사용 시 20000원, 2GB초과 사용 시 30000원의 요금을 적용하는 프로그램을 작성하세요.\n",
    "8. 로그인 상태(is_logged_in)가 True이고, 회원 등급(userRole)이 'admin'일 때 \"관리자 페이지에 접근할 수 있습니다.\"라고 출력하는 프로그램을 작성하세요. 회원 등급이 'admin'이 아니면 \"일반 사용자 페이지에 접근할 수 있습니다.\"라고 출력하세요. 만약 로그인 상태가 False일 경우 \"로그인이 필요합니다.\"라고 출력하세요.\n",
    "9. info = {'name':'Kim', 'address':'경기도'} info에서 age가 없을 때 '나이 정보가 없습니다'를 출력하는 프로그램을 작성하세요('age':'value'도 넣어서 해보세요)"
   ]
  },
  {
   "cell_type": "code",
   "execution_count": 36,
   "metadata": {},
   "outputs": [
    {
     "name": "stdout",
     "output_type": "stream",
     "text": [
      "음수\n"
     ]
    }
   ],
   "source": [
    "a = int(input(\"숫자입력\"))\n",
    "\n",
    "if a > 0:\n",
    "    print(\"양수\")\n",
    "elif a < 0:\n",
    "    print(\"음수\")\n",
    "else:\n",
    "    print(\"0\")"
   ]
  },
  {
   "cell_type": "code",
   "execution_count": 41,
   "metadata": {},
   "outputs": [
    {
     "name": "stdout",
     "output_type": "stream",
     "text": [
      "로그인 성공\n"
     ]
    }
   ],
   "source": [
    "# id: user01, pw: pw1234\n",
    "\n",
    "o_id = 'user01'\n",
    "o_pw = 'pw1234'\n",
    "\n",
    "input_id = input(\"ID입력\")\n",
    "input_pw = input(\"PW입력\")\n",
    "\n",
    "if o_id == input_id:\n",
    "    if o_pw == input_pw:\n",
    "        print(\"로그인 성공\")\n",
    "    else:\n",
    "        print(\"비밀번호가 다름\")\n",
    "else:\n",
    "    print(\"로그인 실패\")\n"
   ]
  },
  {
   "cell_type": "code",
   "execution_count": 52,
   "metadata": {},
   "outputs": [
    {
     "name": "stdout",
     "output_type": "stream",
     "text": [
      "홀수\n"
     ]
    }
   ],
   "source": [
    "a = int(input(\"정수입력\"))\n",
    "\n",
    "if a % 2 == 0:\n",
    "    print(\"짝수\")\n",
    "else:\n",
    "    print(\"홀수\")"
   ]
  },
  {
   "cell_type": "code",
   "execution_count": 65,
   "metadata": {},
   "outputs": [
    {
     "name": "stdout",
     "output_type": "stream",
     "text": [
      "겨울\n"
     ]
    }
   ],
   "source": [
    "# 봄(3~5월), 여름(6~8월), 가을(9~11월), 겨율(12, 1~2월)\n",
    "\n",
    "weather_N = int(input(\"정수입력\"))\n",
    "\n",
    "spring = list(range(3, 6))\n",
    "summer = list(range(6, 9))\n",
    "autumn = list(range(9, 12))\n",
    "winter = [12, 1, 2]\n",
    "\n",
    "if weather_N in spring:\n",
    "    print(\"봄\")\n",
    "elif weather_N in summer:\n",
    "    print(\"여름\")\n",
    "elif weather_N in autumn:\n",
    "    print(\"가을\")\n",
    "elif weather_N in winter:\n",
    "    print(\"겨울\")\n",
    "else:\n",
    "    print(\"오류\")"
   ]
  },
  {
   "cell_type": "code",
   "execution_count": 76,
   "metadata": {},
   "outputs": [
    {
     "name": "stdout",
     "output_type": "stream",
     "text": [
      "7000원 추가\n"
     ]
    }
   ],
   "source": [
    "# 물건의 무게(kg)을 입력받아 무게에 따른 운송비를 계산하여 출력하는 프로그램을 작성하세요\n",
    "# (5kg 이하 5000원 5kg 초과 10kg 이하 7000원, 10kg 초과 10000원)\n",
    "\n",
    "kg_N = int(input(\"무게입력\"))\n",
    "\n",
    "if kg_N > 10:\n",
    "    print(\"10000원 추가\")\n",
    "elif kg_N > 5:\n",
    "    print(\"7000원 추가\")\n",
    "elif kg_N <= 5:\n",
    "    print(\"5000원 추가\")\n",
    "else:\n",
    "    print(\"오류\")"
   ]
  },
  {
   "cell_type": "code",
   "execution_count": 4,
   "metadata": {},
   "outputs": [
    {
     "name": "stdout",
     "output_type": "stream",
     "text": [
      "12000원 부과\n"
     ]
    }
   ],
   "source": [
    "# 나이를 입력받아 어린이(14세 미만)는 4000원, 청소년(14이상 19세 이하)은 8000원, 성인(20세 이상)은 12000원의 입장료를 계산하는 프로그램을 작성하세요\n",
    "\n",
    "age = int(input(\"나이입력 \"))\n",
    "\n",
    "if age < 14:\n",
    "    print(\"4000원 부과\")\n",
    "elif age <= 19:\n",
    "    print(\"8000원 부과\")\n",
    "else:\n",
    "    print(\"12000원 부과\")\n"
   ]
  },
  {
   "cell_type": "code",
   "execution_count": 9,
   "metadata": {},
   "outputs": [
    {
     "name": "stdout",
     "output_type": "stream",
     "text": [
      "30000원의 요금\n"
     ]
    }
   ],
   "source": [
    "# 사용한 데이터량(MB)를 입력받아 0~1GB(1024MB) 사용 시 10000원, 1GB 초과 2GB 이하 사용 시 20000원, 2GB초과 사용 시 30000원의 요금을 적용하는 프로그램을 작성하세요.\n",
    "\n",
    "used_MB = int(input(\"사용된 데이터량\"))\n",
    "one_GB = 1024\n",
    "two_GB = 1024 * 2\n",
    "\n",
    "if used_MB > two_GB:\n",
    "    print(\"30000원의 요금\")\n",
    "elif used_MB > one_GB:\n",
    "    print(\"20000원의 요금\")\n",
    "elif used_MB > 0:\n",
    "    print(\"10000원의 요금\")\n",
    "else:\n",
    "    print(\"에러\")\n",
    "\n"
   ]
  },
  {
   "cell_type": "code",
   "execution_count": 13,
   "metadata": {},
   "outputs": [
    {
     "name": "stdout",
     "output_type": "stream",
     "text": [
      "True\n",
      "관리자 페이지에 접근할 수 있습니다\n"
     ]
    }
   ],
   "source": [
    "# 8. 로그인 상태(is_logged_in)가 True이고, 회원 등급(userRole)이 'admin'일 때 \"관리자 페이지에 접근할 수 있습니다.\"라고 출력하는 프로그램을 작성하세요.\n",
    "# 회원 등급이 'admin'이 아니면 \"일반 사용자 페이지에 접근할 수 있습니다.\"라고 출력하세요. 만약 로그인 상태가 False일 경우 \"로그인이 필요합니다.\"라고 출력하세요.\n",
    "is_logged_in = True\n",
    "userRole = 'admin'\n",
    "\n",
    "if userRole == 'admin':\n",
    "    if is_logged_in:\n",
    "        print(\"관리자 페이지에 접근할 수 있습니다\")\n",
    "    else:\n",
    "        print(\"로그인이 필요합니다\")\n",
    "else:\n",
    "    print(\"일반 사용자 페이지에 접근할 수 있습니다\")"
   ]
  },
  {
   "cell_type": "code",
   "execution_count": 39,
   "metadata": {},
   "outputs": [
    {
     "name": "stdout",
     "output_type": "stream",
     "text": [
      "['name', 'address']\n",
      "{'name': 'Kim', 'address': '경기도'}\n",
      "나이 정보가 없습니다\n",
      "['name', 'address', 'age']\n",
      "{'name': 'Kim', 'address': '경기도', 'age': 'value'}\n",
      "나이 정보를 확인했습니다\n"
     ]
    }
   ],
   "source": [
    "# 9. info = {'name':'Kim', 'address':'경기도'} info에서 age가 없을 때 '나이 정보가 없습니다'를 출력하는 프로그램을 작성하세요('age':'value'도 넣어서 해보세요)\n",
    "\n",
    "info = {'name':'Kim', 'address':'경기도'}\n",
    "\n",
    "def age_check():\n",
    "    one_key = list(info.keys())\n",
    "    print(one_key)\n",
    "    print(info)\n",
    "\n",
    "    if  'age' in one_key:\n",
    "        print(\"나이 정보를 확인했습니다\")\n",
    "    elif 'age' not in one_key:\n",
    "        print(\"나이 정보가 없습니다\")\n",
    "        info['age'] = 'value'\n",
    "    else:\n",
    "        print(\"에러\")\n",
    "\n",
    "age_check()\n",
    "age_check()"
   ]
  },
  {
   "cell_type": "code",
   "execution_count": 41,
   "metadata": {},
   "outputs": [
    {
     "name": "stdout",
     "output_type": "stream",
     "text": [
      "count: 1\n",
      "count: 2\n",
      "count: 3\n",
      "count: 4\n",
      "count: 5\n"
     ]
    }
   ],
   "source": [
    "count = 0\n",
    "\n",
    "while count < 5:\n",
    "    # print(f'count: {count}')  # 0 ~ 4\n",
    "    count += 1 # count = count + 1\n",
    "    print(f'count: {count}')  # 1 ~ 5"
   ]
  },
  {
   "cell_type": "code",
   "execution_count": 53,
   "metadata": {},
   "outputs": [
    {
     "name": "stdout",
     "output_type": "stream",
     "text": [
      "나무를  1번 찍었습니다\n",
      "나무를  2번 찍었습니다\n",
      "나무를  3번 찍었습니다\n",
      "나무를  4번 찍었습니다\n",
      "나무를  5번 찍었습니다\n",
      "나무를  6번 찍었습니다\n",
      "나무를  7번 찍었습니다\n",
      "나무를  8번 찍었습니다\n",
      "나무를  9번 찍었습니다\n",
      "나무를 10번 찍었습니다\n",
      "나무가 넘어갔습니다\n"
     ]
    }
   ],
   "source": [
    "max_hit = 10\n",
    "tree_hit = 0\n",
    "\n",
    "while tree_hit < max_hit:\n",
    "    tree_hit += 1\n",
    "    print(f\"나무를 {format(tree_hit, '2')}번 찍었습니다\")\n",
    "\n",
    "    if tree_hit == max_hit:\n",
    "        print(\"나무가 넘어갔습니다\")\n"
   ]
  },
  {
   "cell_type": "code",
   "execution_count": 56,
   "metadata": {},
   "outputs": [
    {
     "name": "stdout",
     "output_type": "stream",
     "text": [
      "종료\n"
     ]
    }
   ],
   "source": [
    "while True:\n",
    "    a = input(\"명령을 입력하세요 (종료하려면 '종료')\")\n",
    "    if a == '종료':\n",
    "        print('종료')\n",
    "        break\n",
    "    print(a)\n"
   ]
  },
  {
   "cell_type": "code",
   "execution_count": 57,
   "metadata": {},
   "outputs": [
    {
     "name": "stdout",
     "output_type": "stream",
     "text": [
      "나무를  1번 찍었습니다\n",
      "나무를  2번 찍었습니다\n",
      "나무를  3번 찍었습니다\n",
      "나무를  4번 찍었습니다\n",
      "나무를  5번 찍었습니다\n",
      "나무를  6번 찍었습니다\n",
      "나무를  7번 찍었습니다\n",
      "나무를  8번 찍었습니다\n",
      "나무를  9번 찍었습니다\n",
      "나무를 10번 찍었습니다\n",
      "나무가 넘어갔습니다\n"
     ]
    }
   ],
   "source": [
    "max_hit = 10\n",
    "tree_hit = 0\n",
    "\n",
    "while True:\n",
    "    tree_hit += 1\n",
    "    print(f\"나무를 {format(tree_hit, '2')}번 찍었습니다\")\n",
    "\n",
    "    if tree_hit == max_hit:\n",
    "        print(\"나무가 넘어갔습니다\")\n",
    "        break"
   ]
  },
  {
   "cell_type": "code",
   "execution_count": 58,
   "metadata": {},
   "outputs": [
    {
     "name": "stdout",
     "output_type": "stream",
     "text": [
      "2\n",
      "4\n",
      "6\n",
      "8\n",
      "10\n",
      "12\n",
      "14\n",
      "16\n",
      "18\n",
      "20\n"
     ]
    }
   ],
   "source": [
    "a = 0\n",
    "\n",
    "while a < 20:\n",
    "    a += 1\n",
    "    if a % 2 == 1:\n",
    "        continue # 작동 순서를 초기화, 앞으로 보냄\n",
    "    print(a)"
   ]
  },
  {
   "cell_type": "code",
   "execution_count": 62,
   "metadata": {},
   "outputs": [
    {
     "name": "stdout",
     "output_type": "stream",
     "text": [
      "5\n",
      "10\n",
      "15\n",
      "20\n",
      "25\n",
      "30\n",
      "35\n",
      "40\n",
      "45\n",
      "50\n"
     ]
    }
   ],
   "source": [
    "a = 0\n",
    "\n",
    "while a < 50:\n",
    "    a += 1\n",
    "    if a % 5 != 0:\n",
    "        continue\n",
    "    print(a)"
   ]
  }
 ],
 "metadata": {
  "kernelspec": {
   "display_name": "Python 3",
   "language": "python",
   "name": "python3"
  },
  "language_info": {
   "codemirror_mode": {
    "name": "ipython",
    "version": 3
   },
   "file_extension": ".py",
   "mimetype": "text/x-python",
   "name": "python",
   "nbconvert_exporter": "python",
   "pygments_lexer": "ipython3",
   "version": "3.9.13"
  }
 },
 "nbformat": 4,
 "nbformat_minor": 2
}
