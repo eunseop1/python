{
 "cells": [
  {
   "cell_type": "code",
   "execution_count": 2,
   "metadata": {},
   "outputs": [
    {
     "name": "stdout",
     "output_type": "stream",
     "text": [
      "WebDriver is running on port 55255\n"
     ]
    },
    {
     "ename": "InvalidArgumentException",
     "evalue": "Message: invalid argument\n  (Session info: chrome=123.0.6312.86)\nStacktrace:\n\tGetHandleVerifier [0x00E34CC3+225091]\n\t(No symbol) [0x00D64E11]\n\t(No symbol) [0x00C09944]\n\t(No symbol) [0x00BFA641]\n\t(No symbol) [0x00BF9417]\n\t(No symbol) [0x00BF9A1B]\n\t(No symbol) [0x00C0BC78]\n\t(No symbol) [0x00C763D1]\n\t(No symbol) [0x00C5F55C]\n\t(No symbol) [0x00C75CB0]\n\t(No symbol) [0x00C5F2F6]\n\t(No symbol) [0x00C379B9]\n\t(No symbol) [0x00C3879D]\n\tsqlite3_dbdata_init [0x012A9A63+4064547]\n\tsqlite3_dbdata_init [0x012B106A+4094762]\n\tsqlite3_dbdata_init [0x012AB968+4072488]\n\tsqlite3_dbdata_init [0x00FAC9C9+930953]\n\t(No symbol) [0x00D707E4]\n\t(No symbol) [0x00D6AD08]\n\t(No symbol) [0x00D6AE31]\n\t(No symbol) [0x00D5CAA0]\n\tBaseThreadInitThunk [0x757AFCC9+25]\n\tRtlGetAppContainerNamedObjectPath [0x77057C5E+286]\n\tRtlGetAppContainerNamedObjectPath [0x77057C2E+238]\n",
     "output_type": "error",
     "traceback": [
      "\u001b[1;31m---------------------------------------------------------------------------\u001b[0m",
      "\u001b[1;31mInvalidArgumentException\u001b[0m                  Traceback (most recent call last)",
      "Cell \u001b[1;32mIn[2], line 5\u001b[0m\n\u001b[0;32m      1\u001b[0m \u001b[38;5;28;01mfrom\u001b[39;00m \u001b[38;5;21;01minitialize_webdriver\u001b[39;00m \u001b[38;5;28;01mimport\u001b[39;00m initialize_webdriver\n\u001b[0;32m      3\u001b[0m driver \u001b[38;5;241m=\u001b[39m initialize_webdriver(\u001b[38;5;124m'\u001b[39m\u001b[38;5;124mD:\u001b[39m\u001b[38;5;130;01m\\\\\u001b[39;00m\u001b[38;5;124mWindows_user\u001b[39m\u001b[38;5;130;01m\\\\\u001b[39;00m\u001b[38;5;124mDocuments\u001b[39m\u001b[38;5;130;01m\\\\\u001b[39;00m\u001b[38;5;124m카카오톡 받은 파일\u001b[39m\u001b[38;5;124m'\u001b[39m)\n\u001b[1;32m----> 5\u001b[0m \u001b[43mdriver\u001b[49m\u001b[38;5;241;43m.\u001b[39;49m\u001b[43mget\u001b[49m\u001b[43m(\u001b[49m\u001b[38;5;124;43m'\u001b[39;49m\u001b[38;5;124;43mwww.naver.com\u001b[39;49m\u001b[38;5;124;43m'\u001b[39;49m\u001b[43m)\u001b[49m\n",
      "File \u001b[1;32mc:\\Users\\USER\\AppData\\Local\\Programs\\Python\\Python39\\lib\\site-packages\\selenium\\webdriver\\remote\\webdriver.py:356\u001b[0m, in \u001b[0;36mWebDriver.get\u001b[1;34m(self, url)\u001b[0m\n\u001b[0;32m    354\u001b[0m \u001b[38;5;28;01mdef\u001b[39;00m \u001b[38;5;21mget\u001b[39m(\u001b[38;5;28mself\u001b[39m, url: \u001b[38;5;28mstr\u001b[39m) \u001b[38;5;241m-\u001b[39m\u001b[38;5;241m>\u001b[39m \u001b[38;5;28;01mNone\u001b[39;00m:\n\u001b[0;32m    355\u001b[0m \u001b[38;5;250m    \u001b[39m\u001b[38;5;124;03m\"\"\"Loads a web page in the current browser session.\"\"\"\u001b[39;00m\n\u001b[1;32m--> 356\u001b[0m     \u001b[38;5;28;43mself\u001b[39;49m\u001b[38;5;241;43m.\u001b[39;49m\u001b[43mexecute\u001b[49m\u001b[43m(\u001b[49m\u001b[43mCommand\u001b[49m\u001b[38;5;241;43m.\u001b[39;49m\u001b[43mGET\u001b[49m\u001b[43m,\u001b[49m\u001b[43m \u001b[49m\u001b[43m{\u001b[49m\u001b[38;5;124;43m\"\u001b[39;49m\u001b[38;5;124;43murl\u001b[39;49m\u001b[38;5;124;43m\"\u001b[39;49m\u001b[43m:\u001b[49m\u001b[43m \u001b[49m\u001b[43murl\u001b[49m\u001b[43m}\u001b[49m\u001b[43m)\u001b[49m\n",
      "File \u001b[1;32mc:\\Users\\USER\\AppData\\Local\\Programs\\Python\\Python39\\lib\\site-packages\\selenium\\webdriver\\remote\\webdriver.py:347\u001b[0m, in \u001b[0;36mWebDriver.execute\u001b[1;34m(self, driver_command, params)\u001b[0m\n\u001b[0;32m    345\u001b[0m response \u001b[38;5;241m=\u001b[39m \u001b[38;5;28mself\u001b[39m\u001b[38;5;241m.\u001b[39mcommand_executor\u001b[38;5;241m.\u001b[39mexecute(driver_command, params)\n\u001b[0;32m    346\u001b[0m \u001b[38;5;28;01mif\u001b[39;00m response:\n\u001b[1;32m--> 347\u001b[0m     \u001b[38;5;28;43mself\u001b[39;49m\u001b[38;5;241;43m.\u001b[39;49m\u001b[43merror_handler\u001b[49m\u001b[38;5;241;43m.\u001b[39;49m\u001b[43mcheck_response\u001b[49m\u001b[43m(\u001b[49m\u001b[43mresponse\u001b[49m\u001b[43m)\u001b[49m\n\u001b[0;32m    348\u001b[0m     response[\u001b[38;5;124m\"\u001b[39m\u001b[38;5;124mvalue\u001b[39m\u001b[38;5;124m\"\u001b[39m] \u001b[38;5;241m=\u001b[39m \u001b[38;5;28mself\u001b[39m\u001b[38;5;241m.\u001b[39m_unwrap_value(response\u001b[38;5;241m.\u001b[39mget(\u001b[38;5;124m\"\u001b[39m\u001b[38;5;124mvalue\u001b[39m\u001b[38;5;124m\"\u001b[39m, \u001b[38;5;28;01mNone\u001b[39;00m))\n\u001b[0;32m    349\u001b[0m     \u001b[38;5;28;01mreturn\u001b[39;00m response\n",
      "File \u001b[1;32mc:\\Users\\USER\\AppData\\Local\\Programs\\Python\\Python39\\lib\\site-packages\\selenium\\webdriver\\remote\\errorhandler.py:229\u001b[0m, in \u001b[0;36mErrorHandler.check_response\u001b[1;34m(self, response)\u001b[0m\n\u001b[0;32m    227\u001b[0m         alert_text \u001b[38;5;241m=\u001b[39m value[\u001b[38;5;124m\"\u001b[39m\u001b[38;5;124malert\u001b[39m\u001b[38;5;124m\"\u001b[39m]\u001b[38;5;241m.\u001b[39mget(\u001b[38;5;124m\"\u001b[39m\u001b[38;5;124mtext\u001b[39m\u001b[38;5;124m\"\u001b[39m)\n\u001b[0;32m    228\u001b[0m     \u001b[38;5;28;01mraise\u001b[39;00m exception_class(message, screen, stacktrace, alert_text)  \u001b[38;5;66;03m# type: ignore[call-arg]  # mypy is not smart enough here\u001b[39;00m\n\u001b[1;32m--> 229\u001b[0m \u001b[38;5;28;01mraise\u001b[39;00m exception_class(message, screen, stacktrace)\n",
      "\u001b[1;31mInvalidArgumentException\u001b[0m: Message: invalid argument\n  (Session info: chrome=123.0.6312.86)\nStacktrace:\n\tGetHandleVerifier [0x00E34CC3+225091]\n\t(No symbol) [0x00D64E11]\n\t(No symbol) [0x00C09944]\n\t(No symbol) [0x00BFA641]\n\t(No symbol) [0x00BF9417]\n\t(No symbol) [0x00BF9A1B]\n\t(No symbol) [0x00C0BC78]\n\t(No symbol) [0x00C763D1]\n\t(No symbol) [0x00C5F55C]\n\t(No symbol) [0x00C75CB0]\n\t(No symbol) [0x00C5F2F6]\n\t(No symbol) [0x00C379B9]\n\t(No symbol) [0x00C3879D]\n\tsqlite3_dbdata_init [0x012A9A63+4064547]\n\tsqlite3_dbdata_init [0x012B106A+4094762]\n\tsqlite3_dbdata_init [0x012AB968+4072488]\n\tsqlite3_dbdata_init [0x00FAC9C9+930953]\n\t(No symbol) [0x00D707E4]\n\t(No symbol) [0x00D6AD08]\n\t(No symbol) [0x00D6AE31]\n\t(No symbol) [0x00D5CAA0]\n\tBaseThreadInitThunk [0x757AFCC9+25]\n\tRtlGetAppContainerNamedObjectPath [0x77057C5E+286]\n\tRtlGetAppContainerNamedObjectPath [0x77057C2E+238]\n"
     ]
    }
   ],
   "source": [
    "from initialize_webdriver import initialize_webdriver\n",
    "\n",
    "driver = initialize_webdriver('D:\\\\Windows_user\\\\Documents\\\\카카오톡 받은 파일')\n",
    "\n",
    "driver.get('www.naver.com')"
   ]
  },
  {
   "cell_type": "code",
   "execution_count": null,
   "metadata": {},
   "outputs": [],
   "source": []
  }
 ],
 "metadata": {
  "kernelspec": {
   "display_name": "Python 3",
   "language": "python",
   "name": "python3"
  },
  "language_info": {
   "codemirror_mode": {
    "name": "ipython",
    "version": 3
   },
   "file_extension": ".py",
   "mimetype": "text/x-python",
   "name": "python",
   "nbconvert_exporter": "python",
   "pygments_lexer": "ipython3",
   "version": "3.9.13"
  }
 },
 "nbformat": 4,
 "nbformat_minor": 2
}
