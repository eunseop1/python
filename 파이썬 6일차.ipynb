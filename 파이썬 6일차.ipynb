{
 "cells": [
  {
   "cell_type": "markdown",
   "metadata": {},
   "source": [
    "# 파이썬 교육"
   ]
  },
  {
   "cell_type": "markdown",
   "metadata": {},
   "source": [
    "# 11. 파일 입출력"
   ]
  },
  {
   "cell_type": "markdown",
   "metadata": {},
   "source": [
    "기본 구조\n",
    "```python\n",
    "f = open('file_name', 'mode', encoding=) # 열면\n",
    "content = f.read()\n",
    "f.close() # 닫아줘야 함"
   ]
  },
  {
   "cell_type": "markdown",
   "metadata": {},
   "source": [
    "보통 쓰는 형식 (with 문을 사용함)\n",
    "\n",
    "쓰기\n",
    "```python\n",
    "with open('filename, 'w') as f:\n",
    "  f.write('Hello World')\n",
    "```\n",
    "읽기\n",
    "```python\n",
    "with open('filename, 'r') as f:\n",
    "  content = r.read()\n",
    "  print('file_content:', content)\n",
    "```"
   ]
  },
  {
   "cell_type": "markdown",
   "metadata": {},
   "source": [
    "with 문은 enter, exit를 자동으로 호출해줘서 close를 생략 할 수 있음\n",
    "\n",
    "with 문은 '파일 입출력', '데이터페이스 연결', '쓰레드 락(멀티 스레드 환경에서 동시 접근 관리)', '텐서플로우 세션관리' 등에 사용함\n",
    "\n",
    "우린 이번 과정에서 기본구조를 사용하지 않고 with문을 사용해서 진행"
   ]
  },
  {
   "cell_type": "markdown",
   "metadata": {},
   "source": [
    "| mode | 설명                           |\n",
    "|------|--------------------------------|\n",
    "| 'r'  | 읽기 전용. 파일이 없으면 오류 발생 |\n",
    "| 'w'  | 쓰기 전용. 파일이 이미 존재하면 내용을 삭제하고 새로 씀. 파일이 없으면 새로 생성 |\n",
    "| 'a'  | 파일 추가. 파일이 존재하면, 파일의 끝에 내용을 추가. 파일이 없으면 새로 생성 |\n"
   ]
  },
  {
   "cell_type": "code",
   "execution_count": null,
   "metadata": {},
   "outputs": [],
   "source": [
    "string = input('메모 할 내용을 입력하세요')\n",
    "\n",
    "with open('memo.txt', 'w') as f: # 쓰기 전용, mode가 w라 내용을 계속 새로 씀 'a'로 바꿔볼 것\n",
    "  f.write(string)"
   ]
  },
  {
   "cell_type": "code",
   "execution_count": null,
   "metadata": {},
   "outputs": [],
   "source": [
    "string = input('메모 할 내용을 입력하세요')\n",
    "\n",
    "with open('memo.txt', 'a') as f: # 옆으로 쭉 붙어서 저장됨\n",
    "  f.write(string)\n",
    "  f.write(string + '\\n')"
   ]
  },
  {
   "cell_type": "code",
   "execution_count": null,
   "metadata": {},
   "outputs": [],
   "source": [
    "with open('memo.txt', 'r') as f:\n",
    "  content = f.read()\n",
    "  print(content)"
   ]
  },
  {
   "cell_type": "code",
   "execution_count": null,
   "metadata": {},
   "outputs": [],
   "source": [
    "with open('memo.txt', 'r') as f: # 한 줄씩 가져옴\n",
    "  for line in f:\n",
    "    print(line, end='')"
   ]
  },
  {
   "cell_type": "code",
   "execution_count": null,
   "metadata": {},
   "outputs": [],
   "source": [
    "with open('memo.txt', 'r') as f: # 전체를 리스트로 가져와서 각 줄을 요소로 사용함\n",
    "  lines = f.readlines()\n",
    "  print(lines)"
   ]
  },
  {
   "cell_type": "markdown",
   "metadata": {},
   "source": [
    "## 중간실습\n",
    "'학생 점수.csv' 파일을 읽어서 '총합', '평균' 컬럼을 생성하고 각 학생의 총합, 평균 값을 삽입 후 새로운 csv 파일로 저장하세요  \n",
    "\n",
    "UnicodeDecodeError: 'cp949' codec can't decode byte 0xec in position 6: illegal multibyte sequence 에러 발생:  encoding='utf-8-sig' 추가\n",
    "힌트: strip은 개행문자도 지웁니다, csv는 쉼표로 구문한 텍스트 데이터입니다\n"
   ]
  },
  {
   "cell_type": "markdown",
   "metadata": {},
   "source": [
    "로직 힌트: 파일 읽기, 해더 처리, 데이터 처리, 저장"
   ]
  },
  {
   "cell_type": "markdown",
   "metadata": {},
   "source": [
    "리스트 인덱싱, 슬라이싱"
   ]
  },
  {
   "cell_type": "code",
   "execution_count": 5,
   "metadata": {},
   "outputs": [],
   "source": [
    "# 파일을 열고 쓰면서, 앞에서 배운 내용 복습\n",
    "\n",
    "with open('학생 점수.csv', 'r', encoding='utf-8-sig') as f:\n",
    "  lines = f.readlines()\n",
    "\n",
    "# 해더\n",
    "header = lines[0].strip().split(',')\n",
    "header.extend(['총합', '평균'])\n",
    "# print(header)\n",
    "\n",
    "# 해더를 제외한 데이터\n",
    "data = lines[1:]\n",
    "new_data = [] # 새로운 데이터를 저장 할 리스트\n",
    "\n",
    "for line in data: # 요소를 반복\n",
    "  row = line.strip().split(',')\n",
    "  scores = row[1:] # 점수만 선택\n",
    "  \n",
    "  total = 0\n",
    "  for score in scores:\n",
    "    total += int(score) # int 로 변환하면서 총합 계산\n",
    "  \n",
    "  average = total / (len(scores)) # len(scores)는 과목의 개수\n",
    "  format_average = f'{average:.2f}' # 소숫점 둘째자리까지 반올림\n",
    "  \n",
    "  row.extend([str(total), format_average]) # row에 추가(문자로 변경해야함)\n",
    "\n",
    "  new_data.append(row) # 새로운 리스트에 추가\n",
    "\n",
    "# print(new_data)\n",
    "\n",
    "with open('new_학생 점수.csv', 'w', encoding='utf-8-sig') as f:\n",
    "  f.write(','.join(header) + '\\n') # csv는 쉼표로 구문한 데이터, 맨 마지막에 개행문자가 필요함\n",
    "  for row in new_data:\n",
    "    f.write(','.join(row) + '\\n')"
   ]
  },
  {
   "cell_type": "code",
   "execution_count": 6,
   "metadata": {},
   "outputs": [
    {
     "name": "stdout",
     "output_type": "stream",
     "text": [
      "Requirement already satisfied: pandas in c:\\users\\user\\appdata\\local\\programs\\python\\python39\\lib\\site-packages (2.2.1)\n",
      "Requirement already satisfied: numpy<2,>=1.22.4 in c:\\users\\user\\appdata\\local\\programs\\python\\python39\\lib\\site-packages (from pandas) (1.26.4)\n",
      "Requirement already satisfied: python-dateutil>=2.8.2 in c:\\users\\user\\appdata\\roaming\\python\\python39\\site-packages (from pandas) (2.9.0.post0)\n",
      "Requirement already satisfied: pytz>=2020.1 in c:\\users\\user\\appdata\\local\\programs\\python\\python39\\lib\\site-packages (from pandas) (2024.1)\n",
      "Requirement already satisfied: tzdata>=2022.7 in c:\\users\\user\\appdata\\local\\programs\\python\\python39\\lib\\site-packages (from pandas) (2024.1)\n",
      "Requirement already satisfied: six>=1.5 in c:\\users\\user\\appdata\\roaming\\python\\python39\\site-packages (from python-dateutil>=2.8.2->pandas) (1.16.0)\n",
      "Note: you may need to restart the kernel to use updated packages.\n"
     ]
    }
   ],
   "source": [
    "pip install pandas"
   ]
  },
  {
   "cell_type": "code",
   "execution_count": 2,
   "metadata": {},
   "outputs": [],
   "source": [
    "import pandas as pd\n",
    "\n",
    "df = pd.read_csv('학생 점수.csv')\n",
    "\n",
    "subj = list(df.columns) # 컬럼명을 리스트에 담음\n",
    "del subj[0] # 학생 이름 컬럼을 삭제\n",
    "\n",
    "df['총합'] = df[subj].sum(axis=1) # 과목 데이터의 총합을 구함\n",
    "df['평균'] = round(df['총합']/len(subj), 2) # 평균을 구함 # class 이후에 내장함수에서 round 배워볼것\n",
    "\n",
    "df.to_csv('판다스_학생 점수.csv', index=False, encoding='utf-8-sig')"
   ]
  },
  {
   "cell_type": "markdown",
   "metadata": {},
   "source": [
    "# 12. 함수"
   ]
  },
  {
   "cell_type": "markdown",
   "metadata": {},
   "source": [
    "```python\n",
    "def 함수이름(매개변수): # 매개변수, 인수, 입력값 같은 뜻\n",
    "  코드1\n",
    "  코드2\n",
    "  코드3\n",
    "  코드4\n",
    "  .\n",
    "  .\n",
    "  .\n",
    "```\n",
    "  "
   ]
  },
  {
   "cell_type": "markdown",
   "metadata": {},
   "source": [
    "함수는 특정 작업을 수행하는 코드의 묶음입니다.  \n",
    "사용자가 필요할 때마다 호출하여 사용할 수 있으며 입력값을 받아 처리한 후 결과값을 반환할 수 있습니다.  \n",
    "\n",
    "함수 사용이유: 코드의 재사용성을 높이고 복잡한 프로그램을 작은 단위로 나누어 관리할 수 있게 해줌, 가독성을 향상시키고 유지보수를 용이하게 함\n",
    "\n",
    "음식 레시피(함수) = 재료(입력 값) -> 레시피 과정(함수) -> 요리(결과 값)"
   ]
  },
  {
   "cell_type": "code",
   "execution_count": null,
   "metadata": {},
   "outputs": [],
   "source": [
    "name = 'Python'\n",
    "\n",
    "print(f'Hello {name}!')"
   ]
  },
  {
   "cell_type": "code",
   "execution_count": null,
   "metadata": {},
   "outputs": [],
   "source": [
    "def say_Hello(name):\n",
    "  print(f'Hello {name}!')\n",
    "\n",
    "say_Hello('World')"
   ]
  },
  {
   "cell_type": "code",
   "execution_count": 10,
   "metadata": {},
   "outputs": [
    {
     "name": "stdout",
     "output_type": "stream",
     "text": [
      "Hello World!\n"
     ]
    }
   ],
   "source": [
    "def say_Hello(name='World'):\n",
    "  print(f'Hello {name}!')\n",
    "\n",
    "say_Hello()"
   ]
  },
  {
   "cell_type": "code",
   "execution_count": null,
   "metadata": {},
   "outputs": [],
   "source": [
    "def add_num(a, b):\n",
    "  return a + b\n",
    "\n",
    "a = add_num(5, 2)\n",
    "print(a)"
   ]
  },
  {
   "cell_type": "markdown",
   "metadata": {},
   "source": [
    "입력값 -> (함수) -> 결과값"
   ]
  },
  {
   "cell_type": "markdown",
   "metadata": {},
   "source": [
    "### 1. 기본적인 형태"
   ]
  },
  {
   "cell_type": "markdown",
   "metadata": {},
   "source": [
    "```python\n",
    "def 함수이름(매개변수):\n",
    "  코드1\n",
    "  코드2\n",
    "  .\n",
    "  .\n",
    "  .\n",
    "  return 결과값 # 결과값, 리턴값, 반환값 ...\n"
   ]
  },
  {
   "cell_type": "code",
   "execution_count": null,
   "metadata": {},
   "outputs": [],
   "source": [
    "def add_num(a, b): # a, b를 입력하여 a+b를 한 결과를 반환한다\n",
    "  return a + b\n",
    "\n",
    "add_num(5, 2)"
   ]
  },
  {
   "cell_type": "markdown",
   "metadata": {},
   "source": [
    "### 2. 입력값이 없는 함수"
   ]
  },
  {
   "cell_type": "markdown",
   "metadata": {},
   "source": [
    "```python\n",
    "def 함수이름():\n",
    "  코드1\n",
    "  코드2\n",
    "  .\n",
    "  .\n",
    "  .\n",
    "  return 결과값 "
   ]
  },
  {
   "cell_type": "code",
   "execution_count": null,
   "metadata": {},
   "outputs": [],
   "source": [
    "def get_pi():\n",
    "    return 3.14159\n",
    "\n",
    "pi = get_pi()\n",
    "print(pi)"
   ]
  },
  {
   "cell_type": "markdown",
   "metadata": {},
   "source": [
    "### 3. 결과 값이 없는 함수"
   ]
  },
  {
   "cell_type": "markdown",
   "metadata": {},
   "source": [
    "```python\n",
    "def 함수이름(매개변수):\n",
    "  코드1\n",
    "  코드2\n",
    "  .\n",
    "  .\n",
    "  ."
   ]
  },
  {
   "cell_type": "code",
   "execution_count": null,
   "metadata": {},
   "outputs": [],
   "source": [
    "def print_add(a, b):\n",
    "  print(f'{a} + {b} = {a+b}')\n",
    "\n",
    "print_add(5, 10)"
   ]
  },
  {
   "cell_type": "markdown",
   "metadata": {},
   "source": [
    "### 4. 둘다 없는 함수"
   ]
  },
  {
   "cell_type": "markdown",
   "metadata": {},
   "source": [
    "```python\n",
    "def 함수이름():\n",
    "  코드1\n",
    "  코드2\n",
    "  .\n",
    "  .\n",
    "  ."
   ]
  },
  {
   "cell_type": "code",
   "execution_count": null,
   "metadata": {},
   "outputs": [],
   "source": [
    "def print_Hello():\n",
    "  print(f'Hello!')\n",
    "\n",
    "print_Hello()"
   ]
  },
  {
   "cell_type": "markdown",
   "metadata": {},
   "source": [
    "예시\n",
    "\n",
    "| 함수      | 설명                                                         |\n",
    "|---------|------------------------------------------------------------|\n",
    "| append  | 리스트 끝에 항목을 추가합니다.  list_a.append(6)                                         |\n",
    "| sort    | 리스트의 요소를 오름차순 또는 내림차순으로 정렬합니다. 설정을 통해 정렬 순서를 변경할 수 있습니다. list_a.sort(), list_a.sort(reverse=True)    |\n",
    "| reverse | 리스트의 요소 순서를 뒤집습니다.  list_a.reverse()                                     |\n",
    "| index   | 지정한 요소가 처음으로 나타나는 위치의 인덱스를 반환합니다. 요소가 리스트에 없으면 오류가 발생합니다.  list_a.index(3)|\n",
    "| insert  | 지정한 위치에 요소를 삽입합니다. 위치 인덱스는 리스트의 시작부터 0으로 계산됩니다.  list_a.insert(4, 5) # 4번째 위치에 5를 삽입             |\n",
    "| remove  | 리스트에서 첫 번째로 나오는 지정한 값을 삭제합니다. 요소가 리스트에 없으면 오류가 발생합니다.  list_a.remove(1) # 리스트에서 첫번째로 나오는 1을 제거      |\n",
    "| pop     | 지정한 위치에 있는 요소를 리스트에서 제거하고, 그 값을 반환합니다. 위치를 지정하지 않으면, 마지막 요소를 제거하고 반환합니다.  list_a.pop()  |\n",
    "| count   | 리스트에서 지정한 값이 나타나는 횟수를 반환합니다.  list_a.count(1)                             |\n",
    "| extend  | 리스트 끝에 다른 리스트(또는 반복 가능한 다른 요소)의 모든 항목을 추가합니다.   list_a.extend([4, 5])            |\n",
    "| min     | 리스트 내의 최소값을 반환합니다. 숫자 또는 알파벳 순서로 최소값을 찾을 수 있습니다.   min(list_a)           |\n",
    "| max     | 리스트 내의 최대값을 반환합니다. 숫자 또는 알파벳 순서로 최대값을 찾을 수 있습니다.   max(list_a)           |"
   ]
  },
  {
   "cell_type": "markdown",
   "metadata": {},
   "source": [
    "```python\n",
    "list_a = [5,4,3,2,1]\n",
    "list_b = list_a.sort()\n",
    "print(list_b)"
   ]
  },
  {
   "cell_type": "code",
   "execution_count": null,
   "metadata": {},
   "outputs": [],
   "source": [
    "list_a = [5,4,3,2,1]\n",
    "list_b = list_a.sort()\n",
    "print(list_b) # sort에는 반환값이 없다"
   ]
  },
  {
   "cell_type": "code",
   "execution_count": null,
   "metadata": {},
   "outputs": [],
   "source": [
    "max_list_a = max(list_a)\n",
    "print(max_list_a) # max에는 반환값이 있다"
   ]
  },
  {
   "cell_type": "code",
   "execution_count": null,
   "metadata": {},
   "outputs": [],
   "source": [
    "from datetime import datetime\n",
    "\n",
    "now = datetime.now() # now는 호출시점의 datetime의 객체를 반환함\n",
    "\n",
    "print(now)"
   ]
  },
  {
   "cell_type": "code",
   "execution_count": null,
   "metadata": {},
   "outputs": [],
   "source": [
    "list_b = list_a.clear() # 입력값도 결과값도 없는 함수\n",
    "print(list_b)"
   ]
  },
  {
   "cell_type": "markdown",
   "metadata": {},
   "source": [
    "### 5. 입력값을 여러개 받는 함수"
   ]
  },
  {
   "cell_type": "markdown",
   "metadata": {},
   "source": [
    "```python\n",
    "def 함수이름(*매개변수):\n",
    "  코드1\n",
    "  코드2\n",
    "  .\n",
    "  .\n",
    "  .\n",
    "  return 결과값"
   ]
  },
  {
   "cell_type": "code",
   "execution_count": null,
   "metadata": {},
   "outputs": [],
   "source": [
    "# *를 쓰면 모든 인자를 튜플로 묶어서 전달\n",
    "def sum_num(*args): # args는 인수(arguments)의 약자 관례적으로 자주 사용됨\n",
    "  print(args)\n",
    "  return sum(args)\n",
    "\n",
    "a = sum_num(10, 20, 30) # *arg는 함수로 전달된 모든 인자를 튜플로 묶어서 넣어줌\n",
    "print(a)"
   ]
  },
  {
   "cell_type": "markdown",
   "metadata": {},
   "source": [
    "for문 복습, sum을 사용하지 않고 매개변수를 받아 모두 더한 후 반환해주는 함수를 작성하세요  "
   ]
  },
  {
   "cell_type": "code",
   "execution_count": null,
   "metadata": {},
   "outputs": [],
   "source": [
    "def add(*args):\n",
    "  print(args)\n",
    "  total = 0\n",
    "  for i in args:\n",
    "    total += i\n",
    "  return total\n",
    "\n",
    "print(add(1,2,3,4,5,6,7,8,9,10))"
   ]
  },
  {
   "cell_type": "markdown",
   "metadata": {},
   "source": [
    "```python\n",
    "def 함수이름(**매개변수):\n",
    "  코드1\n",
    "  코드2\n",
    "  .\n",
    "  .\n",
    "  .\n",
    "  return 결과값"
   ]
  },
  {
   "cell_type": "code",
   "execution_count": null,
   "metadata": {},
   "outputs": [],
   "source": [
    "# **를 쓰면 인자를 key:value 형태로 묶어서 전달\n",
    "def info(**kwargs): # kwargs는 키워드 인수(keyword arguments)의 약자\n",
    "  return kwargs\n",
    "\n",
    "info(name='김영욱', address='경기도') # key:value 형태로 변환되어 저장됨, 인수의 이름은 자동으로 문자열로 변환되어 저장됨"
   ]
  },
  {
   "cell_type": "code",
   "execution_count": null,
   "metadata": {},
   "outputs": [],
   "source": [
    "# kwargs를 사용할 때도 return값을 가질 수 있음\n",
    "\n",
    "def sum_score(**kwargs):\n",
    "  total = 0\n",
    "  for k, v in kwargs.items():\n",
    "    total += v\n",
    "  return total\n",
    "\n",
    "result = sum_score(a=90, b=80, c=70)\n",
    "print(result)"
   ]
  },
  {
   "cell_type": "markdown",
   "metadata": {},
   "source": [
    "함수 내에서 return을 사용하여 break랑 비슷한 효과를 낼수 있음  \n",
    "break는 가까운 반복문을 종료하지만 retuen은 함수를 종료하는 차이점이 있음"
   ]
  },
  {
   "cell_type": "code",
   "execution_count": null,
   "metadata": {},
   "outputs": [],
   "source": [
    "t1 = (1, 3, 5, 7, 9, 10)\n",
    "\n",
    "for i in t1:\n",
    "  if i % 2 == 0:\n",
    "    print(i)\n",
    "    break"
   ]
  },
  {
   "cell_type": "code",
   "execution_count": null,
   "metadata": {},
   "outputs": [],
   "source": [
    "def find_first(*agrs): # 첫번째 짝수를 찾음\n",
    "  for i in agrs:\n",
    "    if i % 2 == 0:\n",
    "      return i\n",
    "  return None # 짝수가 없을 때 return 을 안 넣어도 반환값이 없으니까 똑같이 None이 나옴, 하지만 짝수가 없을 때 None을 반환한다를 확실히 표현하고 코드의 가독성을 높일 수 있음\n",
    "\n",
    "print(find_first(1, 3, 5, 7, 9, 10))\n",
    "print(find_first(1, 3, 5, 7, 9))"
   ]
  },
  {
   "cell_type": "markdown",
   "metadata": {},
   "source": [
    "### 6. 함수의 결과값은 하나"
   ]
  },
  {
   "cell_type": "code",
   "execution_count": null,
   "metadata": {},
   "outputs": [],
   "source": [
    "def cal(a, b):\n",
    "  return a+b, a-b, a*b, a/b\n",
    "\n",
    "a = cal(1, 2) \n",
    "print(a) # 결과값이 튜플로 묶여서 반환됨"
   ]
  },
  {
   "cell_type": "markdown",
   "metadata": {},
   "source": [
    "### 7. 지역변수(Local Variables), 전역변수(Global Variables)"
   ]
  },
  {
   "cell_type": "markdown",
   "metadata": {},
   "source": [
    "지역 변수(Local Variables):  \n",
    "  지역 변수는 함수 내부에서 정의되고 사용되는 변수입니다.  \n",
    "  지역 변수의 범위(Scope)는 변수가 선언된 함수 내부로 제한됩니다.  \n",
    "  함수가 종료되면 지역 변수는 소멸됩니다.  "
   ]
  },
  {
   "cell_type": "markdown",
   "metadata": {},
   "source": [
    "전역 변수(Global Variables):  \n",
    "전역 변수는 함수 외부에서 정의되고, 프로그램 전체에서 접근할 수 있는 변수입니다.  \n",
    "전역 변수는 프로그램 어디서나 값을 읽고 수정할 수 있습니다.  "
   ]
  },
  {
   "cell_type": "code",
   "execution_count": null,
   "metadata": {},
   "outputs": [],
   "source": [
    "global_var = \"전역 변수\"  # 전역 변수 정의\n",
    "\n",
    "def example_function():\n",
    "    local_var = \"지역 변수\"  # 지역 변수 정의\n",
    "    print(local_var)  # 지역 변수 출력\n",
    "    print(global_var)  # 전역 변수 출력 (함수 내에서도 접근 가능)\n",
    "    \n",
    "example_function()\n",
    "\n",
    "print(global_var)  # 전역 변수는 함수 외부에서도 접근 가능\n",
    "# print(local_var)  # 오류 발생. 지역 변수는 함수 외부에서 접근 불가"
   ]
  },
  {
   "cell_type": "code",
   "execution_count": null,
   "metadata": {},
   "outputs": [],
   "source": [
    "count = 5  # 전역 변수\n",
    "\n",
    "def increment():\n",
    "    global count  # 전역 변수 'count'를 사용하겠다고 명시\n",
    "    count += 1  # 전역 변수의 값을 변경\n",
    "    print(f\"함수 내부: {count}\")  # 변경된 전역 변수 값 출력\n",
    "\n",
    "increment()\n",
    "print(f\"함수 외부: {count}\")  # 함수에서 변경된 전역 변수 값 출력\n"
   ]
  },
  {
   "cell_type": "markdown",
   "metadata": {},
   "source": [
    "global 키워드는 제한적으로만 사용해야하며 전역변수에 의존하는건 피하는게 좋음"
   ]
  },
  {
   "cell_type": "markdown",
   "metadata": {},
   "source": [
    "lambda(람다) 예약어 # 익명함수, 간단한 함수\n",
    "\n",
    "lambda 기본구조\n",
    "```python\n",
    "lambda 인자 : 표현식\n",
    "```"
   ]
  },
  {
   "cell_type": "code",
   "execution_count": null,
   "metadata": {},
   "outputs": [],
   "source": [
    "add = lambda a, b: a+b\n",
    "print(add(4, 5)) # 판다스 시간에 기회가 되면 다뤄볼 예정"
   ]
  },
  {
   "cell_type": "code",
   "execution_count": null,
   "metadata": {},
   "outputs": [],
   "source": [
    "squ = lambda a: a*a\n",
    "\n",
    "print(squ(5))"
   ]
  },
  {
   "cell_type": "code",
   "execution_count": null,
   "metadata": {},
   "outputs": [],
   "source": [
    "num = list(range(1, 11))\n",
    "\n",
    "num2 = [i*3 for i in num] # 리스트컴프리헨션\n",
    "\n",
    "print(num2)\n",
    "\n",
    "num3 = list(map(lambda x: x*3, num)) # map, 람다 함수 (map은 나중에 내장함수 시간에 배워볼 예정, 간단하게 설명하면 컬렉션 요소에 함수를 적용하고 map 객체로 반환) # map함수 구조 map(함수, 컬렉션)\n",
    "\n",
    "print(num3)"
   ]
  },
  {
   "cell_type": "markdown",
   "metadata": {},
   "source": [
    "### 중간실습\n",
    "1. 이름을 입력받아 Hello '이름'을 출력하는 함수를 작성하세요\n",
    "2. 문자열을 매개변수로 받아 홀수 번째 문자만을 모아 새로운 문자열을 반환하는 함수를 작성하세요\n",
    "3. 이메일주소를 문자열로 받아 도메인 부분(gmail.com, naver.com)만을 추출하여 반환하는 함수를 작성하세요\n",
    "4. 문자열을 매개변수로 받아 앞뒤 공백을 제거한 새로운 문자열을 반환하는 함수를 작성하세요\n",
    "5. 정수로 이루어진 숫자들을 매개변수로 받아 해당 숫자를 한글의 기본 자음으로 반환 하는 함수를 작성하세요(0=ㄱ, 1=ㄴ, 2=ㄷ.....)\n",
    "6. 정수로 이루어진 리스트를 매개변수로 받아 오름차순, 내림차순으로 정렬된 새로운 리스트를 반환하는 함수를 작성하세요(sort는 반환값이 없음, 어떤 함수를 사용해야 하는지 찾아보세요)\n",
    "7. 리스트를 매개변수로 받아 중복된 요소를 제거한 새로운 리스트를 반환하는 함수를 작성하세요\n",
    "8. 두개의 리스트를 매개면수로 받아 두 리스트 교집합을 찾고 새로운 리스트를 반환하는 함수를 작성하세요\n",
    "9. 리스트를 매개변수로 받아 리스트 내 최대값과 최소값을 반환하는 함수를 작성하세요(파이썬 내장함수 max, min 사용 금지)"
   ]
  }
 ],
 "metadata": {
  "kernelspec": {
   "display_name": "Python 3",
   "language": "python",
   "name": "python3"
  },
  "language_info": {
   "codemirror_mode": {
    "name": "ipython",
    "version": 3
   },
   "file_extension": ".py",
   "mimetype": "text/x-python",
   "name": "python",
   "nbconvert_exporter": "python",
   "pygments_lexer": "ipython3",
   "version": "3.9.13"
  }
 },
 "nbformat": 4,
 "nbformat_minor": 2
}
