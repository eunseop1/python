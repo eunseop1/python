{
 "cells": [
  {
   "cell_type": "markdown",
   "metadata": {},
   "source": [
    "# 파이썬 2일차"
   ]
  },
  {
   "cell_type": "markdown",
   "metadata": {},
   "source": [
    "## 중간실습 - input, 포매팅 사용\n",
    "1. 포매팅을 사용하여 이름을 입력받아 화면에 'Hello, 이름'을 출력하세요\n",
    "2. 섭씨 온도(C)를 입력받아 화씨 온도(F)로 변환하여 출력하세요(변환공식: F = C * 9/5 + 32)\n",
    "3. 금액을 입력받아, 10%, 20%, 30% 팁을 계산하여 출력하세요\n",
    "4. 문자열을 입력받아 그 문자열의 길이를 구하세요\n",
    "5. 원의 반지름을 입력받아  원의 면적(πr²)과 둘레(2πr)를 출력하세요 (π는 3.14159로 가정)\n",
    "6. 정수 하나를 입력받아 그 수의 2배, 3배, 4배의 값을 한줄에 출력하세요\n",
    "7. 이름을 입력받아 이름의 문자들 사이에 공백을 두고 출력하세요\n",
    "8. 소숫점을 포함한 숫자를 입력받아 소숫점 이하를 제거하고 정수 부분만 출력하세요\n"
   ]
  },
  {
   "cell_type": "code",
   "execution_count": null,
   "metadata": {},
   "outputs": [
    {
     "name": "stdout",
     "output_type": "stream",
     "text": [
      "Hello, 김영욱!\n"
     ]
    }
   ],
   "source": [
    "# 1. 포매팅을 사용하여 이름을 입력받아 화면에 'Hello, 이름'을 출력하세요\n",
    "name = input(\"이름을 입력하세요: \")\n",
    "print(f\"Hello, {name}!\")"
   ]
  },
  {
   "cell_type": "code",
   "execution_count": null,
   "metadata": {},
   "outputs": [
    {
     "name": "stdout",
     "output_type": "stream",
     "text": [
      "화씨 온도는: 89.6도 입니다.\n"
     ]
    }
   ],
   "source": [
    "# 2. 섭씨 온도(C)를 입력받아 화씨 온도(F)로 변환하여 출력하세요(변환공식: F = C * 9/5 + 32)\n",
    "C = float(input(\"섭씨 온도를 입력하세요: \"))\n",
    "F = C * 9/5 + 32\n",
    "print(f\"화씨 온도는: {F}도 입니다.\")"
   ]
  },
  {
   "cell_type": "code",
   "execution_count": 4,
   "metadata": {},
   "outputs": [
    {
     "name": "stdout",
     "output_type": "stream",
     "text": [
      "10% 팁: 1000.0, 20% 팁: 2000.0, 30% 팁: 3000.0\n"
     ]
    }
   ],
   "source": [
    "# 3. 금액을 입력받아, 10%, 20%, 30% 팁을 계산하여 출력하세요\n",
    "amount = int(input(\"금액을 입력하세요: \"))\n",
    "print(f\"10% 팁: {amount * 0.1}, 20% 팁: {amount * 0.2}, 30% 팁: {amount * 0.3}\")"
   ]
  },
  {
   "cell_type": "code",
   "execution_count": 5,
   "metadata": {},
   "outputs": [
    {
     "name": "stdout",
     "output_type": "stream",
     "text": [
      "'경기도 용인시 기흥구'의 길이는: 11입니다.\n"
     ]
    }
   ],
   "source": [
    "# 4. 문자열을 입력받아 그 문자열의 길이를 구하세요\n",
    "string = input(\"문자열을 입력하세요: \")\n",
    "print(f\"'{string}'의 길이는: {len(string)}입니다.\")"
   ]
  },
  {
   "cell_type": "code",
   "execution_count": 2,
   "metadata": {},
   "outputs": [
    {
     "name": "stdout",
     "output_type": "stream",
     "text": [
      "반지름: 4.5, 면적: 63.617197499999996, 둘레: 28.2743\n"
     ]
    }
   ],
   "source": [
    "# 5. 원의 반지름을 입력받아  원의 면적(πr²)과 둘레(2πr)를 출력하세요 (π는 3.14159로 가정)\n",
    "r = float(input(\"원의 반지름을 입력하세요: \"))\n",
    "pi = 3.14159\n",
    "면적 = pi * r ** 2\n",
    "둘레 = 2 * pi * r\n",
    "print(f\"반지름: {r}, 면적: {면적}, 둘레: {둘레:.4f}\")"
   ]
  },
  {
   "cell_type": "code",
   "execution_count": null,
   "metadata": {},
   "outputs": [
    {
     "name": "stdout",
     "output_type": "stream",
     "text": [
      "2x: 8, 3x: 12, 4x: 16\n"
     ]
    }
   ],
   "source": [
    "# 6. 정수 하나를 입력받아 그 수의 2배, 3배, 4배의 값을 한줄에 출력하세요\n",
    "num = int(input(\"Enter an integer: \"))\n",
    "print(f\"2x: {num*2}, 3x: {num*3}, 4x: {num*4}\")"
   ]
  },
  {
   "cell_type": "code",
   "execution_count": null,
   "metadata": {},
   "outputs": [
    {
     "name": "stdout",
     "output_type": "stream",
     "text": [
      "김 영 욱\n"
     ]
    }
   ],
   "source": [
    "# 7. 이름을 입력받아 이름의 문자들 사이에 공백을 두고 출력하세요\n",
    "name = input(\"Enter your name: \")\n",
    "spaced_name = \" \".join(name)\n",
    "print(spaced_name)"
   ]
  },
  {
   "cell_type": "code",
   "execution_count": null,
   "metadata": {},
   "outputs": [
    {
     "name": "stdout",
     "output_type": "stream",
     "text": [
      "3.14의 정수 부분은 3입니다\n"
     ]
    }
   ],
   "source": [
    "# 8. 소숫점을 포함한 숫자를 입력받아 소숫점 이하를 제거하고 정수 부분만 출력하세요\n",
    "float_num = float(input(\"소수점이 포함된 숫자를 입력하세요: \"))\n",
    "int_part = int(float_num)\n",
    "print(f\"{float_num}의 정수 부분은 {int_part}입니다\")"
   ]
  },
  {
   "cell_type": "markdown",
   "metadata": {},
   "source": [
    "## 5. 리스트(list) 자료형"
   ]
  },
  {
   "cell_type": "markdown",
   "metadata": {},
   "source": [
    "리스트(list)는 파이썬에서 여러 값들을 순서대로 저장하는 데 사용되는 자료형입니다.  \n",
    "리스트는 대괄호 [] 안에 요소들을 쉼표로 구분하여 나열함으로써 생성됩니다.  \n",
    "리스트는 다양한 타입의 데이터를 하나의 리스트에 저장할 수 있으며, 같은 데이터 타입이 아니어도 됩니다.\n",
    "\n",
    "리스트의 주요 특징:\n",
    "\n",
    "변경 가능(Mutable): 리스트는 생성된 후에도 그 내용을 변경할 수 있습니다. 요소를 추가, 삭제, 또는 변경하는 것이 가능합니다.  \n",
    "순서가 있음(Ordered): 리스트에 추가된 요소는 순서를 가지며, 이 순서는 변경되지 않습니다. 따라서 인덱스를 통해 접근할 수 있습니다.  \n",
    "중복 허용: 리스트 내에서 같은 값을 가진 요소를 여러 개 가질 수 있습니다."
   ]
  },
  {
   "cell_type": "markdown",
   "metadata": {},
   "source": [
    "리스트명 = [요소1, 요소2, 요소3, 요소4, .....] # 리스트 요소에는 데이터 타입에 의한 제한은 없습니다."
   ]
  },
  {
   "cell_type": "markdown",
   "metadata": {},
   "source": [
    "list_a\n",
    "\n",
    "| Life | is | too | short, | You | need | Python |\n",
    "|------|----|-----|--------|-----|------|--------|\n",
    "| 0    | 1  | 2   | 3      | 4   | 5    | 6      |\n",
    "| -7   | -6 | -5  | -4     | -3  | -2   | -1     |\n"
   ]
  },
  {
   "cell_type": "code",
   "execution_count": 5,
   "metadata": {},
   "outputs": [],
   "source": [
    "a = 'Life is too short, You need Python'\n",
    "b = 'pithon'\n",
    "\n",
    "list_a = a.split()\n",
    "list_b = [['Life', 'is'], ['too', 'short']]\n",
    "list_c = [1, 2, 3, 4, 5]\n",
    "list_d = [6, 7, 8, 9, 10]\n",
    "list_e = list(b) # ['p', 'i', 't', 'h', 'o', 'n']"
   ]
  },
  {
   "cell_type": "code",
   "execution_count": 7,
   "metadata": {},
   "outputs": [
    {
     "name": "stdout",
     "output_type": "stream",
     "text": [
      "['p', 'y', 't', 'h', 'o', 'n']\n"
     ]
    }
   ],
   "source": [
    "list_b = list(b)\n",
    "list_b[1] = 'y'\n",
    "\n",
    "print(list_b)\n"
   ]
  },
  {
   "cell_type": "markdown",
   "metadata": {},
   "source": [
    "### 1. 리스트 인덱싱, 슬라이싱"
   ]
  },
  {
   "cell_type": "code",
   "execution_count": null,
   "metadata": {},
   "outputs": [
    {
     "data": {
      "text/plain": [
       "'Life'"
      ]
     },
     "execution_count": 174,
     "metadata": {},
     "output_type": "execute_result"
    }
   ],
   "source": [
    "list_a[0]"
   ]
  },
  {
   "cell_type": "code",
   "execution_count": null,
   "metadata": {},
   "outputs": [
    {
     "data": {
      "text/plain": [
       "['Life', 'is', 'too', 'short,']"
      ]
     },
     "execution_count": 175,
     "metadata": {},
     "output_type": "execute_result"
    }
   ],
   "source": [
    "list_a[:4]"
   ]
  },
  {
   "cell_type": "code",
   "execution_count": null,
   "metadata": {},
   "outputs": [
    {
     "data": {
      "text/plain": [
       "['You', 'need', 'Python']"
      ]
     },
     "execution_count": 176,
     "metadata": {},
     "output_type": "execute_result"
    }
   ],
   "source": [
    "list_a[4:]"
   ]
  },
  {
   "cell_type": "code",
   "execution_count": null,
   "metadata": {},
   "outputs": [
    {
     "data": {
      "text/plain": [
       "3"
      ]
     },
     "execution_count": 177,
     "metadata": {},
     "output_type": "execute_result"
    }
   ],
   "source": [
    "list_c[0] + list_c[1] # 1 + 2"
   ]
  },
  {
   "cell_type": "code",
   "execution_count": null,
   "metadata": {},
   "outputs": [
    {
     "data": {
      "text/plain": [
       "['Life', 'is']"
      ]
     },
     "execution_count": 178,
     "metadata": {},
     "output_type": "execute_result"
    }
   ],
   "source": [
    "list_b[0]"
   ]
  },
  {
   "cell_type": "code",
   "execution_count": null,
   "metadata": {},
   "outputs": [
    {
     "data": {
      "text/plain": [
       "'Life'"
      ]
     },
     "execution_count": 179,
     "metadata": {},
     "output_type": "execute_result"
    }
   ],
   "source": [
    "list_b[0][0]"
   ]
  },
  {
   "cell_type": "markdown",
   "metadata": {},
   "source": [
    "### 2. 리스트 연산"
   ]
  },
  {
   "cell_type": "code",
   "execution_count": null,
   "metadata": {},
   "outputs": [
    {
     "data": {
      "text/plain": [
       "[1, 2, 3, 4, 5, 6, 7, 8, 9, 10]"
      ]
     },
     "execution_count": 180,
     "metadata": {},
     "output_type": "execute_result"
    }
   ],
   "source": [
    "list_c + list_d"
   ]
  },
  {
   "cell_type": "code",
   "execution_count": null,
   "metadata": {},
   "outputs": [
    {
     "data": {
      "text/plain": [
       "[1, 2, 3, 4, 5, 1, 2, 3, 4, 5, 1, 2, 3, 4, 5]"
      ]
     },
     "execution_count": 181,
     "metadata": {},
     "output_type": "execute_result"
    }
   ],
   "source": [
    "list_c * 3 # 리스트는 중복값을 가질 수 있음"
   ]
  },
  {
   "cell_type": "code",
   "execution_count": 301,
   "metadata": {},
   "outputs": [
    {
     "data": {
      "text/plain": [
       "45"
      ]
     },
     "execution_count": 301,
     "metadata": {},
     "output_type": "execute_result"
    }
   ],
   "source": [
    "sum(list_c*3) # 리스트 합계"
   ]
  },
  {
   "cell_type": "markdown",
   "metadata": {},
   "source": [
    "### 3. 리스트 길이 구하기"
   ]
  },
  {
   "cell_type": "code",
   "execution_count": null,
   "metadata": {},
   "outputs": [
    {
     "name": "stdout",
     "output_type": "stream",
     "text": [
      "5\n"
     ]
    }
   ],
   "source": [
    "print(len(list_c))"
   ]
  },
  {
   "cell_type": "markdown",
   "metadata": {},
   "source": [
    "### 4. 리스트 값 수정, 삭제"
   ]
  },
  {
   "cell_type": "code",
   "execution_count": null,
   "metadata": {},
   "outputs": [
    {
     "name": "stdout",
     "output_type": "stream",
     "text": [
      "[10, 2, 3, 4, 5]\n"
     ]
    }
   ],
   "source": [
    "list_c = [1, 2, 3, 4, 5]\n",
    "\n",
    "list_c[0] = 10\n",
    "\n",
    "print(list_c)"
   ]
  },
  {
   "cell_type": "code",
   "execution_count": 8,
   "metadata": {},
   "outputs": [
    {
     "name": "stdout",
     "output_type": "stream",
     "text": [
      "['p', 'y', 't', 'h', 'o', 'n']\n"
     ]
    }
   ],
   "source": [
    "a = 'pithon'\n",
    "a = list(a)\n",
    "\n",
    "a[1] = 'y'\n",
    "\n",
    "print(a)"
   ]
  },
  {
   "cell_type": "code",
   "execution_count": null,
   "metadata": {},
   "outputs": [
    {
     "name": "stdout",
     "output_type": "stream",
     "text": [
      "[2, 3, 4, 5]\n"
     ]
    }
   ],
   "source": [
    "del list_c[0]\n",
    "\n",
    "print(list_c)"
   ]
  },
  {
   "cell_type": "markdown",
   "metadata": {},
   "source": [
    "### 5, 리스트 함수"
   ]
  },
  {
   "cell_type": "markdown",
   "metadata": {},
   "source": [
    "#### 1. append"
   ]
  },
  {
   "cell_type": "code",
   "execution_count": null,
   "metadata": {},
   "outputs": [
    {
     "name": "stdout",
     "output_type": "stream",
     "text": [
      "[1, 2, 3, 4, 5, 6]\n"
     ]
    }
   ],
   "source": [
    "list_c = [1, 2, 3, 4, 5]\n",
    "\n",
    "list_c.append(6)\n",
    "\n",
    "print(list_c) # 맨 뒤에 추가"
   ]
  },
  {
   "cell_type": "markdown",
   "metadata": {},
   "source": [
    "#### 2. sort"
   ]
  },
  {
   "cell_type": "code",
   "execution_count": null,
   "metadata": {},
   "outputs": [
    {
     "name": "stdout",
     "output_type": "stream",
     "text": [
      "[1, 2, 3, 4, 5]\n"
     ]
    }
   ],
   "source": [
    "list_c = [1, 5, 3, 2, 4]\n",
    "\n",
    "list_c.sort()\n",
    "\n",
    "print(list_c) # 정렬"
   ]
  },
  {
   "cell_type": "code",
   "execution_count": null,
   "metadata": {},
   "outputs": [
    {
     "name": "stdout",
     "output_type": "stream",
     "text": [
      "['a', 'b', 'c', 'd']\n"
     ]
    }
   ],
   "source": [
    "list_d = [\"a\", \"c\", \"d\", \"b\"]\n",
    "\n",
    "list_d.sort()\n",
    "\n",
    "print(list_d)"
   ]
  },
  {
   "cell_type": "markdown",
   "metadata": {},
   "source": [
    "#### 3. reverse"
   ]
  },
  {
   "cell_type": "code",
   "execution_count": null,
   "metadata": {},
   "outputs": [
    {
     "name": "stdout",
     "output_type": "stream",
     "text": [
      "[4, 2, 3, 5, 1]\n"
     ]
    }
   ],
   "source": [
    "list_c = [1, 5, 3, 2, 4]\n",
    "\n",
    "list_c.reverse()\n",
    "\n",
    "print(list_c) # 정렬 후 역순으로 정렬하는 것이 아님"
   ]
  },
  {
   "cell_type": "markdown",
   "metadata": {},
   "source": [
    "#### 4. index"
   ]
  },
  {
   "cell_type": "code",
   "execution_count": null,
   "metadata": {},
   "outputs": [
    {
     "name": "stdout",
     "output_type": "stream",
     "text": [
      "2\n"
     ]
    }
   ],
   "source": [
    "list_c = [1, 5, 3, 2, 4]\n",
    "\n",
    "print(list_c.index(3)) # 위치값 반환, 문자열 index 처럼 요소값이 없으면 오류"
   ]
  },
  {
   "cell_type": "markdown",
   "metadata": {},
   "source": [
    "#### 5. insert"
   ]
  },
  {
   "cell_type": "code",
   "execution_count": null,
   "metadata": {},
   "outputs": [
    {
     "name": "stdout",
     "output_type": "stream",
     "text": [
      "[1, 2, 3, 4, 5, 6]\n"
     ]
    }
   ],
   "source": [
    "list_c = [1, 2, 3, 4, 6]\n",
    "\n",
    "list_c.insert(4, 5) # 4번째 위치에 5를 삽입\n",
    "\n",
    "print(list_c)"
   ]
  },
  {
   "cell_type": "markdown",
   "metadata": {},
   "source": [
    "#### 6. remove"
   ]
  },
  {
   "cell_type": "code",
   "execution_count": null,
   "metadata": {},
   "outputs": [
    {
     "name": "stdout",
     "output_type": "stream",
     "text": [
      "[2, 1, 2]\n"
     ]
    }
   ],
   "source": [
    "list_c = [1, 2, 1, 2]\n",
    "\n",
    "list_c.remove(1) # 리스트에서 첫번째로 나오는 1을 제거\n",
    "\n",
    "print(list_c)"
   ]
  },
  {
   "cell_type": "markdown",
   "metadata": {},
   "source": [
    "#### 7. pop"
   ]
  },
  {
   "cell_type": "code",
   "execution_count": null,
   "metadata": {},
   "outputs": [
    {
     "name": "stdout",
     "output_type": "stream",
     "text": [
      "5\n",
      "2\n",
      "[1, 3, 4]\n"
     ]
    }
   ],
   "source": [
    "list_c = [1, 2, 3, 4, 5]\n",
    "\n",
    "print(list_c.pop()) # 리스트의 맨 마지막 요소를 리턴하고 삭제\n",
    "\n",
    "print(list_c.pop(1)) # 리스트의 2번째 요소를 리턴하고 삭제\n",
    "\n",
    "print(list_c)"
   ]
  },
  {
   "cell_type": "markdown",
   "metadata": {},
   "source": [
    "#### 8. count"
   ]
  },
  {
   "cell_type": "code",
   "execution_count": null,
   "metadata": {},
   "outputs": [
    {
     "name": "stdout",
     "output_type": "stream",
     "text": [
      "2\n"
     ]
    }
   ],
   "source": [
    "list_c = [1, 2, 1, 2]\n",
    "\n",
    "print(list_c.count(1))"
   ]
  },
  {
   "cell_type": "markdown",
   "metadata": {},
   "source": [
    "#### 9. extend"
   ]
  },
  {
   "cell_type": "code",
   "execution_count": null,
   "metadata": {},
   "outputs": [
    {
     "name": "stdout",
     "output_type": "stream",
     "text": [
      "[1, 2, 3, 4, 5]\n"
     ]
    }
   ],
   "source": [
    "list_c = [1, 2, 3]\n",
    "\n",
    "list_c.extend([4, 5]) # 반복 가능한 개체(리스트, 튜플, 문자열, 집합, 딕셔너리)\n",
    "\n",
    "print(list_c)"
   ]
  },
  {
   "cell_type": "markdown",
   "metadata": {},
   "source": [
    "#### 10. min"
   ]
  },
  {
   "cell_type": "code",
   "execution_count": 302,
   "metadata": {},
   "outputs": [
    {
     "data": {
      "text/plain": [
       "1"
      ]
     },
     "execution_count": 302,
     "metadata": {},
     "output_type": "execute_result"
    }
   ],
   "source": [
    "list_c = [1, 2, 3, 4, 5]\n",
    "\n",
    "min(list_c)"
   ]
  },
  {
   "cell_type": "markdown",
   "metadata": {},
   "source": [
    "#### 11. max"
   ]
  },
  {
   "cell_type": "code",
   "execution_count": 303,
   "metadata": {},
   "outputs": [
    {
     "data": {
      "text/plain": [
       "5"
      ]
     },
     "execution_count": 303,
     "metadata": {},
     "output_type": "execute_result"
    }
   ],
   "source": [
    "max(list_c)"
   ]
  },
  {
   "cell_type": "markdown",
   "metadata": {},
   "source": [
    "#### 12. 정리"
   ]
  },
  {
   "cell_type": "markdown",
   "metadata": {},
   "source": [
    "| 함수      | 설명                                                         |\n",
    "|---------|------------------------------------------------------------|\n",
    "| append  | 리스트 끝에 항목을 추가합니다.  list_a.append(6)                                         |\n",
    "| sort    | 리스트의 요소를 오름차순 또는 내림차순으로 정렬합니다. 설정을 통해 정렬 순서를 변경할 수 있습니다. list_a.sort(), list_a.sort(reverse=True)    |\n",
    "| reverse | 리스트의 요소 순서를 뒤집습니다.  list_a.reverse()                                     |\n",
    "| index   | 지정한 요소가 처음으로 나타나는 위치의 인덱스를 반환합니다. 요소가 리스트에 없으면 오류가 발생합니다.  list_a.index(3)|\n",
    "| insert  | 지정한 위치에 요소를 삽입합니다. 위치 인덱스는 리스트의 시작부터 0으로 계산됩니다.  list_a.insert(4, 5) # 4번째 위치에 5를 삽입             |\n",
    "| remove  | 리스트에서 첫 번째로 나오는 지정한 값을 삭제합니다. 요소가 리스트에 없으면 오류가 발생합니다.  list_a.remove(1) # 리스트에서 첫번째로 나오는 1을 제거      |\n",
    "| pop     | 지정한 위치에 있는 요소를 리스트에서 제거하고, 그 값을 반환합니다. 위치를 지정하지 않으면, 마지막 요소를 제거하고 반환합니다.  list_a.pop()  |\n",
    "| count   | 리스트에서 지정한 값이 나타나는 횟수를 반환합니다.  list_a.count(1)                             |\n",
    "| extend  | 리스트 끝에 다른 리스트(또는 반복 가능한 다른 요소)의 모든 항목을 추가합니다.   list_a.extend([4, 5])            |\n",
    "| min     | 리스트 내의 최소값을 반환합니다. 숫자 또는 알파벳 순서로 최소값을 찾을 수 있습니다.   min(list_a)           |\n",
    "| max     | 리스트 내의 최대값을 반환합니다. 숫자 또는 알파벳 순서로 최대값을 찾을 수 있습니다.   max(list_a)           |\n"
   ]
  },
  {
   "cell_type": "markdown",
   "metadata": {},
   "source": [
    "#### 13. 리스트 실습"
   ]
  },
  {
   "cell_type": "markdown",
   "metadata": {},
   "source": [
    "문제 1\n",
    "1. 1부터 10까지의 숫자를 포함하는 리스트를 생성하세요\n",
    "2. 생성한 리스트에서 세 번째 요소를 출력하세요\n",
    "3. 리스트의 마지막 요소를 출력하세요"
   ]
  },
  {
   "cell_type": "code",
   "execution_count": 30,
   "metadata": {},
   "outputs": [
    {
     "name": "stdout",
     "output_type": "stream",
     "text": [
      "3\n",
      "10\n",
      "10\n"
     ]
    }
   ],
   "source": [
    "# 문제 1\n",
    "# 1. 1부터 10까지의 숫자를 포함하는 리스트를 생성하세요.\n",
    "numbers = [1, 2, 3, 4, 5, 6, 7, 8, 9, 10]\n",
    "\n",
    "# 2. 생성한 리스트에서 세 번째 요소를 출력하세요.\n",
    "print(numbers[2])\n",
    "\n",
    "# 3. 리스트의 마지막 요소를 출력하세요.\n",
    "print(numbers[-1])\n",
    "print(numbers[9])\n"
   ]
  },
  {
   "cell_type": "code",
   "execution_count": 36,
   "metadata": {},
   "outputs": [
    {
     "name": "stdout",
     "output_type": "stream",
     "text": [
      "3\n",
      "10\n"
     ]
    }
   ],
   "source": [
    "num = list(range(1, 11))\n",
    "\n",
    "print(num[2])\n",
    "print(num[-1])"
   ]
  },
  {
   "cell_type": "markdown",
   "metadata": {},
   "source": [
    "문제 2\n",
    "1. 다음 문자열을 요소로 하는 리스트를 생성하세요 \"apple\", \"banana\", \"cherry\"\n",
    "2. \"banana\" 대신 \"blueberry\"를 넣어서 리스트를 수정하세요\n",
    "3. 리스트 끝에 \"orange\"를 추가하세요\n",
    "4. 리스트의 두 번째 위치에 \"kiwi\"를 십압하세요"
   ]
  },
  {
   "cell_type": "code",
   "execution_count": 31,
   "metadata": {},
   "outputs": [
    {
     "name": "stdout",
     "output_type": "stream",
     "text": [
      "['apple', 'kiwi', 'blueberry', 'cherry', 'orange']\n"
     ]
    }
   ],
   "source": [
    "# 문제 2\n",
    "# 1. 다음 문자열을 요소로 하는 리스트를 생성하세요: \"apple\", \"banana\", \"cherry\"\n",
    "fruits = [\"apple\", \"banana\", \"cherry\"]\n",
    "\n",
    "# 2. \"banana\" 대신 \"blueberry\"를 넣어서 리스트를 수정하세요.\n",
    "fruits[1] = \"blueberry\"\n",
    "\n",
    "# 3. 리스트 끝에 \"orange\"를 추가하세요.\n",
    "fruits.append(\"orange\")\n",
    "\n",
    "# 4. 리스트의 두 번째 위치에 \"kiwi\"를 삽입하세요.\n",
    "fruits.insert(1, \"kiwi\")\n",
    "\n",
    "print(fruits)"
   ]
  },
  {
   "cell_type": "code",
   "execution_count": 38,
   "metadata": {},
   "outputs": [
    {
     "name": "stdout",
     "output_type": "stream",
     "text": [
      "['apple', 'kiwi', 'blueberry', 'cherry', 'orange']\n"
     ]
    }
   ],
   "source": [
    "a = [\"apple\", \"banana\", \"cherry\"]\n",
    "\n",
    "a[1] = 'blueberry'\n",
    "a.append('orange')\n",
    "a.insert(1, 'kiwi')\n",
    "\n",
    "print(a)"
   ]
  },
  {
   "cell_type": "markdown",
   "metadata": {},
   "source": [
    "문제 3\n",
    "1. 다음 리스트를 사용하세요: [3, 1, 4, 1, 5, 9, 2]\n",
    "2. 리스트를 오름차순으로 정렬하세요.\n",
    "3. 리스트에서 최대값과 최소값을 찾아 출력하세요.\n",
    "4. 리스트의 길이를 출력하세요.\n",
    "5. 리스트에서 \"1\"의 개수를 세어 출력하세요."
   ]
  },
  {
   "cell_type": "code",
   "execution_count": 32,
   "metadata": {},
   "outputs": [
    {
     "name": "stdout",
     "output_type": "stream",
     "text": [
      "오름차순 정렬: [1, 1, 2, 3, 4, 5, 9]\n",
      "최대값: 9\n",
      "최소값: 1\n",
      "리스트 길이: 7\n",
      "\"1\"의 개수: 2\n"
     ]
    }
   ],
   "source": [
    "# 문제 3\n",
    "# 다음 리스트를 사용하세요: [3, 1, 4, 1, 5, 9, 2]\n",
    "numbers = [3, 1, 4, 1, 5, 9, 2]\n",
    "\n",
    "# 2. 리스트를 오름차순으로 정렬하세요.\n",
    "numbers.sort()\n",
    "print(\"오름차순 정렬:\", numbers)\n",
    "\n",
    "# 3. 리스트에서 최대값과 최소값을 찾아 출력하세요.\n",
    "print(\"최대값:\", max(numbers))\n",
    "print(\"최소값:\", min(numbers))\n",
    "\n",
    "# 4. 리스트의 길이를 출력하세요.\n",
    "print(\"리스트 길이:\", len(numbers))\n",
    "\n",
    "# 5. 리스트에서 \"1\"의 개수를 세어 출력하세요.\n",
    "print('\"1\"의 개수:', numbers.count(1))"
   ]
  },
  {
   "cell_type": "markdown",
   "metadata": {},
   "source": [
    "## 6. 튜플(tuple) 자료형"
   ]
  },
  {
   "cell_type": "markdown",
   "metadata": {},
   "source": [
    "\n",
    "튜플(tuple)은 파이썬에서 여러 값을 순서대로 저장하는 데 사용되는 불변(immutable) 자료형입니다.  \n",
    "튜플은 소괄호 () 안에 요소들을 쉼표로 구분하여 나열함으로써 생성되며, 괄호를 생략할 때도 있습니다.  \n",
    "튜플의 주요 특성은 한 번 생성되면 그 내용을 변경할 수 없다는 것입니다.  \n",
    "이 불변성 때문에 튜플은 리스트보다 상대적으로 공간 효율적이고, 해싱 가능하여 딕셔너리의 키로 사용될 수 있습니다.\n",
    "\n",
    "튜플의 주요 특징:\n",
    "\n",
    "불변(Immutable): 튜플은 생성된 후에는 그 내용을 변경할 수 없습니다. 요소를 추가하거나 삭제하거나 변경하는 것이 불가능합니다. (sort, remove, pop과 같은 내장 함수가 없다)  \n",
    "순서가 있음(Ordered): 튜플에 추가된 요소는 순서를 가지며, 이 순서는 변경되지 않습니다. 따라서 인덱스를 통해 접근할 수 있습니다.  \n",
    "중복 허용: 튜플 내에서 같은 값을 가진 요소를 여러 개 가질 수 있습니다.\n"
   ]
  },
  {
   "cell_type": "markdown",
   "metadata": {},
   "source": [
    "튜플명 = (요소1, 요소2, 요소3, 요소4, .....)"
   ]
  },
  {
   "cell_type": "code",
   "execution_count": null,
   "metadata": {},
   "outputs": [],
   "source": [
    "t1 = ()\n",
    "t2 = (1, 2, 3, 4)\n",
    "t3 = (1, 2, 3, (\"a\", \"b\", \"c\"))"
   ]
  },
  {
   "cell_type": "code",
   "execution_count": null,
   "metadata": {},
   "outputs": [
    {
     "ename": "TypeError",
     "evalue": "'tuple' object doesn't support item deletion",
     "output_type": "error",
     "traceback": [
      "\u001b[1;31m---------------------------------------------------------------------------\u001b[0m",
      "\u001b[1;31mTypeError\u001b[0m                                 Traceback (most recent call last)",
      "\u001b[1;32mc:\\python\\1일차.ipynb Cell 134\u001b[0m line \u001b[0;36m1\n\u001b[1;32m----> <a href='vscode-notebook-cell:/c%3A/python/1%EC%9D%BC%EC%B0%A8.ipynb#Y354sZmlsZQ%3D%3D?line=0'>1</a>\u001b[0m \u001b[39mdel\u001b[39;00m t2[\u001b[39m0\u001b[39m]\n",
      "\u001b[1;31mTypeError\u001b[0m: 'tuple' object doesn't support item deletion"
     ]
    }
   ],
   "source": [
    "# del t2[0] # 튜플은 요소값을 지울 수 없다"
   ]
  },
  {
   "cell_type": "code",
   "execution_count": null,
   "metadata": {},
   "outputs": [
    {
     "ename": "TypeError",
     "evalue": "'tuple' object does not support item assignment",
     "output_type": "error",
     "traceback": [
      "\u001b[1;31m---------------------------------------------------------------------------\u001b[0m",
      "\u001b[1;31mTypeError\u001b[0m                                 Traceback (most recent call last)",
      "\u001b[1;32mc:\\python\\1일차.ipynb Cell 135\u001b[0m line \u001b[0;36m1\n\u001b[1;32m----> <a href='vscode-notebook-cell:/c%3A/python/1%EC%9D%BC%EC%B0%A8.ipynb#Y355sZmlsZQ%3D%3D?line=0'>1</a>\u001b[0m t2[\u001b[39m0\u001b[39;49m] \u001b[39m=\u001b[39m \u001b[39m10\u001b[39m\n",
      "\u001b[1;31mTypeError\u001b[0m: 'tuple' object does not support item assignment"
     ]
    }
   ],
   "source": [
    "# t2[0] = 10 # 튜플은 요소값을 변경할 수 없다"
   ]
  },
  {
   "cell_type": "markdown",
   "metadata": {},
   "source": [
    "### 1. 튜플 인덱싱, 슬라이싱"
   ]
  },
  {
   "cell_type": "code",
   "execution_count": null,
   "metadata": {},
   "outputs": [
    {
     "data": {
      "text/plain": [
       "1"
      ]
     },
     "execution_count": 206,
     "metadata": {},
     "output_type": "execute_result"
    }
   ],
   "source": [
    "t2[0]"
   ]
  },
  {
   "cell_type": "code",
   "execution_count": null,
   "metadata": {},
   "outputs": [
    {
     "data": {
      "text/plain": [
       "('a', 'b', 'c')"
      ]
     },
     "execution_count": 208,
     "metadata": {},
     "output_type": "execute_result"
    }
   ],
   "source": [
    "t3[-1]"
   ]
  },
  {
   "cell_type": "code",
   "execution_count": null,
   "metadata": {},
   "outputs": [
    {
     "data": {
      "text/plain": [
       "'a'"
      ]
     },
     "execution_count": 209,
     "metadata": {},
     "output_type": "execute_result"
    }
   ],
   "source": [
    "t3[-1][0]"
   ]
  },
  {
   "cell_type": "code",
   "execution_count": null,
   "metadata": {},
   "outputs": [
    {
     "data": {
      "text/plain": [
       "(2, 3, 4)"
      ]
     },
     "execution_count": 210,
     "metadata": {},
     "output_type": "execute_result"
    }
   ],
   "source": [
    "t2[1:]"
   ]
  },
  {
   "cell_type": "markdown",
   "metadata": {},
   "source": [
    "### 2. 튜플 연산"
   ]
  },
  {
   "cell_type": "code",
   "execution_count": null,
   "metadata": {},
   "outputs": [
    {
     "data": {
      "text/plain": [
       "(1, 2, 3, 4, 1, 2, 3, ('a', 'b', 'c'))"
      ]
     },
     "execution_count": 211,
     "metadata": {},
     "output_type": "execute_result"
    }
   ],
   "source": [
    "t2 + t3"
   ]
  },
  {
   "cell_type": "code",
   "execution_count": null,
   "metadata": {},
   "outputs": [
    {
     "data": {
      "text/plain": [
       "(1, 2, 3, 4, 1, 2, 3, 4)"
      ]
     },
     "execution_count": 212,
     "metadata": {},
     "output_type": "execute_result"
    }
   ],
   "source": [
    "t2 * 2"
   ]
  },
  {
   "cell_type": "markdown",
   "metadata": {},
   "source": [
    "### 3. 튜플 길이 구하기"
   ]
  },
  {
   "cell_type": "code",
   "execution_count": null,
   "metadata": {},
   "outputs": [
    {
     "name": "stdout",
     "output_type": "stream",
     "text": [
      "4\n"
     ]
    }
   ],
   "source": [
    "print(len(t2))"
   ]
  },
  {
   "cell_type": "markdown",
   "metadata": {},
   "source": [
    "## 7. 딕셔너리(dictionary) 자료형"
   ]
  },
  {
   "cell_type": "markdown",
   "metadata": {},
   "source": [
    "\n",
    "딕셔너리(dictionary)는 키(key)와 값(value) 쌍을 요소로 가지는 파이썬의 내장 자료형입니다.  \n",
    "각 키는 딕셔너리 내에서 유일해야 하며, 변하지 않는(immutable) 데이터 타입이어야 합니다.  \n",
    "따라서 키로는 문자열, 숫자, 튜플 등이 사용될 수 있지만, 리스트는 사용될 수 없습니다.  \n",
    "딕셔너리는 중괄호 {}를 사용하여 생성하며, 키:(콜론)값 형태로 요소들을 나열합니다.\n",
    "\n",
    "딕셔너리의 주요 특징:\n",
    "\n",
    "변경 가능(Mutable): 딕셔너리는 생성된 후에도 그 내용을 변경할 수 있습니다. 요소를 추가, 삭제, 또는 변경하는 것이 가능합니다. (키 값은 변경 불가, 삭제 후 추가)  \n",
    "순서 없음(Unordered): 파이썬 3.7 이전 버전에서는 딕셔너리 요소의 순서가 보장되지 않았습니다. 하지만, 파이썬 3.7부터는 삽입된 순서를 유지합니다. 그러나 인덱스를 통한 접근은 불가능하며, 키를 사용하여 접근합니다.  \n",
    "키의 유일성: 각 키는 딕셔너리 내에서 유일해야 하며, 한 딕셔너리 내에 같은 키를 두 번 사용할 수 없습니다."
   ]
  },
  {
   "cell_type": "markdown",
   "metadata": {},
   "source": [
    "딕셔너리명 = {key1:velue1, key2:velue2, ....}"
   ]
  },
  {
   "cell_type": "markdown",
   "metadata": {},
   "source": [
    "| 키        | 값     |\n",
    "|-----------|-------|\n",
    "| name      | Alice |\n",
    "| age       | 25    |\n",
    "| language  | Python|"
   ]
  },
  {
   "cell_type": "code",
   "execution_count": 268,
   "metadata": {},
   "outputs": [],
   "source": [
    "my_empty_dict = {}\n",
    "my_dict = {'name': 'Alice', 'age': 25, 'language': 'Python'}"
   ]
  },
  {
   "cell_type": "markdown",
   "metadata": {},
   "source": [
    "### 1. 딕셔너리 사용"
   ]
  },
  {
   "cell_type": "code",
   "execution_count": null,
   "metadata": {},
   "outputs": [
    {
     "name": "stdout",
     "output_type": "stream",
     "text": [
      "Alice\n"
     ]
    }
   ],
   "source": [
    "print(my_dict['name']) # key를 사용해 value 값 얻기"
   ]
  },
  {
   "cell_type": "markdown",
   "metadata": {},
   "source": [
    "### 2. 딕셔너리 요소 추가"
   ]
  },
  {
   "cell_type": "code",
   "execution_count": null,
   "metadata": {},
   "outputs": [],
   "source": [
    "my_dict['country'] = 'Wonderland'"
   ]
  },
  {
   "cell_type": "code",
   "execution_count": null,
   "metadata": {},
   "outputs": [
    {
     "name": "stdout",
     "output_type": "stream",
     "text": [
      "{'name': 'Alice', 'age': 25, 'language': 'Python', 'country': 'Wonderland'}\n"
     ]
    }
   ],
   "source": [
    "print(my_dict)"
   ]
  },
  {
   "cell_type": "markdown",
   "metadata": {},
   "source": [
    "### 3. 딕셔너리 value 변경"
   ]
  },
  {
   "cell_type": "code",
   "execution_count": 238,
   "metadata": {},
   "outputs": [],
   "source": [
    "my_dict['age'] = 26"
   ]
  },
  {
   "cell_type": "code",
   "execution_count": 239,
   "metadata": {},
   "outputs": [
    {
     "name": "stdout",
     "output_type": "stream",
     "text": [
      "{'name': 'Alice', 'age': 26, 'language': 'Python', 'country': 'Wonderland'}\n"
     ]
    }
   ],
   "source": [
    "print(my_dict)"
   ]
  },
  {
   "cell_type": "markdown",
   "metadata": {},
   "source": [
    "### 4. 딕셔너리 요소 삭제"
   ]
  },
  {
   "cell_type": "code",
   "execution_count": 240,
   "metadata": {},
   "outputs": [],
   "source": [
    "del my_dict['language']"
   ]
  },
  {
   "cell_type": "code",
   "execution_count": 241,
   "metadata": {},
   "outputs": [
    {
     "name": "stdout",
     "output_type": "stream",
     "text": [
      "{'name': 'Alice', 'age': 26, 'country': 'Wonderland'}\n"
     ]
    }
   ],
   "source": [
    "print(my_dict)"
   ]
  },
  {
   "cell_type": "markdown",
   "metadata": {},
   "source": [
    "### 5. 딕셔너리 함수"
   ]
  },
  {
   "cell_type": "code",
   "execution_count": 242,
   "metadata": {},
   "outputs": [],
   "source": [
    "my_dict = {'name': 'Alice', 'age': 25, 'language': 'Python', 'country':'Wonderland'}"
   ]
  },
  {
   "cell_type": "markdown",
   "metadata": {},
   "source": [
    "#### 1. keys"
   ]
  },
  {
   "cell_type": "code",
   "execution_count": 249,
   "metadata": {},
   "outputs": [
    {
     "name": "stdout",
     "output_type": "stream",
     "text": [
      "dict_keys(['name', 'age', 'language', 'country'])\n"
     ]
    }
   ],
   "source": [
    "a = my_dict.keys()\n",
    "\n",
    "print(a) # key 값을 모아 dict_keys를 반환"
   ]
  },
  {
   "cell_type": "markdown",
   "metadata": {},
   "source": [
    "#### 2. values"
   ]
  },
  {
   "cell_type": "code",
   "execution_count": 252,
   "metadata": {},
   "outputs": [
    {
     "name": "stdout",
     "output_type": "stream",
     "text": [
      "dict_values(['Alice', 25, 'Python', 'Wonderland'])\n"
     ]
    }
   ],
   "source": [
    "b = my_dict.values()\n",
    "\n",
    "print(b) # value 값을 모아 dict_values를 반환"
   ]
  },
  {
   "cell_type": "markdown",
   "metadata": {},
   "source": [
    "#### 3. items"
   ]
  },
  {
   "cell_type": "code",
   "execution_count": 251,
   "metadata": {},
   "outputs": [
    {
     "name": "stdout",
     "output_type": "stream",
     "text": [
      "dict_items([('name', 'Alice'), ('age', 25), ('language', 'Python'), ('country', 'Wonderland')])\n"
     ]
    }
   ],
   "source": [
    "c = my_dict.items()\n",
    "\n",
    "print(c) # key, value 값을 모아 dict_items를 반환"
   ]
  },
  {
   "cell_type": "markdown",
   "metadata": {},
   "source": [
    "dict_keys, dict_values, dict_items은 파이썬 3.0 이후 버전에서 추가된 것 따로 리스트로 변환 하지 않더라고 반복문 사용 가능"
   ]
  },
  {
   "cell_type": "markdown",
   "metadata": {},
   "source": [
    "#### 4. clear"
   ]
  },
  {
   "cell_type": "code",
   "execution_count": 253,
   "metadata": {},
   "outputs": [
    {
     "name": "stdout",
     "output_type": "stream",
     "text": [
      "{}\n"
     ]
    }
   ],
   "source": [
    "my_dict.clear()\n",
    "\n",
    "print(my_dict) # 딕셔너리 안의 모든 요소를 삭제"
   ]
  },
  {
   "cell_type": "markdown",
   "metadata": {},
   "source": [
    "#### 5. get"
   ]
  },
  {
   "cell_type": "code",
   "execution_count": 257,
   "metadata": {},
   "outputs": [
    {
     "name": "stdout",
     "output_type": "stream",
     "text": [
      "Alice\n",
      "Alice\n",
      "None\n"
     ]
    }
   ],
   "source": [
    "my_dict = {'name': 'Alice', 'age': 25, 'language': 'Python', 'country':'Wonderland'}\n",
    "\n",
    "print(my_dict.get('name'))\n",
    "print(my_dict['name'])\n",
    "\n",
    "print(my_dict.get('phoneNum')) # 없는 값을 가져올때 None\n",
    "# print(my_dict['phoneNum']) # 없는 값을 가져올때 에러"
   ]
  },
  {
   "cell_type": "markdown",
   "metadata": {},
   "source": [
    "#### 6. in"
   ]
  },
  {
   "cell_type": "code",
   "execution_count": 258,
   "metadata": {},
   "outputs": [
    {
     "data": {
      "text/plain": [
       "True"
      ]
     },
     "execution_count": 258,
     "metadata": {},
     "output_type": "execute_result"
    }
   ],
   "source": [
    "'name' in my_dict # 해당 키가 딕셔너리 안에 있는지 확인"
   ]
  },
  {
   "cell_type": "code",
   "execution_count": 259,
   "metadata": {},
   "outputs": [
    {
     "data": {
      "text/plain": [
       "False"
      ]
     },
     "execution_count": 259,
     "metadata": {},
     "output_type": "execute_result"
    }
   ],
   "source": [
    "'phoneNum' in my_dict"
   ]
  },
  {
   "cell_type": "markdown",
   "metadata": {},
   "source": [
    "#### 7. 정리"
   ]
  },
  {
   "cell_type": "markdown",
   "metadata": {},
   "source": [
    "| 함수 | 설명 |\n",
    "|------|------|\n",
    "| `dict.get(key[, default])` | 주어진 키에 대한 값을 반환합니다. 키가 딕셔너리에 없으면 `default`를 반환합니다. `default`가 제공되지 않으면 `None`을 반환합니다. |\n",
    "| `dict.keys()` | 딕셔너리의 키들을 반환하는 뷰(view)를 반환합니다. |\n",
    "| `dict.values()` | 딕셔너리의 값들을 반환하는 뷰(view)를 반환합니다. |\n",
    "| `dict.items()` | 딕셔너리의 키-값 쌍을 튜플로 가지는 뷰(view)를 반환합니다. |\n",
    "| `dict.update([other])` | 딕셔너리를 다른 딕셔너리 객체나 키-값 쌍의 반복 가능한(iterable) 객체로부터 업데이트합니다. |\n",
    "| `dict.pop(key[, default])` | 주어진 키에 해당하는 항목을 딕셔너리에서 제거하고, 그 값을 반환합니다. 키가 딕셔너리에 없으면 `default`가 반환됩니다. `default`가 제공되지 않고 키가 없는 경우 KeyError가 발생합니다. |\n",
    "| `dict.popitem()` | 딕셔너리에서 마지막으로 삽입된 키-값 쌍을 제거하고 반환합니다. 딕셔너리가 비어있으면 KeyError가 발생합니다. |"
   ]
  },
  {
   "cell_type": "markdown",
   "metadata": {},
   "source": [
    "## 8. 집합(set) 자료형"
   ]
  },
  {
   "cell_type": "markdown",
   "metadata": {},
   "source": [
    "집합(set) 자료형은 파이썬에서 중복을 허용하지 않고, 순서가 없는 요소들의 모임을 다룰 때 사용합니다.  \n",
    "집합은 중괄호 {}를 사용하여 생성하며, 집합 내의 요소들은 쉼표로 구분됩니다.  \n",
    "집합은 수학에서의 집합 개념과 유사하게, 합집합, 교집합, 차집합 등의 연산을 제공합니다.\n",
    "\n",
    "집합의 주요 특징:\n",
    "\n",
    "중복 불허: 같은 값을 중복하여 가질 수 없습니다. 집합에 같은 값이 여러 번 추가되더라도, 집합 내에는 하나의 값만 유지됩니다.  \n",
    "순서 없음(Unordered): 집합은 순서를 가지지 않습니다. 따라서, 인덱스를 통한 접근이 불가능합니다."
   ]
  },
  {
   "cell_type": "code",
   "execution_count": 293,
   "metadata": {},
   "outputs": [],
   "source": [
    "my_empty_set = set() # 빈 집합을 생성할 때 set을 붙여 주고 소괄호 사용, 반복 가능한 객체 들을 집합으로 만들때 사용\n",
    "\n",
    "my_set = {1, 2, 3, 4, 5, 6, 7}\n",
    "\n",
    "my_set2 = set([5, 6, 7, 8, 9, 10])"
   ]
  },
  {
   "cell_type": "markdown",
   "metadata": {},
   "source": [
    "### 1. 인덱싱"
   ]
  },
  {
   "cell_type": "markdown",
   "metadata": {},
   "source": [
    "집합 자료형은 딕셔너리와 같이 순서가 없기 때문에 인덱싱을 통해 요소값을 얻을 수 없다."
   ]
  },
  {
   "cell_type": "code",
   "execution_count": 273,
   "metadata": {},
   "outputs": [
    {
     "ename": "TypeError",
     "evalue": "'set' object is not subscriptable",
     "output_type": "error",
     "traceback": [
      "\u001b[1;31m---------------------------------------------------------------------------\u001b[0m",
      "\u001b[1;31mTypeError\u001b[0m                                 Traceback (most recent call last)",
      "\u001b[1;32mc:\\python\\1일차.ipynb Cell 184\u001b[0m line \u001b[0;36m1\n\u001b[1;32m----> <a href='vscode-notebook-cell:/c%3A/python/1%EC%9D%BC%EC%B0%A8.ipynb#Y511sZmlsZQ%3D%3D?line=0'>1</a>\u001b[0m my_set[\u001b[39m0\u001b[39;49m]\n",
      "\u001b[1;31mTypeError\u001b[0m: 'set' object is not subscriptable"
     ]
    }
   ],
   "source": [
    "# my_set[0]"
   ]
  },
  {
   "cell_type": "code",
   "execution_count": 271,
   "metadata": {},
   "outputs": [
    {
     "data": {
      "text/plain": [
       "[1, 2, 3, 4, 5]"
      ]
     },
     "execution_count": 271,
     "metadata": {},
     "output_type": "execute_result"
    }
   ],
   "source": [
    "list_a = list(my_set)\n",
    "\n",
    "list_a[:]"
   ]
  },
  {
   "cell_type": "markdown",
   "metadata": {},
   "source": [
    "### 2. 집합 구하기"
   ]
  },
  {
   "cell_type": "markdown",
   "metadata": {},
   "source": [
    "#### 1. 교집합"
   ]
  },
  {
   "cell_type": "code",
   "execution_count": 275,
   "metadata": {},
   "outputs": [
    {
     "data": {
      "text/plain": [
       "{5, 6, 7}"
      ]
     },
     "execution_count": 275,
     "metadata": {},
     "output_type": "execute_result"
    }
   ],
   "source": [
    "my_set & my_set2"
   ]
  },
  {
   "cell_type": "markdown",
   "metadata": {},
   "source": [
    "#### 2. 합집합"
   ]
  },
  {
   "cell_type": "code",
   "execution_count": 276,
   "metadata": {},
   "outputs": [
    {
     "data": {
      "text/plain": [
       "{1, 2, 3, 4, 5, 6, 7, 8, 9, 10}"
      ]
     },
     "execution_count": 276,
     "metadata": {},
     "output_type": "execute_result"
    }
   ],
   "source": [
    "my_set | my_set2"
   ]
  },
  {
   "cell_type": "markdown",
   "metadata": {},
   "source": [
    "#### 3. 차집합"
   ]
  },
  {
   "cell_type": "code",
   "execution_count": 277,
   "metadata": {},
   "outputs": [
    {
     "data": {
      "text/plain": [
       "{1, 2, 3, 4}"
      ]
     },
     "execution_count": 277,
     "metadata": {},
     "output_type": "execute_result"
    }
   ],
   "source": [
    "my_set - my_set2"
   ]
  },
  {
   "cell_type": "code",
   "execution_count": 278,
   "metadata": {},
   "outputs": [
    {
     "data": {
      "text/plain": [
       "{8, 9, 10}"
      ]
     },
     "execution_count": 278,
     "metadata": {},
     "output_type": "execute_result"
    }
   ],
   "source": [
    "my_set2 - my_set"
   ]
  },
  {
   "cell_type": "markdown",
   "metadata": {},
   "source": [
    "#### 4. 대칭 차집합"
   ]
  },
  {
   "cell_type": "code",
   "execution_count": 294,
   "metadata": {},
   "outputs": [
    {
     "data": {
      "text/plain": [
       "{1, 2, 3, 4, 8, 9, 10}"
      ]
     },
     "execution_count": 294,
     "metadata": {},
     "output_type": "execute_result"
    }
   ],
   "source": [
    "my_set ^ my_set2"
   ]
  },
  {
   "cell_type": "markdown",
   "metadata": {},
   "source": [
    "| 연산 | 기호 | 설명 |\n",
    "|------|------|------|\n",
    "| 교집합 | `&` | 두 집합에 모두 있는 요소만 포함하는 새로운 집합을 반환 |\n",
    "| 합집합 | `\\|` | 두 집합의 모든 요소를 포함하는 새로운 집합을 반환, 중복은 제거됨 |\n",
    "| 차집합 | `-` | 첫 번째 집합에는 있지만 두 번째 집합에는 없는 요소만 포함하는 새로운 집합을 반환 |\n",
    "| 대칭 차집합 | `^` | 양쪽 집합 중 하나에만 있는 요소를 모두 포함하는 새로운 집합을 반환 |\n"
   ]
  },
  {
   "cell_type": "markdown",
   "metadata": {},
   "source": [
    "### 3. 집합 함수"
   ]
  },
  {
   "cell_type": "markdown",
   "metadata": {},
   "source": [
    "#### 1. add"
   ]
  },
  {
   "cell_type": "code",
   "execution_count": 285,
   "metadata": {},
   "outputs": [
    {
     "name": "stdout",
     "output_type": "stream",
     "text": [
      "{1, 2, 3, 4, 5, 6, 7, 8}\n"
     ]
    }
   ],
   "source": [
    "my_set = {1, 2, 3, 4, 5, 6, 7}\n",
    "\n",
    "my_set.add(8) # 값 1개 추가\n",
    "\n",
    "my_set.add(1) # 중복 불허\n",
    "\n",
    "print(my_set)"
   ]
  },
  {
   "cell_type": "markdown",
   "metadata": {},
   "source": [
    "#### 2. update"
   ]
  },
  {
   "cell_type": "code",
   "execution_count": 286,
   "metadata": {},
   "outputs": [
    {
     "name": "stdout",
     "output_type": "stream",
     "text": [
      "{1, 2, 3, 4, 5, 6}\n"
     ]
    }
   ],
   "source": [
    "my_set = {1, 2, 3}\n",
    "\n",
    "my_set.update([4, 5, 6]) # 여러 개 추가\n",
    "\n",
    "print(my_set)"
   ]
  },
  {
   "cell_type": "markdown",
   "metadata": {},
   "source": [
    "#### 3. remove"
   ]
  },
  {
   "cell_type": "code",
   "execution_count": 42,
   "metadata": {},
   "outputs": [
    {
     "name": "stdout",
     "output_type": "stream",
     "text": [
      "{1, 3}\n"
     ]
    }
   ],
   "source": [
    "my_set = {1, 2, 3}\n",
    "\n",
    "my_set.remove(2) # 특정 값 제거\n",
    "\n",
    "print(my_set)"
   ]
  },
  {
   "cell_type": "markdown",
   "metadata": {},
   "source": [
    "| 함수 | 설명 |\n",
    "|------|------|\n",
    "| `add(element)` | 집합에 요소를 추가합니다. s1.add(1) |\n",
    "| `update(other)` | 집합에 다른 집합, 리스트, 튜플 등의 요소를 추가합니다. s1.update([4, 5, 6]) |\n",
    "| `remove(element)` | 집합에서 요소를 제거합니다. 해당 요소가 집합에 없으면 KeyError를 발생시킵니다. s1.remove(2) |\n",
    "| `discard(element)` | 집합에서 요소를 제거합니다. 해당 요소가 집합에 없어도 에러가 발생하지 않습니다. s1.discard(2) |\n",
    "| `clear()` | 집합의 모든 요소를 제거합니다. s1.clear() |"
   ]
  },
  {
   "cell_type": "markdown",
   "metadata": {},
   "source": [
    "## 9. 불(bool) 자료형"
   ]
  },
  {
   "cell_type": "markdown",
   "metadata": {},
   "source": [
    "bool 자료형은 파이썬에서 논리적인 값을 나타내는 데 사용되며, True 또는 False 두 가지 값만을 가질 수 있습니다.  \n",
    "bool은 불리언(Boolean) 자료형으로 불려지며, 조건문의 결과, 표현식의 평가, 객체의 상태 등을 표현하는 데 널리 사용됩니다.\n",
    "\n",
    "bool 자료형의 주요 특징:\n",
    "\n",
    "두 가지 값: True(참) 또는 False(거짓)만을 가질 수 있습니다.  \n",
    "조건문과 논리 연산: bool 자료형은 조건문에서 조건의 참과 거짓을 판단하거나, 논리 연산(and, or, not)의 결과를 나타내는 데 사용됩니다.  \n",
    "값의 진리성 평가: 파이썬에서는 bool 함수를 사용하여 다른 데이터 타입의 값을 True 또는 False로 변환할 수 있습니다. (일반적으로 0, None, 빈 컬렉션([], {}, (), '' 등)은 False로 평가되며, 이 외의 값은 True로 평가됩니다.)"
   ]
  },
  {
   "cell_type": "markdown",
   "metadata": {},
   "source": [
    "| 값         | 불리언 평가 |\n",
    "|------------|-----------|\n",
    "| `True`     | True      |\n",
    "| `False`    | False     |\n",
    "| `0`        | False     |\n",
    "| `1`        | True      |\n",
    "| `-1`       | True      |\n",
    "| `\"\"` (빈 문자열) | False  |\n",
    "| `\" \"` (공백) | True   |\n",
    "| `[]` (빈 리스트) | False  |\n",
    "| `[1, 2]` (요소가 있는 리스트) | True |\n",
    "| `()` (빈 튜플) | False  |\n",
    "| `(1,)` (요소가 있는 튜플) | True |\n",
    "| `{}` (빈 딕셔너리) | False  |\n",
    "| `{'key': 'value'}` (요소가 있는 딕셔너리) | True |\n",
    "| `None`     | False     |\n",
    "| `set()` (빈 집합) | False  |\n",
    "| `{1, 2}` (요소가 있는 집합) | True |\n",
    "\n",
    "bool()로 찍어볼 수 있음"
   ]
  },
  {
   "cell_type": "code",
   "execution_count": 49,
   "metadata": {},
   "outputs": [
    {
     "data": {
      "text/plain": [
       "False"
      ]
     },
     "execution_count": 49,
     "metadata": {},
     "output_type": "execute_result"
    }
   ],
   "source": [
    "bool(1) and bool(0)"
   ]
  },
  {
   "cell_type": "markdown",
   "metadata": {},
   "source": [
    "bool(1) and bool(0)\n",
    "| 불 연산자 | 설명                                                    |\n",
    "|---------------|---------------------------------------------------------|\n",
    "| `and`         | 두 조건이 모두 참(True)일 때만 참을 반환합니다.             |\n",
    "| `or`          | 두 조건 중 하나라도 참(True)이면 참을 반환합니다.           |\n",
    "| `not`         | 참(True)을 거짓(False)으로, 거짓을 참으로 반전시킵니다.      |"
   ]
  },
  {
   "cell_type": "markdown",
   "metadata": {},
   "source": [
    "#### 중간 실습\n",
    "a = True  \n",
    "b = False  \n",
    "and, or, not을 사용하여 다양한 값 찍어보기"
   ]
  },
  {
   "cell_type": "code",
   "execution_count": 50,
   "metadata": {},
   "outputs": [
    {
     "name": "stdout",
     "output_type": "stream",
     "text": [
      "5\n",
      "4\n",
      "3\n",
      "2\n",
      "1\n"
     ]
    }
   ],
   "source": [
    "a = [1, 2, 3, 4, 5]\n",
    "while a:\n",
    "    b = a.pop()\n",
    "    print(b)"
   ]
  },
  {
   "cell_type": "code",
   "execution_count": 288,
   "metadata": {},
   "outputs": [
    {
     "name": "stdout",
     "output_type": "stream",
     "text": [
      "문이 열렸습니다\n"
     ]
    }
   ],
   "source": [
    "is_open = True\n",
    "\n",
    "# 조건문에서 사용\n",
    "\n",
    "if is_open:\n",
    "  print('문이 열렸습니다')\n",
    "else:\n",
    "  print('문이 닫혔습니다')"
   ]
  },
  {
   "cell_type": "code",
   "execution_count": 289,
   "metadata": {},
   "outputs": [
    {
     "name": "stdout",
     "output_type": "stream",
     "text": [
      "짜장면\n",
      "라멘\n",
      "김치찌개\n",
      "마라탕\n",
      "초밥\n",
      "떡볶이\n"
     ]
    }
   ],
   "source": [
    "foods = ['떡볶이', '초밥', '마라탕', '김치찌개', '라멘', '짜장면']\n",
    "\n",
    "# 반복문에서 사용\n",
    "\n",
    "while foods:\n",
    "  print(foods.pop())"
   ]
  },
  {
   "cell_type": "markdown",
   "metadata": {},
   "source": [
    "## 중간실습\n",
    "1. [1, 2, 3, 4, 5], [4, 5, 6, 7, 8] 두 리스트에서 공통된 요소를 찾으세요\n",
    "2. 1~10까지의 리스트의 요소들의 합계를 출력하세요 (sum 사용)\n",
    "3. 본인의 이름, 생년월일, 주소지를 딕셔너리에 입력하고 모든 키와 값을 리스트로 변환 후 출력하세요\n",
    "4. 1~10까지의 리스트를 3번 곱한 후 집합 자료형으로 변경해 보세요"
   ]
  },
  {
   "cell_type": "code",
   "execution_count": 51,
   "metadata": {},
   "outputs": [
    {
     "name": "stdout",
     "output_type": "stream",
     "text": [
      "{4, 5}\n"
     ]
    }
   ],
   "source": [
    "#1\n",
    "list1 = [1, 2, 3, 4, 5]\n",
    "list2 = [4, 5, 6, 7, 8]\n",
    "set1 = set(list1)\n",
    "set2 = set(list2)\n",
    "set3 = set1 & set2\n",
    "print(set3)"
   ]
  },
  {
   "cell_type": "code",
   "execution_count": 313,
   "metadata": {},
   "outputs": [
    {
     "name": "stdout",
     "output_type": "stream",
     "text": [
      "합계: 55\n"
     ]
    }
   ],
   "source": [
    "#2\n",
    "numbers = list(range(1, 11))\n",
    "print(f\"합계: {sum(numbers)}\")"
   ]
  },
  {
   "cell_type": "code",
   "execution_count": 48,
   "metadata": {},
   "outputs": [
    {
     "name": "stdout",
     "output_type": "stream",
     "text": [
      "키 리스트: ['name', 'birth', 'address']\n",
      "값 리스트: ['김영욱', '1990-04-02', '분당']\n"
     ]
    }
   ],
   "source": [
    "#3\n",
    "info = {\n",
    "    \"name\": \"김영욱\",\n",
    "    \"birth\": \"1990-04-02\",\n",
    "    \"address\": \"분당\"\n",
    "}\n",
    "keys_list = list(info.keys())\n",
    "values_list = list(info.values())\n",
    "print(f\"키 리스트: {keys_list}\")\n",
    "print(f\"값 리스트: {values_list}\")"
   ]
  },
  {
   "cell_type": "code",
   "execution_count": 53,
   "metadata": {},
   "outputs": [
    {
     "name": "stdout",
     "output_type": "stream",
     "text": [
      "집합으로 변경: {1, 2, 3, 4, 5, 6, 7, 8, 9, 10}\n"
     ]
    }
   ],
   "source": [
    "#4\n",
    "numbers = list(range(1, 11))\n",
    "s1 = set(numbers * 3)\n",
    "print(f\"집합으로 변경: {s1}\")"
   ]
  },
  {
   "cell_type": "markdown",
   "metadata": {},
   "source": [
    "## 자료형 정리"
   ]
  },
  {
   "cell_type": "markdown",
   "metadata": {},
   "source": [
    "| 자료형 | 설명 | 예시 |\n",
    "|--------|------|------|\n",
    "| int | 정수형 데이터 | `123`, `-456` |\n",
    "| float | 부동소수점 형태의 실수 데이터 | `3.14`, `-0.001` |\n",
    "| str | 문자열 데이터 | `'hello'`, `\"world\"` |\n",
    "| bool | 불리언 데이터, `True` 또는 `False` 값만을 가집니다. | `True`, `False` |\n",
    "| list | 순서가 있는 항목들의 컬렉션, 변경 가능(mutable). | `[1, 2, 3]`, `['a', 'b', 'c']` |\n",
    "| tuple | 순서가 있는 항목들의 컬렉션, 변경 불가능(immutable). | `(1, 2, 3)`, `('a', 'b', 'c')` |\n",
    "| dict | 키와 값의 쌍으로 이루어진 컬렉션, 순서가 없음. | `{'key': 'value', 'id': 123}` |\n",
    "| set | 중복되지 않는 항목들의 집합, 순서가 없음. | `{1, 2, 3}`, `{'a', 'b', 'c'}` |\n"
   ]
  }
 ],
 "metadata": {
  "kernelspec": {
   "display_name": "Python 3",
   "language": "python",
   "name": "python3"
  },
  "language_info": {
   "codemirror_mode": {
    "name": "ipython",
    "version": 3
   },
   "file_extension": ".py",
   "mimetype": "text/x-python",
   "name": "python",
   "nbconvert_exporter": "python",
   "pygments_lexer": "ipython3",
   "version": "3.9.13"
  }
 },
 "nbformat": 4,
 "nbformat_minor": 2
}
