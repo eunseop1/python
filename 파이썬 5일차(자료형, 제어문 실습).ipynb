{
 "cells": [
  {
   "cell_type": "markdown",
   "metadata": {},
   "source": [
    "# 파이썬 5일차"
   ]
  },
  {
   "cell_type": "markdown",
   "metadata": {},
   "source": [
    "#### 2. range 함수"
   ]
  },
  {
   "cell_type": "markdown",
   "metadata": {},
   "source": [
    "range 함수: 연속된 숫자를 생성하는데 사용, step 을 사용해서 선택적으로 증가치를 지정할 수 있다.\n",
    "\n",
    "| 인자의 수 | 형식                | 설명                                                        |\n",
    "|-----------|---------------------|-------------------------------------------------------------|\n",
    "| 1         | `range(stop)`       | 0부터 `stop-1`까지의 정수를 생성합니다.               |\n",
    "| 2         | `range(start, stop)`| `start`부터 `stop-1`까지의 정수를 생성합니다.         |\n",
    "| 3         | `range(start, stop, step)` | `start`에서 시작하여 `stop-1`까지, `step`의 값만큼 증가하는 정수를 생성합니다. |\n",
    "\n",
    "range(0, 11, 2): 시작 값은 0, 종료값은 11미만까지, step이 2이므로 0에 2를 더해서 2를 출력, 이후 숫자는 이전 숫자에 2를 더한 값이 된다\n"
   ]
  },
  {
   "cell_type": "markdown",
   "metadata": {},
   "source": [
    "| 인자의 수 | 형식                |\n",
    "|-----------|---------------------|\n",
    "| 1         | `range(stop)`       |\n",
    "| 2         | `range(start, stop)`|\n",
    "| 3         | `range(start, stop, step)` |"
   ]
  },
  {
   "cell_type": "code",
   "execution_count": null,
   "metadata": {},
   "outputs": [],
   "source": [
    "for i in range(11):\n",
    "  print(i)"
   ]
  },
  {
   "cell_type": "code",
   "execution_count": null,
   "metadata": {},
   "outputs": [],
   "source": [
    "for i in range(1, 11): # 숫자 1이상 11미만\n",
    "  print(i)"
   ]
  },
  {
   "cell_type": "code",
   "execution_count": null,
   "metadata": {},
   "outputs": [],
   "source": [
    "for i in range(0, 11, 2): # 시작 값은 0, step이 2이므로 0에 2를 더해서 2를 출력, 이후 숫자는 이전 숫자에 2를 더한 값이 된다 \n",
    "  print(i)"
   ]
  },
  {
   "cell_type": "markdown",
   "metadata": {},
   "source": [
    "marks = [45, 90, 59, 80, 95, 37, 61]  \n",
    "marks를 range 함수를 사용해 반복해서 60점 이상인 학생에게 합격 축하 문장을 출력하세요\n"
   ]
  },
  {
   "cell_type": "code",
   "execution_count": null,
   "metadata": {},
   "outputs": [],
   "source": [
    "#\n",
    "scores = [45, 90, 59, 80, 95, 37, 61]\n",
    "\n",
    "# print(len(scores)) # 요소의 개수\n",
    "\n",
    "for index in range(len(scores)):\n",
    "  if scores[index] < 60:\n",
    "    continue\n",
    "  print(f'{index+1}번 학생 합격 축하합니다')"
   ]
  },
  {
   "cell_type": "markdown",
   "metadata": {},
   "source": [
    "#### range(len()) 보충"
   ]
  },
  {
   "cell_type": "code",
   "execution_count": null,
   "metadata": {},
   "outputs": [],
   "source": [
    "list_a = [0, 1, 2, 3, 4, 5, 6]\n",
    "print(f'리스트 요소의 개수: {len(list_a)}') # 길이\n",
    "print(range(len(list_a)))\n",
    "print(list(range(0, 7)))\n",
    "print(list_a)\n"
   ]
  },
  {
   "cell_type": "code",
   "execution_count": null,
   "metadata": {},
   "outputs": [],
   "source": [
    "list_a = [0, 1, 2, 3, 4, 5, 6]\n",
    "list_a.reverse()\n",
    "print(list_a)"
   ]
  },
  {
   "cell_type": "markdown",
   "metadata": {},
   "source": [
    "range(len(list)) : 리스트의 인덱스를 연속된 정수로 생성\n",
    "\n",
    "for i in list: 리스트의 각 요소를 직접 순회  \n",
    "for index in range(len(score)): 리스트의 인덱스를 통해 각 요소에 접근하여 순회  "
   ]
  },
  {
   "cell_type": "markdown",
   "metadata": {},
   "source": [
    "요소를 직접 순회하면 역순으로 리스트를 순회하는것이 직관적이지 않음 -> 리스트를 뒤집거나 다른 방법을 통해 접근해야함  \n",
    "리스트로 순회하면 역순으로 쉽게 순회가 가능함\n",
    "\n",
    "데이터를 다룰 때 여러 개의 테이블이나 리스트를 동시에 다룰 때가 있는데 인덱스로 접근하면 비교하기 쉬움  \n",
    "\n",
    "인덱스를 통해 리스트를 처리하는 것은 보다 복잡한 데이터 조작과 알고리즘 구현에서 필수적인 기술"
   ]
  },
  {
   "cell_type": "code",
   "execution_count": null,
   "metadata": {},
   "outputs": [],
   "source": [
    "num_1 = [1, 2, 3, 4, 5]\n",
    "num_2 = []\n",
    "\n",
    "for i in num_1:\n",
    "  num_2.append(i*3)\n",
    "print(num_2)"
   ]
  },
  {
   "cell_type": "code",
   "execution_count": null,
   "metadata": {},
   "outputs": [],
   "source": [
    "for index in range(len(num_1)):\n",
    "  num_1[index] *= 3\n",
    "print(num_1)"
   ]
  },
  {
   "cell_type": "markdown",
   "metadata": {},
   "source": [
    "```python\n",
    "for index in range(len(scores)):\n",
    "    if scores[index] >= 60:\n",
    "        print(f\"60점 이상인 학생의 인덱스: {index}\")"
   ]
  },
  {
   "cell_type": "markdown",
   "metadata": {},
   "source": [
    "#### 중간실습\n",
    "1. range 함수를 이용하여 1~10까지 출력하세요\n",
    "2. range 함수를 이용하여 2~20까지 짝수만 출력하세요\n",
    "3. 구구단 단수를 입력하여 입력한 단수의 1~9까지 출력하세요\n",
    "4. [[1, 2], [3, 4], (5, 6), 'ab', 7]이 리스트를 언패킹할 때 나오는 에러메세지를 확인 후 수정하세요\n",
    "5. 4번에서 수정한 리스트를 통해 리스트 안의 리스트의 요소를 출력하세요\n",
    "6. 1부터 100까지 합계를 출력하세요\n",
    "7. range 함수를 사용하여 [\"n\", \"o\", \"h\", \"t\", \"y\", \"p\"]리스트의 요소를 출력하세요\n",
    "8. [\"a\", \"b\", \"c\", \"d\", \"e\", \"f\", \"g\", \"h\", \"i\", \"j\", \"k\"] 리스트 range 함수를 사용하여 \"짝수 번째 인덱스 요소\"만 출력하세요\n",
    "9. 7번에서 사용한 리스트를 동일하게 리스트의 요소를 역순으로 출력하세요\n",
    "10. 1부터 100까지의 숫자를 출력하는데, 3의 배수일 때는 \"Fizz\", 5의 배수일 때는 \"Buzz\", 3과 5의 공배수일 때는 \"FizzBuzz\"를 출력하세요"
   ]
  },
  {
   "cell_type": "code",
   "execution_count": null,
   "metadata": {},
   "outputs": [],
   "source": [
    "# 1\n",
    "\n",
    "for i in range(1, 11):\n",
    "  print(i)"
   ]
  },
  {
   "cell_type": "code",
   "execution_count": null,
   "metadata": {},
   "outputs": [],
   "source": [
    "# 2\n",
    "\n",
    "for i in range(2, 21, 2):\n",
    "  print(i)"
   ]
  },
  {
   "cell_type": "code",
   "execution_count": null,
   "metadata": {},
   "outputs": [],
   "source": [
    "# 3\n",
    "a = int(input('단수를 입력하세요'))\n",
    "\n",
    "for i in range(1, 10):\n",
    "  print(f'{a} * {i} = {a*i}')"
   ]
  },
  {
   "cell_type": "code",
   "execution_count": null,
   "metadata": {},
   "outputs": [],
   "source": [
    "# 4\n",
    "a = [[1, 2], [3, 4], (5, 6), 'ab', [7, None]]\n",
    "\n",
    "for i, j in a:\n",
    "  print(i, j)"
   ]
  },
  {
   "cell_type": "code",
   "execution_count": null,
   "metadata": {},
   "outputs": [],
   "source": [
    "# 5\n",
    "\n",
    "a = [[1, 2], [3, 4], (5, 6), 'ab', [7, None]]\n",
    "\n",
    "for i in a:\n",
    "  for j in i:\n",
    "    print(j)"
   ]
  },
  {
   "cell_type": "code",
   "execution_count": null,
   "metadata": {},
   "outputs": [],
   "source": [
    "# 6\n",
    "\n",
    "sum = 0\n",
    "\n",
    "for i in range(1, 101):\n",
    "  print(f'{sum}+{i}={sum+i}')\n",
    "  sum += i\n",
    "print(f'합계: {sum}')"
   ]
  },
  {
   "cell_type": "code",
   "execution_count": null,
   "metadata": {},
   "outputs": [],
   "source": [
    "# 7\n",
    "\n",
    "a = [\"n\", \"o\", \"h\", \"t\", \"y\", \"p\"]\n",
    "\n",
    "for i in range(len(a)):\n",
    "  print(a[i])"
   ]
  },
  {
   "cell_type": "code",
   "execution_count": null,
   "metadata": {},
   "outputs": [],
   "source": [
    "# 8\n",
    "b = [\"a\", \"b\", \"c\", \"d\", \"e\", \"f\", \"g\", \"h\", \"i\", \"j\", \"k\"]\n",
    "\n",
    "for i in range(2, len(b), 2):\n",
    "  print(b[i])"
   ]
  },
  {
   "cell_type": "code",
   "execution_count": null,
   "metadata": {},
   "outputs": [],
   "source": [
    "# 9\n",
    "\n",
    "a = [\"n\", \"o\", \"h\", \"t\", \"y\", \"p\"]\n",
    "\n",
    "for i in range(len(a)-1, -1, -1):\n",
    "  print(a[i])"
   ]
  },
  {
   "cell_type": "code",
   "execution_count": null,
   "metadata": {},
   "outputs": [],
   "source": [
    "# 9\n",
    "\n",
    "a = [\"n\", \"o\", \"h\", \"t\", \"y\", \"p\"]\n",
    "\n",
    "for i in range(-1, -len(a)-1, -1):\n",
    "  print(a[i])"
   ]
  },
  {
   "cell_type": "code",
   "execution_count": null,
   "metadata": {},
   "outputs": [],
   "source": [
    "# 10\n",
    "\n",
    "for i in range(1, 101):\n",
    "  if i % 3 == 0 and i % 5 == 0:\n",
    "    print('FizzBuzz')\n",
    "  elif i % 3 == 0:\n",
    "    print('Fizz')\n",
    "  elif i % 5 == 0:\n",
    "    print('Buzz')\n",
    "  else:\n",
    "    print(i)"
   ]
  },
  {
   "cell_type": "code",
   "execution_count": null,
   "metadata": {},
   "outputs": [],
   "source": [
    "# 10\n",
    "for i in range(1, 101):\n",
    "    output = ''  # 각 숫자에 대한 출력을 저장할 빈 문자열\n",
    "    if i % 3 == 0:\n",
    "        output += 'Fizz'\n",
    "    if i % 5 == 0:\n",
    "        output += 'Buzz'\n",
    "    print(output or i)"
   ]
  },
  {
   "cell_type": "markdown",
   "metadata": {},
   "source": [
    "## 제어문, 자료형 통합실습"
   ]
  },
  {
   "cell_type": "markdown",
   "metadata": {},
   "source": [
    "당신은 오늘 친구와 만나기로 했습니다.  \n",
    "친구를 만나기 위해 운전을 해야 하는데, 출발 시간과 목적지까지 운전하는 데 필요한 시간(분 단위)를 입력받아 도착 예정 시간을 계산하는 프로그램을 작성하세요.  \n",
    "출발시간은 공백으로 구분할 수 있습니다. 시간은 24시간 단위입니다."
   ]
  },
  {
   "cell_type": "code",
   "execution_count": null,
   "metadata": {},
   "outputs": [],
   "source": [
    "# 1\n",
    "\n",
    "input_time = input('출발시간을 입력하세요(시 분): ').split()\n",
    "\n",
    "h = int(input_time[0])\n",
    "m = int(input_time[1])\n",
    "\n",
    "driving_time = int(input('운전에 필요한 시간(분)을 입력하세요: '))\n",
    "\n",
    "m += driving_time\n",
    "\n",
    "h = h + m // 60 # 시간 + (m을 60으로 나눈 몫을 더함)\n",
    "\n",
    "m = m % 60 # 60으로 나눈후 나머지를 분에 반환\n",
    "\n",
    "h = h % 24 # 24가 넘을 경우 시간으로 환산\n",
    "\n",
    "print(f'도착 예정시간은 {h}시 {m}분입니다')\n",
    "print(f'도착 예정시간은 {h:02d}시 {m:02d}분입니다')"
   ]
  },
  {
   "cell_type": "code",
   "execution_count": null,
   "metadata": {},
   "outputs": [],
   "source": [
    "# 오전(오후) 12시간 단위\n",
    "\n",
    "input_time = input('출발시간을 입력하세요(오전/오후 시 분): ').split()\n",
    "\n",
    "am_pm = input_time[0]\n",
    "h = int(input_time[1])\n",
    "m = int(input_time[2])\n",
    "\n",
    "driving_time = int(input('운전에 필요한 시간(분)을 입력하세요: '))\n",
    "\n",
    "m += driving_time\n",
    "\n",
    "h = h + m // 60 # 시간 + (m을 60으로 나눈 몫을 더함)\n",
    "\n",
    "m = m % 60 # 60으로 나눈후 나머지를 분에 반환\n",
    "# h = h % 24 # 24가 넘을 경우 시간으로 환산\n",
    "\n",
    "\n",
    "if h >= 12: # 시간이 12보다 큰지\n",
    "    cal_ap = h // 12 # 시간을 12로 나눈 몫을 저장\n",
    "    if cal_ap % 2 != 0: # 시간을 12로 나눈 몫이 홀수인지 확인(짝수면 변경 필요 없음)\n",
    "        if am_pm == '오전': # 오전 오후 변경\n",
    "            am_pm = '오후'\n",
    "        else:\n",
    "            am_pm = '오전'\n",
    "    \n",
    "    h = h % 12 # 12로 나누고 나머지를 반환\n",
    "\n",
    "if h == 0: # 시간이 0이면 12시로\n",
    "    h = 12\n",
    "else:\n",
    "    h = h\n",
    "\n",
    "print(f'도착 예정시간은 {am_pm} {h}시 {m}분입니다')"
   ]
  },
  {
   "cell_type": "markdown",
   "metadata": {},
   "source": [
    "for 반복문을 통해 구구단을 2단부터 9단까지 출력해 주는 프로그램을 작성하세요"
   ]
  },
  {
   "cell_type": "code",
   "execution_count": null,
   "metadata": {},
   "outputs": [],
   "source": [
    "for i in range(2, 10): # 2~9단까지 반복하서 각 단의 1~9 곱셈을 찍어야함(반복문 2개 사용)\n",
    "  for j in range(1, 10):\n",
    "    print(f'{i}*{j}={i*j:2d}', end=' ') # print문의 end 인자는 기본값으로 개행문자가 들어가 있음\n",
    "  print()"
   ]
  },
  {
   "cell_type": "markdown",
   "metadata": {},
   "source": [
    "10개의 서로 다른 자연수를 입력했을 때 최댓값과 위치 인덱스를 출력하세요."
   ]
  },
  {
   "cell_type": "code",
   "execution_count": null,
   "metadata": {},
   "outputs": [],
   "source": [
    "# 최대값 저장 변수\n",
    "max_num = 0\n",
    "# 인덱스 저장 변수\n",
    "max_index = 0\n",
    "\n",
    "for i in range(0, 10): # 10개의 자연수를 입력해 주기 위해 0~9까지 10회 반복\n",
    "    num = int(input())\n",
    "    if num > max_num: # 입력값이 최대값 저장 변수보다 큰 경우\n",
    "        max_num = num # 최대값 변수에 저장\n",
    "        max_index = i # 인덱스 변수에 저장\n",
    "        \n",
    "print(max_num)\n",
    "print(max_index)"
   ]
  },
  {
   "cell_type": "markdown",
   "metadata": {},
   "source": [
    "입력한 영단어에서 가장 많이 사용된 알파벳을 찾고 대문자로 출력하는 프로그램을 작성하세요 가장 많이 사용된 알파벳이 2개 이상인 경우 ???를 출력하세요"
   ]
  },
  {
   "cell_type": "code",
   "execution_count": null,
   "metadata": {},
   "outputs": [],
   "source": [
    "# 단어의 유니크 값을 구해서 그 값의 등장 횟수를 구함\n",
    "\n",
    "word = input().upper() # 대문자 변환\n",
    "\n",
    "unique_word = list(set(word)) # 중복제거, 유니크 값\n",
    "\n",
    "list_cont = [] # 등장 횟수를 저장할 리스트 변수\n",
    "\n",
    "for i in unique_word: # 집합을 순회하면서 각 알파벳을 꺼냄 \n",
    "    cont = word.count(i) # 알파벳의 등장 횟수를 구함\n",
    "    list_cont.append(cont) # 알파벳의 등장 횟수를 리스트에 추가 -> 등장 횟수의 리스트의 max 값을 구해서 그 값의 인덱스를 찾으면 인덱싱으로 집합의 요소에 접근할 수 있음\n",
    "\n",
    "print(unique_word) # 디버깅\n",
    "print(list_cont) # 디버깅\n",
    "\n",
    "if list_cont.count(max(list_cont)) > 1: # max(list_cont) = 가장 높은 알파벳의 등장 횟수(이 값이 2개 이상이면 가장 많이 등장한 알파벳이 2개 이상)\n",
    "    print('???')  # 가장 많이 나온 알파벳이 두 개 이상 '???' 출력\n",
    "else:\n",
    "    max_index = list_cont.index(max(list_cont))  # max(list_cont) = 가장 높은 알파벳의 등장 횟수(값이 1개일때 그 값의 인덱스를 찾음) find가 틀린건 아니지만 없을 때 에러를 띄워주지 않아 index를 사용\n",
    "    print(unique_word[max_index])  # 인덱스를 가져와서 출력\n",
    "    "
   ]
  },
  {
   "cell_type": "markdown",
   "metadata": {},
   "source": [
    "당신은 시험 점수를 관리하는 교사입니다.  \n",
    "최근 실시한 시험에서 학생들이 받은 점수는 다음과 같습니다 exam_scores = [95, 68, 85, 71, 23, 75, 91, 54, 35, 48]  \n",
    "학생들이 추가로 제출한 과제를 평가한 후 각 학생의 시험 점수에 다음과 같이 과제 점수를 부여하기로 결정했습니다 extra_points = [1, 10, 8, 9, 8, 5, 6, 4, 7, 0]  \n",
    "각 학생들의 번호, 시험점수, 과제점수, 최종점수를 출력하고 최종점수가 80점이상인 학생들의 번호를 \"80점 이상인 학생 번호:\" 라는 메세지와 함께 출력하세요"
   ]
  },
  {
   "cell_type": "code",
   "execution_count": null,
   "metadata": {},
   "outputs": [],
   "source": [
    "#\n",
    "exam_scores = [95, 68, 85, 71, 23, 75, 91, 54, 35, 48] # 시험점수\n",
    "extra_points = [1, 10, 8, 9, 8, 5, 6, 4, 7, 0] # 과제점수\n",
    "over_80 = [] # 80점 이상인 학생의 번호를 저장할 리스트\n",
    "\n",
    "if len(exam_scores) == len(extra_points): # 길이가 같아야 인덱스로 접근이 가능하므로 길이가 같은지 확인\n",
    "  for index in range(len(exam_scores)): # range(len())으로 인덱스 번호로 순환\n",
    "    print(f'학생 {index+1} - 시험점수: {exam_scores[index]}, 과제점수: {extra_points[index]}, 최종점수: {exam_scores[index] + extra_points[index]}') # 학생 데이터 출력\n",
    "    total_score = exam_scores[index] + extra_points[index] # 총합 계산\n",
    "    if total_score >= 80: # 총합이 80점 이상인 학생\n",
    "      over_80.append(str(index+1)) # 80점 이상인 학생만 리스트에 추가 출력시 번호로 출력하므로 +1을 해주고, join함수는 숫자는 사용할 수 없어서 string으로 변경\n",
    "      # over_80.append(index+1)\n",
    "else:\n",
    "  print('데이터 길이가 다릅니다. 데이터를 확인해 주세요')\n",
    "\n",
    "# print('80점 이상 학생 번호:', ', '.join(str(num) for num in over_80))\n",
    "\n",
    "# for index in range(len(over_80)): # 학생 번호를 저장할 때 string으로 변경을 안해주면 이후에 변경 작업이 필요함\n",
    "#   over_80[index] = str(over_80[index])\n",
    "\n",
    "# print('80점 이상 학생 번호:', ', '.join(over_80))\n",
    "\n",
    "print('80점 이상 학생 번호:', ', '.join(over_80)) # join 함수를 사용하여 하나의 문자열로 만들어서 출력 ', '.join(over_80)의 값은 문자이므로 f-string 필요 없음"
   ]
  },
  {
   "cell_type": "markdown",
   "metadata": {},
   "source": [
    "업다운 게임  \n",
    "1부터 100 이하의 임의의 숫자를 선택하고 그 숫자를 맞추는 게임을 작성하세요  \n",
    "추측이 정답보다 크면 'down', 작으면 'up'이라고 알려주고 정답을 맞추면 시도 횟수와 합께 축하 메시지를 출력합니다\n",
    "\n",
    "게임을 다시 시작하는 기능을 추가하고 게임이 종료될 때까지 시도한 횟수를 통해 '최소 시도 횟수'를 알려주는 기능을 추가해 보세요\n",
    "\n",
    "난이도를 선택하는 기능을 추가해 보세요 쉬움:1~50, 보통: 1~100, 어려움: 1~150\n",
    "\n",
    "입력한 값이 게임에서 허용하는 범위 내에 있는지 확인해 보세요\n",
    "\n",
    "```python\n",
    "from random import randrange\n",
    "\n",
    "randrange(1, 101) # 1~100 사이의 값을 랜덤으로 선택하고 반환"
   ]
  },
  {
   "cell_type": "code",
   "execution_count": null,
   "metadata": {},
   "outputs": [],
   "source": [
    "from random import randrange\n",
    "\n",
    "min_cont = 0 # 최소 시도 횟수를 저장할 변수 \n",
    "\n",
    "restart_game = 'yes' # 재시도 기능에 사용할 변수\n",
    "\n",
    "while restart_game == 'yes':\n",
    "  diff = input('난이도를 선택하세요 (쉬움, 보통, 어려움): ')\n",
    "  if diff == '쉬움':\n",
    "    upper_limit = 50\n",
    "  elif diff == '보통':\n",
    "    upper_limit = 100\n",
    "  else:\n",
    "    upper_limit = 150\n",
    "\n",
    "  target_num = randrange(1, upper_limit + 1) # range 함수랑 똑같이 end값은 end-1이르모 +1 을 해줌\n",
    "  \n",
    "  cont = 0 # 시도 횟수를 저장할 변수\n",
    "\n",
    "  print(f'숫자 맞추기 게임을 시작하겠습니다! \\n1부터 {upper_limit}사이의 숫자를 맞춰보세요.')\n",
    "\n",
    "  while True:\n",
    "    input_num = int(input('숫자를 입력하세요: '))\n",
    "    if not 1 <= input_num <= upper_limit: # 입력값이 1~upper_limit 값이 아닐 때 입력값을 다시 받음\n",
    "      print(f'입력한 숫자가 범위를 벗어났습니다. 1부터 {upper_limit} 사이의 숫자를 입력해 주세요.')\n",
    "      continue\n",
    "\n",
    "    cont += 1 # 게임 시작 횟수를 1로 늘려줌\n",
    "\n",
    "    if input_num < target_num: # 업 다운 조건\n",
    "      print('up')\n",
    "    elif input_num > target_num:\n",
    "      print('down')\n",
    "    else:\n",
    "      print(f'정답!, 시도 횟수: {cont}')\n",
    "      if min_cont == 0 or cont < min_cont: # 시작값이 0이므로 or을 넣어서 조건에 추가해 줌(수업시간엔 안했지만 or은 단락평가(3일차 ipynb 참고)가 있어서 맨 앞 조건이 True 이면 뒷 조건은 연산을 하지 않음, 게임을 처음 시작하면 주조건 0이므로 맨 앞 조검으로 설정 > 연산을 1번 안하게 됨)\n",
    "        min_cont = cont\n",
    "        print(f'최소 시도 기록입니다: {min_cont}')\n",
    "      break\n",
    "\n",
    "  restart_game = input('게임을 다시 시작하시겠습니까? (yes/no): ').lower() # yes를 입력하면 첫 while 문이 True가 되므로 한번더 반복함\n",
    "\n",
    "print(f'게임종료. 당신의 최소 시도 횟수는 {min_cont}입니다.') # 최소 시도 횟수 저장\n"
   ]
  },
  {
   "cell_type": "markdown",
   "metadata": {},
   "source": [
    "당신은 대모험을 앞둔 용사입니다.  \n",
    "모험을 떠나기 전 운명의 슬롯 머신 게임에 도전하게 되었습니다.  \n",
    "슬롯 머신은 세 칸으로 구성되어 있고, 각 칸에는 1부터 6까지의 숫자가 랜덤하게 돌아갑니다.  \n",
    "슬롯 머신을 돌릴 때마다 나타나는 세 개의 숫자에 따라 당신이 얻게 될 \"마법의 별\"의 수가 결정됩니다.\n",
    "\n",
    "만약 세 칸의 숫자가 모두 같다면, 당신은 100 마법의 별과 (같은 숫자) x 10 마법의 별을 추가로 받습니다.  \n",
    "만약 세 칸 중 두 칸의 숫자가 같다면, 당신은 30 마법의 별과 (같은 숫자) x 5 마법의 별을 추가로 받습니다.  \n",
    "만약 모든 칸의 숫자가 서로 다르고 연속된 숫자라면, 50 마법의 별을 받습니다. (예: 1, 2, 3 또는 4, 5, 6)  \n",
    "그 외의 경우, 가장 큰 숫자에 해당하는 (가장 큰 숫자) x 2 마법의 별을 받습니다. \n",
    "\n",
    "위에서 사용한 randrange를 사용하시거나 직접 숫자를 넣어보세요"
   ]
  },
  {
   "cell_type": "code",
   "execution_count": null,
   "metadata": {},
   "outputs": [],
   "source": [
    "from random import randrange\n",
    "\n",
    "# 슬롯 머신의 결과를 저장할 리스트 생성\n",
    "slot_numbers = []\n",
    "# 슬롯 머신을 3번 돌려 각 결과를 리스트에 추가\n",
    "for _ in range(3): # randrange를 쓰기 위해 3번 반복문을 돌아 리스트에 저장, 반복은 하지만 변수는 사용하지 않을경우 관례적으로 _를 사용함\n",
    "    slot_numbers.append(randrange(1, 7))\n",
    "\n",
    "# slot_numbers = [randrange(1, 7) for _ in range(3)] # for 문 시간에 배운 리스트컴프리헨션 > for문 구조를 완벽하게 이해 후 사용해도 늦지 않음\n",
    "\n",
    "# 모든 숫자가 같은 경우\n",
    "if slot_numbers[0] == slot_numbers[1] == slot_numbers[2]:\n",
    "    print(100 + slot_numbers[0] * 10)\n",
    "\n",
    "# 두 개의 숫자만 같은 경우\n",
    "elif slot_numbers[0] == slot_numbers[1] or slot_numbers[0] == slot_numbers[2] or slot_numbers[1] == slot_numbers[2]:\n",
    "    # 첫 번째와 두 번째 또는 첫 번째와 세 번째 숫자가 같은 경우 첫 번째 숫자를 사용\n",
    "    if slot_numbers[0] == slot_numbers[1] or slot_numbers[0] == slot_numbers[2]:\n",
    "        same_number = slot_numbers[0]\n",
    "    else:\n",
    "        # 두 번째와 세 번째 숫자가 같은 경우 두 번째 숫자를 사용\n",
    "        same_number = slot_numbers[1]\n",
    "    print(30 + same_number * 5)\n",
    "# 모든 숫자가 서로 다르고 연속된 숫자인 경우\n",
    "elif sorted(slot_numbers) == list(range(min(slot_numbers), min(slot_numbers) + 3)):\n",
    "    print(50)\n",
    "# 그 외의 모든 경우\n",
    "else:\n",
    "    # 가장 큰 숫자를 2배하여 출력\n",
    "    print(max(slot_numbers) * 2)\n"
   ]
  },
  {
   "cell_type": "code",
   "execution_count": null,
   "metadata": {},
   "outputs": [],
   "source": []
  }
 ],
 "metadata": {
  "kernelspec": {
   "display_name": "Python 3",
   "language": "python",
   "name": "python3"
  },
  "language_info": {
   "codemirror_mode": {
    "name": "ipython",
    "version": 3
   },
   "file_extension": ".py",
   "mimetype": "text/x-python",
   "name": "python",
   "nbconvert_exporter": "python",
   "pygments_lexer": "ipython3",
   "version": "3.9.13"
  }
 },
 "nbformat": 4,
 "nbformat_minor": 2
}
