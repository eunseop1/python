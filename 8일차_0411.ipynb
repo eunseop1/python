{
 "cells": [
  {
   "cell_type": "markdown",
   "metadata": {},
   "source": [
    "tuple"
   ]
  },
  {
   "cell_type": "code",
   "execution_count": 1,
   "metadata": {},
   "outputs": [
    {
     "data": {
      "text/plain": [
       "(1, 2, 3, 4, 5)"
      ]
     },
     "execution_count": 1,
     "metadata": {},
     "output_type": "execute_result"
    }
   ],
   "source": [
    "a = tuple([1, 2, 3, 4, 5])\n",
    "a"
   ]
  },
  {
   "cell_type": "markdown",
   "metadata": {},
   "source": [
    "dict"
   ]
  },
  {
   "cell_type": "code",
   "execution_count": 2,
   "metadata": {},
   "outputs": [
    {
     "data": {
      "text/plain": [
       "{'홍길동': '이름', '지역': '경기도'}"
      ]
     },
     "execution_count": 2,
     "metadata": {},
     "output_type": "execute_result"
    }
   ],
   "source": [
    "list_a = [{'이름', '홍길동'}, ('지역', '경기도')]\n",
    "\n",
    "# dict값으로 키 값을 변경하는 것은 불가능\n",
    "\n",
    "info = dict(list_a)\n",
    "info"
   ]
  },
  {
   "cell_type": "markdown",
   "metadata": {},
   "source": []
  },
  {
   "cell_type": "markdown",
   "metadata": {},
   "source": [
    "all"
   ]
  },
  {
   "cell_type": "code",
   "execution_count": 4,
   "metadata": {},
   "outputs": [
    {
     "data": {
      "text/plain": [
       "True"
      ]
     },
     "execution_count": 4,
     "metadata": {},
     "output_type": "execute_result"
    }
   ],
   "source": [
    "a = [1, 3, 4, None]\n",
    "bool(a)"
   ]
  },
  {
   "cell_type": "code",
   "execution_count": 5,
   "metadata": {},
   "outputs": [
    {
     "data": {
      "text/plain": [
       "False"
      ]
     },
     "execution_count": 5,
     "metadata": {},
     "output_type": "execute_result"
    }
   ],
   "source": [
    "all(a)\n",
    "\n",
    "# 중간에 None이 있기에 false"
   ]
  },
  {
   "cell_type": "markdown",
   "metadata": {},
   "source": [
    "abs\n",
    "# 절대값"
   ]
  },
  {
   "cell_type": "code",
   "execution_count": 6,
   "metadata": {},
   "outputs": [
    {
     "data": {
      "text/plain": [
       "3.14"
      ]
     },
     "execution_count": 6,
     "metadata": {},
     "output_type": "execute_result"
    }
   ],
   "source": [
    "abs(-3.14)"
   ]
  },
  {
   "cell_type": "markdown",
   "metadata": {},
   "source": [
    "round"
   ]
  },
  {
   "cell_type": "code",
   "execution_count": 10,
   "metadata": {},
   "outputs": [
    {
     "data": {
      "text/plain": [
       "3.14"
      ]
     },
     "execution_count": 10,
     "metadata": {},
     "output_type": "execute_result"
    }
   ],
   "source": [
    "round(3.14159, 2)\n",
    "# 둘쨰 자리까지만 int형식으로 나타낸다"
   ]
  },
  {
   "cell_type": "markdown",
   "metadata": {},
   "source": [
    "enumerate"
   ]
  },
  {
   "cell_type": "code",
   "execution_count": 16,
   "metadata": {},
   "outputs": [
    {
     "name": "stdout",
     "output_type": "stream",
     "text": [
      "1\n",
      "2\n",
      "3\n",
      "4\n",
      "None\n",
      "0 1\n",
      "1 2\n",
      "2 3\n",
      "3 4\n",
      "4 None\n",
      "2 1\n",
      "3 2\n",
      "4 3\n",
      "5 4\n",
      "6 None\n"
     ]
    }
   ],
   "source": [
    "a = [1, 2, 3, 4, None]\n",
    "\n",
    "for i in a:\n",
    "    print(i)\n",
    "\n",
    "for i, v in enumerate(a):\n",
    "    print(i, v)\n",
    "\n",
    "# 요소와 인덱스값을 같이 반환\n",
    "\n",
    "\n",
    "for i, v in enumerate(a, 2):\n",
    "    print(i, v)\n",
    "# 인덱스를 1부터 요소를 찍는다"
   ]
  },
  {
   "cell_type": "code",
   "execution_count": 25,
   "metadata": {},
   "outputs": [
    {
     "name": "stdout",
     "output_type": "stream",
     "text": [
      "[1, 2, 6, 4]\n",
      "[2, 2, 12, 4]\n"
     ]
    }
   ],
   "source": [
    "a = [1, 2, 3, 4]\n",
    "for i in range(2, len(a), 2):\n",
    "    a[i] *= 2\n",
    "# 홀수 번 마다 2를 곱해본다\n",
    "\n",
    "print(a)\n",
    "\n",
    "for i, v in enumerate(a):\n",
    "    if i % 2 == 0:\n",
    "        a[i] = v * 2\n",
    "print(a)"
   ]
  },
  {
   "cell_type": "markdown",
   "metadata": {},
   "source": [
    "zip"
   ]
  },
  {
   "cell_type": "code",
   "execution_count": 28,
   "metadata": {},
   "outputs": [
    {
     "data": {
      "text/plain": [
       "[(1, 6), (2, 7), (3, 8), (4, 9), (5, 10)]"
      ]
     },
     "execution_count": 28,
     "metadata": {},
     "output_type": "execute_result"
    }
   ],
   "source": [
    "list_a = [1, 2, 3, 4, 5]\n",
    "\n",
    "list_b = [6, 7, 8, 9, 10, 11]\n",
    "\n",
    "list(zip(list_a, list_b))\n",
    "\n",
    "# 왜 11은 없나? 가장 짧은 것을 기준으로 맞추기 때문"
   ]
  },
  {
   "cell_type": "markdown",
   "metadata": {},
   "source": [
    "map\n",
    "\n",
    "# map(함수, 컬렉션)"
   ]
  },
  {
   "cell_type": "code",
   "execution_count": 31,
   "metadata": {},
   "outputs": [
    {
     "data": {
      "text/plain": [
       "[1, 4, 9, 16, 25, 36, 49, 64, 81, 100]"
      ]
     },
     "execution_count": 31,
     "metadata": {},
     "output_type": "execute_result"
    }
   ],
   "source": [
    "\n",
    "list(map(lambda x:x**2, list(range(1, 11))))\n",
    "# map으로만 입력하면 맵 객체만 나오기에 리스트로 반환해야 볼수 있다"
   ]
  },
  {
   "cell_type": "code",
   "execution_count": 33,
   "metadata": {},
   "outputs": [
    {
     "data": {
      "text/plain": [
       "[1, 4, 9, 16, 25, 36, 49, 64, 81, 100]"
      ]
     },
     "execution_count": 33,
     "metadata": {},
     "output_type": "execute_result"
    }
   ],
   "source": [
    "def squ(num):\n",
    "    return num **2\n",
    "\n",
    "list(map(squ, list(range(1, 11))))"
   ]
  },
  {
   "cell_type": "code",
   "execution_count": 36,
   "metadata": {},
   "outputs": [
    {
     "data": {
      "text/plain": [
       "[3, 6, 9, 12, 15, 18, 21, 24, 27, 30]"
      ]
     },
     "execution_count": 36,
     "metadata": {},
     "output_type": "execute_result"
    }
   ],
   "source": [
    "def threeTimes(num):\n",
    "    return num * 3\n",
    "\n",
    "list(map(threeTimes, list(range(1, 11))))"
   ]
  },
  {
   "cell_type": "code",
   "execution_count": 37,
   "metadata": {},
   "outputs": [
    {
     "data": {
      "text/plain": [
       "['HELLO', 'WORLD', 'PYTHON', 'MAP']"
      ]
     },
     "execution_count": 37,
     "metadata": {},
     "output_type": "execute_result"
    }
   ],
   "source": [
    "list_a = ['hello', 'world', 'python', 'map']\n",
    "\n",
    "def toUpper(str):\n",
    "    return str.upper()\n",
    "\n",
    "list(map(toUpper, list_a))"
   ]
  },
  {
   "cell_type": "code",
   "execution_count": 122,
   "metadata": {},
   "outputs": [
    {
     "name": "stdout",
     "output_type": "stream",
     "text": [
      "[('맛동산', 5500.0), ('새우깡', 6600.0), ('감자칩', 7700.0)]\n",
      "[('맛동산', 6050.0), ('새우깡', 7260.0), ('감자칩', 8470.0)]\n"
     ]
    }
   ],
   "source": [
    "list_a = [('맛동산', 5000), ('새우깡', 6000), ('감자칩', 7000)]\n",
    "\n",
    "# def increaseTenPer(*args):\n",
    "#     print(args[0][0])\n",
    "\n",
    "#     for i in list(range(0, len(list_a))):\n",
    "#         name, pee = args[0][i]\n",
    "    \n",
    "#         args[0][i] = name, pee + pee * 0.1\n",
    "#     return print(args)\n",
    "\n",
    "# increaseTenPer(list_a)\n",
    "# print(list_a)\n",
    "\n",
    "def inc_rate(element):\n",
    "    name, salary = element\n",
    "    new_salary = salary + salary * 0.1\n",
    "    return name, new_salary\n",
    "\n",
    "# print(list(map(inc_rate, list_a)))\n",
    "list_a = (list(map(inc_rate, list_a)))\n",
    "print(list_a)\n",
    "\n",
    "print(list(map(lambda x: (x[0], x[1]+x[1]*0.1), list_a)))\n",
    "\n",
    "# 첫시도 X\n",
    "# for name, value in list_a:\n",
    "#     print(f\"{name}의 10% 인상 :  {increaseTenPer(value)}\")\n",
    "\n",
    "# 두번째 시도 X\n",
    "# for i in list(range(0, len(list_a))):\n",
    "#     print(list_a[i])\n",
    "#     price = list_a[i][1]\n",
    "#     list_a[i][1] = map(increaseTenPer, list_a[i][1])\n",
    "\n",
    "# 세번째 시도 X\n",
    "# list_b = []\n",
    "# list_c = []\n",
    "\n",
    "# for i in list(range(0, len(list_a))):\n",
    "#     list_b.append(list_a[i][1])\n",
    "#     list_c = list(map(increaseTenPer, list_b))\n",
    "\n",
    "# print(list_c)\n",
    "\n",
    "# for i in list(range(0, len(list_c))):\n",
    "#     print(list_a[i][1])\n",
    "#     list_a[i][1] = list_c[i]\n",
    "# print(list_a)\n",
    "\n"
   ]
  },
  {
   "cell_type": "markdown",
   "metadata": {},
   "source": [
    "# eval"
   ]
  },
  {
   "cell_type": "code",
   "execution_count": 35,
   "metadata": {},
   "outputs": [
    {
     "name": "stdout",
     "output_type": "stream",
     "text": [
      "3*(4+2)\n"
     ]
    },
    {
     "data": {
      "text/plain": [
       "18"
      ]
     },
     "execution_count": 35,
     "metadata": {},
     "output_type": "execute_result"
    }
   ],
   "source": [
    "print('3*(4+2)')\n",
    "\n",
    "# 문자열을 계산시킨다\n",
    "# eval은 사용하지 말자\n",
    "eval('3*(4+2)')"
   ]
  },
  {
   "cell_type": "code",
   "execution_count": 131,
   "metadata": {},
   "outputs": [
    {
     "name": "stdout",
     "output_type": "stream",
     "text": [
      "Hello\n",
      "chipi chpi java java\n",
      "chipi chipi\n",
      "dubi dubi\n",
      "\n",
      "한글\n",
      "파일 읽기가 끝났습니다.\n"
     ]
    }
   ],
   "source": [
    "try:\n",
    "    with open('test2.txt', 'r') as f:\n",
    "        print(f.read())\n",
    "except FileNotFoundError:\n",
    "    print(\"해당 파일이 없습니다\")\n",
    "except UnicodeDecodeError:\n",
    "    with open('test2.txt', 'r', encoding='utf-8-sig') as f:\n",
    "        print(f.read())\n",
    "\n",
    "except Exception as e:\n",
    "    print(f'오류 {e}')\n",
    "\n",
    "finally:\n",
    "    print('파일 읽기가 끝났습니다.')"
   ]
  },
  {
   "cell_type": "code",
   "execution_count": 134,
   "metadata": {},
   "outputs": [
    {
     "name": "stdout",
     "output_type": "stream",
     "text": [
      "숫자를 입력해주세요\n",
      "숫자를 입력해주세요\n",
      "숫자를 입력해주세요\n",
      "숫자를 입력해주세요\n"
     ]
    }
   ],
   "source": [
    "e = True\n",
    "while e:\n",
    "    try:\n",
    "        a = float(input())\n",
    "        if a == 0:\n",
    "            e = False\n",
    "    except ValueError:\n",
    "        print('숫자를 입력해주세요')\n",
    "        continue"
   ]
  }
 ],
 "metadata": {
  "kernelspec": {
   "display_name": "Python 3",
   "language": "python",
   "name": "python3"
  },
  "language_info": {
   "codemirror_mode": {
    "name": "ipython",
    "version": 3
   },
   "file_extension": ".py",
   "mimetype": "text/x-python",
   "name": "python",
   "nbconvert_exporter": "python",
   "pygments_lexer": "ipython3",
   "version": "3.9.13"
  }
 },
 "nbformat": 4,
 "nbformat_minor": 2
}
