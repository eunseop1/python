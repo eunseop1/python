{
 "cells": [
  {
   "cell_type": "markdown",
   "metadata": {},
   "source": [
    "a, b = 5, 2\n",
    "|연산자|풀어 쓴 형태 |기능               |복합연산자       |결과값 |\n",
    "|------|-----------|-------------------|-------------------|-------|\n",
    "|+=    |a = a + b   |값을 더한 후 할당    |a += b |a = 7  |\n",
    "|-=    |a = a - b   |값을 뺀 후 할당     |a -= b |a = 3  |\n",
    "|*=    |a = a * b   |값을 곱한 후 할당    |a *= b |a = 10 |\n",
    "|**=   |a = a ** b  |값을 거듭제곱한 후 할당|a **= b |a = 25 |\n",
    "|/=    |a = a / b   |값을 나눈 후 할당    |a /= b |a = 2.5|\n",
    "|//=   |a = a // b  |값을 정수 나눗셈한 후 할당|a //= b |a = 2  |\n",
    "|%=    |a = a % b   |나머지를 계산한 후 할당 |a %= b |a = 1  |\n"
   ]
  },
  {
   "cell_type": "code",
   "execution_count": 1,
   "metadata": {},
   "outputs": [
    {
     "name": "stdout",
     "output_type": "stream",
     "text": [
      "a + b =  7\n",
      "a - b =  3\n",
      "a * b =  10\n",
      "a ** b =  25\n",
      "a / b =  2.5\n",
      "a // b =  2\n",
      "a % b =  1\n"
     ]
    }
   ],
   "source": [
    "a = 5\n",
    "b = 2\n",
    "# 한번에 지정하려면 다음과 같이\n",
    "# a, b = 5, 2\n",
    "\n",
    "print(\"a + b = \" , a + b)\n",
    "print(\"a - b = \" , a - b)\n",
    "\n",
    "print(\"a * b = \" , a * b)\n",
    "print(\"a ** b = \" , a ** b)\n",
    "\n",
    "print(\"a / b = \" , a / b)\n",
    "print(\"a // b = \" , a // b)\n",
    "print(\"a % b = \" , a % b)"
   ]
  },
  {
   "cell_type": "code",
   "execution_count": 2,
   "metadata": {},
   "outputs": [
    {
     "name": "stdout",
     "output_type": "stream",
     "text": [
      "type(a) =  <class 'int'>\n",
      "type(b) =  <class 'int'>\n",
      "type(a) =  <class 'int'>\n",
      "type(b) =  <class 'int'>\n",
      "a + b =  3 <class 'int'>\n",
      "a - b =  -1\n",
      "a * b =  2\n",
      "a ** b =  1\n",
      "a / b =  0.5\n",
      "a // b =  0\n",
      "a % b =  1\n"
     ]
    }
   ],
   "source": [
    "## 수를 입력받는다\n",
    "\n",
    "# a = int(input())\n",
    "# b = int(input())\n",
    "\n",
    "a, b = int(input()), int(input())\n",
    "\n",
    "print(\"type(a) = \" , type(a))\n",
    "print(\"type(b) = \" , type(b))\n",
    "\n",
    "# a = float(a)\n",
    "# b = str(b)\n",
    "\n",
    "print(\"type(a) = \" , type(a))\n",
    "print(\"type(b) = \" , type(b))\n",
    "\n",
    "## 연산수행\n",
    "\n",
    "print(\"a + b = \" , a + b , type( a + b))\n",
    "print(\"a - b = \" , a - b)\n",
    "\n",
    "print(\"a * b = \" , a * b)\n",
    "print(\"a ** b = \" , a ** b)\n",
    "\n",
    "print(\"a / b = \" , a / b)\n",
    "print(\"a // b = \" , a // b)\n",
    "print(\"a % b = \" , a % b)"
   ]
  }
 ],
 "metadata": {
  "kernelspec": {
   "display_name": "Python 3",
   "language": "python",
   "name": "python3"
  },
  "language_info": {
   "codemirror_mode": {
    "name": "ipython",
    "version": 3
   },
   "file_extension": ".py",
   "mimetype": "text/x-python",
   "name": "python",
   "nbconvert_exporter": "python",
   "pygments_lexer": "ipython3",
   "version": "3.9.13"
  }
 },
 "nbformat": 4,
 "nbformat_minor": 2
}
