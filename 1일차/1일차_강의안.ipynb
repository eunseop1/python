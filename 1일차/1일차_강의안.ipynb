{
 "cells": [
  {
   "cell_type": "markdown",
   "metadata": {},
   "source": [
    "# 파이썬 교육 1일차"
   ]
  },
  {
   "cell_type": "code",
   "execution_count": 228,
   "metadata": {},
   "outputs": [
    {
     "name": "stdout",
     "output_type": "stream",
     "text": [
      "4가 있습니다\n"
     ]
    }
   ],
   "source": [
    "# 만약 4가 1,2,3,4 중에 있으면 \"4가 있습니다\"를 출력한다\n",
    "\n",
    "if 4 in [1,2,3,4]:\n",
    "  print(\"4가 있습니다\")"
   ]
  },
  {
   "cell_type": "code",
   "execution_count": 264,
   "metadata": {},
   "outputs": [
    {
     "name": "stdout",
     "output_type": "stream",
     "text": [
      "떡볶이는 한식입니다.\n",
      "초밥은 일식입니다.\n",
      "마라탕은 중식입니다.\n",
      "김치찌개는 한식입니다.\n",
      "라멘은 일식입니다.\n",
      "짜장면은 중식입니다.\n"
     ]
    }
   ],
   "source": [
    "foods = ['떡볶이', '초밥', '마라탕', '김치찌개', '라멘', '짜장면']\n",
    "\n",
    "for food in foods:\n",
    "  if food in ['떡볶이', '김치찌개']:\n",
    "    print(f'{food}는 한식입니다.')\n",
    "  elif food in ['초밥', '라멘']:\n",
    "    print(f'{food}은 일식입니다.')\n",
    "  else:\n",
    "    print(f'{food}은 중식입니다.')"
   ]
  },
  {
   "cell_type": "code",
   "execution_count": 229,
   "metadata": {},
   "outputs": [
    {
     "name": "stdout",
     "output_type": "stream",
     "text": [
      "c need compiler\n",
      "c++ need compiler\n",
      "python need interpreter\n",
      "js need interpreter\n",
      "ruby need interpreter\n",
      "rust need compiler\n"
     ]
    }
   ],
   "source": [
    "# 인터프리터 언어: 소스코드 한 줄씩 읽어서 실행하는 프로그램 언어\n",
    "# 컴파일러 언어: 소스코드 전체를 컴파일하여 실행하는 프로그램 언어\n",
    "languages = ['c', 'c++', 'python', 'js', 'ruby', 'rust']\n",
    "\n",
    "for lang in languages:\n",
    "  if lang in ['python', 'js', 'ruby']:\n",
    "    print(f'{lang} need interpreter')\n",
    "  elif lang in ['c', 'c++', 'rust']:\n",
    "    print(f'{lang} need compiler')\n",
    "  else:\n",
    "    print('should not reach here')"
   ]
  },
  {
   "cell_type": "markdown",
   "metadata": {},
   "source": [
    "## 파이썬 설치"
   ]
  },
  {
   "cell_type": "markdown",
   "metadata": {},
   "source": [
    "### 3.9버전"
   ]
  },
  {
   "cell_type": "markdown",
   "metadata": {},
   "source": [
    "## 0. Hello World"
   ]
  },
  {
   "cell_type": "code",
   "execution_count": 230,
   "metadata": {},
   "outputs": [],
   "source": [
    "# input() # 입력\n",
    "# print() # 출력"
   ]
  },
  {
   "cell_type": "code",
   "execution_count": 231,
   "metadata": {},
   "outputs": [
    {
     "name": "stdout",
     "output_type": "stream",
     "text": [
      "Hello World\n"
     ]
    }
   ],
   "source": [
    "print('Hello World')"
   ]
  },
  {
   "cell_type": "markdown",
   "metadata": {},
   "source": [
    "### 중간실습\n",
    "Hello World를 입력하여 화면에 Hello World를 출력해 보세요"
   ]
  },
  {
   "cell_type": "code",
   "execution_count": 232,
   "metadata": {},
   "outputs": [
    {
     "name": "stdout",
     "output_type": "stream",
     "text": [
      "\n"
     ]
    }
   ],
   "source": [
    "#\n",
    "print(input('입력'))"
   ]
  },
  {
   "cell_type": "markdown",
   "metadata": {},
   "source": [
    "## 1. 키워드"
   ]
  },
  {
   "cell_type": "code",
   "execution_count": 233,
   "metadata": {},
   "outputs": [
    {
     "name": "stdout",
     "output_type": "stream",
     "text": [
      "['False', 'None', 'True', '__peg_parser__', 'and', 'as', 'assert', 'async', 'await', 'break', 'class', 'continue', 'def', 'del', 'elif', 'else', 'except', 'finally', 'for', 'from', 'global', 'if', 'import', 'in', 'is', 'lambda', 'nonlocal', 'not', 'or', 'pass', 'raise', 'return', 'try', 'while', 'with', 'yield']\n"
     ]
    }
   ],
   "source": [
    "import keyword\n",
    "\n",
    "list_keyworkd = keyword.kwlist\n",
    "print(list_keyworkd)"
   ]
  },
  {
   "cell_type": "markdown",
   "metadata": {},
   "source": [
    "## 2. 변수"
   ]
  },
  {
   "cell_type": "markdown",
   "metadata": {},
   "source": [
    "### 변수 생성 규칙\n",
    "1. 변수명 길이에 제한은 없다\n",
    "2. 변수명에 특수 문자를 입력할 수 없다\n",
    "3. 언더바(_)는 특수문자이지만 변수명에 사용 가능하다\n",
    "4. 언더바(_)로 시작하는 변수명은 특별한 의미를 가질 수 있다( _비공개 변수 | __클래스의 변수나 함수를 맹글링)\n",
    "5. 영문과 숫자를 혼합해서 변수명을 작성할 수 있다\n",
    "6. 한글로 변수명을 작성할 수 있다\n",
    "7. 변수명을 작성할 때 숫자가 먼저 나오면 안된다\n",
    "8. 파이썬 문법에 사용되는 단어는 사용이 불가능하다\n",
    "9. 변수명은 대소문자를 구별한다"
   ]
  },
  {
   "cell_type": "code",
   "execution_count": 234,
   "metadata": {},
   "outputs": [],
   "source": [
    "# delivery&box = '콜라' # SyntaxError: 구문 오류 > 파이썬 문법을 지키지 않았을 때\n",
    "# 123택배박스 = '콜라'\n",
    "deliverybox = '콜라'\n",
    "delivery_box = '콜라'\n",
    "택배백스 = '콜라'\n"
   ]
  },
  {
   "cell_type": "markdown",
   "metadata": {},
   "source": [
    "### 파이썬 에러 종류\n",
    "| 에러 종류             | 설명                                            |\n",
    "|-------------------|-------------------------------------------------|\n",
    "| SyntaxError      | 구문 오류 > 파이썬 문법을 지키지 않았을 때                 |\n",
    "| IndexError       | 인덱스 오류 > 인덱스 범위를 초과했을 때                    |\n",
    "| NameError        | 이름 오류 > 정의되지 않은 변수나 함수를 참조하려고 할 때      |\n",
    "| TypeError        | 타입 오류 > 주로 잘못된 데이터 타입을 사용했을 때           |\n",
    "| IndentationError | 들여쓰기 오류 > 들여쓰기를 제대로 하지 않았을 때            |\n",
    "| ValueError       | 값 오류 > 함수가 받은 파라미터가 부적절한 값일 때           |\n",
    "| KeyError         | 키 오류 > 딕셔너리에서 존재하지 않는 키에 접근할 때          |\n",
    "| ZeroDivisionError| 0으로 나누기 오류 > 어떤 숫자를 0으로 나누려고 할 때        |\n",
    "| OverflowError    | 오버플로우 오류 > 산술 연산의 결과가 표현하기에 너무 클 때  |\n",
    "| AttributeError   | 속성 오류 > 어떤 모듈에 존재하지 않는 속성을 사용할 때      |\n",
    "| ModuleNotFoundError| 모듈 미설치 오류 > 필요한 라이브러리가 개발환경에 설치되어 있지 않을 때 |\n",
    "| FileNotFoundError | 파일 못 찾음 오류 > 파일을 찾지 못할 때                   |\n",
    "| IOError          | 입출력 오류 > 입출력과 관련된 문제가 발생했을 때            |\n",
    "| AssertionError   | assert 문이 실패 할 때                                   |\n",
    "| KeyboardInterrupt | 사용자가 프로그램을 중단하기위해 Ctrl + C와 같은 신호를 보냈을 때 |\n",
    "\n"
   ]
  },
  {
   "cell_type": "markdown",
   "metadata": {},
   "source": [
    "## 3. 숫자형"
   ]
  },
  {
   "cell_type": "markdown",
   "metadata": {},
   "source": [
    "### 1.정수형(integer)"
   ]
  },
  {
   "cell_type": "code",
   "execution_count": 235,
   "metadata": {},
   "outputs": [
    {
     "name": "stdout",
     "output_type": "stream",
     "text": [
      "<class 'int'> <class 'int'> <class 'int'>\n"
     ]
    }
   ],
   "source": [
    "# 정수형(int) 정수를 뜻하는 자료형\n",
    "a = 123\n",
    "b = -178\n",
    "c = 0\n",
    "\n",
    "print(type(a), type(b), type(c))"
   ]
  },
  {
   "cell_type": "markdown",
   "metadata": {},
   "source": [
    "### 2. 실수형(floating-point)"
   ]
  },
  {
   "cell_type": "code",
   "execution_count": 236,
   "metadata": {},
   "outputs": [
    {
     "name": "stdout",
     "output_type": "stream",
     "text": [
      "<class 'float'> <class 'float'> <class 'float'>\n"
     ]
    }
   ],
   "source": [
    "# 실수형(float) 실수를 뜻하는 자료형\n",
    "a = 1.7\n",
    "b = -15.54\n",
    "c = 2.5e10\n",
    "\n",
    "print(type(a), type(b), type(c))"
   ]
  },
  {
   "cell_type": "markdown",
   "metadata": {},
   "source": [
    "### 3. 산술연산자"
   ]
  },
  {
   "cell_type": "markdown",
   "metadata": {},
   "source": [
    "|연산자|기능|산술 결과|\n",
    "|------|---|---|\n",
    "|+|덧셈|5+2 = 7|\n",
    "|-|뺄셈|5-2 = 3|\n",
    "|*|곱셈|5*2 = 10|\n",
    "|**|제곱|5**2 = 25|\n",
    "|/|나눗셈|5/2 = 2.5|\n",
    "|//|몫|5//2 = 2|\n",
    "|%|나머지값|5%2 = 1|"
   ]
  },
  {
   "cell_type": "markdown",
   "metadata": {},
   "source": [
    "### 중간실습\n",
    "input을 사용하여 a, b 두 수를 받아 a+b, a-b, a*b, a**b, a/b, a//b, a%b를 각 줄에 출력하는 코드를 작성해 보세요\n",
    "\n",
    "자료형 변환  \n",
    "int(): 다른 데이터 타입을 정수형으로 변환  \n",
    "float(): 다른 데이터 타입을 실수형으로 변환  \n",
    "str(): 다른 데이터 타입을 문자열로 변환\n",
    "\n",
    "자료형 변환을 사용하려면 해당 데이터 타입으로 변환이 가능해야 한다는 점 주의"
   ]
  },
  {
   "cell_type": "code",
   "execution_count": 1,
   "metadata": {},
   "outputs": [
    {
     "name": "stdout",
     "output_type": "stream",
     "text": [
      "a + b = 3\n",
      "a - b = -1\n",
      "a * b = 2\n",
      "a ** b = 1\n",
      "a / b = 0.5\n",
      "a // b = 0\n",
      "a % b = 1\n"
     ]
    }
   ],
   "source": [
    "# 두 수를 입력 받음\n",
    "a = int(input(\"Enter the first number (a): \"))\n",
    "b = int(input(\"Enter the second number (b): \"))\n",
    "\n",
    "# 연산 수행\n",
    "print(\"a + b =\", a + b)\n",
    "print(\"a - b =\", a - b)\n",
    "print(\"a * b =\", a * b)\n",
    "print(\"a ** b =\", a ** b)\n",
    "print(\"a / b =\", a / b)\n",
    "print(\"a // b =\", a // b)\n",
    "print(\"a % b =\", a % b)"
   ]
  },
  {
   "cell_type": "markdown",
   "metadata": {},
   "source": [
    "### 4. 복합연산자"
   ]
  },
  {
   "cell_type": "markdown",
   "metadata": {},
   "source": [
    "a, b = 5, 2\n",
    "|연산자|풀어 쓴 형태 |기능               |복합연산자       |결과값 |\n",
    "|------|-----------|-------------------|-------------------|-------|\n",
    "|+=    |a = a + b   |값을 더한 후 할당    |a += b |a = 7  |\n",
    "|-=    |a = a - b   |값을 뺀 후 할당     |a -= b |a = 3  |\n",
    "|*=    |a = a * b   |값을 곱한 후 할당    |a *= b |a = 10 |\n",
    "|**=   |a = a ** b  |값을 거듭제곱한 후 할당|a **= b |a = 25 |\n",
    "|/=    |a = a / b   |값을 나눈 후 할당    |a /= b |a = 2.5|\n",
    "|//=   |a = a // b  |값을 정수 나눗셈한 후 할당|a //= b |a = 2  |\n",
    "|%=    |a = a % b   |나머지를 계산한 후 할당 |a %= b |a = 1  |\n"
   ]
  },
  {
   "cell_type": "markdown",
   "metadata": {},
   "source": [
    "## 4. 문자열(string) 자료형"
   ]
  },
  {
   "cell_type": "code",
   "execution_count": null,
   "metadata": {},
   "outputs": [
    {
     "name": "stdout",
     "output_type": "stream",
     "text": [
      "<class 'str'> <class 'str'> <class 'str'> <class 'str'>\n"
     ]
    }
   ],
   "source": [
    "a = 'Hello World'\n",
    "b = \"123\"\n",
    "c = '''Hello'''\n",
    "d = \"\"\"World\"\"\"\n",
    "\n",
    "print(type(a), type(b), type(c), type(d))"
   ]
  },
  {
   "cell_type": "markdown",
   "metadata": {},
   "source": [
    "### 1. 문자열 안에 따옴표 포함하기"
   ]
  },
  {
   "cell_type": "code",
   "execution_count": null,
   "metadata": {},
   "outputs": [
    {
     "name": "stdout",
     "output_type": "stream",
     "text": [
      "Life is too short, You need \"python\"\n"
     ]
    }
   ],
   "source": [
    "print('Life is too short, You need \"python\"')"
   ]
  },
  {
   "cell_type": "code",
   "execution_count": null,
   "metadata": {},
   "outputs": [
    {
     "name": "stdout",
     "output_type": "stream",
     "text": [
      "Life is too short, You need \"python\"\n"
     ]
    }
   ],
   "source": [
    "print(\"Life is too short, You need \\\"python\\\"\")"
   ]
  },
  {
   "cell_type": "code",
   "execution_count": null,
   "metadata": {},
   "outputs": [
    {
     "name": "stdout",
     "output_type": "stream",
     "text": [
      "\"Python is very easy.\" he says.\n"
     ]
    }
   ],
   "source": [
    "print('\"Python is very easy.\" he says.')"
   ]
  },
  {
   "cell_type": "markdown",
   "metadata": {},
   "source": [
    "### 2. 줄바꿈"
   ]
  },
  {
   "cell_type": "code",
   "execution_count": null,
   "metadata": {},
   "outputs": [
    {
     "name": "stdout",
     "output_type": "stream",
     "text": [
      "Hello\n",
      "World\n"
     ]
    }
   ],
   "source": [
    "print('Hello\\nWorld') # 이스케이프 코드"
   ]
  },
  {
   "cell_type": "code",
   "execution_count": null,
   "metadata": {},
   "outputs": [
    {
     "name": "stdout",
     "output_type": "stream",
     "text": [
      "Hello\n",
      "World\n"
     ]
    }
   ],
   "source": [
    "print(\"\"\"Hello\n",
    "World\"\"\")"
   ]
  },
  {
   "cell_type": "markdown",
   "metadata": {},
   "source": [
    "### 3. 이스케이프 코드"
   ]
  },
  {
   "cell_type": "markdown",
   "metadata": {},
   "source": [
    "|코드  |설명                                            |\n",
    "|------|-----------------------------------------------|\n",
    "|\\n    |문자열 안에서 줄을 바꿀 때 사용                  |\n",
    "|\\t    |문자열 사이에 탭(tab) 간격을 줄 때 사용               |\n",
    "|\\\\\\\\    |\\를 그대로 표현할 때 사용                        |\n",
    "|\\\\'    |작은따옴표(')를 그대로 표현할 때 사용             |\n",
    "|\\\\\"    |큰따옴표(\")를 그대로 표현할 때 사용              |\n",
    "|\\r    |캐리지 리턴(줄 바꿈 문자, 커서를 현재 줄의 가장 앞으로 이동)|\n",
    "|\\f    |폼 피드(줄 바꿈 문자, 커서를 현재 줄의 다음 줄로 이동)   |\n",
    "|\\a    |벨 소리(출력할 때 PC 스피커에서 '삑' 소리가 난다)   |\n",
    "|\\b    |백 스페이스                                     |\n",
    "|\\000  |널 문자                                         |\n"
   ]
  },
  {
   "cell_type": "markdown",
   "metadata": {},
   "source": [
    "### 4. 문자열 연산(+, *)"
   ]
  },
  {
   "cell_type": "code",
   "execution_count": null,
   "metadata": {},
   "outputs": [
    {
     "data": {
      "text/plain": [
       "'HelloWorld'"
      ]
     },
     "execution_count": 61,
     "metadata": {},
     "output_type": "execute_result"
    }
   ],
   "source": [
    "# 문자열을 더해서 연결하기\n",
    "\n",
    "head = 'Hello'\n",
    "tail = 'World'\n",
    "\n",
    "head + tail"
   ]
  },
  {
   "cell_type": "code",
   "execution_count": null,
   "metadata": {},
   "outputs": [
    {
     "data": {
      "text/plain": [
       "'HelloHello'"
      ]
     },
     "execution_count": 60,
     "metadata": {},
     "output_type": "execute_result"
    }
   ],
   "source": [
    "# 문자열 곱하기\n",
    "\n",
    "head * 2"
   ]
  },
  {
   "cell_type": "markdown",
   "metadata": {},
   "source": [
    "### 5. 문자열 길이 구하기"
   ]
  },
  {
   "cell_type": "code",
   "execution_count": null,
   "metadata": {},
   "outputs": [
    {
     "data": {
      "text/plain": [
       "34"
      ]
     },
     "execution_count": 68,
     "metadata": {},
     "output_type": "execute_result"
    }
   ],
   "source": [
    "a = \"Life is too short, You need Python\"\n",
    "\n",
    "len(a)"
   ]
  },
  {
   "cell_type": "markdown",
   "metadata": {},
   "source": [
    "### 6. 문자열 인덱싱"
   ]
  },
  {
   "cell_type": "markdown",
   "metadata": {},
   "source": [
    "Life is too short, You need Python\n",
    "\n",
    "| L | i | f | e |   | i | s |   | t | o | o |   | s | h | o | r | t | , |   | Y | o | u |   | n | e | e | d |   | P | y | t | h | o | n |\n",
    "|---|---|---|---|---|---|---|---|---|---|---|---|---|---|---|---|---|---|---|---|---|---|---|---|---|---|---|---|---|---|---|---|---|---|\n",
    "| 0 | 1 | 2 | 3 | 4 | 5 | 6 | 7 | 8 | 9 | 10| 11| 12| 13| 14| 15| 16| 17| 18| 19| 20| 21| 22| 23| 24| 25| 26| 27| 28| 29| 30| 31| 32| 33|\n",
    "|-34|-33|-32|-31|-30|-29|-28|-27|-26|-25|-24|-23|-22|-21|-20|-19|-18|-17|-16|-15|-14|-13|-12|-11|-10| -9| -8| -7| -6| -5| -4| -3| -2| -1|\n",
    "\n"
   ]
  },
  {
   "cell_type": "markdown",
   "metadata": {},
   "source": [
    "인덱싱 기법과 슬라이싱 기법은 리스트, 튜플에서도 동일하게 사용할 수 있다"
   ]
  },
  {
   "cell_type": "markdown",
   "metadata": {},
   "source": [
    "### 7. 문자열 슬라이싱"
   ]
  },
  {
   "cell_type": "code",
   "execution_count": 295,
   "metadata": {},
   "outputs": [],
   "source": [
    "a = 'Life is too short, You need Python'"
   ]
  },
  {
   "cell_type": "code",
   "execution_count": null,
   "metadata": {},
   "outputs": [
    {
     "data": {
      "text/plain": [
       "'L'"
      ]
     },
     "execution_count": 72,
     "metadata": {},
     "output_type": "execute_result"
    }
   ],
   "source": [
    "a[0]"
   ]
  },
  {
   "cell_type": "code",
   "execution_count": null,
   "metadata": {},
   "outputs": [
    {
     "data": {
      "text/plain": [
       "'n'"
      ]
     },
     "execution_count": 75,
     "metadata": {},
     "output_type": "execute_result"
    }
   ],
   "source": [
    "a[-1]"
   ]
  },
  {
   "cell_type": "code",
   "execution_count": null,
   "metadata": {},
   "outputs": [
    {
     "data": {
      "text/plain": [
       "'Life'"
      ]
     },
     "execution_count": 82,
     "metadata": {},
     "output_type": "execute_result"
    }
   ],
   "source": [
    "a[0]+a[1]+a[2]+a[3]"
   ]
  },
  {
   "cell_type": "code",
   "execution_count": null,
   "metadata": {},
   "outputs": [
    {
     "data": {
      "text/plain": [
       "'Life'"
      ]
     },
     "execution_count": 83,
     "metadata": {},
     "output_type": "execute_result"
    }
   ],
   "source": [
    "# 슬라이싱 기법으로는 끝 번호에 해당하는 문자는 포함하지 않음\n",
    "a[0:4]"
   ]
  },
  {
   "cell_type": "code",
   "execution_count": null,
   "metadata": {},
   "outputs": [
    {
     "data": {
      "text/plain": [
       "'Life is too short'"
      ]
     },
     "execution_count": 84,
     "metadata": {},
     "output_type": "execute_result"
    }
   ],
   "source": [
    "a[:17]"
   ]
  },
  {
   "cell_type": "code",
   "execution_count": null,
   "metadata": {},
   "outputs": [
    {
     "data": {
      "text/plain": [
       "'Python'"
      ]
     },
     "execution_count": 81,
     "metadata": {},
     "output_type": "execute_result"
    }
   ],
   "source": [
    "a[-6:]"
   ]
  },
  {
   "cell_type": "code",
   "execution_count": null,
   "metadata": {},
   "outputs": [
    {
     "data": {
      "text/plain": [
       "'Life is too short, You need Python'"
      ]
     },
     "execution_count": 85,
     "metadata": {},
     "output_type": "execute_result"
    }
   ],
   "source": [
    "a[:]"
   ]
  },
  {
   "cell_type": "code",
   "execution_count": 299,
   "metadata": {},
   "outputs": [
    {
     "data": {
      "text/plain": [
       "'nohtyP deen uoY ,trohs oot si efiL'"
      ]
     },
     "execution_count": 299,
     "metadata": {},
     "output_type": "execute_result"
    }
   ],
   "source": [
    "a[::-1]"
   ]
  },
  {
   "cell_type": "markdown",
   "metadata": {},
   "source": [
    "#### 중간실습\n",
    "1. \"2024.02.10 Korean Lunar New Year\"로 year, month, day, event로 슬라이싱 해보세요\n",
    "2. 슬라이싱을 사용하여 \"pithon\" 문자열을 python으로 바꿔보세요"
   ]
  },
  {
   "cell_type": "code",
   "execution_count": null,
   "metadata": {},
   "outputs": [],
   "source": [
    "date_string = \"2024.02.10 Korean Lunar New Year\"\n",
    "\n",
    "year = date_string[0:4]\n",
    "month = date_string[5:7]\n",
    "day = date_string[8:10]\n",
    "event = date_string[11:]\n",
    "\n",
    "print('year:', year, ', month:', month, ', day:', day, ', event:', event)"
   ]
  },
  {
   "cell_type": "code",
   "execution_count": null,
   "metadata": {},
   "outputs": [],
   "source": [
    "a = 'pithon'\n",
    "\n",
    "a[0] + 'y' + a[2:]"
   ]
  },
  {
   "cell_type": "markdown",
   "metadata": {},
   "source": [
    "### 8. 문자열 포매팅"
   ]
  },
  {
   "cell_type": "markdown",
   "metadata": {},
   "source": [
    "#### 1. C 스타일"
   ]
  },
  {
   "cell_type": "markdown",
   "metadata": {},
   "source": [
    "\"Today's temperature is 23 degrees.\""
   ]
  },
  {
   "cell_type": "code",
   "execution_count": null,
   "metadata": {},
   "outputs": [
    {
     "name": "stdout",
     "output_type": "stream",
     "text": [
      "Today's temperature is 23 degrees.\n",
      "Today's temperature is twenty three degrees.\n",
      "yesterday's temperature is 18 degrees.\n",
      "3.1416\n"
     ]
    }
   ],
   "source": [
    "print(\"Today's temperature is %d degrees.\" % 23) # 숫자 대임\n",
    "print(\"Today's temperature is %s degrees.\" % 'twenty three') # 문자 대입\n",
    "print(\"%s's temperature is %d degrees.\" % ('yesterday', 18)) # 2개 이상의 값 넣기\n",
    "\n",
    "print(\"%0.4f\" % 3.1415926536)"
   ]
  },
  {
   "cell_type": "markdown",
   "metadata": {},
   "source": [
    "| 코드 | 설명                     |\n",
    "|------|-------------------------|\n",
    "| %s   | 문자열(String)          |\n",
    "| %c   | 문자 1개(character)     |\n",
    "| %d   | 정수(Integer)           |\n",
    "| %f   | 부동소수(floating-point)|\n",
    "| %o   | 8진수                   |\n",
    "| %x   | 16진수                  |\n",
    "| %%   | Literal % (문자 % 자체) |"
   ]
  },
  {
   "cell_type": "markdown",
   "metadata": {},
   "source": [
    "#### 2. format, f 포매팅"
   ]
  },
  {
   "cell_type": "code",
   "execution_count": 305,
   "metadata": {},
   "outputs": [
    {
     "name": "stdout",
     "output_type": "stream",
     "text": [
      "Today's temperature is 30 degrees.\n",
      "yesterday's temperature is 18 degrees.\n",
      "yesterday's temperature is 18 degrees.\n",
      "yesterday's temperature is 20 degrees.\n",
      "yesterday's temperature is 30 degrees.\n",
      "3.14\n",
      "3.14\n"
     ]
    }
   ],
   "source": [
    "print(\"Today's temperature is {0} degrees.\".format(30))\n",
    "print(\"{0}'s temperature is {1} degrees.\".format('yesterday', 18))\n",
    "print(\"{day}'s temperature is {tem} degrees.\".format(day = 'yesterday', tem = 18))\n",
    "\n",
    "# 파이썬 3.6 이상\n",
    "a, b, c = 'yesterday', 20, 10 \n",
    "print(f\"{a}'s temperature is {b} degrees.\")\n",
    "print(f\"{a}'s temperature is {b+c} degrees.\")\n",
    "\n",
    "pi = 3.1415926536\n",
    "print(\"{0:.2f}\".format(pi))\n",
    "print(f\"{pi:.2f}\")"
   ]
  },
  {
   "cell_type": "markdown",
   "metadata": {},
   "source": [
    "### 9. 문자 개수 세기"
   ]
  },
  {
   "cell_type": "code",
   "execution_count": null,
   "metadata": {},
   "outputs": [
    {
     "data": {
      "text/plain": [
       "3"
      ]
     },
     "execution_count": 112,
     "metadata": {},
     "output_type": "execute_result"
    }
   ],
   "source": [
    "a = \"Life is too short, You need Python\"\n",
    "\n",
    "a.count('e')"
   ]
  },
  {
   "cell_type": "markdown",
   "metadata": {},
   "source": [
    "### 10. 문자 위치 알려주기 - find, index"
   ]
  },
  {
   "cell_type": "code",
   "execution_count": null,
   "metadata": {},
   "outputs": [
    {
     "name": "stdout",
     "output_type": "stream",
     "text": [
      "3\n",
      "28\n",
      "-1\n"
     ]
    }
   ],
   "source": [
    "a = \"Life is too short, You need Python\"\n",
    "\n",
    "print(a.find('e')) # 처음 나온 위치 반환\n",
    "print(a.find('P'))\n",
    "print(a.find('p')) # 없으면 -1 반환"
   ]
  },
  {
   "cell_type": "code",
   "execution_count": null,
   "metadata": {},
   "outputs": [
    {
     "name": "stdout",
     "output_type": "stream",
     "text": [
      "28\n"
     ]
    }
   ],
   "source": [
    "print(a.index('P'))\n",
    "# print(a.index('p')) # 없으면 에러"
   ]
  },
  {
   "cell_type": "markdown",
   "metadata": {},
   "source": [
    "### 11. 문자열 삽입 - join"
   ]
  },
  {
   "cell_type": "code",
   "execution_count": null,
   "metadata": {},
   "outputs": [
    {
     "data": {
      "text/plain": [
       "'a, b, c, d'"
      ]
     },
     "execution_count": 126,
     "metadata": {},
     "output_type": "execute_result"
    }
   ],
   "source": [
    "', '.join(\"abcd\") # uipath의 String.Join(', ',row.itemarray)"
   ]
  },
  {
   "cell_type": "markdown",
   "metadata": {},
   "source": [
    "### 12. 대문자 변환, 소문자 변환 - upper, lower"
   ]
  },
  {
   "cell_type": "code",
   "execution_count": null,
   "metadata": {},
   "outputs": [
    {
     "name": "stdout",
     "output_type": "stream",
     "text": [
      "LIFE IS TOO SHORT, YOU NEED PYTHON\n",
      "life is too short, you need python\n"
     ]
    }
   ],
   "source": [
    "a = \"Life is too short, You need Python\"\n",
    "\n",
    "print(a.upper())\n",
    "print(a.lower())"
   ]
  },
  {
   "cell_type": "markdown",
   "metadata": {},
   "source": [
    "### 13. 공백지우기 - strip"
   ]
  },
  {
   "cell_type": "code",
   "execution_count": null,
   "metadata": {},
   "outputs": [
    {
     "name": "stdout",
     "output_type": "stream",
     "text": [
      "Life is too short, You need Python     \n",
      "     Life is too short, You need Python\n",
      "Life is too short, You need Python\n"
     ]
    }
   ],
   "source": [
    "a = \"     Life is too short, You need Python     \"\n",
    "\n",
    "print(a.lstrip())\n",
    "print(a.rstrip())\n",
    "print(a.strip())"
   ]
  },
  {
   "cell_type": "markdown",
   "metadata": {},
   "source": [
    "### 14. 문자열 바꾸기 - replace"
   ]
  },
  {
   "cell_type": "code",
   "execution_count": null,
   "metadata": {},
   "outputs": [
    {
     "name": "stdout",
     "output_type": "stream",
     "text": [
      "Your leg is too short\n",
      "python\n",
      "HelloWorld\n"
     ]
    }
   ],
   "source": [
    "a = 'Life is too short'\n",
    "b = 'pithon'\n",
    "c = 'Hello World'\n",
    "\n",
    "print(a.replace('Life', 'Your leg'))\n",
    "print(b.replace('i', 'y'))\n",
    "print(c.replace(' ', ''))"
   ]
  },
  {
   "cell_type": "markdown",
   "metadata": {},
   "source": [
    "### 15. 문자열 나누기 - split"
   ]
  },
  {
   "cell_type": "code",
   "execution_count": null,
   "metadata": {},
   "outputs": [
    {
     "name": "stdout",
     "output_type": "stream",
     "text": [
      "['Life', 'is', 'too', 'short']\n",
      "['a', 'b', 'c', 'd']\n"
     ]
    }
   ],
   "source": [
    "a = 'Life is too short'\n",
    "b = ','.join('abcd')\n",
    "\n",
    "print(a.split()) # 괄호 안에 아무 값도 넣어 주지 않으면 공백을 기준으로 문자열을 나누어 줌\n",
    "print(b.split(','))"
   ]
  },
  {
   "cell_type": "markdown",
   "metadata": {},
   "source": [
    "## 중간실습 - input 사용\n",
    "1. 포매팅을 사용하여 이름을 입력받아 화면에 'Hello, 이름'을 출력하세요\n",
    "2. 섭씨 온도(C)를 입력받아 화씨 온도(F)로 변환하여 출력하세요(변환공식: F = C * 9/5 + 32)\n",
    "3. 금액을 입력받아, 10%, 20%, 30% 팁을 계산하여 출력하세요\n",
    "4. 문자열을 입력받아 그 문자열의 길이를 구하세요\n",
    "5. 원의 반지름을 입력받아  원의 면적(πr²)과 둘레(2πr)를 출력하세요 (π는 3.14159로 가정)\n",
    "6. 정수 하나를 입력받아 그 수의 2배, 3배, 4배의 값을 한줄에 출력하세요\n",
    "7. 이름을 입력받아 이름의 문자들 사이에 공백을 두고 출력하세요\n",
    "8. 소숫점을 포함한 숫자를 입력받아 소숫점 이하를 제거하고 정수 부분만 출력하세요\n"
   ]
  }
 ],
 "metadata": {
  "kernelspec": {
   "display_name": "Python 3",
   "language": "python",
   "name": "python3"
  },
  "language_info": {
   "codemirror_mode": {
    "name": "ipython",
    "version": 3
   },
   "file_extension": ".py",
   "mimetype": "text/x-python",
   "name": "python",
   "nbconvert_exporter": "python",
   "pygments_lexer": "ipython3",
   "version": "3.9.13"
  }
 },
 "nbformat": 4,
 "nbformat_minor": 2
}
