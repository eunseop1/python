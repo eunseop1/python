{
 "cells": [
  {
   "cell_type": "markdown",
   "metadata": {},
   "source": [
    "문자열\n",
    "\n",
    "이스케이프 코드\n",
    "ex) \\n , \\\\"
   ]
  },
  {
   "cell_type": "code",
   "execution_count": 1,
   "metadata": {},
   "outputs": [
    {
     "name": "stdout",
     "output_type": "stream",
     "text": [
      "Hello' World\n",
      "Hello\" World\n",
      "H\n",
      "e\n",
      "l\n",
      "l\n",
      "o\n",
      "Hello\n"
     ]
    }
   ],
   "source": [
    "a = 'Hello World'\n",
    "\n",
    "a = 'Hello\\' World' # ''안에서 '를 입력하고 싶으면 \\를 추가한다\n",
    "\n",
    "b = \"Hello' World\" # \"\" 안에서는 ' 하나를 입력해도 된다\n",
    "\n",
    "b = \"Hello\\\" World\" # \"\"안에서 \"를 입력하고 싶으면 \\를 추가한다\n",
    "\n",
    "c = '''H\n",
    "e\n",
    "l\n",
    "l\n",
    "o'''\n",
    "# '''를 통해 넓게 사용가능\n",
    "\n",
    "d = \"\"\"Hello\"\"\"\n",
    "\n",
    "print(a)\n",
    "print(b)\n",
    "print(c)\n",
    "print(d)"
   ]
  },
  {
   "cell_type": "code",
   "execution_count": 2,
   "metadata": {},
   "outputs": [
    {
     "name": "stdout",
     "output_type": "stream",
     "text": [
      "Life is too short, You need Python\n",
      "Life is \\too short\\\n",
      ", You need Python\n",
      "Life is 'too' \"short\"\t, You 'need' \"Python\"\n"
     ]
    }
   ],
   "source": [
    "# a = Life is too short, You need Python\n",
    "\n",
    "# \\000  널\n",
    "# \\b  백스페이스\n",
    "\n",
    "a = \"Life is too short, You need Python\"\n",
    "print(a)\n",
    "\n",
    "b = \"Life is \\\\too short\\\\\\n, You need Python\"\n",
    "print(b)\n",
    "\n",
    "c = \"Life is \\'too\\' \\\"short\\\"\\t, You \\'need\\' \\\"Python\\\"\"\n",
    "print(c)"
   ]
  },
  {
   "cell_type": "code",
   "execution_count": 3,
   "metadata": {},
   "outputs": [
    {
     "name": "stdout",
     "output_type": "stream",
     "text": [
      "HelloWorld\n",
      "HelloHello\n"
     ]
    }
   ],
   "source": [
    "a = \"Hello\"\n",
    "b = \"World\"\n",
    "\n",
    "print(a + b)\n",
    "\n",
    "print(a * 2) # a 두번 반복"
   ]
  },
  {
   "cell_type": "code",
   "execution_count": 4,
   "metadata": {},
   "outputs": [
    {
     "data": {
      "text/plain": [
       "34"
      ]
     },
     "execution_count": 4,
     "metadata": {},
     "output_type": "execute_result"
    }
   ],
   "source": [
    "a = \"Life is too short, You need Python\"\n",
    "len(a)  # 띄어쓰기까지 계산"
   ]
  },
  {
   "cell_type": "code",
   "execution_count": 2,
   "metadata": {},
   "outputs": [
    {
     "name": "stdout",
     "output_type": "stream",
     "text": [
      "L\n",
      "n\n"
     ]
    }
   ],
   "source": [
    "# 문자열을 셀떄 0부터 시작\n",
    "a = \"Life is too short, You need Python\"\n",
    "\n",
    "print(a[0])\n",
    "print(a[-1])"
   ]
  },
  {
   "cell_type": "code",
   "execution_count": 3,
   "metadata": {},
   "outputs": [
    {
     "name": "stdout",
     "output_type": "stream",
     "text": [
      "nohtyP deen uoY ,trohs oot si efiL\n"
     ]
    }
   ],
   "source": [
    "# 거꾸로 출력\n",
    "\n",
    "print(a[::-1])"
   ]
  },
  {
   "cell_type": "markdown",
   "metadata": {},
   "source": [
    "2024.02.10 Korean Lunar New Year\n",
    "를 year, month,day, evet로 슬라이싱"
   ]
  },
  {
   "cell_type": "code",
   "execution_count": 4,
   "metadata": {},
   "outputs": [
    {
     "name": "stdout",
     "output_type": "stream",
     "text": [
      "year:  2024 month:  02 day:  10 event:  Korean Lunar New Year\n"
     ]
    }
   ],
   "source": [
    "c = \"2024.02.10 Korean Lunar New Year\"\n",
    "\n",
    "print(\"year: \", c[:4], \"month: \", c[5:7], \"day: \", c[8:10], \"event: \", c[11:])"
   ]
  },
  {
   "cell_type": "code",
   "execution_count": 5,
   "metadata": {},
   "outputs": [
    {
     "name": "stdout",
     "output_type": "stream",
     "text": [
      "python\n"
     ]
    }
   ],
   "source": [
    "c = \"pithon\"\n",
    "\n",
    "# c[1] = 'y'\n",
    "# 이렇게 수정 할 수는 없다. 문자열은 오직, replace로만 수정 가능\n",
    "\n",
    "print(c[0] + \"y\" + c[2:])"
   ]
  },
  {
   "cell_type": "code",
   "execution_count": 6,
   "metadata": {},
   "outputs": [
    {
     "data": {
      "text/plain": [
       "3"
      ]
     },
     "execution_count": 6,
     "metadata": {},
     "output_type": "execute_result"
    }
   ],
   "source": [
    "a = \"Life is too short, You need Python\"\n",
    "a.count('e')"
   ]
  },
  {
   "cell_type": "code",
   "execution_count": null,
   "metadata": {},
   "outputs": [],
   "source": [
    "a = \"Life is too short, You need Python\"\n",
    "\n",
    "print(a.find('e')) # 가장 처음나온 e의 위치를 안내\n",
    "print(a.find('p')) # 만약에 없는 문자를 찾게 되면 -1 반환하고 넘어감\n",
    "\n",
    "print(a.index('p')) # index는 find와 기능은 같으나 없는 문자를 찾을때 에러메세지를 띄운다"
   ]
  },
  {
   "cell_type": "code",
   "execution_count": 7,
   "metadata": {},
   "outputs": [
    {
     "data": {
      "text/plain": [
       "'a, b, c, d'"
      ]
     },
     "execution_count": 7,
     "metadata": {},
     "output_type": "execute_result"
    }
   ],
   "source": [
    "# String.Join(', ', row.itemarray)\n",
    "\n",
    "', '.join('abcd')"
   ]
  },
  {
   "cell_type": "code",
   "execution_count": 8,
   "metadata": {},
   "outputs": [
    {
     "name": "stdout",
     "output_type": "stream",
     "text": [
      "LIFE IS TOO SHORT, YOU NEED PYTHON\n",
      "life is too short, you need python\n"
     ]
    }
   ],
   "source": [
    "a = \"Life is too short, You need Python\"\n",
    "\n",
    "print(a.upper())\n",
    "print(a.lower())"
   ]
  },
  {
   "cell_type": "code",
   "execution_count": 9,
   "metadata": {},
   "outputs": [
    {
     "name": "stdout",
     "output_type": "stream",
     "text": [
      "Life is too short, You need Python\n",
      "Life is too short, You need Python              \n",
      "              Life is too short, You need Python\n"
     ]
    }
   ],
   "source": [
    "# 공백지우기\n",
    "a = \"              Life is too short, You need Python              \"\n",
    "\n",
    "print(a.strip())\n",
    "\n",
    "# 만약 앞공백만 지우고 싶다면?\n",
    "print(a.lstrip())\n",
    "\n",
    "# 만약 뒤 공백만 지우고 싶다면?\n",
    "print(a.rstrip())"
   ]
  },
  {
   "cell_type": "code",
   "execution_count": 10,
   "metadata": {},
   "outputs": [
    {
     "data": {
      "text/plain": [
       "'HelloWorld'"
      ]
     },
     "execution_count": 10,
     "metadata": {},
     "output_type": "execute_result"
    }
   ],
   "source": [
    "a = \"pithon\"\n",
    "\n",
    "# replace가 원본에 영향을 끼치게 하려면 이렇게 저장해야 한다\n",
    "a = a.replace('i', 'y')\n",
    "\n",
    "b = 'Hello World'\n",
    "b.replace(' ', '')"
   ]
  },
  {
   "cell_type": "code",
   "execution_count": 11,
   "metadata": {},
   "outputs": [
    {
     "data": {
      "text/plain": [
       "['Life', 'is', 'too', 'short,', 'You', 'need', 'Python']"
      ]
     },
     "execution_count": 11,
     "metadata": {},
     "output_type": "execute_result"
    }
   ],
   "source": [
    "# 문자열을 공백을 기준으로 나누어서 리스트로 만들기\n",
    "a = \"Life is too short, You need Python\"\n",
    "\n",
    "a.split()"
   ]
  },
  {
   "cell_type": "code",
   "execution_count": 12,
   "metadata": {},
   "outputs": [
    {
     "data": {
      "text/plain": [
       "['a', 'b', 'c', 'd']"
      ]
     },
     "execution_count": 12,
     "metadata": {},
     "output_type": "execute_result"
    }
   ],
   "source": [
    "# 문자열에 추가하여 하나하나 쪼개기\n",
    "b = ', '.join('abcd')\n",
    "\n",
    "b.split(', ')"
   ]
  },
  {
   "cell_type": "code",
   "execution_count": 13,
   "metadata": {},
   "outputs": [
    {
     "name": "stdout",
     "output_type": "stream",
     "text": [
      "Today's Temperature is 23 degrees\n",
      "Today's Temperature is 30 degrees\n",
      "Today's Temperature is 18 degrees\n",
      "yesterday's Temperature is 18 degrees\n",
      "yesterday's temperature is 20 degrees.\n",
      "yesterday's temperature is 30 degrees.\n",
      "3.1416\n",
      "3.1416\n"
     ]
    }
   ],
   "source": [
    "# 포맷팅\n",
    "# 반복문을 통해 사용\n",
    "\n",
    "print(\"Today's Temperature is %d degrees\" % 23)\n",
    "\n",
    "print(\"Today's Temperature is {0} degrees\".format(30))\n",
    "print(\"Today's Temperature is {1} degrees\".format('yesterday', 18))\n",
    "print(\"{day}'s Temperature is {tem} degrees\".format(day = 'yesterday', tem = 18))\n",
    "\n",
    "# 파이선 버전 3.6 이상\n",
    "a, b, c = 'yesterday', 20, 10\n",
    "print(f\"{a}'s temperature is {b} degrees.\")\n",
    "print(f\"{a}'s temperature is {b + c} degrees.\")\n",
    "\n",
    "pi = 3.1415926536\n",
    "print(\"{0:.4f}\".format(pi))\n",
    "print(f\"{pi:.4f}\")\n"
   ]
  },
  {
   "cell_type": "code",
   "execution_count": 14,
   "metadata": {},
   "outputs": [
    {
     "name": "stdout",
     "output_type": "stream",
     "text": [
      "Hello, 조증!\n"
     ]
    }
   ],
   "source": [
    "# 중간실습 - input , 포매팅 사용\n",
    "# 1. 포매팅을 사용하여 이름을 입력받아 화면에 'Hello, 이름'을 출력하세요\n",
    "\n",
    "# a = input(\"이름을 입력하시오\")\n",
    "# print(\"Hello, \", a)\n",
    "\n",
    "name = input(\"이름을 입력하시오\")\n",
    "print(f\"Hello, {name}!\")\n"
   ]
  },
  {
   "cell_type": "code",
   "execution_count": 15,
   "metadata": {},
   "outputs": [
    {
     "name": "stdout",
     "output_type": "stream",
     "text": [
      "화씨 온도는: 74.3도 입니다.\n"
     ]
    }
   ],
   "source": [
    "# 2. 섭씨 온도(C)를 입력받아 화씨 온도(F)로 변환하여 출력하세요(변환공식: F = C * 9/5 + 32)\n",
    "# c = float(input(\"섭씨온도 입력\"))\n",
    "# print(c * 9/5 + 32)\n",
    "\n",
    "\n",
    "C = float(input(\"섭씨 온도를 입력하세요: \"))\n",
    "F = C * 9/5 + 32\n",
    "print(f\"화씨 온도는: {F}도 입니다.\")"
   ]
  },
  {
   "cell_type": "code",
   "execution_count": 16,
   "metadata": {},
   "outputs": [
    {
     "name": "stdout",
     "output_type": "stream",
     "text": [
      "10% 팁: 2000.0, 20% 팁: 4000.0, 30% 팁: 6000.0\n"
     ]
    }
   ],
   "source": [
    "# 3. 금액을 입력받아, 10%, 20%, 30% 팁을 계산하여 출력하세요\n",
    "# b = int(input(\"금액입력\"))\n",
    "# print( \"10% 팁-> \", b * 0.1, \"\\t20% 팁-> \", b * 0.2, \"\\t30% 팁-> \", b * 0.3)\n",
    "\n",
    "amount = int(input(\"금액을 입력하세요: \"))\n",
    "print(f\"10% 팁: {amount * 0.1}, 20% 팁: {amount * 0.2}, 30% 팁: {amount * 0.3}\")"
   ]
  },
  {
   "cell_type": "code",
   "execution_count": 17,
   "metadata": {},
   "outputs": [
    {
     "name": "stdout",
     "output_type": "stream",
     "text": [
      "'이것은 뭘까?'의 길이는: 7입니다.\n"
     ]
    }
   ],
   "source": [
    "# 4. 문자열을 입력받아 그 문자열의 길이를 구하세요\n",
    "# a = input()\n",
    "# print(\"문자열의 길이-> \", len(a))\n",
    "\n",
    "string = input(\"문자열을 입력하세요: \")\n",
    "print(f\"'{string}'의 길이는: {len(string)}입니다.\")"
   ]
  },
  {
   "cell_type": "code",
   "execution_count": 18,
   "metadata": {},
   "outputs": [
    {
     "name": "stdout",
     "output_type": "stream",
     "text": [
      "반지름: 3.0, 면적: 28.2743, 둘레: 18.849539999999998\n"
     ]
    }
   ],
   "source": [
    "# 5. 원의 반지름을 입력받아  원의 면적(πr²)과 둘레(2πr)를 출력하세요 (π는 3.14159로 가정)\n",
    "# r = float(input(\"원의 반지름 입력\"))\n",
    "# pi = 3.14159\n",
    "# print(\"원의 면적(πr²)-> \", pi*r**2 ,\"둘레(2πr)-> \", 2*pi*r)\n",
    "\n",
    "r = float(input(\"원의 반지름을 입력하세요: \"))\n",
    "pi = 3.14159\n",
    "면적 = pi * r ** 2\n",
    "둘레 = 2 * pi * r\n",
    "print(f\"반지름: {r}, 면적: {면적:0.4f}, 둘레: {둘레}\")"
   ]
  },
  {
   "cell_type": "code",
   "execution_count": 19,
   "metadata": {},
   "outputs": [
    {
     "name": "stdout",
     "output_type": "stream",
     "text": [
      "2x: 6, 3x: 9, 4x: 12\n"
     ]
    }
   ],
   "source": [
    "# 6. 정수 하나를 입력받아 그 수의 2배, 3배, 4배의 값을 한줄에 출력하세요\n",
    "# x = int(input(\"정수 입력\"))\n",
    "# print(x * 2, x * 3, x * 4)\n",
    "\n",
    "num = int(input(\"Enter an integer: \"))\n",
    "print(f\"2x: {num*2}, 3x: {num*3}, 4x: {num*4}\")"
   ]
  },
  {
   "cell_type": "code",
   "execution_count": 20,
   "metadata": {},
   "outputs": [
    {
     "name": "stdout",
     "output_type": "stream",
     "text": [
      "이 이 이\n"
     ]
    }
   ],
   "source": [
    "# 7. 이름을 입력받아 이름의 문자들 사이에 공백을 두고 출력하세요\n",
    "# n = input(\"이름을 입력\")\n",
    "# b = ' '.join(n)\n",
    "# print(b)\n",
    "\n",
    "name = input(\"Enter your name: \")\n",
    "spaced_name = \" \".join(name)\n",
    "print(spaced_name)"
   ]
  },
  {
   "cell_type": "code",
   "execution_count": 21,
   "metadata": {},
   "outputs": [
    {
     "name": "stdout",
     "output_type": "stream",
     "text": [
      "3.14의 정수 부분은 3입니다\n"
     ]
    }
   ],
   "source": [
    "# 8. 소숫점을 포함한 숫자를 입력받아 소숫점 이하를 제거하고 정수 부분만 출력하세요\n",
    "# q = float(input(\"소수점 숫자 입력\"))\n",
    "# print(int(q))\n",
    "\n",
    "# 반올림을 한다면\n",
    "# print(round(q))\n",
    "\n",
    "\n",
    "float_num = float(input(\"소수점이 포함된 숫자를 입력하세요: \"))\n",
    "int_part = int(float_num)\n",
    "print(f\"{float_num}의 정수 부분은 {int_part}입니다\")"
   ]
  }
 ],
 "metadata": {
  "kernelspec": {
   "display_name": "Python 3",
   "language": "python",
   "name": "python3"
  },
  "language_info": {
   "codemirror_mode": {
    "name": "ipython",
    "version": 3
   },
   "file_extension": ".py",
   "mimetype": "text/x-python",
   "name": "python",
   "nbconvert_exporter": "python",
   "pygments_lexer": "ipython3",
   "version": "3.9.13"
  }
 },
 "nbformat": 4,
 "nbformat_minor": 2
}
