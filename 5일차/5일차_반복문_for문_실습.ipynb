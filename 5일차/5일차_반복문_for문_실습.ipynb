{
 "cells": [
  {
   "cell_type": "markdown",
   "metadata": {},
   "source": [
    "range(len())"
   ]
  },
  {
   "cell_type": "code",
   "execution_count": 10,
   "metadata": {},
   "outputs": [
    {
     "name": "stdout",
     "output_type": "stream",
     "text": [
      "7\n",
      "range(0, 7)\n",
      "[0, 1, 2, 3, 4, 5, 6]\n"
     ]
    }
   ],
   "source": [
    "list_a = [0, 1, 2, 3, 4, 5, 6]\n",
    "list_b = [6, 5, 4, 3, 2, 1, 0]\n",
    "print(len(list_a))\n",
    "print(range(len(list_a)))\n",
    "print(list(range(len(list_a))))"
   ]
  },
  {
   "cell_type": "code",
   "execution_count": 11,
   "metadata": {},
   "outputs": [
    {
     "name": "stdout",
     "output_type": "stream",
     "text": [
      "0\n",
      "6\n"
     ]
    }
   ],
   "source": [
    "print(list_a[0])\n",
    "print(list_b[0])"
   ]
  },
  {
   "cell_type": "markdown",
   "metadata": {},
   "source": []
  },
  {
   "cell_type": "markdown",
   "metadata": {},
   "source": [
    "for 문 실습\n",
    "\n",
    "1. range 함수를 이용하여 1~10까지 출력하세요\n",
    "2. range 함수를 이용하여 2~20까지 짝수만 출력하세요\n",
    "3. 구구단 단수를 입력하여 입력한 단수의 1~9까지 출력하세요\n",
    "4. [[1, 2], [3, 4], (5, 6), 'ab', 7]이 리스트를 언패킹할 때 나오는 에러메세지를 확인 후 수정하세요\n",
    "5. 4번에서 수정한 리스트를 통해 리스트 안의 리스트의 요소를 출력하세요\n",
    "6. 1부터 100까지 합계를 출력하세요\n",
    "7. range 함수를 사용하여 [\"n\", \"o\", \"h\", \"t\", \"y\", \"p\"]리스트의 요소를 출력하세요\n",
    "8. [\"a\", \"b\", \"c\", \"d\", \"e\", \"f\", \"g\", \"h\", \"i\", \"j\", \"k\"] 리스트 range 함수를 사용하여 \"짝수 번째 인덱스 요소\"만 출력하세요\n",
    "9. 7번에서 사용한 리스트를 동일하게 리스트의 요소를 역순으로 출력하세요\n",
    "10. 1부터 100까지의 숫자를 출력하는데, 3의 배수일 때는 \"Fizz\", 5의 배수일 때는 \"Buzz\", 3과 5의 공배수일 때는 \"FizzBuzz\"를 출력하세요"
   ]
  },
  {
   "cell_type": "code",
   "execution_count": 98,
   "metadata": {},
   "outputs": [
    {
     "name": "stdout",
     "output_type": "stream",
     "text": [
      "1 2\n",
      "3 4\n",
      "5 6\n",
      "a b\n",
      "7\n"
     ]
    }
   ],
   "source": [
    "# 4. [[1, 2], [3, 4], (5, 6), 'ab', 7]이 리스트를 언패킹할 때 나오는 에러메세지를 확인 후 수정하세요\n",
    "\n",
    "list_c = [[1, 2], [3, 4], (5, 6), 'ab', 7]\n",
    "\n",
    "for item in list_c:\n",
    "    if isinstance(item, (list, tuple)):  # 리스트나 튜플인 경우만 처리\n",
    "        i, j = item\n",
    "        print(i, j)\n",
    "    elif isinstance(item, str):  # 문자열인 경우. 이 부분은 'ab'까지는 언패킹 되게 하려고 한것이기에 없어도 된다\n",
    "        if len(item) >= 2:  # 문자열의 길이가 2 이상인 경우에만 언패킹\n",
    "            # i, j = item[0], item[1]  # 문자열을 문자 단위로 언패킹하여 i와 j에 할당\n",
    "            i, j = item\n",
    "            print(i, j)\n",
    "    else:\n",
    "        print(item)  # 리스트나 튜플이 아닌 경우에는 그냥 출력"
   ]
  },
  {
   "cell_type": "code",
   "execution_count": 29,
   "metadata": {},
   "outputs": [
    {
     "name": "stdout",
     "output_type": "stream",
     "text": [
      "[1, 2]\n",
      "[3, 4]\n"
     ]
    }
   ],
   "source": [
    "# 5. 4번에서 수정한 리스트를 통해 리스트 안의 리스트의 요소를 출력하세요\n",
    "\n",
    "list_c = [[1, 2], [3, 4], (5, 6), 'ab', 7]\n",
    "\n",
    "for i in list_c:\n",
    "    if isinstance(i, (list)):\n",
    "        print(i)"
   ]
  },
  {
   "cell_type": "code",
   "execution_count": 52,
   "metadata": {},
   "outputs": [
    {
     "name": "stdout",
     "output_type": "stream",
     "text": [
      "range(1, 101)\n",
      "[1, 2, 3, 4, 5, 6, 7, 8, 9, 10, 11, 12, 13, 14, 15, 16, 17, 18, 19, 20, 21, 22, 23, 24, 25, 26, 27, 28, 29, 30, 31, 32, 33, 34, 35, 36, 37, 38, 39, 40, 41, 42, 43, 44, 45, 46, 47, 48, 49, 50, 51, 52, 53, 54, 55, 56, 57, 58, 59, 60, 61, 62, 63, 64, 65, 66, 67, 68, 69, 70, 71, 72, 73, 74, 75, 76, 77, 78, 79, 80, 81, 82, 83, 84, 85, 86, 87, 88, 89, 90, 91, 92, 93, 94, 95, 96, 97, 98, 99, 100]\n",
      "5050\n",
      "5050\n"
     ]
    }
   ],
   "source": [
    "# 6. 1부터 100까지 합계를 출력하세요\n",
    "\n",
    "list_a = range(1, 101)\n",
    "list_ab = list(list_a)\n",
    "\n",
    "print(list_a)\n",
    "print(list_ab)\n",
    "\n",
    "print(sum(list_a))\n",
    "print(sum(i + 1 for i in range(0, 100)))"
   ]
  },
  {
   "cell_type": "code",
   "execution_count": 42,
   "metadata": {},
   "outputs": [
    {
     "name": "stdout",
     "output_type": "stream",
     "text": [
      "n o h t y p "
     ]
    }
   ],
   "source": [
    "# 7. range 함수를 사용하여 [\"n\", \"o\", \"h\", \"t\", \"y\", \"p\"]리스트의 요소를 출력하세요\n",
    "\n",
    "list_a = [\"n\", \"o\", \"h\", \"t\", \"y\", \"p\"]\n",
    "\n",
    "for i in range(len(list_a)):\n",
    "    print(list_a[i], end=\" \")"
   ]
  },
  {
   "cell_type": "code",
   "execution_count": 44,
   "metadata": {},
   "outputs": [
    {
     "name": "stdout",
     "output_type": "stream",
     "text": [
      "b d f h j "
     ]
    }
   ],
   "source": [
    "# 8. [\"a\", \"b\", \"c\", \"d\", \"e\", \"f\", \"g\", \"h\", \"i\", \"j\", \"k\"] 리스트 range 함수를 사용하여 \"짝수 번째 인덱스 요소\"만 출력하세요\n",
    "\n",
    "list_a = [\"a\", \"b\", \"c\", \"d\", \"e\", \"f\", \"g\", \"h\", \"i\", \"j\", \"k\"]\n",
    "\n",
    "for i in range(1, len(list_a), 2):\n",
    "    print(list_a[i], end=\" \")"
   ]
  },
  {
   "cell_type": "code",
   "execution_count": 91,
   "metadata": {},
   "outputs": [
    {
     "name": "stdout",
     "output_type": "stream",
     "text": [
      "[0, -1, -2, -3, -4, -5, -6]\n",
      "[-1, -2, -3, -4, -5, -6]\n",
      "n\n",
      "6\n",
      "p\n"
     ]
    }
   ],
   "source": [
    "list_a = [\"n\", \"o\", \"h\", \"t\", \"y\", \"p\"]\n",
    "\n",
    "print(list(range(0, -7, -1)))\n",
    "print(list(range(-1, -7, -1)))\n",
    "\n",
    "print(list_a[-6])\n",
    "print(len(list_a))\n",
    "\n",
    "print(list_a[-1])"
   ]
  },
  {
   "cell_type": "code",
   "execution_count": 105,
   "metadata": {},
   "outputs": [
    {
     "name": "stdout",
     "output_type": "stream",
     "text": [
      "[5, 4, 3, 2, 1, 0]\n",
      "p y t h o n "
     ]
    }
   ],
   "source": [
    "# 9. 7번에서 사용한 리스트를 동일하게 리스트의 요소를 역순으로 출력하세요\n",
    "\n",
    "list_a = [\"n\", \"o\", \"h\", \"t\", \"y\", \"p\"]\n",
    "a = range(len(list_a))\n",
    "\n",
    "# for i in range(-1, -(len(list_a)+1), -1):1\n",
    "#     print(list_a[i], end=\" \")\n",
    "\n",
    "# for i in range(1, len(list_a)+1):\n",
    "#     print(list_a[-i], end=\" \")\n",
    "\n",
    "print(list(range(5, -1, -1)))\n",
    "\n",
    "for i in range(len(list_a)-1, -1, -1):\n",
    "  print(list_a[i], end= \" \")\n"
   ]
  },
  {
   "cell_type": "code",
   "execution_count": 96,
   "metadata": {},
   "outputs": [
    {
     "name": "stdout",
     "output_type": "stream",
     "text": [
      "Fizz(3) Buzz(5) Fizz(6) Fizz(9) Buzz(10) Fizz(12) FizzBuzz(15) Fizz(18) Buzz(20) Fizz(21) Fizz(24) Buzz(25) Fizz(27) FizzBuzz(30) Fizz(33) Buzz(35) Fizz(36) Fizz(39) Buzz(40) Fizz(42) FizzBuzz(45) Fizz(48) Buzz(50) Fizz(51) Fizz(54) Buzz(55) Fizz(57) FizzBuzz(60) Fizz(63) Buzz(65) Fizz(66) Fizz(69) Buzz(70) Fizz(72) FizzBuzz(75) Fizz(78) Buzz(80) Fizz(81) Fizz(84) Buzz(85) Fizz(87) FizzBuzz(90) Fizz(93) Buzz(95) Fizz(96) Fizz(99) Buzz(100) "
     ]
    }
   ],
   "source": [
    "# 10. 1부터 100까지의 숫자를 출력하는데, 3의 배수일 때는 \"Fizz\", 5의 배수일 때는 \"Buzz\", 3과 5의 공배수일 때는 \"FizzBuzz\"를 출력하세요\n",
    "\n",
    "list_a = range(1, 101)\n",
    "\n",
    "for i in list_a:\n",
    "    if i % 15 == 0:\n",
    "        print(f\"FizzBuzz({i})\", end=\" \")\n",
    "    elif i % 5 == 0:\n",
    "        print(f\"Buzz({i})\", end= \" \")\n",
    "    elif i % 3 == 0:\n",
    "        print(f\"Fizz({i})\", end=\" \")\n",
    "    \n"
   ]
  },
  {
   "cell_type": "code",
   "execution_count": 95,
   "metadata": {},
   "outputs": [
    {
     "name": "stdout",
     "output_type": "stream",
     "text": [
      "Fizz(3) Buzz(5) Fizz(6) Fizz(9) Buzz(10) Fizz(12) FizzBuzz(15) Fizz(18) Buzz(20) Fizz(21) Fizz(24) Buzz(25) Fizz(27) FizzBuzz(30) Fizz(33) Buzz(35) Fizz(36) Fizz(39) Buzz(40) Fizz(42) FizzBuzz(45) Fizz(48) Buzz(50) Fizz(51) Fizz(54) Buzz(55) Fizz(57) FizzBuzz(60) Fizz(63) Buzz(65) Fizz(66) Fizz(69) Buzz(70) Fizz(72) FizzBuzz(75) Fizz(78) Buzz(80) Fizz(81) Fizz(84) Buzz(85) Fizz(87) FizzBuzz(90) Fizz(93) Buzz(95) Fizz(96) Fizz(99) Buzz(100) "
     ]
    }
   ],
   "source": [
    "list_a = range(1, 101)\n",
    "\n",
    "for i in list_a:\n",
    "    output = \"\"\n",
    "    if i % 3 == 0:\n",
    "        output += \"Fizz\"\n",
    "    if i % 5 == 0:\n",
    "        output += \"Buzz\"\n",
    "    if output == \"\":\n",
    "        continue\n",
    "    print(f\"{output}({i})\", end=\" \")"
   ]
  },
  {
   "cell_type": "markdown",
   "metadata": {},
   "source": [
    "1.\n",
    "당신은 오늘 친구와 만나기로 했습니다.  \n",
    "친구를 만나기 위해 운전을 해야 하는데, 출발 시간과 목적지까지 운전하는 데 필요한 시간(분 단위)를 입력받아 도착 예정 시간을 계산하는 프로그램을 작성하세요.  \n",
    "출발시간은 공백으로 구분할 수 있습니다. 시간은 24시간 단위입니다.\n",
    "\n",
    "2.\n",
    "for 반복문을 통해 구구단을 2단부터 9단까지 출력해 주는 프로그램을 작성하세요\n",
    "\n",
    "3.\n",
    "10개의 서로 다른 자연수를 입력했을 때 최댓값과 위치 인덱스를 출력하세요.\n",
    "\n",
    "4.\n",
    "입력한 영단어에서 가장 많이 사용된 알파벳을 찾고 대문자로 출력하는 프로그램을 작성하세요 가장 많이 사용된 알파벳이 2개 이상인 경우 ???를 출력하세요\n",
    "\n",
    "5.\n",
    "당신은 시험 점수를 관리하는 교사입니다.  \n",
    "최근 실시한 시험에서 학생들이 받은 점수는 다음과 같습니다 exam_scores = [95, 68, 85, 71, 23, 75, 91, 54, 35, 48]  \n",
    "학생들이 추가로 제출한 과제를 평가한 후 각 학생의 시험 점수에 다음과 같이 추가 점수를 부여하기로 결정했습니다 extra_points = [1, 10, 8, 9, 8, 5, 6, 4, 7, 0]  \n",
    "각 학생들의 번호, 시험점수, 과제점수, 최종점수를 출력하고 최종점수가 80점이상인 학생들의 번호를 \"80점 이상인 학생 번호:\" 라는 메세지와 함께 출력하세요\n",
    "\n",
    "6.\n",
    "업다운 게임  \n",
    "1부터 100 이하의 임의의 숫자를 선택하고 그 숫자를 맞추는 게임을 작성하세요  \n",
    "추측이 정답보다 크면 'down', 작으면 'up'이라고 알려주고 정답을 맞추면 시도 횟수와 함께 축하 메시지를 출력합니다\n",
    "\n",
    "6-1. 게임을 다시 시작하는 기능을 추가하고 게임이 종료될 때까지 시도한 횟수를 통해 '최소 시도 횟수'를 알려주는 기능을 추가해 보세요\n",
    "\n",
    "6-2. 난이도를 선택하는 기능을 추가해 보세요 쉬움:1~50, 보통: 1~100, 어려움: 1~150\n",
    "\n",
    "6-3. 입력한 값이 게임에서 허용하는 범위 내에 있는지 확인해 보세요\n",
    "\n",
    "\n",
    "7.\n",
    "당신은 대모험을 앞둔 용사입니다.  \n",
    "모험을 떠나기 전 운명의 슬롯 머신 게임에 도전하게 되었습니다.  \n",
    "슬롯 머신은 세 칸으로 구성되어 있고, 각 칸에는 1부터 6까지의 숫자가 랜덤하게 돌아갑니다.  \n",
    "슬롯 머신을 돌릴 때마다 나타나는 세 개의 숫자에 따라 당신이 얻게 될 \"마법의 별\"의 수가 결정됩니다.\n",
    "\n",
    "만약 세 칸의 숫자가 모두 같다면, 당신은 100 마법의 별과 (같은 숫자) x 10 마법의 별을 추가로 받습니다.  \n",
    "만약 세 칸 중 두 칸의 숫자가 같다면, 당신은 30 마법의 별과 (같은 숫자) x 5 마법의 별을 추가로 받습니다.  \n",
    "만약 모든 칸의 숫자가 서로 다르고 연속된 숫자라면, 50 마법의 별을 받습니다. (예: 1, 2, 3 또는 4, 5, 6)  \n",
    "그 외의 경우, 가장 큰 숫자에 해당하는 (가장 큰 숫자) x 2 마법의 별을 받습니다. \n",
    "\n",
    "위에서 사용한 randrange를 사용하시거나 직접 숫자를 넣어보세요"
   ]
  },
  {
   "cell_type": "code",
   "execution_count": 188,
   "metadata": {},
   "outputs": [
    {
     "name": "stdout",
     "output_type": "stream",
     "text": [
      "5\n",
      "0 56\n",
      "minute 1    56\n",
      "5\n",
      "61\n",
      "minute 2    56\n",
      "5\n",
      "61\n",
      "minute 3    1\n",
      "5\n",
      "61\n",
      "01:01\n"
     ]
    }
   ],
   "source": [
    "# 1.\n",
    "# 당신은 오늘 친구와 만나기로 했습니다.  \n",
    "# 친구를 만나기 위해 운전을 해야 하는데, 출발 시간과 목적지까지 운전하는 데 필요한 시간(분 단위)를 입력받아 도착 예정 시간을 계산하는 프로그램을 작성하세요.  \n",
    "# 출발시간은 공백으로 구분할 수 있습니다. 시간은 24시간 단위입니다.\n",
    "\n",
    "a = input(\"출발 시간을 입력하시오 @@시 @@분\")\n",
    "\n",
    "print(len(a))\n",
    "\n",
    "b = int(input(\"도착까지 걸리는 시간을 입력하시오\"))\n",
    "\n",
    "if len(a) >= 3:\n",
    "    hour, minute = map(int, a.split(\" \"))\n",
    "elif len(a) < 3:\n",
    "    hour = int(a[0])\n",
    "    minute = 0\n",
    "print(hour, minute)\n",
    "\n",
    "if b > 0:\n",
    "    minute_b = minute + b\n",
    "    print(\"minute 1   \", minute)\n",
    "    print(b)\n",
    "    print(minute_b)\n",
    "\n",
    "    if minute_b >= 60:\n",
    "        hour_b = int(minute_b / 60)\n",
    "\n",
    "        hour += hour_b\n",
    "\n",
    "        print(\"minute 2   \", minute)\n",
    "        print(b)\n",
    "        print(minute_b)\n",
    "\n",
    "        if hour >= 24:\n",
    "            hour = int(hour % 24)\n",
    "\n",
    "        minute = minute_b % 60\n",
    "\n",
    "        print(\"minute 3   \" ,minute)\n",
    "        print(b)\n",
    "        print(minute_b)\n",
    "\n",
    "    else:\n",
    "        minute = minute_b\n",
    "else:\n",
    "    print(\"걸리는 시간이 입력되지 않았습니다\")\n",
    "\n",
    "# zero = \"0\"\n",
    "# if hour < 10:\n",
    "#     print(f\"{zero}{hour}:\", end=\"\")\n",
    "# else:\n",
    "#     print(f\"{hour}:\", end=\"\")\n",
    "# if minute < 10:\n",
    "#     print(f\"{zero}{minute}\", end=\"\")\n",
    "# else:\n",
    "#     print(f\"{minute}\", end=\"\")\n",
    "\n",
    "print(f\"{format(hour, '02')}:{format(minute, '02')}\")\n",
    "\n",
    "\n"
   ]
  },
  {
   "cell_type": "code",
   "execution_count": 189,
   "metadata": {},
   "outputs": [
    {
     "name": "stdout",
     "output_type": "stream",
     "text": [
      "도착 예정시간은 0시 0분입니다\n",
      "도착 예정시간은 00시 00분입니다\n"
     ]
    }
   ],
   "source": [
    "# 1\n",
    "\n",
    "input_time = input('출발시간을 입력하세요(시 분): ').split()\n",
    "\n",
    "h = int(input_time[0])\n",
    "m = int(input_time[1])\n",
    "\n",
    "driving_time = int(input('운전에 필요한 시간(분)을 입력하세요: '))\n",
    "\n",
    "m += driving_time\n",
    "\n",
    "h = h + m // 60 # 시간 + (m을 60으로 나눈 몫을 더함)\n",
    "\n",
    "m = m % 60 # 60으로 나눈후 나머지를 분에 반환\n",
    "\n",
    "h = h % 24 # 24가 넘을 경우 시간으로 환산\n",
    "\n",
    "print(f'도착 예정시간은 {h}시 {m}분입니다')\n",
    "print(f'도착 예정시간은 {h:02d}시 {m:02d}분입니다')"
   ]
  },
  {
   "cell_type": "code",
   "execution_count": 192,
   "metadata": {},
   "outputs": [
    {
     "name": "stdout",
     "output_type": "stream",
     "text": [
      "2 X 1 = 2\n",
      "2 X 2 = 4\n",
      "2 X 3 = 6\n",
      "2 X 4 = 8\n",
      "2 X 5 = 10\n",
      "2 X 6 = 12\n",
      "2 X 7 = 14\n",
      "2 X 8 = 16\n",
      "2 X 9 = 18\n",
      "\n",
      "3 X 1 = 3\n",
      "3 X 2 = 6\n",
      "3 X 3 = 9\n",
      "3 X 4 = 12\n",
      "3 X 5 = 15\n",
      "3 X 6 = 18\n",
      "3 X 7 = 21\n",
      "3 X 8 = 24\n",
      "3 X 9 = 27\n",
      "\n",
      "4 X 1 = 4\n",
      "4 X 2 = 8\n",
      "4 X 3 = 12\n",
      "4 X 4 = 16\n",
      "4 X 5 = 20\n",
      "4 X 6 = 24\n",
      "4 X 7 = 28\n",
      "4 X 8 = 32\n",
      "4 X 9 = 36\n",
      "\n",
      "5 X 1 = 5\n",
      "5 X 2 = 10\n",
      "5 X 3 = 15\n",
      "5 X 4 = 20\n",
      "5 X 5 = 25\n",
      "5 X 6 = 30\n",
      "5 X 7 = 35\n",
      "5 X 8 = 40\n",
      "5 X 9 = 45\n",
      "\n",
      "6 X 1 = 6\n",
      "6 X 2 = 12\n",
      "6 X 3 = 18\n",
      "6 X 4 = 24\n",
      "6 X 5 = 30\n",
      "6 X 6 = 36\n",
      "6 X 7 = 42\n",
      "6 X 8 = 48\n",
      "6 X 9 = 54\n",
      "\n",
      "7 X 1 = 7\n",
      "7 X 2 = 14\n",
      "7 X 3 = 21\n",
      "7 X 4 = 28\n",
      "7 X 5 = 35\n",
      "7 X 6 = 42\n",
      "7 X 7 = 49\n",
      "7 X 8 = 56\n",
      "7 X 9 = 63\n",
      "\n",
      "8 X 1 = 8\n",
      "8 X 2 = 16\n",
      "8 X 3 = 24\n",
      "8 X 4 = 32\n",
      "8 X 5 = 40\n",
      "8 X 6 = 48\n",
      "8 X 7 = 56\n",
      "8 X 8 = 64\n",
      "8 X 9 = 72\n",
      "\n",
      "9 X 1 = 9\n",
      "9 X 2 = 18\n",
      "9 X 3 = 27\n",
      "9 X 4 = 36\n",
      "9 X 5 = 45\n",
      "9 X 6 = 54\n",
      "9 X 7 = 63\n",
      "9 X 8 = 72\n",
      "9 X 9 = 81\n",
      "\n"
     ]
    }
   ],
   "source": [
    "# 2. for 반복문을 통해 구구단을 2단부터 9단까지 출력해 주는 프로그램을 작성하세요\n",
    "\n",
    "for i in range(2, 10):\n",
    "    for j in range(1, 10):\n",
    "        print(f\"{i} X {j} = {i*j}\")\n",
    "    print(\"\")"
   ]
  },
  {
   "cell_type": "code",
   "execution_count": 238,
   "metadata": {},
   "outputs": [
    {
     "name": "stdout",
     "output_type": "stream",
     "text": [
      "[10, 12, 10, 10, 10, 456, 12, 42, 52, 52]\n",
      "최댓값 456, 인덱스 5\n"
     ]
    }
   ],
   "source": [
    "# 3. 10개의 서로 다른 자연수를 입력했을 때 최댓값과 위치 인덱스를 출력하세요.\n",
    "\n",
    "list_a = []\n",
    "\n",
    "for i in range(0, 10):\n",
    "    a = int(input(\"입력하시오\"))\n",
    "    list_a.append(a)\n",
    "\n",
    "max_val = 0\n",
    "max_index = 0\n",
    "\n",
    "print(list_a)\n",
    "\n",
    "for i in range(0, 10):\n",
    "    if max_val < int(list_a[i]):\n",
    "        max_val = list_a[i]\n",
    "        max_index = i\n",
    "\n",
    "print(f\"최댓값 {max_val}, 인덱스 {max_index}\")"
   ]
  },
  {
   "cell_type": "code",
   "execution_count": 10,
   "metadata": {},
   "outputs": [
    {
     "name": "stdout",
     "output_type": "stream",
     "text": [
      "apple\n",
      "['l', 'e', 'p', 'a']\n",
      "3\n",
      "P\n"
     ]
    }
   ],
   "source": [
    "# 4. 입력한 영단어에서 가장 많이 사용된 알파벳을 찾고 대문자로 출력하는 프로그램을 작성하세요 가장 많이 사용된 알파벳이 2개 이상인 경우 ???를 출력하세요\n",
    "\n",
    "a = input(\"단어를 입력하시오\")\n",
    "\n",
    "b = list(set(a))\n",
    "c = []\n",
    "\n",
    "max_val = \"\"\n",
    "max_num = 0\n",
    "\n",
    "# del max\n",
    "\n",
    "print(a)\n",
    "print(b)\n",
    "\n",
    "print(b.index(\"a\"))\n",
    "\n",
    "for i in b:\n",
    "    max_num = a.count(i)\n",
    "    c.append(max_num)\n",
    "\n",
    "if b.count(max(b)) > 1:\n",
    "    print(\"???\")\n",
    "else:\n",
    "    max_val = b[b.index(max(b))]\n",
    "    print(f\"{max_val.upper()}\")"
   ]
  },
  {
   "cell_type": "markdown",
   "metadata": {},
   "source": [
    "5.\n",
    "당신은 시험 점수를 관리하는 교사입니다.  \n",
    "최근 실시한 시험에서 학생들이 받은 점수는 다음과 같습니다 exam_scores = [95, 68, 85, 71, 23, 75, 91, 54, 35, 48]  \n",
    "학생들이 추가로 제출한 과제를 평가한 후 각 학생의 시험 점수에 다음과 같이 추가 점수를 부여하기로 결정했습니다 extra_points = [1, 10, 8, 9, 8, 5, 6, 4, 7, 0]  \n",
    "각 학생들의 번호, 시험점수, 과제점수, 최종점수를 출력하고 최종점수가 80점이상인 학생들의 번호를 \"80점 이상인 학생 번호:\" 라는 메세지와 함께 출력하세요\n",
    "\n",
    "6.\n",
    "업다운 게임  \n",
    "1부터 100 이하의 임의의 숫자를 선택하고 그 숫자를 맞추는 게임을 작성하세요  \n",
    "추측이 정답보다 크면 'down', 작으면 'up'이라고 알려주고 정답을 맞추면 시도 횟수와 함께 축하 메시지를 출력합니다\n",
    "\n",
    "6-1. 게임을 다시 시작하는 기능을 추가하고 게임이 종료될 때까지 시도한 횟수를 통해 '최소 시도 횟수'를 알려주는 기능을 추가해 보세요\n",
    "\n",
    "6-2. 난이도를 선택하는 기능을 추가해 보세요 쉬움:1~50, 보통: 1~100, 어려움: 1~150\n",
    "\n",
    "6-3. 입력한 값이 게임에서 허용하는 범위 내에 있는지 확인해 보세요\n",
    "\n",
    "\n",
    "7.\n",
    "당신은 대모험을 앞둔 용사입니다.  \n",
    "모험을 떠나기 전 운명의 슬롯 머신 게임에 도전하게 되었습니다.  \n",
    "슬롯 머신은 세 칸으로 구성되어 있고, 각 칸에는 1부터 6까지의 숫자가 랜덤하게 돌아갑니다.  \n",
    "슬롯 머신을 돌릴 때마다 나타나는 세 개의 숫자에 따라 당신이 얻게 될 \"마법의 별\"의 수가 결정됩니다.\n",
    "\n",
    "만약 세 칸의 숫자가 모두 같다면, 당신은 100 마법의 별과 (같은 숫자) x 10 마법의 별을 추가로 받습니다.  \n",
    "만약 세 칸 중 두 칸의 숫자가 같다면, 당신은 30 마법의 별과 (같은 숫자) x 5 마법의 별을 추가로 받습니다.  \n",
    "만약 모든 칸의 숫자가 서로 다르고 연속된 숫자라면, 50 마법의 별을 받습니다. (예: 1, 2, 3 또는 4, 5, 6)  \n",
    "그 외의 경우, 가장 큰 숫자에 해당하는 (가장 큰 숫자) x 2 마법의 별을 받습니다. \n",
    "\n",
    "위에서 사용한 randrange를 사용하시거나 직접 숫자를 넣어보세요"
   ]
  }
 ],
 "metadata": {
  "kernelspec": {
   "display_name": "Python 3",
   "language": "python",
   "name": "python3"
  },
  "language_info": {
   "codemirror_mode": {
    "name": "ipython",
    "version": 3
   },
   "file_extension": ".py",
   "mimetype": "text/x-python",
   "name": "python",
   "nbconvert_exporter": "python",
   "pygments_lexer": "ipython3",
   "version": "3.9.13"
  }
 },
 "nbformat": 4,
 "nbformat_minor": 2
}
