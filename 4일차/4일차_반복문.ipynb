{
 "cells": [
  {
   "cell_type": "markdown",
   "metadata": {},
   "source": [
    "1. 1부터 10까지 숫자 출력하기\n",
    "2. 무한 루프를 사용하여 메시지를 계속 출력하다가 '종료'를 입력하면 '종료합니다.'를 출력하는 프로그램을 작성하세요\n",
    "3. 1부터 시작해 숫자를 더해나가고 합이 100을 초과할 때까지 반복하는 프로그램을 작성하세요(중간 연산 결과도 함께 출력해 보세요)\n",
    "4. '네' 혹은 '아니오'를 입력할 때까지 계속 질문하기('당신은 파이썬을 좋아하나요?') \n",
    "5. 숫자를 계속 입력받다가 0을 입력받으면 입력된 모든 숫자의 합계를 출력하는 프로그램을 작성하세요(중간 연산 결과도 함께 출력해 보세요)\n",
    "6. 미리 설정된 id, pw와 입력한 id, pw와 검사하여 일치할 때까지 id와 pw를 입력받는 프로그램을 작성하세요\n",
    "7. 정수 하나를 입력받고 입력된 숫자만큼 줄에 걸쳐 *(별)을 이용해 직각 삼각형을 출력하는 프로그램을 작성하세요(5를 입력받으면, 1개의 별부터 시작하여 각 줄마다 1개씩 늘려가며 별을 찍습니다.)\n",
    "8. 연산자(+, -, *, /)와 두 개의 숫자를 입력받아 연산을 수행하고 결과를 출력하는 프로그램을 작성하세요\n",
    "9. 8번의 프로그램에 입력한 연산자가 올바른지 확인하고 잘못된 연산자가 입력될 경우, 올바른 연산자가 입력될 때까지 계속 입력을 요구하는 로직을 추가해 보세요\n",
    "10. 숫자에 0을 넣어보고 나오는 오류메세지를 해결해 보세요"
   ]
  },
  {
   "cell_type": "code",
   "execution_count": 1,
   "metadata": {},
   "outputs": [
    {
     "name": "stdout",
     "output_type": "stream",
     "text": [
      "1\n",
      "2\n",
      "3\n",
      "4\n",
      "5\n",
      "6\n",
      "7\n",
      "8\n",
      "9\n",
      "10\n"
     ]
    }
   ],
   "source": [
    "# while문 실습\n",
    "\n",
    "i = 0\n",
    "while i < 10:\n",
    "    i += 1\n",
    "    print(i)\n",
    "    "
   ]
  },
  {
   "cell_type": "code",
   "execution_count": 6,
   "metadata": {},
   "outputs": [
    {
     "name": "stdout",
     "output_type": "stream",
     "text": [
      "sadas\n",
      "sdaas\n",
      "sadas\n",
      "fddffd\n",
      "fff\n",
      "ffff\n",
      "종료합니다.\n",
      "종료\n"
     ]
    }
   ],
   "source": [
    "b = True\n",
    "while b:\n",
    "    a = input(\"아무거나 입력하시오\")\n",
    "    if a == '종료':\n",
    "        b = False\n",
    "        print(\"종료합니다.\")\n",
    "    print(a)"
   ]
  },
  {
   "cell_type": "code",
   "execution_count": 7,
   "metadata": {},
   "outputs": [
    {
     "name": "stdout",
     "output_type": "stream",
     "text": [
      "1\n",
      "3\n",
      "6\n",
      "10\n",
      "15\n",
      "21\n",
      "28\n",
      "36\n",
      "45\n",
      "55\n",
      "66\n",
      "78\n",
      "91\n",
      "105\n"
     ]
    }
   ],
   "source": [
    "a = 1\n",
    "b = 0\n",
    "while b < 100:\n",
    "    b += a\n",
    "    a += 1\n",
    "    print(b)"
   ]
  },
  {
   "cell_type": "code",
   "execution_count": 9,
   "metadata": {},
   "outputs": [],
   "source": [
    "# '네' 혹은 '아니오'를 입력할 때까지 계속 질문하기('당신은 파이썬을 좋아하나요?')\n",
    "\n",
    "b = True\n",
    "\n",
    "list_a = ['네', '아니오']\n",
    "\n",
    "while b:\n",
    "    a = input(\"당신은 파이썬을 좋아하나요?\")\n",
    "    if a in list_a:\n",
    "        b = False\n",
    "\n"
   ]
  },
  {
   "cell_type": "markdown",
   "metadata": {},
   "source": []
  },
  {
   "cell_type": "code",
   "execution_count": 12,
   "metadata": {},
   "outputs": [
    {
     "name": "stdout",
     "output_type": "stream",
     "text": [
      "15\n"
     ]
    }
   ],
   "source": [
    "# 숫자를 계속 입력받다가 0을 입력받으면 입력된 모든 숫자의 합계를 출력하는 프로그램을 작성하세요(중간 연산 결과도 함께 출력해 보세요)\n",
    "\n",
    "b = True\n",
    "c = 0\n",
    "while b:\n",
    "    a = input(\"숫자입력\")\n",
    "    if a == '0':\n",
    "        print(c)\n",
    "        b = False\n",
    "    c += int(a)\n",
    "    "
   ]
  },
  {
   "cell_type": "code",
   "execution_count": 17,
   "metadata": {},
   "outputs": [
    {
     "name": "stdout",
     "output_type": "stream",
     "text": [
      "id를 확인하세요\n",
      "비밀번호 정보가 다릅니다\n",
      "비밀번호 정보가 다릅니다\n",
      "id를 확인하세요\n",
      "id를 확인하세요\n",
      "id를 확인하세요\n",
      "로그인 성공\n"
     ]
    }
   ],
   "source": [
    "# 미리 설정된 id, pw와 입력한 id, pw와 검사하여 일치할 때까지 id와 pw를 입력받는 프로그램을 작성하세요\n",
    "\n",
    "pre_id = \"123\"\n",
    "pre_pw = \"123\"\n",
    "\n",
    "not_confirmed = True\n",
    "\n",
    "while not_confirmed:\n",
    "    my_id = input(\"id입력\")\n",
    "    my_pw = input(\"pw입력\")\n",
    "\n",
    "    if pre_id == my_id:\n",
    "        if pre_pw == my_pw:\n",
    "            not_confirmed = False\n",
    "            print(\"로그인 성공\")\n",
    "        elif pre_pw != my_pw:\n",
    "            print(\"비밀번호 정보가 다릅니다\")\n",
    "        else:\n",
    "            print(\"에러\")\n",
    "    elif pre_id != my_id:\n",
    "        print(\"id를 확인하세요\")\n",
    "    else:\n",
    "        print(\"에러\")"
   ]
  },
  {
   "cell_type": "code",
   "execution_count": 23,
   "metadata": {},
   "outputs": [
    {
     "name": "stdout",
     "output_type": "stream",
     "text": [
      "*\n",
      "**\n",
      "***\n",
      "****\n",
      "*****\n"
     ]
    }
   ],
   "source": [
    "# 정수 하나를 입력받고 입력된 숫자만큼 줄에 걸쳐 *(별)을 이용해 직각 삼각형을 출력하는 프로그램을 작성하세요(5를 입력받으면, 1개의 별부터 시작하여 각 줄마다 1개씩 늘려가며 별을 찍습니다.)\n",
    "\n",
    "a = int(input(\"정수입력\"))\n",
    "b = 1\n",
    "\n",
    "while b <= a:\n",
    "    print(\"*\" * b)\n",
    "    b += 1\n"
   ]
  },
  {
   "cell_type": "markdown",
   "metadata": {},
   "source": [
    "8. 연산자(+, -, *, /)와 두 개의 숫자를 입력받아 연산을 수행하고 결과를 출력하는 프로그램을 작성하세요\n",
    "9. 8번의 프로그램에 입력한 연산자가 올바른지 확인하고 잘못된 연산자가 입력될 경우, 올바른 연산자가 입력될 때까지 계속 입력을 요구하는 로직을 추가해 보세요\n",
    "10. 숫자에 0을 넣어보고 나오는 오류메세지를 해결해 보세요"
   ]
  },
  {
   "cell_type": "code",
   "execution_count": 30,
   "metadata": {},
   "outputs": [
    {
     "name": "stdout",
     "output_type": "stream",
     "text": [
      "1 + 2 = 3\n"
     ]
    }
   ],
   "source": [
    "# 연산자(+, -, *, /)와 두 개의 숫자를 입력받아 연산을 수행하고 결과를 출력하는 프로그램을 작성하세요\n",
    "\n",
    "a = input(\"연산자 입력\")\n",
    "b = int(input(\"숫자1 입력\"))\n",
    "c = int(input(\"숫자2 입력\"))\n",
    "\n",
    "list_a = ['+', '-', '*', '/']\n",
    "\n",
    "if a in list_a:\n",
    "    d = list_a.index(a)\n",
    "    if list_a[d] == '+':\n",
    "        print(f\"{b} {a} {c} = {b + c}\")\n",
    "    elif list_a[d] == '-':\n",
    "        print(f\"{b} {a} {c} = {b - c}\")\n",
    "    elif list_a[d] == '*':\n",
    "        print(f\"{b} {a} {c} = {b * c}\")\n",
    "    elif list_a[d] == '/':\n",
    "        print(f\"{b} {a} {c} = {b / c}\")"
   ]
  },
  {
   "cell_type": "code",
   "execution_count": 53,
   "metadata": {},
   "outputs": [
    {
     "name": "stdout",
     "output_type": "stream",
     "text": [
      "1 + 2 = 3\n"
     ]
    }
   ],
   "source": [
    "# 8번의 프로그램에 입력한 연산자가 올바른지 확인하고 잘못된 연산자가 입력될 경우, 올바른 연산자가 입력될 때까지 계속 입력을 요구하는 로직을 추가해 보세요\n",
    "e = True\n",
    "list_a = ['+', '-', '*', '/']\n",
    "\n",
    "while e:\n",
    "    a = input(\"연산자 입력\")\n",
    "    if a in list_a:\n",
    "        b = int(input(\"숫자1 입력\"))\n",
    "        c = int(input(\"숫자2 입력\"))\n",
    "        d = list_a.index(a)\n",
    "\n",
    "        if list_a[d] == '+':\n",
    "            print(f\"{b} {a} {c} = {b + c}\")\n",
    "        elif list_a[d] == '-':\n",
    "            print(f\"{b} {a} {c} = {b - c}\")\n",
    "        elif list_a[d] == '*':\n",
    "            print(f\"{b} {a} {c} = {b * c}\")\n",
    "        elif list_a[d] == '/':\n",
    "            print(f\"{b} {a} {c} = {b / c}\")\n",
    "\n",
    "        e = False\n",
    "    else:\n",
    "        print(\"연산자를 다시 확인하세요\")"
   ]
  },
  {
   "cell_type": "code",
   "execution_count": 37,
   "metadata": {},
   "outputs": [
    {
     "name": "stdout",
     "output_type": "stream",
     "text": [
      "1 / 2 = 0.5\n"
     ]
    }
   ],
   "source": [
    "e = True\n",
    "list_a = ['+', '-', '*', '/']\n",
    "\n",
    "while e:\n",
    "    a = input(\"연산자 입력\")\n",
    "\n",
    "    if a in list_a:\n",
    "        d = list_a.index(a)\n",
    "\n",
    "        if list_a[d] == '/':\n",
    "            ee = True\n",
    "            while ee:\n",
    "                b = int(input(\"숫자1 입력\"))\n",
    "                if b == 0:\n",
    "                    continue\n",
    "                c = int(input(\"숫자2 입력\"))\n",
    "                if c == 0:\n",
    "                    continue\n",
    "                ee =False\n",
    "            print(f\"{b} {a} {c} = {b / c}\")\n",
    "        \n",
    "        else:\n",
    "            b = int(input(\"숫자1 입력\"))\n",
    "            c = int(input(\"숫자2 입력\"))\n",
    "\n",
    "            if list_a[d] == '+':\n",
    "                print(f\"{b} {a} {c} = {b + c}\")\n",
    "            elif list_a[d] == '-':\n",
    "                print(f\"{b} {a} {c} = {b - c}\")\n",
    "            elif list_a[d] == '*':\n",
    "                print(f\"{b} {a} {c} = {b * c}\")\n",
    "\n",
    "        e = False\n",
    "    else:\n",
    "        print(\"연산자를 다시 확인하세요\")"
   ]
  },
  {
   "cell_type": "code",
   "execution_count": 54,
   "metadata": {},
   "outputs": [
    {
     "name": "stdout",
     "output_type": "stream",
     "text": [
      "1 + 2 = 3\n"
     ]
    }
   ],
   "source": [
    "e = True\n",
    "list_a = ['+', '-', '*', '/']\n",
    "\n",
    "while e:\n",
    "    a = input(\"연산자 입력\")\n",
    "\n",
    "    if a in list_a:\n",
    "        d = list_a.index(a)\n",
    "\n",
    "        if list_a[d] == '/':\n",
    "            eb = True\n",
    "            while eb:\n",
    "\n",
    "                b = int(input(\"숫자1 입력\"))\n",
    "                if b == 0:\n",
    "                    continue\n",
    "                eb =False\n",
    "\n",
    "            ec = True\n",
    "            while ec:\n",
    "                c = int(input(\"숫자2 입력\"))\n",
    "                if c == 0:\n",
    "                    continue\n",
    "                ec = False\n",
    "\n",
    "            print(f\"{b} {a} {c} = {b / c}\")\n",
    "        \n",
    "        else:\n",
    "            b = int(input(\"숫자1 입력\"))\n",
    "            c = int(input(\"숫자2 입력\"))\n",
    "\n",
    "            if list_a[d] == '+':\n",
    "                print(f\"{b} {a} {c} = {b + c}\")\n",
    "            elif list_a[d] == '-':\n",
    "                print(f\"{b} {a} {c} = {b - c}\")\n",
    "            elif list_a[d] == '*':\n",
    "                print(f\"{b} {a} {c} = {b * c}\")\n",
    "\n",
    "        e = False\n",
    "    else:\n",
    "        print(\"연산자를 다시 확인하세요\")"
   ]
  },
  {
   "cell_type": "code",
   "execution_count": 49,
   "metadata": {},
   "outputs": [
    {
     "ename": "KeyboardInterrupt",
     "evalue": "Interrupted by user",
     "output_type": "error",
     "traceback": [
      "\u001b[1;31m---------------------------------------------------------------------------\u001b[0m",
      "\u001b[1;31mKeyboardInterrupt\u001b[0m                         Traceback (most recent call last)",
      "Cell \u001b[1;32mIn[49], line 3\u001b[0m\n\u001b[0;32m      1\u001b[0m \u001b[38;5;28;01mwhile\u001b[39;00m \u001b[38;5;28;01mTrue\u001b[39;00m:\n\u001b[0;32m      2\u001b[0m     \u001b[38;5;28;01mtry\u001b[39;00m:\n\u001b[1;32m----> 3\u001b[0m         a \u001b[38;5;241m=\u001b[39m \u001b[38;5;28mfloat\u001b[39m(\u001b[38;5;28;43minput\u001b[39;49m\u001b[43m(\u001b[49m\u001b[43m)\u001b[49m)\n\u001b[0;32m      4\u001b[0m         b \u001b[38;5;241m=\u001b[39m \u001b[38;5;28mfloat\u001b[39m(\u001b[38;5;28minput\u001b[39m())\n\u001b[0;32m      5\u001b[0m         \u001b[38;5;28mprint\u001b[39m(a)\n",
      "File \u001b[1;32m~\\AppData\\Roaming\\Python\\Python39\\site-packages\\ipykernel\\kernelbase.py:1282\u001b[0m, in \u001b[0;36mKernel.raw_input\u001b[1;34m(self, prompt)\u001b[0m\n\u001b[0;32m   1280\u001b[0m     msg \u001b[38;5;241m=\u001b[39m \u001b[38;5;124m\"\u001b[39m\u001b[38;5;124mraw_input was called, but this frontend does not support input requests.\u001b[39m\u001b[38;5;124m\"\u001b[39m\n\u001b[0;32m   1281\u001b[0m     \u001b[38;5;28;01mraise\u001b[39;00m StdinNotImplementedError(msg)\n\u001b[1;32m-> 1282\u001b[0m \u001b[38;5;28;01mreturn\u001b[39;00m \u001b[38;5;28;43mself\u001b[39;49m\u001b[38;5;241;43m.\u001b[39;49m\u001b[43m_input_request\u001b[49m\u001b[43m(\u001b[49m\n\u001b[0;32m   1283\u001b[0m \u001b[43m    \u001b[49m\u001b[38;5;28;43mstr\u001b[39;49m\u001b[43m(\u001b[49m\u001b[43mprompt\u001b[49m\u001b[43m)\u001b[49m\u001b[43m,\u001b[49m\n\u001b[0;32m   1284\u001b[0m \u001b[43m    \u001b[49m\u001b[38;5;28;43mself\u001b[39;49m\u001b[38;5;241;43m.\u001b[39;49m\u001b[43m_parent_ident\u001b[49m\u001b[43m[\u001b[49m\u001b[38;5;124;43m\"\u001b[39;49m\u001b[38;5;124;43mshell\u001b[39;49m\u001b[38;5;124;43m\"\u001b[39;49m\u001b[43m]\u001b[49m\u001b[43m,\u001b[49m\n\u001b[0;32m   1285\u001b[0m \u001b[43m    \u001b[49m\u001b[38;5;28;43mself\u001b[39;49m\u001b[38;5;241;43m.\u001b[39;49m\u001b[43mget_parent\u001b[49m\u001b[43m(\u001b[49m\u001b[38;5;124;43m\"\u001b[39;49m\u001b[38;5;124;43mshell\u001b[39;49m\u001b[38;5;124;43m\"\u001b[39;49m\u001b[43m)\u001b[49m\u001b[43m,\u001b[49m\n\u001b[0;32m   1286\u001b[0m \u001b[43m    \u001b[49m\u001b[43mpassword\u001b[49m\u001b[38;5;241;43m=\u001b[39;49m\u001b[38;5;28;43;01mFalse\u001b[39;49;00m\u001b[43m,\u001b[49m\n\u001b[0;32m   1287\u001b[0m \u001b[43m\u001b[49m\u001b[43m)\u001b[49m\n",
      "File \u001b[1;32m~\\AppData\\Roaming\\Python\\Python39\\site-packages\\ipykernel\\kernelbase.py:1325\u001b[0m, in \u001b[0;36mKernel._input_request\u001b[1;34m(self, prompt, ident, parent, password)\u001b[0m\n\u001b[0;32m   1322\u001b[0m \u001b[38;5;28;01mexcept\u001b[39;00m \u001b[38;5;167;01mKeyboardInterrupt\u001b[39;00m:\n\u001b[0;32m   1323\u001b[0m     \u001b[38;5;66;03m# re-raise KeyboardInterrupt, to truncate traceback\u001b[39;00m\n\u001b[0;32m   1324\u001b[0m     msg \u001b[38;5;241m=\u001b[39m \u001b[38;5;124m\"\u001b[39m\u001b[38;5;124mInterrupted by user\u001b[39m\u001b[38;5;124m\"\u001b[39m\n\u001b[1;32m-> 1325\u001b[0m     \u001b[38;5;28;01mraise\u001b[39;00m \u001b[38;5;167;01mKeyboardInterrupt\u001b[39;00m(msg) \u001b[38;5;28;01mfrom\u001b[39;00m \u001b[38;5;28;01mNone\u001b[39;00m\n\u001b[0;32m   1326\u001b[0m \u001b[38;5;28;01mexcept\u001b[39;00m \u001b[38;5;167;01mException\u001b[39;00m:\n\u001b[0;32m   1327\u001b[0m     \u001b[38;5;28mself\u001b[39m\u001b[38;5;241m.\u001b[39mlog\u001b[38;5;241m.\u001b[39mwarning(\u001b[38;5;124m\"\u001b[39m\u001b[38;5;124mInvalid Message:\u001b[39m\u001b[38;5;124m\"\u001b[39m, exc_info\u001b[38;5;241m=\u001b[39m\u001b[38;5;28;01mTrue\u001b[39;00m)\n",
      "\u001b[1;31mKeyboardInterrupt\u001b[0m: Interrupted by user"
     ]
    }
   ],
   "source": [
    "while True:\n",
    "    try:\n",
    "        a = float(input())\n",
    "        b = float(input())\n",
    "        print(a)\n",
    "        print(b)\n",
    "    \n",
    "    except ValueError:\n",
    "        continue\n",
    "\n",
    "    \n",
    "\n",
    "\n"
   ]
  },
  {
   "cell_type": "code",
   "execution_count": 108,
   "metadata": {},
   "outputs": [
    {
     "name": "stdout",
     "output_type": "stream",
     "text": [
      "0.0 + 1.0 = 1.0\n"
     ]
    }
   ],
   "source": [
    "# 문자열의 숫자를 확인하는 함수\n",
    "# 마이너스와 소수점은 문자로 판단\n",
    "# isdecimal()\n",
    "# isdigit()\n",
    "# isnumeric()\n",
    "\n",
    "\n",
    "e = True\n",
    "list_a = ['+', '-', '*', '/']\n",
    "\n",
    "eb = 0\n",
    "ec = 0\n",
    "\n",
    "while e:\n",
    "\n",
    "    if eb == 0:\n",
    "        try:\n",
    "            b = float(input(\"숫자1 입력\"))\n",
    "            if b == 0:\n",
    "                continue\n",
    "        except ValueError:\n",
    "            continue\n",
    "    eb = 1\n",
    "\n",
    "    if ec == 0:\n",
    "        try:        \n",
    "            c = float(input(\"숫자2 입력\"))\n",
    "            if c == 0:\n",
    "                continue\n",
    "        except ValueError:\n",
    "            continue\n",
    "    ec = 1\n",
    "\n",
    "    a = input(\"연산자 입력\")\n",
    "\n",
    "    if a in list_a:\n",
    "        d = list_a.index(a)\n",
    "\n",
    "        if list_a[d] == '+':\n",
    "            print(f\"{b} {a} {c} = {b + c}\")\n",
    "        elif list_a[d] == '-':\n",
    "            print(f\"{b} {a} {c} = {b - c}\")\n",
    "        elif list_a[d] == '*':\n",
    "            print(f\"{b} {a} {c} = {b * c}\")\n",
    "        elif list_a[d] == '/':\n",
    "            print(f\"{b} {a} {c} = {b / c}\")\n",
    "            \n",
    "        e = False\n",
    "    else:\n",
    "        print(\"연산자를 다시 확인하세요\")"
   ]
  },
  {
   "cell_type": "markdown",
   "metadata": {},
   "source": [
    "for 문"
   ]
  },
  {
   "cell_type": "code",
   "execution_count": 67,
   "metadata": {},
   "outputs": [
    {
     "name": "stdout",
     "output_type": "stream",
     "text": [
      "[3, 6, 9, 12, 15, 18, 21, 24, 27, 30]\n"
     ]
    }
   ],
   "source": [
    "num_1 = list(range(1, 11))\n",
    "num_2 = []\n",
    "\n",
    "for i in num_1:\n",
    "    num_2.append(i * 3)\n",
    "print(num_2)"
   ]
  },
  {
   "cell_type": "code",
   "execution_count": 79,
   "metadata": {},
   "outputs": [
    {
     "name": "stdout",
     "output_type": "stream",
     "text": [
      "1 2\n",
      "3 4\n",
      "5 6\n"
     ]
    }
   ],
   "source": [
    "a = [[1, 2], [3, 4], [5, 6]]\n",
    "\n",
    "for i, j in a:\n",
    "    print(i, j)"
   ]
  },
  {
   "cell_type": "code",
   "execution_count": 82,
   "metadata": {},
   "outputs": [
    {
     "name": "stdout",
     "output_type": "stream",
     "text": [
      "[3, 6, 9, 12, 15, 18, 21, 24, 27, 30]\n"
     ]
    }
   ],
   "source": [
    "num_1 = list(range(1, 11))\n",
    "num_2 = [i * 3 for i in num_1]\n",
    "\n",
    "print(num_2)"
   ]
  },
  {
   "cell_type": "code",
   "execution_count": 104,
   "metadata": {},
   "outputs": [
    {
     "name": "stdout",
     "output_type": "stream",
     "text": [
      "90\n",
      "80\n",
      "95\n",
      "61\n"
     ]
    }
   ],
   "source": [
    "scores = [45, 90, 59, 80, 95, 37, 61]\n",
    "\n",
    "for score in scores:\n",
    "    if score <= 60:\n",
    "        continue\n",
    "    print(f\"{score}\")\n",
    "    "
   ]
  },
  {
   "cell_type": "code",
   "execution_count": 103,
   "metadata": {},
   "outputs": [
    {
     "name": "stdout",
     "output_type": "stream",
     "text": [
      "2번째 학생의 점수는 90입니다\n",
      "4번째 학생의 점수는 80입니다\n",
      "5번째 학생의 점수는 95입니다\n",
      "7번째 학생의 점수는 61입니다\n"
     ]
    }
   ],
   "source": [
    "scores = [45, 90, 59, 80, 95, 37, 61]\n",
    "num = 0\n",
    "\n",
    "for score in scores:\n",
    "    num += 1\n",
    "    if score <= 60:\n",
    "        continue\n",
    "    print(f\"{num}번째 학생의 점수는 {score}입니다. 합격 축하합니다\")\n",
    "    "
   ]
  },
  {
   "cell_type": "code",
   "execution_count": 105,
   "metadata": {},
   "outputs": [
    {
     "name": "stdout",
     "output_type": "stream",
     "text": [
      "a학생, '80'점입니다. 합격을 축하하니다\n",
      "b학생, '90'점입니다. 합격을 축하하니다\n"
     ]
    }
   ],
   "source": [
    "# 딕셔너리\n",
    "# 딕셔너리를 사용하여 점수가 60점 이상이면 출력 (언패킹 사용)\n",
    "scores = {'a' : 80, 'b' : 90, 'c' : 59, 'd' : 45}\n",
    "\n",
    "for key, value in scores.items():\n",
    "    # if value >= 60:\n",
    "    #     print(f\"{key}학생, \\'{value}\\'점입니다. 합격을 축하하니다\")\n",
    "    #     continue\n",
    "\n",
    "    if value < 60:\n",
    "        continue\n",
    "    print(f\"{key}학생, \\'{value}\\'점입니다. 합격을 축하하니다\")\n"
   ]
  },
  {
   "cell_type": "code",
   "execution_count": 106,
   "metadata": {},
   "outputs": [
    {
     "name": "stdout",
     "output_type": "stream",
     "text": [
      "1 2\n",
      "3 4\n",
      "5 6\n",
      "a b\n"
     ]
    }
   ],
   "source": [
    "a = [[1, 2], [3, 4], (5, 6), 'ab']\n",
    "\n",
    "for i, j in a:\n",
    "    print(i, j)"
   ]
  },
  {
   "cell_type": "markdown",
   "metadata": {},
   "source": [
    "range\n",
    "\n",
    "인자 하나만 있으면 해당 부분까지만 작동\n",
    "인자가 두개면 시작, 중단점\n",
    "인자가 세개면 시작, 중단점, 단계"
   ]
  },
  {
   "cell_type": "code",
   "execution_count": 112,
   "metadata": {},
   "outputs": [
    {
     "name": "stdout",
     "output_type": "stream",
     "text": [
      "0 1 2 3 4 5 6 7 8 9 10 "
     ]
    }
   ],
   "source": [
    "for i in range(11):\n",
    "    print(i, end= ' ')"
   ]
  },
  {
   "cell_type": "code",
   "execution_count": 113,
   "metadata": {},
   "outputs": [
    {
     "name": "stdout",
     "output_type": "stream",
     "text": [
      "1 2 3 4 5 6 7 8 9 10 "
     ]
    }
   ],
   "source": [
    "for i in range(1, 11):\n",
    "    print(i, end= ' ')"
   ]
  },
  {
   "cell_type": "code",
   "execution_count": 114,
   "metadata": {},
   "outputs": [
    {
     "name": "stdout",
     "output_type": "stream",
     "text": [
      "1 3 5 7 9 "
     ]
    }
   ],
   "source": [
    "for i in range(1, 11, 2):\n",
    "    print(i, end= ' ')"
   ]
  },
  {
   "cell_type": "markdown",
   "metadata": {},
   "source": [
    "| 인자의 수 | 형식                | 설명                                                        |\n",
    "|-----------|---------------------|-------------------------------------------------------------|\n",
    "| 1         | `range(그만)`       | 0부터 `stop-1`까지의 정수를 생성합니다.               |\n",
    "| 2         | `range(start, stop)`| `start`부터 `stop-1`까지의 정수를 생성합니다.         |\n",
    "| 3         | `range(start, stop, step)` | `start`에서 시작하여 `stop-1`까지, `step`의 값만큼 증가하는 정수를 생성합니다. |"
   ]
  },
  {
   "cell_type": "code",
   "execution_count": 148,
   "metadata": {},
   "outputs": [
    {
     "name": "stdout",
     "output_type": "stream",
     "text": [
      "4번째 학생의 점수는 80입니다. 합격 축하합니다\n"
     ]
    }
   ],
   "source": [
    "scores = [45, 90, 59, 80, 95, 37, 61]\n",
    "# list_a = [0, 1, 2, 3, 4, 5, 6]\n",
    "\n",
    "for num in range(len(scores)):\n",
    "    if scores[num] <= 60:\n",
    "        continue\n",
    "    print(f\"{num + 1}번째 학생의 점수는 {scores[num]}입니다. 합격 축하합니다\")\n",
    "    "
   ]
  },
  {
   "cell_type": "code",
   "execution_count": 150,
   "metadata": {},
   "outputs": [
    {
     "name": "stdout",
     "output_type": "stream",
     "text": [
      "1\n",
      "2\n",
      "3\n",
      "4\n",
      "5\n",
      "6\n",
      "7\n",
      "8\n",
      "9\n",
      "10\n"
     ]
    }
   ],
   "source": [
    "for num in range(1, 11):\n",
    "    print(num)"
   ]
  },
  {
   "cell_type": "code",
   "execution_count": 2,
   "metadata": {},
   "outputs": [
    {
     "name": "stdout",
     "output_type": "stream",
     "text": [
      "2 4 6 8 10 12 14 16 18 20 "
     ]
    }
   ],
   "source": [
    "for num in range(2, 21, 2):\n",
    "    print(num, end=\" \")"
   ]
  },
  {
   "cell_type": "code",
   "execution_count": 157,
   "metadata": {},
   "outputs": [
    {
     "name": "stdout",
     "output_type": "stream",
     "text": [
      "6 X 1 =   6\n",
      "6 X 2 =  12\n",
      "6 X 3 =  18\n",
      "6 X 4 =  24\n",
      "6 X 5 =  30\n",
      "6 X 6 =  36\n",
      "6 X 7 =  42\n",
      "6 X 8 =  48\n",
      "6 X 9 =  54\n"
     ]
    }
   ],
   "source": [
    "a = int(input(\"구구단 수 입력\"))\n",
    "\n",
    "for num in range(1, 10):\n",
    "    print(f\"{a} X {num} =  {format(a * num, '2')}\")"
   ]
  }
 ],
 "metadata": {
  "kernelspec": {
   "display_name": "Python 3",
   "language": "python",
   "name": "python3"
  },
  "language_info": {
   "codemirror_mode": {
    "name": "ipython",
    "version": 3
   },
   "file_extension": ".py",
   "mimetype": "text/x-python",
   "name": "python",
   "nbconvert_exporter": "python",
   "pygments_lexer": "ipython3",
   "version": "3.9.13"
  }
 },
 "nbformat": 4,
 "nbformat_minor": 2
}
