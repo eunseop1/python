{
 "cells": [
  {
   "cell_type": "markdown",
   "metadata": {},
   "source": [
    "```python\n",
    "import pandas as pd\n",
    "```\n"
   ]
  },
  {
   "cell_type": "markdown",
   "metadata": {},
   "source": [
    "# 시리즈(Series) 기초\n",
    "\n",
    "## 시리즈 생성 (pd.Series())"
   ]
  },
  {
   "cell_type": "code",
   "execution_count": 1,
   "metadata": {},
   "outputs": [
    {
     "data": {
      "text/plain": [
       "0    1\n",
       "1    2\n",
       "2    3\n",
       "3    4\n",
       "4    5\n",
       "dtype: int64"
      ]
     },
     "execution_count": 1,
     "metadata": {},
     "output_type": "execute_result"
    }
   ],
   "source": [
    "import pandas as pd\n",
    "\n",
    "# 리스트 데이터를 이용하여 시리즈 생성\n",
    "data = [1, 2, 3, 4, 5]\n",
    "sr = pd.Series(data)\n",
    "sr"
   ]
  },
  {
   "cell_type": "markdown",
   "metadata": {},
   "source": [
    "인덱스 활용"
   ]
  },
  {
   "cell_type": "code",
   "execution_count": 2,
   "metadata": {},
   "outputs": [
    {
     "data": {
      "text/plain": [
       "a    1\n",
       "b    2\n",
       "c    3\n",
       "d    4\n",
       "e    5\n",
       "dtype: int64"
      ]
     },
     "execution_count": 2,
     "metadata": {},
     "output_type": "execute_result"
    }
   ],
   "source": [
    "# 인덱스를 직접 지정하여 시리즈 생성\n",
    "index = ['a', 'b', 'c', 'd', 'e']\n",
    "sr_index = pd.Series(data, index=index)\n",
    "sr_index"
   ]
  },
  {
   "cell_type": "markdown",
   "metadata": {},
   "source": [
    "데이터 선택과 필터링"
   ]
  },
  {
   "cell_type": "code",
   "execution_count": 3,
   "metadata": {},
   "outputs": [
    {
     "data": {
      "text/plain": [
       "3"
      ]
     },
     "execution_count": 3,
     "metadata": {},
     "output_type": "execute_result"
    }
   ],
   "source": [
    "# 인덱스를 사용하여 데이터 선택\n",
    "sr_index['c']"
   ]
  },
  {
   "cell_type": "code",
   "execution_count": 4,
   "metadata": {},
   "outputs": [
    {
     "data": {
      "text/plain": [
       "c    3\n",
       "d    4\n",
       "e    5\n",
       "dtype: int64"
      ]
     },
     "execution_count": 4,
     "metadata": {},
     "output_type": "execute_result"
    }
   ],
   "source": [
    "# 조건을 사용하여 데이터 필터링\n",
    "sr_index[sr_index > 2]"
   ]
  },
  {
   "cell_type": "markdown",
   "metadata": {},
   "source": [
    "실습"
   ]
  },
  {
   "cell_type": "markdown",
   "metadata": {},
   "source": [
    "주어진 데이터를 사용하여 시리즈를 생성하고, 특정 조건에 맞는 데이터를 선택해 보세요.\n",
    "```python\n",
    "data = [10, 20, 30, 40, 50]\n",
    "index = ['가', '나', '다', '라', '마']\n",
    "```\n",
    "1. '다' 인덱스의 데이터를 출력하세요\n",
    "2. 데이터 값이 30보다 큰 항목만 출력하세요"
   ]
  },
  {
   "cell_type": "code",
   "execution_count": null,
   "metadata": {},
   "outputs": [],
   "source": [
    "# 실습을 위한 시리즈 생성\n",
    "data = [10, 20, 30, 40, 50]\n",
    "index = ['가', '나', '다', '라', '마']\n",
    "sr = pd.Series(data, index=index)\n",
    "\n",
    "# '다' 인덱스의 데이터를 출력하세요\n",
    "print(sr['다'])\n",
    "\n",
    "# 데이터 값이 30보다 큰 항목만 출력하세요\n",
    "print(sr[sr > 30])"
   ]
  },
  {
   "cell_type": "markdown",
   "metadata": {},
   "source": [
    "# 데이터프레임(DataFrame) 이해하기\n",
    "\n",
    "## 데이터프레임 생성 (pd.DataFrame())\n",
    "\n",
    "\n",
    "```python\n",
    "import pandas as pd\n",
    "\n",
    "# 딕셔너리를 이용하여 데이터프레임 생성\n",
    "data = {\n",
    "    '이름': ['김지수', '박영희', '이민준', '최예원'],\n",
    "    '나이': [28, 22, 21, 30],\n",
    "    '도시': ['서울', '부산', '대구', '광주']\n",
    "}\n",
    "df = pd.DataFrame(data)\n",
    "print(df)"
   ]
  },
  {
   "cell_type": "code",
   "execution_count": 9,
   "metadata": {},
   "outputs": [
    {
     "data": {
      "text/html": [
       "<div>\n",
       "<style scoped>\n",
       "    .dataframe tbody tr th:only-of-type {\n",
       "        vertical-align: middle;\n",
       "    }\n",
       "\n",
       "    .dataframe tbody tr th {\n",
       "        vertical-align: top;\n",
       "    }\n",
       "\n",
       "    .dataframe thead th {\n",
       "        text-align: right;\n",
       "    }\n",
       "</style>\n",
       "<table border=\"1\" class=\"dataframe\">\n",
       "  <thead>\n",
       "    <tr style=\"text-align: right;\">\n",
       "      <th></th>\n",
       "      <th>이름</th>\n",
       "      <th>나이</th>\n",
       "      <th>도시</th>\n",
       "    </tr>\n",
       "  </thead>\n",
       "  <tbody>\n",
       "    <tr>\n",
       "      <th>0</th>\n",
       "      <td>김지수</td>\n",
       "      <td>28</td>\n",
       "      <td>서울</td>\n",
       "    </tr>\n",
       "    <tr>\n",
       "      <th>1</th>\n",
       "      <td>박영희</td>\n",
       "      <td>22</td>\n",
       "      <td>부산</td>\n",
       "    </tr>\n",
       "    <tr>\n",
       "      <th>2</th>\n",
       "      <td>이민준</td>\n",
       "      <td>21</td>\n",
       "      <td>대구</td>\n",
       "    </tr>\n",
       "    <tr>\n",
       "      <th>3</th>\n",
       "      <td>최예원</td>\n",
       "      <td>30</td>\n",
       "      <td>광주</td>\n",
       "    </tr>\n",
       "  </tbody>\n",
       "</table>\n",
       "</div>"
      ],
      "text/plain": [
       "    이름  나이  도시\n",
       "0  김지수  28  서울\n",
       "1  박영희  22  부산\n",
       "2  이민준  21  대구\n",
       "3  최예원  30  광주"
      ]
     },
     "execution_count": 9,
     "metadata": {},
     "output_type": "execute_result"
    }
   ],
   "source": [
    "import pandas as pd\n",
    "\n",
    "# 딕셔너리를 이용하여 데이터프레임 생성\n",
    "data = {\n",
    "    '이름': ['김지수', '박영희', '이민준', '최예원'],\n",
    "    '나이': [28, 22, 21, 30],\n",
    "    '도시': ['서울', '부산', '대구', '광주']\n",
    "}\n",
    "df = pd.DataFrame(data)\n",
    "df"
   ]
  },
  {
   "cell_type": "markdown",
   "metadata": {},
   "source": [
    "## 1. 데이터프레임 검토 (head(), tail() 사용하기)"
   ]
  },
  {
   "cell_type": "code",
   "execution_count": 6,
   "metadata": {},
   "outputs": [
    {
     "data": {
      "text/html": [
       "<div>\n",
       "<style scoped>\n",
       "    .dataframe tbody tr th:only-of-type {\n",
       "        vertical-align: middle;\n",
       "    }\n",
       "\n",
       "    .dataframe tbody tr th {\n",
       "        vertical-align: top;\n",
       "    }\n",
       "\n",
       "    .dataframe thead th {\n",
       "        text-align: right;\n",
       "    }\n",
       "</style>\n",
       "<table border=\"1\" class=\"dataframe\">\n",
       "  <thead>\n",
       "    <tr style=\"text-align: right;\">\n",
       "      <th></th>\n",
       "      <th>이름</th>\n",
       "      <th>나이</th>\n",
       "      <th>도시</th>\n",
       "    </tr>\n",
       "  </thead>\n",
       "  <tbody>\n",
       "    <tr>\n",
       "      <th>0</th>\n",
       "      <td>김지수</td>\n",
       "      <td>28</td>\n",
       "      <td>서울</td>\n",
       "    </tr>\n",
       "    <tr>\n",
       "      <th>1</th>\n",
       "      <td>박영희</td>\n",
       "      <td>22</td>\n",
       "      <td>부산</td>\n",
       "    </tr>\n",
       "    <tr>\n",
       "      <th>2</th>\n",
       "      <td>이민준</td>\n",
       "      <td>21</td>\n",
       "      <td>대구</td>\n",
       "    </tr>\n",
       "  </tbody>\n",
       "</table>\n",
       "</div>"
      ],
      "text/plain": [
       "    이름  나이  도시\n",
       "0  김지수  28  서울\n",
       "1  박영희  22  부산\n",
       "2  이민준  21  대구"
      ]
     },
     "execution_count": 6,
     "metadata": {},
     "output_type": "execute_result"
    }
   ],
   "source": [
    "# 데이터프레임의 처음 3개 행을 보여줍니다. 기본값 5\n",
    "df.head(3)"
   ]
  },
  {
   "cell_type": "code",
   "execution_count": 7,
   "metadata": {},
   "outputs": [
    {
     "data": {
      "text/html": [
       "<div>\n",
       "<style scoped>\n",
       "    .dataframe tbody tr th:only-of-type {\n",
       "        vertical-align: middle;\n",
       "    }\n",
       "\n",
       "    .dataframe tbody tr th {\n",
       "        vertical-align: top;\n",
       "    }\n",
       "\n",
       "    .dataframe thead th {\n",
       "        text-align: right;\n",
       "    }\n",
       "</style>\n",
       "<table border=\"1\" class=\"dataframe\">\n",
       "  <thead>\n",
       "    <tr style=\"text-align: right;\">\n",
       "      <th></th>\n",
       "      <th>이름</th>\n",
       "      <th>나이</th>\n",
       "      <th>도시</th>\n",
       "    </tr>\n",
       "  </thead>\n",
       "  <tbody>\n",
       "    <tr>\n",
       "      <th>2</th>\n",
       "      <td>이민준</td>\n",
       "      <td>21</td>\n",
       "      <td>대구</td>\n",
       "    </tr>\n",
       "    <tr>\n",
       "      <th>3</th>\n",
       "      <td>최예원</td>\n",
       "      <td>30</td>\n",
       "      <td>광주</td>\n",
       "    </tr>\n",
       "  </tbody>\n",
       "</table>\n",
       "</div>"
      ],
      "text/plain": [
       "    이름  나이  도시\n",
       "2  이민준  21  대구\n",
       "3  최예원  30  광주"
      ]
     },
     "execution_count": 7,
     "metadata": {},
     "output_type": "execute_result"
    }
   ],
   "source": [
    "# 데이터프레임의 마지막 2개 행을 보여줍니다.\n",
    "df.tail(2)"
   ]
  },
  {
   "cell_type": "markdown",
   "metadata": {},
   "source": [
    "## 2. 데이터프레임 정보 확인 (info() 사용하기)"
   ]
  },
  {
   "cell_type": "code",
   "execution_count": null,
   "metadata": {},
   "outputs": [],
   "source": [
    "# 데이터프레임의 구조와 데이터 타입을 확인합니다.\n",
    "df.info()"
   ]
  },
  {
   "cell_type": "markdown",
   "metadata": {},
   "source": [
    "## 3. 열(column)과 행(row)의 기초"
   ]
  },
  {
   "cell_type": "code",
   "execution_count": null,
   "metadata": {},
   "outputs": [],
   "source": [
    "# index 값 확인\n",
    "df.index"
   ]
  },
  {
   "cell_type": "code",
   "execution_count": null,
   "metadata": {},
   "outputs": [],
   "source": [
    "# columns 값 확인\n",
    "df.columns "
   ]
  },
  {
   "cell_type": "code",
   "execution_count": null,
   "metadata": {},
   "outputs": [],
   "source": [
    "# '이름' 열만 선택하기\n",
    "df['이름']"
   ]
  },
  {
   "cell_type": "code",
   "execution_count": null,
   "metadata": {},
   "outputs": [],
   "source": [
    "# 데이터 프레임 형태로 보려면 대괄호 2번\n",
    "df[['이름']]"
   ]
  },
  {
   "cell_type": "code",
   "execution_count": null,
   "metadata": {},
   "outputs": [],
   "source": [
    "# 0번째(인덱스) 행만 선택하기\n",
    "df.iloc[0]"
   ]
  },
  {
   "cell_type": "code",
   "execution_count": null,
   "metadata": {},
   "outputs": [],
   "source": [
    "# 데이터 프레임 형태로 보려면 대괄호 2번\n",
    "df.iloc[[0]]"
   ]
  },
  {
   "cell_type": "markdown",
   "metadata": {},
   "source": [
    "## 4. 데이터 접근 방법"
   ]
  },
  {
   "cell_type": "markdown",
   "metadata": {},
   "source": [
    "### 1. 위치 기반 인덱싱 (iloc)"
   ]
  },
  {
   "cell_type": "markdown",
   "metadata": {},
   "source": [
    "iloc는 위치 기반 인덱싱, 정수 인덱스를 사용하여 데이터에 접근할 수 있다. (이미 만들어져 있는 인덱스에만 접근 가능)"
   ]
  },
  {
   "cell_type": "code",
   "execution_count": null,
   "metadata": {},
   "outputs": [],
   "source": [
    "# 첫 번째 행의 데이터 선택\n",
    "df.iloc[0]"
   ]
  },
  {
   "cell_type": "code",
   "execution_count": null,
   "metadata": {},
   "outputs": [],
   "source": [
    "# 슬라이싱 가능\n",
    "df.iloc[0:2]"
   ]
  },
  {
   "cell_type": "code",
   "execution_count": null,
   "metadata": {},
   "outputs": [],
   "source": [
    "# 정수 인덱스 접근이라 컬럼도 인덱스로 접근해야 함\n",
    "df.iloc[0:2, 0:2]"
   ]
  },
  {
   "cell_type": "markdown",
   "metadata": {},
   "source": [
    "### 2. 레이블 기반 인덱싱 (loc)"
   ]
  },
  {
   "cell_type": "markdown",
   "metadata": {},
   "source": [
    "loc는 레이블 기반으로 데이터에 접근"
   ]
  },
  {
   "cell_type": "code",
   "execution_count": null,
   "metadata": {},
   "outputs": [],
   "source": [
    "# 사용자 정의 인덱스 설정\n",
    "df.index = ['A', 'B', 'C', 'D']\n",
    "df.loc['A']"
   ]
  },
  {
   "cell_type": "code",
   "execution_count": null,
   "metadata": {},
   "outputs": [],
   "source": [
    "df"
   ]
  },
  {
   "cell_type": "code",
   "execution_count": null,
   "metadata": {},
   "outputs": [],
   "source": [
    "# 레이블 접근이라 'C'도 포함됨 슬라이싱이랑 차이 있음\n",
    "df.loc['A':'C']"
   ]
  },
  {
   "cell_type": "code",
   "execution_count": null,
   "metadata": {},
   "outputs": [],
   "source": [
    "df.loc['A':'C', '이름']"
   ]
  },
  {
   "cell_type": "code",
   "execution_count": null,
   "metadata": {},
   "outputs": [],
   "source": [
    "df.loc['A':'C', ['이름', '나이']]"
   ]
  },
  {
   "cell_type": "markdown",
   "metadata": {},
   "source": [
    "### 3. 조건을 사용한 데이터 접근"
   ]
  },
  {
   "cell_type": "code",
   "execution_count": null,
   "metadata": {},
   "outputs": [],
   "source": [
    "# 참 거짓으로만 나옴\n",
    "df['나이'] >= 25"
   ]
  },
  {
   "cell_type": "code",
   "execution_count": null,
   "metadata": {},
   "outputs": [],
   "source": [
    "# 나이가 25세 이상인 사람만 선택\n",
    "df[df['나이'] >= 25]"
   ]
  },
  {
   "cell_type": "markdown",
   "metadata": {},
   "source": [
    "응용: 나이가 25세 이상인 '이름', '나이' 컬럼만 선택해보기"
   ]
  },
  {
   "cell_type": "code",
   "execution_count": 13,
   "metadata": {},
   "outputs": [
    {
     "data": {
      "text/html": [
       "<div>\n",
       "<style scoped>\n",
       "    .dataframe tbody tr th:only-of-type {\n",
       "        vertical-align: middle;\n",
       "    }\n",
       "\n",
       "    .dataframe tbody tr th {\n",
       "        vertical-align: top;\n",
       "    }\n",
       "\n",
       "    .dataframe thead th {\n",
       "        text-align: right;\n",
       "    }\n",
       "</style>\n",
       "<table border=\"1\" class=\"dataframe\">\n",
       "  <thead>\n",
       "    <tr style=\"text-align: right;\">\n",
       "      <th></th>\n",
       "      <th>이름</th>\n",
       "      <th>나이</th>\n",
       "    </tr>\n",
       "  </thead>\n",
       "  <tbody>\n",
       "    <tr>\n",
       "      <th>0</th>\n",
       "      <td>김지수</td>\n",
       "      <td>28</td>\n",
       "    </tr>\n",
       "    <tr>\n",
       "      <th>3</th>\n",
       "      <td>최예원</td>\n",
       "      <td>30</td>\n",
       "    </tr>\n",
       "  </tbody>\n",
       "</table>\n",
       "</div>"
      ],
      "text/plain": [
       "    이름  나이\n",
       "0  김지수  28\n",
       "3  최예원  30"
      ]
     },
     "execution_count": 13,
     "metadata": {},
     "output_type": "execute_result"
    }
   ],
   "source": [
    "df.loc[df['나이'] >= 25, ['이름', '나이']]"
   ]
  },
  {
   "cell_type": "markdown",
   "metadata": {},
   "source": [
    "### 4. any, all"
   ]
  },
  {
   "cell_type": "markdown",
   "metadata": {},
   "source": [
    "특정 값을 가진 행이 있는지 판별해야하는 경우가 생김, 그 특정값이 단순히 1개라도 있는지, 아니면 전체 행이 그 값을 가졌는지 확인할때"
   ]
  },
  {
   "cell_type": "code",
   "execution_count": null,
   "metadata": {},
   "outputs": [],
   "source": [
    "(df['이름'] == '이민준').any() # 이름에 이민준이라는 이름을 가진 사람이 있는지"
   ]
  },
  {
   "cell_type": "code",
   "execution_count": null,
   "metadata": {},
   "outputs": [],
   "source": [
    "(df['이름'] == '김영욱').any() # 이름에 김영욱이라는 이름을 가진 사람이 있는지"
   ]
  },
  {
   "cell_type": "code",
   "execution_count": null,
   "metadata": {},
   "outputs": [],
   "source": [
    "(df['도시'] == '서울').any() # 서울에 사는 사람이 있는지"
   ]
  },
  {
   "cell_type": "code",
   "execution_count": null,
   "metadata": {},
   "outputs": [],
   "source": [
    "(df['도시'] == '서울').all() # 모든 사람이 서울에 살고 있는지"
   ]
  },
  {
   "cell_type": "markdown",
   "metadata": {},
   "source": [
    "## 5. 컬럼 및 인덱스 변경"
   ]
  },
  {
   "cell_type": "code",
   "execution_count": null,
   "metadata": {},
   "outputs": [],
   "source": [
    "import pandas as pd\n",
    "\n",
    "# 딕셔너리를 이용하여 데이터프레임 생성\n",
    "data = {\n",
    "    '이름': ['김지수', '박영희', '이민준', '최예원'],\n",
    "    '나이': [28, 22, 21, 30],\n",
    "    '도시': ['서울', '부산', '대구', '광주']\n",
    "}\n",
    "df = pd.DataFrame(data)\n",
    "print(df)"
   ]
  },
  {
   "cell_type": "markdown",
   "metadata": {},
   "source": [
    "### 1. 컬럼명 변경"
   ]
  },
  {
   "cell_type": "code",
   "execution_count": null,
   "metadata": {},
   "outputs": [],
   "source": [
    "# inplace를 사용하지 않으면 원본 df는 유지되고 새로운 데이터프레임을 만듬 이를 사용하려면 새로운 변수에 할당하거나 기존 변수에 할당하는 작업이 필요함\n",
    "\n",
    "df.rename(columns={'이름': '성명', '도시': '거주지'}, inplace=True)\n",
    "print(df)"
   ]
  },
  {
   "cell_type": "markdown",
   "metadata": {},
   "source": [
    "컬럼명 리스트 할당: 데이터프레임의 모든 컬럼명을 새로운 리스트로 한 번에 변경 가능(컬럼 갯수에 맞춰서 다 넣어줘야 함)"
   ]
  },
  {
   "cell_type": "code",
   "execution_count": null,
   "metadata": {},
   "outputs": [],
   "source": [
    "df.columns = ['성명', '나이', '거주지']"
   ]
  },
  {
   "cell_type": "markdown",
   "metadata": {},
   "source": [
    "### 2. 인덱스 변경"
   ]
  },
  {
   "cell_type": "code",
   "execution_count": null,
   "metadata": {},
   "outputs": [],
   "source": [
    "new_index = ['사용자1', '사용자2', '사용자3', '사용자4']\n",
    "df.index = new_index\n",
    "df"
   ]
  },
  {
   "cell_type": "code",
   "execution_count": null,
   "metadata": {},
   "outputs": [],
   "source": [
    "df_change_index = df.set_index('성명')\n",
    "df_change_index # 컬럼값을 인덱스로 바꿀 수 있음"
   ]
  },
  {
   "cell_type": "markdown",
   "metadata": {},
   "source": [
    "### 3. 인덱스 리셋"
   ]
  },
  {
   "cell_type": "code",
   "execution_count": null,
   "metadata": {},
   "outputs": [],
   "source": [
    "# 인덱스 리셋\n",
    "df.reset_index(drop=True, inplace=True)\n",
    "df"
   ]
  },
  {
   "cell_type": "markdown",
   "metadata": {},
   "source": [
    "## 6. 컬럼 추가, 컬럼 삭제, 행 추가, 행 삭제"
   ]
  },
  {
   "cell_type": "markdown",
   "metadata": {},
   "source": [
    "### 1. 컬럼 추가"
   ]
  },
  {
   "cell_type": "code",
   "execution_count": 22,
   "metadata": {},
   "outputs": [
    {
     "data": {
      "text/html": [
       "<div>\n",
       "<style scoped>\n",
       "    .dataframe tbody tr th:only-of-type {\n",
       "        vertical-align: middle;\n",
       "    }\n",
       "\n",
       "    .dataframe tbody tr th {\n",
       "        vertical-align: top;\n",
       "    }\n",
       "\n",
       "    .dataframe thead th {\n",
       "        text-align: right;\n",
       "    }\n",
       "</style>\n",
       "<table border=\"1\" class=\"dataframe\">\n",
       "  <thead>\n",
       "    <tr style=\"text-align: right;\">\n",
       "      <th></th>\n",
       "      <th>이름</th>\n",
       "      <th>나이</th>\n",
       "      <th>도시</th>\n",
       "      <th>직업</th>\n",
       "    </tr>\n",
       "  </thead>\n",
       "  <tbody>\n",
       "    <tr>\n",
       "      <th>0</th>\n",
       "      <td>김지수</td>\n",
       "      <td>28</td>\n",
       "      <td>서울</td>\n",
       "      <td>의사</td>\n",
       "    </tr>\n",
       "    <tr>\n",
       "      <th>1</th>\n",
       "      <td>박영희</td>\n",
       "      <td>22</td>\n",
       "      <td>부산</td>\n",
       "      <td>변호사</td>\n",
       "    </tr>\n",
       "    <tr>\n",
       "      <th>2</th>\n",
       "      <td>이민준</td>\n",
       "      <td>21</td>\n",
       "      <td>대구</td>\n",
       "      <td>회계사</td>\n",
       "    </tr>\n",
       "    <tr>\n",
       "      <th>3</th>\n",
       "      <td>최예원</td>\n",
       "      <td>30</td>\n",
       "      <td>광주</td>\n",
       "      <td>엔지니어</td>\n",
       "    </tr>\n",
       "  </tbody>\n",
       "</table>\n",
       "</div>"
      ],
      "text/plain": [
       "    이름  나이  도시    직업\n",
       "0  김지수  28  서울    의사\n",
       "1  박영희  22  부산   변호사\n",
       "2  이민준  21  대구   회계사\n",
       "3  최예원  30  광주  엔지니어"
      ]
     },
     "execution_count": 22,
     "metadata": {},
     "output_type": "execute_result"
    }
   ],
   "source": [
    "import pandas as pd\n",
    "\n",
    "# 데이터프레임 생성\n",
    "data = {\n",
    "    '이름': ['김지수', '박영희', '이민준', '최예원'],\n",
    "    '나이': [28, 22, 21, 30],\n",
    "    '도시': ['서울', '부산', '대구', '광주']\n",
    "}\n",
    "df = pd.DataFrame(data)\n",
    "\n",
    "# '직업' 컬럼 추가\n",
    "df['직업'] = ['의사', '변호사', '회계사', '엔지니어']\n",
    "df"
   ]
  },
  {
   "cell_type": "markdown",
   "metadata": {},
   "source": [
    "### 2. 컬럼 삭제"
   ]
  },
  {
   "cell_type": "code",
   "execution_count": 15,
   "metadata": {},
   "outputs": [
    {
     "data": {
      "text/html": [
       "<div>\n",
       "<style scoped>\n",
       "    .dataframe tbody tr th:only-of-type {\n",
       "        vertical-align: middle;\n",
       "    }\n",
       "\n",
       "    .dataframe tbody tr th {\n",
       "        vertical-align: top;\n",
       "    }\n",
       "\n",
       "    .dataframe thead th {\n",
       "        text-align: right;\n",
       "    }\n",
       "</style>\n",
       "<table border=\"1\" class=\"dataframe\">\n",
       "  <thead>\n",
       "    <tr style=\"text-align: right;\">\n",
       "      <th></th>\n",
       "      <th>이름</th>\n",
       "      <th>도시</th>\n",
       "      <th>직업</th>\n",
       "    </tr>\n",
       "  </thead>\n",
       "  <tbody>\n",
       "    <tr>\n",
       "      <th>0</th>\n",
       "      <td>김지수</td>\n",
       "      <td>서울</td>\n",
       "      <td>의사</td>\n",
       "    </tr>\n",
       "    <tr>\n",
       "      <th>1</th>\n",
       "      <td>박영희</td>\n",
       "      <td>부산</td>\n",
       "      <td>변호사</td>\n",
       "    </tr>\n",
       "    <tr>\n",
       "      <th>2</th>\n",
       "      <td>이민준</td>\n",
       "      <td>대구</td>\n",
       "      <td>회계사</td>\n",
       "    </tr>\n",
       "    <tr>\n",
       "      <th>3</th>\n",
       "      <td>최예원</td>\n",
       "      <td>광주</td>\n",
       "      <td>엔지니어</td>\n",
       "    </tr>\n",
       "  </tbody>\n",
       "</table>\n",
       "</div>"
      ],
      "text/plain": [
       "    이름  도시    직업\n",
       "0  김지수  서울    의사\n",
       "1  박영희  부산   변호사\n",
       "2  이민준  대구   회계사\n",
       "3  최예원  광주  엔지니어"
      ]
     },
     "execution_count": 15,
     "metadata": {},
     "output_type": "execute_result"
    }
   ],
   "source": [
    "df.drop('나이', axis=1, inplace=True)\n",
    "df"
   ]
  },
  {
   "cell_type": "markdown",
   "metadata": {},
   "source": [
    "### 3. 행 추가"
   ]
  },
  {
   "cell_type": "code",
   "execution_count": null,
   "metadata": {},
   "outputs": [],
   "source": [
    "# 새 행 추가(레이블이 인덱스 형식일 때), iloc는 안됨\n",
    "new_row = {'이름': '정우성', '도시': '인천', '직업': '배우'}\n",
    "df.loc[len(df)] = new_row\n",
    "df"
   ]
  },
  {
   "cell_type": "code",
   "execution_count": 16,
   "metadata": {},
   "outputs": [],
   "source": [
    "df.loc[len(df)] = ['정우성', '인천', '배우']"
   ]
  },
  {
   "cell_type": "code",
   "execution_count": 17,
   "metadata": {},
   "outputs": [
    {
     "data": {
      "text/html": [
       "<div>\n",
       "<style scoped>\n",
       "    .dataframe tbody tr th:only-of-type {\n",
       "        vertical-align: middle;\n",
       "    }\n",
       "\n",
       "    .dataframe tbody tr th {\n",
       "        vertical-align: top;\n",
       "    }\n",
       "\n",
       "    .dataframe thead th {\n",
       "        text-align: right;\n",
       "    }\n",
       "</style>\n",
       "<table border=\"1\" class=\"dataframe\">\n",
       "  <thead>\n",
       "    <tr style=\"text-align: right;\">\n",
       "      <th></th>\n",
       "      <th>이름</th>\n",
       "      <th>도시</th>\n",
       "      <th>직업</th>\n",
       "    </tr>\n",
       "  </thead>\n",
       "  <tbody>\n",
       "    <tr>\n",
       "      <th>0</th>\n",
       "      <td>김지수</td>\n",
       "      <td>서울</td>\n",
       "      <td>의사</td>\n",
       "    </tr>\n",
       "    <tr>\n",
       "      <th>1</th>\n",
       "      <td>박영희</td>\n",
       "      <td>부산</td>\n",
       "      <td>변호사</td>\n",
       "    </tr>\n",
       "    <tr>\n",
       "      <th>2</th>\n",
       "      <td>이민준</td>\n",
       "      <td>대구</td>\n",
       "      <td>회계사</td>\n",
       "    </tr>\n",
       "    <tr>\n",
       "      <th>3</th>\n",
       "      <td>최예원</td>\n",
       "      <td>광주</td>\n",
       "      <td>엔지니어</td>\n",
       "    </tr>\n",
       "    <tr>\n",
       "      <th>4</th>\n",
       "      <td>정우성</td>\n",
       "      <td>인천</td>\n",
       "      <td>배우</td>\n",
       "    </tr>\n",
       "  </tbody>\n",
       "</table>\n",
       "</div>"
      ],
      "text/plain": [
       "    이름  도시    직업\n",
       "0  김지수  서울    의사\n",
       "1  박영희  부산   변호사\n",
       "2  이민준  대구   회계사\n",
       "3  최예원  광주  엔지니어\n",
       "4  정우성  인천    배우"
      ]
     },
     "execution_count": 17,
     "metadata": {},
     "output_type": "execute_result"
    }
   ],
   "source": [
    "df"
   ]
  },
  {
   "cell_type": "markdown",
   "metadata": {},
   "source": [
    "### 4. 행 삭제"
   ]
  },
  {
   "cell_type": "code",
   "execution_count": 25,
   "metadata": {},
   "outputs": [
    {
     "data": {
      "text/html": [
       "<div>\n",
       "<style scoped>\n",
       "    .dataframe tbody tr th:only-of-type {\n",
       "        vertical-align: middle;\n",
       "    }\n",
       "\n",
       "    .dataframe tbody tr th {\n",
       "        vertical-align: top;\n",
       "    }\n",
       "\n",
       "    .dataframe thead th {\n",
       "        text-align: right;\n",
       "    }\n",
       "</style>\n",
       "<table border=\"1\" class=\"dataframe\">\n",
       "  <thead>\n",
       "    <tr style=\"text-align: right;\">\n",
       "      <th></th>\n",
       "      <th>이름</th>\n",
       "      <th>나이</th>\n",
       "      <th>도시</th>\n",
       "      <th>직업</th>\n",
       "    </tr>\n",
       "  </thead>\n",
       "  <tbody>\n",
       "    <tr>\n",
       "      <th>1</th>\n",
       "      <td>박영희</td>\n",
       "      <td>22</td>\n",
       "      <td>부산</td>\n",
       "      <td>변호사</td>\n",
       "    </tr>\n",
       "    <tr>\n",
       "      <th>2</th>\n",
       "      <td>이민준</td>\n",
       "      <td>21</td>\n",
       "      <td>대구</td>\n",
       "      <td>회계사</td>\n",
       "    </tr>\n",
       "  </tbody>\n",
       "</table>\n",
       "</div>"
      ],
      "text/plain": [
       "    이름  나이  도시   직업\n",
       "1  박영희  22  부산  변호사\n",
       "2  이민준  21  대구  회계사"
      ]
     },
     "execution_count": 25,
     "metadata": {},
     "output_type": "execute_result"
    }
   ],
   "source": [
    "# 첫 번째 행 삭제 (axis의 기본값은 0, 생략 가능)\n",
    "df.drop(index=[0,3], inplace=True)\n",
    "df"
   ]
  },
  {
   "cell_type": "markdown",
   "metadata": {},
   "source": [
    "## 중간 실습"
   ]
  },
  {
   "cell_type": "markdown",
   "metadata": {},
   "source": [
    "1. 판다스 라이브러리를 pd라는 별칭으로 임포트하세요.\n",
    "\n",
    "2. 다음 데이터를 포함하는 데이터프레임을 생성하세요.  \n",
    "이름: 김철수, 이영희, 박동민, 최지은  \n",
    "나이: 25, 30, 22, 31  \n",
    "성별: 남, 여, 남, 여  \n",
    "직업: 개발자, 디자이너, 마케터, 기획자  \n",
    "\n",
    "3. 생성한 데이터프레임의 처음 2개 행과 마지막 2개 행을 출력하세요.\n",
    "\n",
    "4. 데이터프레임의 정보를 출력하여 각 컬럼의 데이터 타입과 결측치 여부를 확인하세요.\n",
    "\n",
    "5. '이름' 컬럼을 '사용자 이름'으로, '나이' 컬럼을 '사용자 나이'로 변경하세요.\n",
    "\n",
    "6. 모든 사용자의 '거주지'를 '서울'로 설정하는 새로운 컬럼을 추가하세요.\n",
    "\n",
    "7. '성별' 컬럼을 삭제하세요.\n",
    "\n",
    "8. 나이가 30세 이상인 사용자만 선택하여 출력하세요.\n",
    "\n",
    "9. 최종 데이터프레임을 CSV 파일로 저장하세요. 파일 이름은 'user_data.csv'로 설정하고, 인덱스는 저장하지 않습니다."
   ]
  },
  {
   "cell_type": "code",
   "execution_count": 19,
   "metadata": {},
   "outputs": [
    {
     "name": "stdout",
     "output_type": "stream",
     "text": [
      "    이름  나이 성별    직업\n",
      "0  김철수  25  남   개발자\n",
      "1  이영희  30  여  디자이너\n",
      "    이름  나이 성별   직업\n",
      "2  박동민  22  남  마케터\n",
      "3  최지은  31  여  기획자\n",
      "<class 'pandas.core.frame.DataFrame'>\n",
      "RangeIndex: 4 entries, 0 to 3\n",
      "Data columns (total 4 columns):\n",
      " #   Column  Non-Null Count  Dtype \n",
      "---  ------  --------------  ----- \n",
      " 0   이름      4 non-null      object\n",
      " 1   나이      4 non-null      int64 \n",
      " 2   성별      4 non-null      object\n",
      " 3   직업      4 non-null      object\n",
      "dtypes: int64(1), object(3)\n",
      "memory usage: 256.0+ bytes\n",
      "None\n",
      "  사용자 이름  사용자 나이    직업 거주지\n",
      "1    이영희      30  디자이너  서울\n",
      "3    최지은      31   기획자  서울\n",
      "  사용자 이름  사용자 나이    직업 거주지\n",
      "0    김철수      25   개발자  서울\n",
      "1    이영희      30  디자이너  서울\n",
      "2    박동민      22   마케터  서울\n",
      "3    최지은      31   기획자  서울\n"
     ]
    }
   ],
   "source": [
    "# 1\n",
    "import pandas as pd\n",
    "\n",
    "# 2\n",
    "data = {\n",
    "    '이름': ['김철수', '이영희', '박동민', '최지은'],\n",
    "    '나이': [25, 30, 22, 31],\n",
    "    '성별': ['남', '여', '남', '여'],\n",
    "    '직업': ['개발자', '디자이너', '마케터', '기획자']\n",
    "}\n",
    "df = pd.DataFrame(data)\n",
    "\n",
    "# 3\n",
    "print(df.head(2))\n",
    "print(df.tail(2))\n",
    "\n",
    "# 4\n",
    "print(df.info())\n",
    "\n",
    "# 5\n",
    "df.rename(columns={'이름': '사용자 이름', '나이': '사용자 나이'}, inplace=True)\n",
    "\n",
    "# 6\n",
    "df['거주지'] = '서울'\n",
    "\n",
    "# 7\n",
    "df.drop('성별', axis=1, inplace=True)\n",
    "\n",
    "# 8\n",
    "print(df[df['사용자 나이'] >= 30])\n",
    "\n",
    "print(df)\n",
    "\n",
    "# 9\n",
    "df.to_csv('user_data.csv', index=False)"
   ]
  },
  {
   "cell_type": "markdown",
   "metadata": {},
   "source": [
    "# 데이터 불러오기 및 저장하기"
   ]
  },
  {
   "cell_type": "markdown",
   "metadata": {},
   "source": [
    "## 1. csv 파일 불러오기"
   ]
  },
  {
   "cell_type": "markdown",
   "metadata": {},
   "source": [
    "위 실습에서 저장한 user_data.csv를 사용함"
   ]
  },
  {
   "cell_type": "code",
   "execution_count": null,
   "metadata": {},
   "outputs": [],
   "source": [
    "import pandas as pd\n",
    "\n",
    "# CSV 파일 불러오기 user_data.csv\n",
    "df = pd.read_csv('user_data.csv')\n",
    "df"
   ]
  },
  {
   "cell_type": "markdown",
   "metadata": {},
   "source": [
    "## 2. csv 파일 저장하기"
   ]
  },
  {
   "cell_type": "markdown",
   "metadata": {},
   "source": [
    "index 매개변수를 False로 설정하면 인덱스가 파일에 저장되지 않음"
   ]
  },
  {
   "cell_type": "code",
   "execution_count": null,
   "metadata": {},
   "outputs": [],
   "source": [
    "# 데이터프레임을 CSV 파일로 저장\n",
    "df.to_csv('save_user_data.csv', index=False)"
   ]
  },
  {
   "cell_type": "markdown",
   "metadata": {},
   "source": [
    "## 3. excel 파일 불러오기"
   ]
  },
  {
   "cell_type": "markdown",
   "metadata": {},
   "source": [
    "엑셀을 열어서 user_data.csv 데이터를 불러온 후 엑셀 파일로 저장"
   ]
  },
  {
   "cell_type": "markdown",
   "metadata": {},
   "source": [
    "ImportError: Missing optional dependency 'openpyxl'.  Use pip or conda to install openpyxl.  \n",
    "pip install openpyxl"
   ]
  },
  {
   "cell_type": "code",
   "execution_count": null,
   "metadata": {},
   "outputs": [],
   "source": [
    "# 엑셀 파일 불러오기\n",
    "df = pd.read_excel('user_data.xlsx')\n",
    "df"
   ]
  },
  {
   "cell_type": "code",
   "execution_count": null,
   "metadata": {},
   "outputs": [],
   "source": [
    "# 데이터프레임을 엑셀 파일로 저장\n",
    "df.to_excel('save_user_data.xlsx', index=False)"
   ]
  },
  {
   "cell_type": "markdown",
   "metadata": {},
   "source": [
    "# 데이터 탐색 및 조작"
   ]
  },
  {
   "cell_type": "code",
   "execution_count": 26,
   "metadata": {},
   "outputs": [],
   "source": [
    "import pandas as pd\n",
    "import numpy as np\n",
    "\n",
    "# 데이터프레임 생성\n",
    "data = {\n",
    "    '이름': ['김지수', '박영희', '이민준', '최예원'],\n",
    "    '나이': [28, 22, 21, 30],\n",
    "    '도시': ['서울', '부산', '대구', '광주'],\n",
    "    '직업': ['의사', '변호사', '회계사', '엔지니어']\n",
    "}\n",
    "df = pd.DataFrame(data)"
   ]
  },
  {
   "cell_type": "code",
   "execution_count": 27,
   "metadata": {},
   "outputs": [],
   "source": [
    "df['점수'] = np.random.randint(50, 100, size=len(df))"
   ]
  },
  {
   "cell_type": "code",
   "execution_count": 28,
   "metadata": {},
   "outputs": [
    {
     "data": {
      "text/html": [
       "<div>\n",
       "<style scoped>\n",
       "    .dataframe tbody tr th:only-of-type {\n",
       "        vertical-align: middle;\n",
       "    }\n",
       "\n",
       "    .dataframe tbody tr th {\n",
       "        vertical-align: top;\n",
       "    }\n",
       "\n",
       "    .dataframe thead th {\n",
       "        text-align: right;\n",
       "    }\n",
       "</style>\n",
       "<table border=\"1\" class=\"dataframe\">\n",
       "  <thead>\n",
       "    <tr style=\"text-align: right;\">\n",
       "      <th></th>\n",
       "      <th>이름</th>\n",
       "      <th>나이</th>\n",
       "      <th>도시</th>\n",
       "      <th>직업</th>\n",
       "      <th>점수</th>\n",
       "    </tr>\n",
       "  </thead>\n",
       "  <tbody>\n",
       "    <tr>\n",
       "      <th>0</th>\n",
       "      <td>김지수</td>\n",
       "      <td>28</td>\n",
       "      <td>서울</td>\n",
       "      <td>의사</td>\n",
       "      <td>64</td>\n",
       "    </tr>\n",
       "    <tr>\n",
       "      <th>1</th>\n",
       "      <td>박영희</td>\n",
       "      <td>22</td>\n",
       "      <td>부산</td>\n",
       "      <td>변호사</td>\n",
       "      <td>68</td>\n",
       "    </tr>\n",
       "    <tr>\n",
       "      <th>2</th>\n",
       "      <td>이민준</td>\n",
       "      <td>21</td>\n",
       "      <td>대구</td>\n",
       "      <td>회계사</td>\n",
       "      <td>52</td>\n",
       "    </tr>\n",
       "    <tr>\n",
       "      <th>3</th>\n",
       "      <td>최예원</td>\n",
       "      <td>30</td>\n",
       "      <td>광주</td>\n",
       "      <td>엔지니어</td>\n",
       "      <td>79</td>\n",
       "    </tr>\n",
       "  </tbody>\n",
       "</table>\n",
       "</div>"
      ],
      "text/plain": [
       "    이름  나이  도시    직업  점수\n",
       "0  김지수  28  서울    의사  64\n",
       "1  박영희  22  부산   변호사  68\n",
       "2  이민준  21  대구   회계사  52\n",
       "3  최예원  30  광주  엔지니어  79"
      ]
     },
     "execution_count": 28,
     "metadata": {},
     "output_type": "execute_result"
    }
   ],
   "source": [
    "df"
   ]
  },
  {
   "cell_type": "markdown",
   "metadata": {},
   "source": [
    "## 1. 기초 통계"
   ]
  },
  {
   "cell_type": "code",
   "execution_count": null,
   "metadata": {},
   "outputs": [],
   "source": [
    "df.describe()"
   ]
  },
  {
   "cell_type": "markdown",
   "metadata": {},
   "source": [
    "count: 비결측치(non-NA/null)의 개수를 나타냅니다.  \n",
    "mean: 평균값을 나타냅니다.  \n",
    "std: 표준편차를 나타냅니다. \n",
    "min: 최소값을 나타냅니다.  \n",
    "25% (1st quartile): 데이터의 25%에 해당하는 값(하위 사분위수)입니다.  \n",
    "50% (median, 2nd quartile): 중앙값을 나타냅니다.  \n",
    "75% (3rd quartile): 데이터의 75%에 해당하는 값(상위 사분위수)입니다.  \n",
    "max: 최대값을 나타냅니다.  "
   ]
  },
  {
   "cell_type": "code",
   "execution_count": null,
   "metadata": {},
   "outputs": [],
   "source": [
    "# 점수 계산\n",
    "df['점수'].sum()"
   ]
  },
  {
   "cell_type": "code",
   "execution_count": null,
   "metadata": {},
   "outputs": [],
   "source": [
    "# 평균 계산\n",
    "df['점수'].mean()"
   ]
  },
  {
   "cell_type": "markdown",
   "metadata": {},
   "source": [
    "### axis"
   ]
  },
  {
   "cell_type": "markdown",
   "metadata": {},
   "source": [
    "axis=0 행을 따라 작업을 수행(열에 대한 요소들), axis=1 열을 따라 작업을 수행(행에 대한 요소들), 기본값은 0"
   ]
  },
  {
   "cell_type": "markdown",
   "metadata": {},
   "source": [
    "<div style=\"width:150px; height:50px; background-color:#D3D3D3; margin-bottom:5px;\"></div>\n",
    "<div style=\"width:150px; height:50px; background-color:#D3D3D3; margin-bottom:5px;\"></div>\n",
    "<div style=\"width:150px; height:50px; background-color:#D3D3D3; margin-bottom:5px;\"></div>\n",
    "<div style=\"width:150px; height:50px; background-color:#D3D3D3; margin-bottom:5px;\"></div>\n",
    "\n",
    "axix = 0"
   ]
  },
  {
   "cell_type": "markdown",
   "metadata": {},
   "source": [
    "<div style=\"display:flex; justify-content:start; align-items:center;\">\n",
    "  <div style=\"width:50px; height:120px; background-color:#D3D3D3; margin-right:5px;\"></div>\n",
    "  <div style=\"width:50px; height:120px; background-color:#D3D3D3; margin-right:5px;\"></div>\n",
    "  <div style=\"width:50px; height:120px; background-color:#D3D3D3; margin-right:5px;\"></div>\n",
    "  <div style=\"width:50px; height:120px; background-color:#D3D3D3;\"></div>\n",
    "</div>\n",
    "\n",
    "axis = 1"
   ]
  },
  {
   "cell_type": "code",
   "execution_count": null,
   "metadata": {},
   "outputs": [],
   "source": [
    "data  = {\n",
    "  '학생': [f'학생{i}' for i in range(1, 11)],\n",
    "  '국어': np.random.randint(50, 100, size=10),\n",
    "  '영어': np.random.randint(50, 100, size=10),\n",
    "  '수학': np.random.randint(50, 100, size=10)\n",
    "  }\n",
    "\n",
    "df = pd.DataFrame(data)"
   ]
  },
  {
   "cell_type": "code",
   "execution_count": null,
   "metadata": {},
   "outputs": [],
   "source": [
    "df[['국어', '영어', '수학']].mean() # 행들의 평균"
   ]
  },
  {
   "cell_type": "code",
   "execution_count": null,
   "metadata": {},
   "outputs": [],
   "source": [
    "df[['국어', '영어', '수학']].mean(axis=1) # 열들의 평균"
   ]
  },
  {
   "cell_type": "code",
   "execution_count": null,
   "metadata": {},
   "outputs": [],
   "source": [
    "df.loc[len(df)] = df[['국어', '영어', '수학']].mean()"
   ]
  },
  {
   "cell_type": "code",
   "execution_count": null,
   "metadata": {},
   "outputs": [],
   "source": [
    "df['평균'] = df[['국어', '영어', '수학']].mean(axis=1)\n",
    "df"
   ]
  },
  {
   "cell_type": "markdown",
   "metadata": {},
   "source": [
    "## 2. 결측치 다루기"
   ]
  },
  {
   "cell_type": "markdown",
   "metadata": {},
   "source": [
    "### 1. 결측치 확인"
   ]
  },
  {
   "cell_type": "code",
   "execution_count": null,
   "metadata": {},
   "outputs": [],
   "source": [
    "import pandas as pd\n",
    "import numpy as np\n",
    "\n",
    "# 데이터프레임 생성\n",
    "data = {\n",
    "    '이름': ['김지수', '박영희', '이민준', '최예원'],\n",
    "    '나이': [28, 22, 21, 30],\n",
    "    '도시': ['서울', '부산', '대구', '광주'],\n",
    "    '직업': ['의사', '변호사', '회계사', '엔지니어']\n",
    "}\n",
    "df = pd.DataFrame(data)"
   ]
  },
  {
   "cell_type": "code",
   "execution_count": null,
   "metadata": {},
   "outputs": [],
   "source": [
    "df['점수'] = np.random.randint(50, 100, len(df))"
   ]
  },
  {
   "cell_type": "code",
   "execution_count": null,
   "metadata": {},
   "outputs": [],
   "source": [
    "df.loc[len(df)] = {'이름': '정우성', '나이': 37, '도시': '인천', '직업': '배우'} # 점수가 없음\n",
    "df"
   ]
  },
  {
   "cell_type": "code",
   "execution_count": null,
   "metadata": {},
   "outputs": [],
   "source": [
    "# 결측치 확인\n",
    "df.isnull() # isnull 이랑 isna랑 같음"
   ]
  },
  {
   "cell_type": "code",
   "execution_count": null,
   "metadata": {},
   "outputs": [],
   "source": [
    "df[df.isna().any(axis=1)]"
   ]
  },
  {
   "cell_type": "markdown",
   "metadata": {},
   "source": [
    "### 2. 결측치 처리"
   ]
  },
  {
   "cell_type": "code",
   "execution_count": null,
   "metadata": {},
   "outputs": [],
   "source": [
    "# # 점수 컬럼의 평균으로 결측치를 채움\n",
    "# df['점수'].fillna(value=df['점수'].mean(), inplace=True)\n",
    "# df"
   ]
  },
  {
   "cell_type": "code",
   "execution_count": null,
   "metadata": {},
   "outputs": [],
   "source": [
    "# 점수의 공백을 채우는데 점수의 평균값으로 채움, 점수 데이터에 다시 저장함\n",
    "df['점수'] = df['점수'].fillna(value=df['점수'].mean())\n",
    "df"
   ]
  },
  {
   "cell_type": "markdown",
   "metadata": {},
   "source": [
    "## 3. 중복 데이터 처리"
   ]
  },
  {
   "cell_type": "code",
   "execution_count": null,
   "metadata": {},
   "outputs": [],
   "source": [
    "df.loc[len(df)] = df.iloc[0] # 중복 데이터 삽입\n",
    "df"
   ]
  },
  {
   "cell_type": "markdown",
   "metadata": {},
   "source": [
    "### 1. 중복 데이터 확인"
   ]
  },
  {
   "cell_type": "code",
   "execution_count": null,
   "metadata": {},
   "outputs": [],
   "source": [
    "# 중복 데이터 확인\n",
    "df.duplicated()"
   ]
  },
  {
   "cell_type": "code",
   "execution_count": null,
   "metadata": {},
   "outputs": [],
   "source": [
    "print(\"특정 컬럼에 대한 중복 데이터 확인:\")\n",
    "print(df.duplicated(subset=['이름', '도시']))"
   ]
  },
  {
   "cell_type": "code",
   "execution_count": null,
   "metadata": {},
   "outputs": [],
   "source": [
    "df.loc[4, '도시'] = '서울'"
   ]
  },
  {
   "cell_type": "code",
   "execution_count": null,
   "metadata": {},
   "outputs": [],
   "source": [
    "df"
   ]
  },
  {
   "cell_type": "code",
   "execution_count": null,
   "metadata": {},
   "outputs": [],
   "source": [
    "# unique()를 사용해서 특정 컬럼 데이터의 고유값을 확인할수도 있음\n",
    "\n",
    "df['도시'].unique()"
   ]
  },
  {
   "cell_type": "code",
   "execution_count": null,
   "metadata": {},
   "outputs": [],
   "source": [
    "print(\"특정 컬럼에 대한 중복 데이터 확인:\")\n",
    "print(df.duplicated(subset=['도시']))"
   ]
  },
  {
   "cell_type": "markdown",
   "metadata": {},
   "source": [
    "### 2. 중복 데이터 출력"
   ]
  },
  {
   "cell_type": "code",
   "execution_count": null,
   "metadata": {},
   "outputs": [],
   "source": [
    "df[df.duplicated()]"
   ]
  },
  {
   "cell_type": "code",
   "execution_count": null,
   "metadata": {},
   "outputs": [],
   "source": [
    "df[df.duplicated(subset=['도시'])]"
   ]
  },
  {
   "cell_type": "markdown",
   "metadata": {},
   "source": [
    "### 3. 중복 데이터 제거"
   ]
  },
  {
   "cell_type": "code",
   "execution_count": null,
   "metadata": {},
   "outputs": [],
   "source": [
    "df.drop_duplicates(inplace=True)\n",
    "df"
   ]
  },
  {
   "cell_type": "code",
   "execution_count": null,
   "metadata": {},
   "outputs": [],
   "source": [
    "df.drop_duplicates(subset=['도시'], inplace=True)\n",
    "df"
   ]
  },
  {
   "cell_type": "markdown",
   "metadata": {},
   "source": [
    "## 4. 데이터 정렬"
   ]
  },
  {
   "cell_type": "code",
   "execution_count": null,
   "metadata": {},
   "outputs": [],
   "source": [
    "import pandas as pd\n",
    "import numpy as np\n",
    "\n",
    "# 데이터프레임 생성\n",
    "data = {\n",
    "    '이름': ['김지수', '박영희', '이민준', '최예원'],\n",
    "    '나이': [28, 22, 21, 30],\n",
    "    '도시': ['서울', '부산', '대구', '광주'],\n",
    "    '직업': ['의사', '변호사', '회계사', '엔지니어'],\n",
    "    '점수': [85, 95, 78, 89]\n",
    "}\n",
    "df = pd.DataFrame(data)"
   ]
  },
  {
   "cell_type": "code",
   "execution_count": null,
   "metadata": {},
   "outputs": [],
   "source": [
    "# 'Age'를 기준으로 오름차순 정렬\n",
    "df_sorted = df.sort_values(by='나이')\n",
    "df_sorted"
   ]
  },
  {
   "cell_type": "code",
   "execution_count": null,
   "metadata": {},
   "outputs": [],
   "source": [
    "# 'Score'를 기준으로 내림차순 정렬\n",
    "df_sorted_desc = df.sort_values(by='점수', ascending=False)\n",
    "df_sorted_desc"
   ]
  },
  {
   "cell_type": "markdown",
   "metadata": {},
   "source": [
    "여러 열을 기준으로 정렬할 수 있다, 나이를 기준으로 정렬 후 점수을 기준으로 정렬"
   ]
  },
  {
   "cell_type": "code",
   "execution_count": null,
   "metadata": {},
   "outputs": [],
   "source": [
    "# '점수'를 먼저 내림차순으로 정렬하고, 동점자의 경우 '나이'를 오름차순으로 정렬\n",
    "df_multi_sorted = df.sort_values(by=['점수', '나이'], ascending=[False, True])\n",
    "df_multi_sorted"
   ]
  },
  {
   "cell_type": "markdown",
   "metadata": {},
   "source": [
    "## 5. 데이터 필터링"
   ]
  },
  {
   "cell_type": "markdown",
   "metadata": {},
   "source": [
    "### 1. query()"
   ]
  },
  {
   "cell_type": "code",
   "execution_count": null,
   "metadata": {},
   "outputs": [],
   "source": [
    "import pandas as pd\n",
    "import numpy as np\n",
    "\n",
    "# 데이터프레임 생성\n",
    "data = {\n",
    "    '이름': ['김지수', '박영희', '이민준', '최예원'],\n",
    "    '나이': [28, 22, 21, 30],\n",
    "    '도시': ['서울', '부산', '대구', '광주'],\n",
    "    '직업': ['의사', '변호사', '회계사', '엔지니어'],\n",
    "    '점수': [85, 95, 78, 89]\n",
    "}\n",
    "df = pd.DataFrame(data)"
   ]
  },
  {
   "cell_type": "markdown",
   "metadata": {},
   "source": [
    "query()는 표현식을 문자열로 입력받아 해당 조건에 맞는 데이터만 필터링"
   ]
  },
  {
   "cell_type": "code",
   "execution_count": null,
   "metadata": {},
   "outputs": [],
   "source": [
    "df_filter = df.query('점수 >= 85 and 나이 >= 25') # 점수가 85이상이면서 나이가 25이상\n",
    "df_filter"
   ]
  },
  {
   "cell_type": "markdown",
   "metadata": {},
   "source": [
    "### 2. 조건문"
   ]
  },
  {
   "cell_type": "markdown",
   "metadata": {},
   "source": [
    "논리연산자(&, |, ~)를 사용하여 조건을 표현할 수 있습니다"
   ]
  },
  {
   "cell_type": "markdown",
   "metadata": {},
   "source": [
    "| 연산자 | 설명 | 사용 예 |\n",
    "|--------|------|--------|\n",
    "| `&`    | AND 연산자는 두 조건이 모두 참일 때 참을 반환합니다. | `df[(df['나이'] > 20) & (df['점수'] > 80)]` |\n",
    "| `\\|`    | OR 연산자는 두 조건 중 하나라도 참일 때 참을 반환합니다. | `df[(df['나이'] > 30) \\| (df['점수'] > 90)]` |\n",
    "| `~`    | NOT 연산자는 조건의 반대를 반환합니다. | `df[~(df['이름'] == '이민준')]` |\n"
   ]
  },
  {
   "cell_type": "code",
   "execution_count": null,
   "metadata": {},
   "outputs": [],
   "source": [
    "df_filter_2 = df[(df['점수'] >= 85) | (df['나이'] >= 25)] # 점수가 85이상이거나 나이가 25 이상\n",
    "df_filter_2"
   ]
  },
  {
   "cell_type": "markdown",
   "metadata": {},
   "source": [
    "## 6. 이상치 식별 및 처리"
   ]
  },
  {
   "cell_type": "markdown",
   "metadata": {},
   "source": [
    "matplotlib: https://matplotlib.org/stable/users/index  \n",
    "seaborn: https://seaborn.pydata.org/api.html  \n",
    "plotly: https://plotly.com/python/"
   ]
  },
  {
   "cell_type": "markdown",
   "metadata": {},
   "source": [
    "### 1. 이상치 식별"
   ]
  },
  {
   "cell_type": "markdown",
   "metadata": {},
   "source": [
    "박스플롯을 이용한 이상치 식별, 이상치는 보통 박스 외부에 위치한 점으로 표시됩니다."
   ]
  },
  {
   "cell_type": "code",
   "execution_count": null,
   "metadata": {},
   "outputs": [],
   "source": [
    "import pandas as pd\n",
    "import numpy as np\n",
    "import matplotlib.pyplot as plt\n",
    "\n",
    "plt.rcParams['font.family'] ='Malgun Gothic' # 맷플롯랩은 한글을 지원안함 폰트를 설정해 줘야함\n",
    "plt.rcParams['axes.unicode_minus'] =False\n",
    "\n",
    "# 데이터프레임 생성 # 합격자 데이터\n",
    "data = {\n",
    "    '이름': ['김지수', '박영희', '이민준', '최예원', '정우성', '조민수', '한예슬', '백두산', '서태지', '아이유', '강호동', '유재석', '신민아', '하정우', '김하늘'],\n",
    "    '나이': [28, 22, 21, 30, 37, 34, 29, 45, 48, 25, 41, 46, 38, 35, 37],\n",
    "    '도시': ['서울', '부산', '대구', '광주', '인천', '서울', '서울', '광주', '대구', '인천', '부산', '서울', '대구', '부산', '서울'],\n",
    "    '직업': ['의사', '변호사', '회계사', '엔지니어', '배우', '회계사', '의사', '엔지니어', '가수', '가수', '방송인', '방송인', '배우', '배우', '배우'],\n",
    "    '점수': [88, 92, 200, 85, 95, 78, 88, 95, 64, 82, 91, 89, 85, 90, 93]\n",
    "}\n",
    "df = pd.DataFrame(data)\n",
    "df"
   ]
  },
  {
   "cell_type": "code",
   "execution_count": null,
   "metadata": {},
   "outputs": [],
   "source": [
    "plt.boxplot(df['점수'])\n",
    "plt.title('점수 박스플롯')\n",
    "plt.show()"
   ]
  },
  {
   "cell_type": "code",
   "execution_count": null,
   "metadata": {},
   "outputs": [],
   "source": [
    "import pandas as pd\n",
    "import numpy as np\n",
    "import plotly.express as px\n",
    "\n",
    "# 데이터프레임 생성\n",
    "data = {\n",
    "    '이름': ['김지수', '박영희', '이민준', '최예원', '정우성', '조민수', '한예슬', '백두산', '서태지', '아이유', '강호동', '유재석', '신민아', '하정우', '김하늘'],\n",
    "    '나이': [28, 22, 21, 30, 37, 34, 29, 45, 48, 25, 41, 46, 38, 35, 37],\n",
    "    '도시': ['서울', '부산', '대구', '광주', '인천', '서울', '서울', '광주', '대구', '인천', '부산', '서울', '대구', '부산', '서울'],\n",
    "    '직업': ['의사', '변호사', '회계사', '엔지니어', '배우', '회계사', '의사', '엔지니어', '가수', '가수', '방송인', '방송인', '배우', '배우', '배우'],\n",
    "    '점수': [88, 92, 200, 85, 95, 78, 88, 95, 64, 82, 91, 89, 85, 90, 93]\n",
    "}\n",
    "df = pd.DataFrame(data)\n",
    "\n",
    "# Plotly를 사용한 박스플롯 생성\n",
    "fig = px.box(df, y='점수', width=700, height=1000, title='점수에 대한 박스플롯')\n",
    "fig.show()"
   ]
  },
  {
   "cell_type": "markdown",
   "metadata": {},
   "source": [
    "상자의 윗부분: Q3(3분위수)  \n",
    "상자의 아랫부분: Q1(1분위수)  \n",
    "상자의 길이(Interquartile Range, IQR): Q3 - Q1  \n",
    "상단 수염: Q3 + 1.5*IQR 이내의 최댓값  \n",
    "하단 수염: Q1 - 1.5*IQR 이내의 최솟값  \n",
    "여기서 수염을 넘어가는 점들은 이상치(outliers)로  간주할 수 있습니다.  "
   ]
  },
  {
   "cell_type": "code",
   "execution_count": null,
   "metadata": {},
   "outputs": [],
   "source": [
    "df.describe() # 기초통계를 찍고 나오는 25%가 제 1사분위수, 50%가 제 2사분위수, 75%가 제 3사분위수, IQR도 알 수 있음"
   ]
  },
  {
   "cell_type": "markdown",
   "metadata": {},
   "source": [
    "### 2. 분위수(quantile)"
   ]
  },
  {
   "cell_type": "markdown",
   "metadata": {},
   "source": [
    "1.5xIQR 공식"
   ]
  },
  {
   "cell_type": "code",
   "execution_count": null,
   "metadata": {},
   "outputs": [],
   "source": [
    "Q1 = df['점수'].quantile(0.25) # 제 1사분위수\n",
    "Q1"
   ]
  },
  {
   "cell_type": "code",
   "execution_count": null,
   "metadata": {},
   "outputs": [],
   "source": [
    "Q3 = df['점수'].quantile(0.75) # 제 3사분위수\n",
    "Q3"
   ]
  },
  {
   "cell_type": "code",
   "execution_count": null,
   "metadata": {},
   "outputs": [],
   "source": [
    "IQR = Q3-Q1 # IQR\n",
    "IQR"
   ]
  },
  {
   "cell_type": "code",
   "execution_count": null,
   "metadata": {},
   "outputs": [],
   "source": [
    "df['점수'] <= Q3 + 1.5 * IQR # 상단 수염 이하 값"
   ]
  },
  {
   "cell_type": "code",
   "execution_count": null,
   "metadata": {},
   "outputs": [],
   "source": [
    "df[df['점수'] <= Q3 + 1.5 * IQR] # 상단 수염 이하 값"
   ]
  },
  {
   "cell_type": "code",
   "execution_count": null,
   "metadata": {},
   "outputs": [],
   "source": [
    "df['점수'] >= Q1 - 1.5 * IQR # 하단 수염 이상 값"
   ]
  },
  {
   "cell_type": "code",
   "execution_count": null,
   "metadata": {},
   "outputs": [],
   "source": [
    "df[df['점수'] >= Q1 - 1.5 * IQR] # 하단 수염 이상 값"
   ]
  },
  {
   "cell_type": "code",
   "execution_count": null,
   "metadata": {},
   "outputs": [],
   "source": [
    "(df['점수'] <= Q3 + 1.5 * IQR) & (df['점수'] >= Q1 - 1.5 * IQR) # 상단수염, 하단수엄의 교집합"
   ]
  },
  {
   "cell_type": "code",
   "execution_count": null,
   "metadata": {},
   "outputs": [],
   "source": [
    "df_filter = df[(df['점수'] <= Q3 + 1.5 * IQR) & (df['점수'] >= Q1 - 1.5 * IQR)]\n",
    "df_filter"
   ]
  },
  {
   "cell_type": "markdown",
   "metadata": {},
   "source": [
    "### 3. 임계값 적용"
   ]
  },
  {
   "cell_type": "markdown",
   "metadata": {},
   "source": [
    "요소들의 범위를 제한하는 메서드입니다  "
   ]
  },
  {
   "cell_type": "code",
   "execution_count": null,
   "metadata": {},
   "outputs": [],
   "source": [
    "df['점수'] = df['점수'].clip(lower=70, upper=100)\n",
    "df"
   ]
  },
  {
   "cell_type": "markdown",
   "metadata": {},
   "source": [
    "## 실습"
   ]
  },
  {
   "cell_type": "markdown",
   "metadata": {},
   "source": [
    "학생 점수.csv 파일을 읽어 데이터를 검토해 보세요(이 시험 기간의 날짜는 2022년도로 가정)\n",
    "\n",
    "결측치를 확인하고 어떻게 처리할지 생각해 보세요\n",
    "\n",
    "이상치를 확인하고 어떻게 처리할지 생각해 보세요 (시각화도 해보세요)"
   ]
  },
  {
   "cell_type": "code",
   "execution_count": null,
   "metadata": {},
   "outputs": [],
   "source": []
  }
 ],
 "metadata": {
  "kernelspec": {
   "display_name": "Python 3",
   "language": "python",
   "name": "python3"
  },
  "language_info": {
   "codemirror_mode": {
    "name": "ipython",
    "version": 3
   },
   "file_extension": ".py",
   "mimetype": "text/x-python",
   "name": "python",
   "nbconvert_exporter": "python",
   "pygments_lexer": "ipython3",
   "version": "3.9.13"
  }
 },
 "nbformat": 4,
 "nbformat_minor": 2
}
