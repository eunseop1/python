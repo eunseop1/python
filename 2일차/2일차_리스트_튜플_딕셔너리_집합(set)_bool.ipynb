{
 "cells": [
  {
   "cell_type": "code",
   "execution_count": 7,
   "metadata": {},
   "outputs": [
    {
     "name": "stdout",
     "output_type": "stream",
     "text": [
      "['Life', 'is', 'too', 'short,', 'You', 'need', 'Python']\n",
      "['p', 'i', 't', 'h', 'o', 'n']\n",
      "['p', 'y', 't', 'h', 'o', 'n']\n"
     ]
    }
   ],
   "source": [
    "a = \"Life is too short, You need Python\"\n",
    "b = 'pithon'\n",
    "\n",
    "list_a = a.split()\n",
    "list_b = list(b)\n",
    "\n",
    "print(list_a)\n",
    "print(list_b)\n",
    "\n",
    "list_b[1] = 'y'\n",
    "print(list_b)"
   ]
  },
  {
   "cell_type": "code",
   "execution_count": 11,
   "metadata": {},
   "outputs": [
    {
     "name": "stdout",
     "output_type": "stream",
     "text": [
      "['Life', 'is', 'too', 'short,', 'You', 'need', 'Python']\n"
     ]
    }
   ],
   "source": [
    "a = \"Life is too short, You need Python\"\n",
    "list_a = a.split()\n",
    "\n",
    "print(list_a)"
   ]
  },
  {
   "cell_type": "code",
   "execution_count": 12,
   "metadata": {},
   "outputs": [
    {
     "name": "stdout",
     "output_type": "stream",
     "text": [
      "['is', 'too', 'short,', 'You', 'need', 'Python']\n"
     ]
    }
   ],
   "source": [
    "del list_a[0]\n",
    "\n",
    "print(list_a)"
   ]
  },
  {
   "cell_type": "markdown",
   "metadata": {},
   "source": [
    "| 함수      | 설명                                                         |\n",
    "|---------|------------------------------------------------------------|\n",
    "| append  | 리스트 끝에 항목을 추가합니다.  list_a.append(6)                                         |\n",
    "| sort    | 리스트의 요소를 오름차순 또는 내림차순으로 정렬합니다. 설정을 통해 정렬 순서를 변경할 수 있습니다. list_a.sort(), list_a.sort(), list_a.sort(reverse=True)    |\n",
    "| reverse | 리스트의 요소 순서를 뒤집습니다.  list_a.reverse()                                     |\n",
    "| index   | 지정한 요소가 처음으로 나타나는 위치의 인덱스를 반환합니다. 요소가 리스트에 없으면 오류가 발생합니다.  list_a.index(3)|\n",
    "| insert  | 지정한 위치에 요소를 삽입합니다. 위치 인덱스는 리스트의 시작부터 0으로 계산됩니다.  list_a.insert(4, 5) # 4번째 위치에 5를 삽입             |\n",
    "| remove  | 리스트에서 첫 번째로 나오는 지정한 값을 삭제합니다. 요소가 리스트에 없으면 오류가 발생합니다.  list_a.remove(1) # 리스트에서 첫번째로 나오는 1을 제거      |\n",
    "| pop     | 지정한 위치에 있는 요소를 리스트에서 제거하고, 그 값을 반환합니다. 위치를 지정하지 않으면, 마지막 요소를 제거하고 반환합니다.  list_a.pop()  |\n",
    "| count   | 리스트에서 지정한 값이 나타나는 횟수를 반환합니다.  list_a.count(1)                             |\n",
    "| extend  | 리스트 끝에 다른 리스트(또는 반복 가능한 다른 요소)의 모든 항목을 추가합니다.   list_a.extend([4, 5])            |\n",
    "| min     | 리스트 내의 최소값을 반환합니다. 숫자 또는 알파벳 순서로 최소값을 찾을 수 있습니다.   min(list_a)           |\n",
    "| max     | 리스트 내의 최대값을 반환합니다. 숫자 또는 알파벳 순서로 최대값을 찾을 수 있습니다.   max(list_a)           |"
   ]
  },
  {
   "cell_type": "markdown",
   "metadata": {},
   "source": [
    "반환되는 값들은 변수에 담아서 따로 사용가능"
   ]
  },
  {
   "cell_type": "code",
   "execution_count": 13,
   "metadata": {},
   "outputs": [
    {
     "name": "stdout",
     "output_type": "stream",
     "text": [
      "['is', 'too', 'short,', 'You', 'need', 'Python', '2일차']\n",
      "['2일차', 'Python', 'You', 'is', 'need', 'short,', 'too']\n",
      "['too', 'short,', 'need', 'is', 'You', 'Python', '2일차']\n",
      "6\n",
      "['too', 'short,', '3번쨰에 추가된 무언가', 'need', 'is', 'You', 'Python', '2일차']\n"
     ]
    }
   ],
   "source": [
    "list_a.append(\"2일차\")\n",
    "print(list_a)\n",
    "\n",
    "list_a.sort()\n",
    "print(list_a)\n",
    "\n",
    "list_a.reverse()\n",
    "print(list_a)\n",
    "\n",
    "print(list_a.index(\"2일차\"))\n",
    "\n",
    "list_a.insert(2, \"3번쨰에 추가된 무언가\")\n",
    "print(list_a)"
   ]
  },
  {
   "cell_type": "code",
   "execution_count": 33,
   "metadata": {},
   "outputs": [
    {
     "name": "stdout",
     "output_type": "stream",
     "text": [
      "5\n",
      "['too', 'short,', 'need', 'is', 'You', 'Python', 'z', 'y']\n",
      "0\n",
      "['too', 'short,', 'need', 'is', 'You', 'Python', 'z', 'y']\n",
      "Python\n",
      "z\n"
     ]
    }
   ],
   "source": [
    "# print(list_a.pop(6))\n",
    "print(list_a)\n",
    "\n",
    "print(list_a.count(6))\n",
    "\n",
    "# list_a.extend(['z', 'y'])\n",
    "print(list_a)\n",
    "\n",
    "print(min(list_a))\n",
    "print(max(list_a))\n"
   ]
  },
  {
   "cell_type": "code",
   "execution_count": 43,
   "metadata": {},
   "outputs": [],
   "source": [
    "# 문제 1\n",
    "# 1. 1부터 10까지의 숫자를 포함하는 리스트를 생성하세요.\n",
    "# list_one = [1,2,3,4,5,6,7,8,9,10]\n",
    "# list_one = list(range(1, 11))\n",
    "# print(list_one)\n",
    "\n",
    "# numbers = [1, 2, 3, 4, 5, 6, 7, 8, 9, 10]\n",
    "\n",
    "# 2. 생성한 리스트에서 세 번째 요소를 출력하세요.\n",
    "# print(list_one[2])\n",
    "\n",
    "# print(numbers[2])\n",
    "\n",
    "# 3. 리스트의 마지막 요소를 출력하세요.\n",
    "# print(list_one[-1])\n",
    "\n",
    "# print(numbers[-1])\n",
    "# print(numbers[9])\n"
   ]
  },
  {
   "cell_type": "code",
   "execution_count": 37,
   "metadata": {},
   "outputs": [
    {
     "name": "stdout",
     "output_type": "stream",
     "text": [
      "['apple', 'banana', 'cherry']\n",
      "['apple', 'blueberry', 'cherry']\n",
      "['apple', 'blueberry', 'cherry', 'orange']\n",
      "['apple', 'kiwi', 'blueberry', 'cherry', 'orange']\n"
     ]
    }
   ],
   "source": [
    "# 문제 2\n",
    "# 1. 다음 문자열을 요소로 하는 리스트를 생성하세요: \"apple\", \"banana\", \"cherry\"\n",
    "# list_two = ['apple', 'banana', 'cherry']\n",
    "# print(list_two)\n",
    "\n",
    "# fruits = [\"apple\", \"banana\", \"cherry\"]\n",
    "\n",
    "# 2. \"banana\" 대신 \"blueberry\"를 넣어서 리스트를 수정하세요.\n",
    "# list_two[1] = 'blueberry'\n",
    "# print(list_two)\n",
    "\n",
    "# fruits[1] = \"blueberry\"\n",
    "\n",
    "# 3. 리스트 끝에 \"orange\"를 추가하세요.\n",
    "# list_two.append('orange')\n",
    "# print(list_two)\n",
    "\n",
    "# fruits.append(\"orange\")\n",
    "\n",
    "# 4. 리스트의 두 번째 위치에 \"kiwi\"를 삽입하세요.\n",
    "# list_two.insert(1,'kiwi')\n",
    "# print(list_two)\n",
    "\n",
    "# fruits.insert(1, \"kiwi\")\n",
    "# print(fruits)"
   ]
  },
  {
   "cell_type": "code",
   "execution_count": 38,
   "metadata": {},
   "outputs": [
    {
     "name": "stdout",
     "output_type": "stream",
     "text": [
      "[1, 1, 2, 3, 4, 5, 9]\n",
      "최대값: 9, 최소값: 1\n",
      "리스트의 길이: 7\n",
      "\"1\"의 개수: 2\n"
     ]
    }
   ],
   "source": [
    "# 문제 3\n",
    "# 다음 리스트를 사용하세요: [3, 1, 4, 1, 5, 9, 2]\n",
    "# numbers = [3, 1, 4, 1, 5, 9, 2]\n",
    "\n",
    "# list_three = [3, 1, 4, 1, 5, 9, 2]\n",
    "\n",
    "# 2. 리스트를 오름차순으로 정렬하세요.\n",
    "# numbers.sort()\n",
    "# print(\"오름차순 정렬:\", numbers)\n",
    "\n",
    "# list_three.sort()\n",
    "# print(list_three)\n",
    "\n",
    "# 3. 리스트에서 최대값과 최소값을 찾아 출력하세요.\n",
    "# print(\"최대값:\", max(numbers))\n",
    "# print(\"최소값:\", min(numbers))\n",
    "\n",
    "# print(f\"최대값: {max(list_three)}, 최소값: {min(list_three)}\")\n",
    "\n",
    "# 4. 리스트의 길이를 출력하세요.\n",
    "# print(\"리스트 길이:\", len(numbers))\n",
    "\n",
    "# print(f\"리스트의 길이: {len(list_three)}\")\n",
    "\n",
    "# 5. 리스트에서 \"1\"의 개수를 세어 출력하세요.\n",
    "# print('\"1\"의 개수:', numbers.count(1))\n",
    "\n",
    "# print(f\"\\\"1\\\"의 개수: {list_three.count(1)}\")"
   ]
  },
  {
   "cell_type": "markdown",
   "metadata": {},
   "source": [
    "튜플\n",
    "리스트와 비슷하지만, 생성하고 난 후에는 변경 불가능\n",
    "\n",
    "리스트 처럼 중복도 허용\n",
    "수정하려면 변수 명에 새로운 튜플 요소로 선언하는 것이 유일하다\n"
   ]
  },
  {
   "cell_type": "code",
   "execution_count": 44,
   "metadata": {},
   "outputs": [
    {
     "ename": "TypeError",
     "evalue": "'set' object doesn't support item deletion",
     "output_type": "error",
     "traceback": [
      "\u001b[1;31m---------------------------------------------------------------------------\u001b[0m",
      "\u001b[1;31mTypeError\u001b[0m                                 Traceback (most recent call last)",
      "Cell \u001b[1;32mIn[44], line 3\u001b[0m\n\u001b[0;32m      1\u001b[0m t1 \u001b[38;5;241m=\u001b[39m {\u001b[38;5;241m1\u001b[39m, \u001b[38;5;241m2\u001b[39m, \u001b[38;5;241m3\u001b[39m, \u001b[38;5;241m4\u001b[39m}\n\u001b[1;32m----> 3\u001b[0m \u001b[38;5;28;01mdel\u001b[39;00m t1[\u001b[38;5;241m0\u001b[39m]\n",
      "\u001b[1;31mTypeError\u001b[0m: 'set' object doesn't support item deletion"
     ]
    }
   ],
   "source": [
    "t1 = {1, 2, 3, 4}\n",
    "\n",
    "del t1[0]\n",
    "\n",
    "# 튜플은 생성이후, 변경 불가능"
   ]
  },
  {
   "cell_type": "code",
   "execution_count": 46,
   "metadata": {},
   "outputs": [
    {
     "ename": "TypeError",
     "evalue": "'set' object is not subscriptable",
     "output_type": "error",
     "traceback": [
      "\u001b[1;31m---------------------------------------------------------------------------\u001b[0m",
      "\u001b[1;31mTypeError\u001b[0m                                 Traceback (most recent call last)",
      "Cell \u001b[1;32mIn[46], line 1\u001b[0m\n\u001b[1;32m----> 1\u001b[0m \u001b[43mt1\u001b[49m\u001b[43m[\u001b[49m\u001b[38;5;241;43m0\u001b[39;49m\u001b[43m]\u001b[49m\n",
      "\u001b[1;31mTypeError\u001b[0m: 'set' object is not subscriptable"
     ]
    }
   ],
   "source": [
    "t1[0]\n"
   ]
  },
  {
   "cell_type": "code",
   "execution_count": 49,
   "metadata": {},
   "outputs": [
    {
     "ename": "TypeError",
     "evalue": "'set' object is not subscriptable",
     "output_type": "error",
     "traceback": [
      "\u001b[1;31m---------------------------------------------------------------------------\u001b[0m",
      "\u001b[1;31mTypeError\u001b[0m                                 Traceback (most recent call last)",
      "Cell \u001b[1;32mIn[49], line 1\u001b[0m\n\u001b[1;32m----> 1\u001b[0m \u001b[43mt1\u001b[49m\u001b[43m[\u001b[49m\u001b[43m:\u001b[49m\u001b[38;5;241;43m2\u001b[39;49m\u001b[43m]\u001b[49m\n",
      "\u001b[1;31mTypeError\u001b[0m: 'set' object is not subscriptable"
     ]
    }
   ],
   "source": [
    "t1[:2]"
   ]
  },
  {
   "cell_type": "code",
   "execution_count": 48,
   "metadata": {},
   "outputs": [
    {
     "data": {
      "text/plain": [
       "4"
      ]
     },
     "execution_count": 48,
     "metadata": {},
     "output_type": "execute_result"
    }
   ],
   "source": [
    "len(t1)"
   ]
  },
  {
   "cell_type": "markdown",
   "metadata": {},
   "source": [
    "딕셔너리\n",
    "\n",
    "딕셔너리명 = {key1:value1, key2:value2}\n",
    "\n",
    "생성이후 변경 가능, 키값 제외 변경 가능\n",
    "키에 해당하는 요소를 지우고 다시 생성하는것 외에는 키값 변경 불가능\n",
    "\n",
    "순서 없음 -> 인덱스 없음\n",
    "\n",
    "\n",
    "|            키          |    값                |\n",
    "|   name                 |            Alice     |"
   ]
  },
  {
   "cell_type": "code",
   "execution_count": 2,
   "metadata": {},
   "outputs": [],
   "source": [
    "my_dict = {'name' : 'Alice', 'age' : 25, 'language' : 'python'}\n"
   ]
  },
  {
   "cell_type": "code",
   "execution_count": 51,
   "metadata": {},
   "outputs": [
    {
     "data": {
      "text/plain": [
       "'Alice'"
      ]
     },
     "execution_count": 51,
     "metadata": {},
     "output_type": "execute_result"
    }
   ],
   "source": [
    "my_dict['name']"
   ]
  },
  {
   "cell_type": "code",
   "execution_count": 63,
   "metadata": {},
   "outputs": [
    {
     "data": {
      "text/plain": [
       "{'name': 'Alice', 'age': 25, 'language': 'python', 'country': 'wonderland'}"
      ]
     },
     "execution_count": 63,
     "metadata": {},
     "output_type": "execute_result"
    }
   ],
   "source": [
    "my_dict['country'] = 'wonderland'\n",
    "my_dict"
   ]
  },
  {
   "cell_type": "code",
   "execution_count": 53,
   "metadata": {},
   "outputs": [
    {
     "data": {
      "text/plain": [
       "{'name': 'Alice', 'age': 26, 'language': 'python', 'country': 'wonderland'}"
      ]
     },
     "execution_count": 53,
     "metadata": {},
     "output_type": "execute_result"
    }
   ],
   "source": [
    "# 기존의 값에 새로운 값을 넣어줄 수 있다\n",
    "my_dict['age'] = 26\n",
    "my_dict"
   ]
  },
  {
   "cell_type": "code",
   "execution_count": 54,
   "metadata": {},
   "outputs": [
    {
     "data": {
      "text/plain": [
       "{'name': 'Alice', 'language': 'python', 'country': 'wonderland'}"
      ]
     },
     "execution_count": 54,
     "metadata": {},
     "output_type": "execute_result"
    }
   ],
   "source": [
    "# 키를 이용하여 제거\n",
    "del my_dict['age']\n",
    "my_dict"
   ]
  },
  {
   "cell_type": "code",
   "execution_count": 3,
   "metadata": {},
   "outputs": [
    {
     "name": "stdout",
     "output_type": "stream",
     "text": [
      "dict_keys(['name', 'age', 'language'])\n"
     ]
    }
   ],
   "source": [
    "print(my_dict.keys())"
   ]
  },
  {
   "cell_type": "code",
   "execution_count": 56,
   "metadata": {},
   "outputs": [
    {
     "data": {
      "text/plain": [
       "dict_values(['Alice', 'python', 'wonderland'])"
      ]
     },
     "execution_count": 56,
     "metadata": {},
     "output_type": "execute_result"
    }
   ],
   "source": [
    "my_dict.values()"
   ]
  },
  {
   "cell_type": "code",
   "execution_count": 57,
   "metadata": {},
   "outputs": [
    {
     "data": {
      "text/plain": [
       "dict_items([('name', 'Alice'), ('language', 'python'), ('country', 'wonderland')])"
      ]
     },
     "execution_count": 57,
     "metadata": {},
     "output_type": "execute_result"
    }
   ],
   "source": [
    "my_dict.items()\n",
    "\n",
    "# 나중에 반복문에서 많이 사용"
   ]
  },
  {
   "cell_type": "code",
   "execution_count": 58,
   "metadata": {},
   "outputs": [
    {
     "data": {
      "text/plain": [
       "{}"
      ]
     },
     "execution_count": 58,
     "metadata": {},
     "output_type": "execute_result"
    }
   ],
   "source": [
    "# 딕셔너리 비우기\n",
    "my_dict.clear()\n",
    "my_dict"
   ]
  },
  {
   "cell_type": "code",
   "execution_count": 59,
   "metadata": {},
   "outputs": [
    {
     "ename": "KeyError",
     "evalue": "'num'",
     "output_type": "error",
     "traceback": [
      "\u001b[1;31m---------------------------------------------------------------------------\u001b[0m",
      "\u001b[1;31mKeyError\u001b[0m                                  Traceback (most recent call last)",
      "Cell \u001b[1;32mIn[59], line 1\u001b[0m\n\u001b[1;32m----> 1\u001b[0m \u001b[43mmy_dict\u001b[49m\u001b[43m[\u001b[49m\u001b[38;5;124;43m'\u001b[39;49m\u001b[38;5;124;43mnum\u001b[39;49m\u001b[38;5;124;43m'\u001b[39;49m\u001b[43m]\u001b[49m\n",
      "\u001b[1;31mKeyError\u001b[0m: 'num'"
     ]
    }
   ],
   "source": [
    "my_dict['num']"
   ]
  },
  {
   "cell_type": "code",
   "execution_count": 60,
   "metadata": {},
   "outputs": [
    {
     "name": "stdout",
     "output_type": "stream",
     "text": [
      "None\n"
     ]
    }
   ],
   "source": [
    "# my_dict['num']\n",
    "# 위의 코드에서는 없는 키값을 찾는다는 에러가 뜬다\n",
    "\n",
    "print(my_dict.get('num'))"
   ]
  },
  {
   "cell_type": "code",
   "execution_count": 64,
   "metadata": {},
   "outputs": [
    {
     "data": {
      "text/plain": [
       "True"
      ]
     },
     "execution_count": 64,
     "metadata": {},
     "output_type": "execute_result"
    }
   ],
   "source": [
    "# 없는 값을 찾으면 false\n",
    "# 값이 존재한다면 true\n",
    "'name' in my_dict"
   ]
  },
  {
   "cell_type": "code",
   "execution_count": 65,
   "metadata": {},
   "outputs": [
    {
     "name": "stdout",
     "output_type": "stream",
     "text": [
      "이은서\n"
     ]
    }
   ],
   "source": [
    "my_identify = {\"이름\": \"이은서\", \"나이\" : 27, \"돈의 양\" : 200}\n",
    "\n",
    "print(my_identify.get('이름'))\n"
   ]
  },
  {
   "cell_type": "markdown",
   "metadata": {},
   "source": [
    "집합(set)\n"
   ]
  },
  {
   "cell_type": "code",
   "execution_count": 68,
   "metadata": {},
   "outputs": [],
   "source": [
    "s1 = set()\n",
    "s2 = {4, 5, 6, 7, 8}\n",
    "s3 = set([1, 2, 3, 4, 5])"
   ]
  },
  {
   "cell_type": "code",
   "execution_count": 71,
   "metadata": {},
   "outputs": [
    {
     "name": "stdout",
     "output_type": "stream",
     "text": [
      "{4, 5}\n",
      "{1, 2, 3, 4, 5, 6, 7, 8}\n",
      "{8, 6, 7}\n",
      "{1, 2, 3, 6, 7, 8}\n"
     ]
    }
   ],
   "source": [
    "print(s2 & s3)\n",
    "print(s2 | s3)\n",
    "print(s2 - s3)\n",
    "print(s2 ^ s3)"
   ]
  },
  {
   "cell_type": "code",
   "execution_count": 76,
   "metadata": {},
   "outputs": [
    {
     "name": "stdout",
     "output_type": "stream",
     "text": [
      "{1}\n",
      "{1, 4, 5, 6}\n",
      "{1, 4, 5}\n",
      "{1, 4, 5}\n",
      "set()\n"
     ]
    }
   ],
   "source": [
    "s1.add(1)\n",
    "print(s1)\n",
    "\n",
    "s1.update([4, 5, 6])\n",
    "print(s1)\n",
    "\n",
    "s1.remove(6)\n",
    "print(s1)\n",
    "\n",
    "s1.discard(6)\n",
    "print(s1)\n",
    "\n",
    "s1.clear()\n",
    "print(s1)"
   ]
  },
  {
   "cell_type": "markdown",
   "metadata": {},
   "source": [
    "불(bool) 자료형\n",
    "True, False\n",
    "\n",
    "| 값         | 불리언 평가 |\n",
    "|------------|-----------|\n",
    "| `True`     | True      |\n",
    "| `False`    | False     |\n",
    "| `0`        | False     |\n",
    "| `1`        | True      |\n",
    "| `-1`       | True      |\n",
    "| `\"\"` (빈 문자열) | False  |\n",
    "| `\" \"` (공백) | True   |\n",
    "| `[]` (빈 리스트) | False  |\n",
    "| `[1, 2]` (요소가 있는 리스트) | True |\n",
    "| `()` (빈 튜플) | False  |\n",
    "| `(1,)` (요소가 있는 튜플) | True |\n",
    "| `{}` (빈 딕셔너리) | False  |\n",
    "| `{'key': 'value'}` (요소가 있는 딕셔너리) | True |\n",
    "| `None`     | False     |\n",
    "| `set()` (빈 집합) | False  |\n",
    "| `{1, 2}` (요소가 있는 집합) | True |\n",
    "\n",
    "bool()로 찍어볼 수 있음"
   ]
  },
  {
   "cell_type": "code",
   "execution_count": 81,
   "metadata": {},
   "outputs": [
    {
     "name": "stdout",
     "output_type": "stream",
     "text": [
      "False\n",
      "True\n",
      "True\n",
      "False\n",
      "True\n"
     ]
    }
   ],
   "source": [
    "print(bool(0))\n",
    "print(bool(1))\n",
    "print(bool(-1))\n",
    "print(bool(\"\"))\n",
    "print(bool(\" \"))\n"
   ]
  },
  {
   "cell_type": "code",
   "execution_count": 87,
   "metadata": {},
   "outputs": [
    {
     "name": "stdout",
     "output_type": "stream",
     "text": [
      "False\n",
      "True\n",
      "False\n",
      "True\n"
     ]
    }
   ],
   "source": [
    "print(bool(1) and bool(0))\n",
    "print(bool(1) or bool(0))\n",
    "print(not bool(1))\n",
    "print(not bool(0))"
   ]
  },
  {
   "cell_type": "code",
   "execution_count": null,
   "metadata": {},
   "outputs": [],
   "source": [
    "a = [1, 2, 3, 4, 5]\n",
    "while a:\n",
    "    b = a.pop()\n",
    "    print(b)\n",
    "# pop을 통해서 뒤의 원소가 날라감에 따라 결국 a가 비어지게 되면 false값으로 중지된다"
   ]
  },
  {
   "cell_type": "code",
   "execution_count": 101,
   "metadata": {},
   "outputs": [
    {
     "name": "stdout",
     "output_type": "stream",
     "text": [
      "{4, 5}\n",
      "55\n",
      "['name', 'date', 'addr']\n",
      "['이은섭', '1118', '수원시']\n",
      "{1, 2, 3, 4, 5, 6, 7, 8, 9, 10}\n"
     ]
    }
   ],
   "source": [
    "list_a = [1, 2, 3, 4, 5]\n",
    "list_b = [4, 5, 6, 7, 8]\n",
    "\n",
    "print(set(list_a) & set(list_b))\n",
    "\n",
    "list_c = list(range(1, 11))\n",
    "print(sum(list_c))\n",
    "\n",
    "third_dict = {\"name\" : \"이은섭\", \"date\" : \"1118\", \"addr\" : \"수원시\"}\n",
    "list_3d_key = list(third_dict.keys())\n",
    "list_3d_values = list(third_dict.values())\n",
    "print(list_3d_key)\n",
    "print(list_3d_values)\n",
    "\n",
    "\n",
    "list_e = list(range(1, 11))\n",
    "list_e *= 3\n",
    "list_e = set(list_e)\n",
    "print(list_e)"
   ]
  }
 ],
 "metadata": {
  "kernelspec": {
   "display_name": "Python 3",
   "language": "python",
   "name": "python3"
  },
  "language_info": {
   "codemirror_mode": {
    "name": "ipython",
    "version": 3
   },
   "file_extension": ".py",
   "mimetype": "text/x-python",
   "name": "python",
   "nbconvert_exporter": "python",
   "pygments_lexer": "ipython3",
   "version": "3.9.13"
  }
 },
 "nbformat": 4,
 "nbformat_minor": 2
}
