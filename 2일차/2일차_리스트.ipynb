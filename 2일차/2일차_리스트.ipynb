{
 "cells": [
  {
   "cell_type": "code",
   "execution_count": 1,
   "metadata": {},
   "outputs": [
    {
     "name": "stdout",
     "output_type": "stream",
     "text": [
      "['Life', 'is', 'too', 'short,', 'You', 'need', 'Python']\n",
      "['p', 'i', 't', 'h', 'o', 'n']\n",
      "['p', 'y', 't', 'h', 'o', 'n']\n"
     ]
    }
   ],
   "source": [
    "a = \"Life is too short, You need Python\"\n",
    "b = 'pithon'\n",
    "\n",
    "list_a = a.split()\n",
    "list_b = list(b)\n",
    "\n",
    "print(list_a)\n",
    "print(list_b)\n",
    "\n",
    "list_b[1] = 'y'\n",
    "print(list_b)"
   ]
  },
  {
   "cell_type": "code",
   "execution_count": 2,
   "metadata": {},
   "outputs": [
    {
     "name": "stdout",
     "output_type": "stream",
     "text": [
      "['Life', 'is', 'too', 'short,', 'You', 'need', 'Python']\n"
     ]
    }
   ],
   "source": [
    "a = \"Life is too short, You need Python\"\n",
    "list_a = a.split()\n",
    "\n",
    "print(list_a)"
   ]
  },
  {
   "cell_type": "code",
   "execution_count": 3,
   "metadata": {},
   "outputs": [
    {
     "name": "stdout",
     "output_type": "stream",
     "text": [
      "['is', 'too', 'short,', 'You', 'need', 'Python']\n"
     ]
    }
   ],
   "source": [
    "del list_a[0]\n",
    "\n",
    "print(list_a)"
   ]
  },
  {
   "cell_type": "markdown",
   "metadata": {},
   "source": [
    "| 함수      | 설명                                                         |\n",
    "|---------|------------------------------------------------------------|\n",
    "| append  | 리스트 끝에 항목을 추가합니다.  list_a.append(6)                                         |\n",
    "| sort    | 리스트의 요소를 오름차순 또는 내림차순으로 정렬합니다. 설정을 통해 정렬 순서를 변경할 수 있습니다. list_a.sort(), list_a.sort(), list_a.sort(reverse=True)    |\n",
    "| reverse | 리스트의 요소 순서를 뒤집습니다.  list_a.reverse()                                     |\n",
    "| index   | 지정한 요소가 처음으로 나타나는 위치의 인덱스를 반환합니다. 요소가 리스트에 없으면 오류가 발생합니다.  list_a.index(3)|\n",
    "| insert  | 지정한 위치에 요소를 삽입합니다. 위치 인덱스는 리스트의 시작부터 0으로 계산됩니다.  list_a.insert(4, 5) # 4번째 위치에 5를 삽입             |\n",
    "| remove  | 리스트에서 첫 번째로 나오는 지정한 값을 삭제합니다. 요소가 리스트에 없으면 오류가 발생합니다.  list_a.remove(1) # 리스트에서 첫번째로 나오는 1을 제거      |\n",
    "| pop     | 지정한 위치에 있는 요소를 리스트에서 제거하고, 그 값을 반환합니다. 위치를 지정하지 않으면, 마지막 요소를 제거하고 반환합니다.  list_a.pop()  |\n",
    "| count   | 리스트에서 지정한 값이 나타나는 횟수를 반환합니다.  list_a.count(1)                             |\n",
    "| extend  | 리스트 끝에 다른 리스트(또는 반복 가능한 다른 요소)의 모든 항목을 추가합니다.   list_a.extend([4, 5])            |\n",
    "| min     | 리스트 내의 최소값을 반환합니다. 숫자 또는 알파벳 순서로 최소값을 찾을 수 있습니다.   min(list_a)           |\n",
    "| max     | 리스트 내의 최대값을 반환합니다. 숫자 또는 알파벳 순서로 최대값을 찾을 수 있습니다.   max(list_a)           |"
   ]
  },
  {
   "cell_type": "code",
   "execution_count": 4,
   "metadata": {},
   "outputs": [
    {
     "name": "stdout",
     "output_type": "stream",
     "text": [
      "['is', 'too', 'short,', 'You', 'need', 'Python', '2일차']\n",
      "['2일차', 'Python', 'You', 'is', 'need', 'short,', 'too']\n",
      "['too', 'short,', 'need', 'is', 'You', 'Python', '2일차']\n",
      "6\n",
      "['too', 'short,', '3번쨰에 추가된 무언가', 'need', 'is', 'You', 'Python', '2일차']\n"
     ]
    }
   ],
   "source": [
    "list_a.append(\"2일차\")\n",
    "print(list_a)\n",
    "\n",
    "list_a.sort()\n",
    "print(list_a)\n",
    "\n",
    "list_a.reverse()\n",
    "print(list_a)\n",
    "\n",
    "print(list_a.index(\"2일차\"))\n",
    "\n",
    "list_a.insert(2, \"3번쨰에 추가된 무언가\")\n",
    "print(list_a)"
   ]
  },
  {
   "cell_type": "code",
   "execution_count": 5,
   "metadata": {},
   "outputs": [
    {
     "name": "stdout",
     "output_type": "stream",
     "text": [
      "['too', 'short,', '3번쨰에 추가된 무언가', 'need', 'is', 'You', 'Python', '2일차']\n",
      "0\n",
      "['too', 'short,', '3번쨰에 추가된 무언가', 'need', 'is', 'You', 'Python', '2일차']\n",
      "2일차\n",
      "too\n"
     ]
    }
   ],
   "source": [
    "# print(list_a.pop(6))\n",
    "print(list_a)\n",
    "\n",
    "print(list_a.count(6))\n",
    "\n",
    "# list_a.extend(['z', 'y'])\n",
    "print(list_a)\n",
    "\n",
    "print(min(list_a))\n",
    "print(max(list_a))\n"
   ]
  },
  {
   "cell_type": "code",
   "execution_count": 6,
   "metadata": {},
   "outputs": [
    {
     "name": "stdout",
     "output_type": "stream",
     "text": [
      "[1, 2, 3, 4, 5, 6, 7, 8, 9, 10]\n",
      "3\n",
      "10\n"
     ]
    }
   ],
   "source": [
    "# 문제 1\n",
    "# 1. 1부터 10까지의 숫자를 포함하는 리스트를 생성하세요.\n",
    "# list_one = [1,2,3,4,5,6,7,8,9,10]\n",
    "list_one = list(range(1, 11))\n",
    "print(list_one)\n",
    "\n",
    "# numbers = [1, 2, 3, 4, 5, 6, 7, 8, 9, 10]\n",
    "\n",
    "# 2. 생성한 리스트에서 세 번째 요소를 출력하세요.\n",
    "print(list_one[2])\n",
    "\n",
    "# 3. 리스트의 마지막 요소를 출력하세요.\n",
    "print(list_one[-1])"
   ]
  },
  {
   "cell_type": "code",
   "execution_count": 7,
   "metadata": {},
   "outputs": [
    {
     "name": "stdout",
     "output_type": "stream",
     "text": [
      "['apple', 'banana', 'cherry']\n",
      "['apple', 'blueberry', 'cherry']\n",
      "['apple', 'blueberry', 'cherry', 'orange']\n",
      "['apple', 'kiwi', 'blueberry', 'cherry', 'orange']\n"
     ]
    }
   ],
   "source": [
    "# 문제 2\n",
    "# 1. 다음 문자열을 요소로 하는 리스트를 생성하세요: \"apple\", \"banana\", \"cherry\"\n",
    "list_two = ['apple', 'banana', 'cherry']\n",
    "print(list_two)\n",
    "\n",
    "# 2. \"banana\" 대신 \"blueberry\"를 넣어서 리스트를 수정하세요.\n",
    "list_two[1] = 'blueberry'\n",
    "print(list_two)\n",
    "\n",
    "# 3. 리스트 끝에 \"orange\"를 추가하세요.\n",
    "list_two.append('orange')\n",
    "print(list_two)\n",
    "\n",
    "# 4. 리스트의 두 번째 위치에 \"kiwi\"를 삽입하세요.\n",
    "list_two.insert(1,'kiwi')\n",
    "print(list_two)"
   ]
  },
  {
   "cell_type": "code",
   "execution_count": 8,
   "metadata": {},
   "outputs": [
    {
     "name": "stdout",
     "output_type": "stream",
     "text": [
      "오름차순 정렬: [1, 1, 2, 3, 4, 5, 9]\n",
      "최대값: 9, 최소값: 1\n",
      "리스트의 길이: 7\n",
      "\"1\"의 개수: 2\n"
     ]
    }
   ],
   "source": [
    "# 문제 3\n",
    "# 다음 리스트를 사용하세요: [3, 1, 4, 1, 5, 9, 2]\n",
    "list_three = [3, 1, 4, 1, 5, 9, 2]\n",
    "\n",
    "# 2. 리스트를 오름차순으로 정렬하세요.\n",
    "list_three.sort()\n",
    "print(\"오름차순 정렬:\", list_three)\n",
    "\n",
    "# 3. 리스트에서 최대값과 최소값을 찾아 출력하세요.\n",
    "print(f\"최대값: {max(list_three)}, 최소값: {min(list_three)}\")\n",
    "\n",
    "# 4. 리스트의 길이를 출력하세요.\n",
    "print(f\"리스트의 길이: {len(list_three)}\")\n",
    "\n",
    "# 5. 리스트에서 \"1\"의 개수를 세어 출력하세요.\n",
    "print(f\"\\\"1\\\"의 개수: {list_three.count(1)}\")"
   ]
  }
 ],
 "metadata": {
  "kernelspec": {
   "display_name": "Python 3",
   "language": "python",
   "name": "python3"
  },
  "language_info": {
   "codemirror_mode": {
    "name": "ipython",
    "version": 3
   },
   "file_extension": ".py",
   "mimetype": "text/x-python",
   "name": "python",
   "nbconvert_exporter": "python",
   "pygments_lexer": "ipython3",
   "version": "3.9.13"
  }
 },
 "nbformat": 4,
 "nbformat_minor": 2
}
