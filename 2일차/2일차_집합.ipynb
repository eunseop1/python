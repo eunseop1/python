{
 "cells": [
  {
   "cell_type": "markdown",
   "metadata": {},
   "source": [
    "집합(set)"
   ]
  },
  {
   "cell_type": "code",
   "execution_count": 1,
   "metadata": {},
   "outputs": [],
   "source": [
    "s1 = set()\n",
    "s2 = {4, 5, 6, 7, 8}\n",
    "s3 = set([1, 2, 3, 4, 5])"
   ]
  },
  {
   "cell_type": "code",
   "execution_count": 2,
   "metadata": {},
   "outputs": [
    {
     "name": "stdout",
     "output_type": "stream",
     "text": [
      "{4, 5}\n",
      "{1, 2, 3, 4, 5, 6, 7, 8}\n",
      "{8, 6, 7}\n",
      "{1, 2, 3, 6, 7, 8}\n"
     ]
    }
   ],
   "source": [
    "print(s2 & s3)\n",
    "print(s2 | s3)\n",
    "print(s2 - s3)\n",
    "print(s2 ^ s3)"
   ]
  },
  {
   "cell_type": "code",
   "execution_count": 3,
   "metadata": {},
   "outputs": [
    {
     "name": "stdout",
     "output_type": "stream",
     "text": [
      "{1}\n",
      "{1, 4, 5, 6}\n",
      "{1, 4, 5}\n",
      "{1, 4, 5}\n",
      "set()\n"
     ]
    }
   ],
   "source": [
    "s1.add(1)\n",
    "print(s1)\n",
    "\n",
    "s1.update([4, 5, 6])\n",
    "print(s1)\n",
    "\n",
    "s1.remove(6)\n",
    "print(s1)\n",
    "\n",
    "s1.discard(6)\n",
    "print(s1)\n",
    "\n",
    "s1.clear()\n",
    "print(s1)"
   ]
  }
 ],
 "metadata": {
  "kernelspec": {
   "display_name": "Python 3",
   "language": "python",
   "name": "python3"
  },
  "language_info": {
   "codemirror_mode": {
    "name": "ipython",
    "version": 3
   },
   "file_extension": ".py",
   "mimetype": "text/x-python",
   "name": "python",
   "nbconvert_exporter": "python",
   "pygments_lexer": "ipython3",
   "version": "3.9.13"
  }
 },
 "nbformat": 4,
 "nbformat_minor": 2
}
