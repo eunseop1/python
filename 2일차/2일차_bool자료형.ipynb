{
 "cells": [
  {
   "cell_type": "markdown",
   "metadata": {},
   "source": [
    "불(bool) 자료형\n",
    "True, False\n",
    "\n",
    "| 값         | 불리언 평가 |\n",
    "|------------|-----------|\n",
    "| `True`     | True      |\n",
    "| `False`    | False     |\n",
    "| `0`        | False     |\n",
    "| `1`        | True      |\n",
    "| `-1`       | True      |\n",
    "| `\"\"` (빈 문자열) | False  |\n",
    "| `\" \"` (공백) | True   |\n",
    "| `[]` (빈 리스트) | False  |\n",
    "| `[1, 2]` (요소가 있는 리스트) | True |\n",
    "| `()` (빈 튜플) | False  |\n",
    "| `(1,)` (요소가 있는 튜플) | True |\n",
    "| `{}` (빈 딕셔너리) | False  |\n",
    "| `{'key': 'value'}` (요소가 있는 딕셔너리) | True |\n",
    "| `None`     | False     |\n",
    "| `set()` (빈 집합) | False  |\n",
    "| `{1, 2}` (요소가 있는 집합) | True |\n",
    "\n",
    "bool()로 찍어볼 수 있음"
   ]
  },
  {
   "cell_type": "code",
   "execution_count": 2,
   "metadata": {},
   "outputs": [
    {
     "name": "stdout",
     "output_type": "stream",
     "text": [
      "False\n",
      "True\n",
      "True\n",
      "False\n",
      "True\n"
     ]
    }
   ],
   "source": [
    "print(bool(0))\n",
    "print(bool(1))\n",
    "print(bool(-1))\n",
    "print(bool(\"\"))\n",
    "print(bool(\" \"))"
   ]
  },
  {
   "cell_type": "code",
   "execution_count": 3,
   "metadata": {},
   "outputs": [
    {
     "name": "stdout",
     "output_type": "stream",
     "text": [
      "False\n",
      "True\n",
      "False\n",
      "True\n"
     ]
    }
   ],
   "source": [
    "print(bool(1) and bool(0))\n",
    "print(bool(1) or bool(0))\n",
    "print(not bool(1))\n",
    "print(not bool(0))"
   ]
  },
  {
   "cell_type": "code",
   "execution_count": 4,
   "metadata": {},
   "outputs": [
    {
     "name": "stdout",
     "output_type": "stream",
     "text": [
      "5\n",
      "4\n",
      "3\n",
      "2\n",
      "1\n"
     ]
    }
   ],
   "source": [
    "a = [1, 2, 3, 4, 5]\n",
    "while a:\n",
    "    b = a.pop()\n",
    "    print(b)\n",
    "# pop을 통해서 뒤의 원소가 날라감에 따라 결국 a가 비어지게 되면 false값으로 중지된다"
   ]
  },
  {
   "cell_type": "code",
   "execution_count": 5,
   "metadata": {},
   "outputs": [
    {
     "name": "stdout",
     "output_type": "stream",
     "text": [
      "{4, 5}\n",
      "55\n",
      "['name', 'date', 'addr']\n",
      "['이은섭', '1118', '수원시']\n",
      "{1, 2, 3, 4, 5, 6, 7, 8, 9, 10}\n"
     ]
    }
   ],
   "source": [
    "list_a = [1, 2, 3, 4, 5]\n",
    "list_b = [4, 5, 6, 7, 8]\n",
    "\n",
    "print(set(list_a) & set(list_b))\n",
    "\n",
    "list_c = list(range(1, 11))\n",
    "print(sum(list_c))\n",
    "\n",
    "third_dict = {\"name\" : \"이은섭\", \"date\" : \"1118\", \"addr\" : \"수원시\"}\n",
    "list_3d_key = list(third_dict.keys())\n",
    "list_3d_values = list(third_dict.values())\n",
    "print(list_3d_key)\n",
    "print(list_3d_values)\n",
    "\n",
    "\n",
    "list_e = list(range(1, 11))\n",
    "list_e *= 3\n",
    "list_e = set(list_e)\n",
    "print(list_e)"
   ]
  }
 ],
 "metadata": {
  "kernelspec": {
   "display_name": "Python 3",
   "language": "python",
   "name": "python3"
  },
  "language_info": {
   "codemirror_mode": {
    "name": "ipython",
    "version": 3
   },
   "file_extension": ".py",
   "mimetype": "text/x-python",
   "name": "python",
   "nbconvert_exporter": "python",
   "pygments_lexer": "ipython3",
   "version": "3.9.13"
  }
 },
 "nbformat": 4,
 "nbformat_minor": 2
}
